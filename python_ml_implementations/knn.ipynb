{
 "cells": [
  {
   "cell_type": "markdown",
   "metadata": {},
   "source": [
    "### Задание"
   ]
  },
  {
   "cell_type": "markdown",
   "metadata": {},
   "source": [
    "Реализуйте алгоритм классификации метод k ближайших соседей.\n",
    "\n",
    "Требования к коду:\n",
    "* Код должен быть хорошо структурирован\n",
    "* Код должен быть эффективен\n",
    "* Имплементация должна быть максимально векторизованной и, где это возможно, не использовать циклы\n",
    "\n",
    "Необходимо реализовать класс KnnBruteClassifier, с реализацией прототипа, представленного ниже.\n",
    "\n",
    "Должна быть реализована поддержка метрики расстояния L2 (параметр metric) и параметр weights типа 'uniform' и 'distance'.\n",
    "\n",
    "В качестве входного файла необходимо использовать файл \"knn_data_XXX.npy\", полученный от бота командой /get seminar04\n",
    "\n",
    "В качестве решения необходимо отправить боту, указав seminar04 в поле caption,  следующие файлы:\n",
    "* knn.ipynb - содержит класс, реализующий ваш алгоритм\n",
    "* results.npy - файл с результатами тестов, который можно будет сгенерировать с помощью этого ноутбука\n",
    "\n",
    "Для проверки решения после отправки необходимо отправить боту следующую команду:\n",
    "/check seminar04\n",
    "\n",
    "В случае возникновения вопросов по интерфейсу смотрите детали реализации класса sklearn.neighbors.KNeighborsClassifier\n",
    "https://scikit-learn.org/stable/modules/generated/sklearn.neighbors.KNeighborsClassifier.html"
   ]
  },
  {
   "cell_type": "markdown",
   "metadata": {},
   "source": [
    "https://github.com/esokolov/ml-course-hse/blob/master/2021-spring/seminars/sem19-knn.pdf"
   ]
  },
  {
   "cell_type": "code",
   "execution_count": 1,
   "metadata": {},
   "outputs": [],
   "source": [
    "import numpy as np\n",
    "import pandas as pd\n",
    "import math\n",
    "import scipy\n",
    "from sklearn.utils.extmath import weighted_mode\n",
    "from sklearn.neighbors import KNeighborsClassifier"
   ]
  },
  {
   "cell_type": "code",
   "execution_count": 2,
   "metadata": {},
   "outputs": [],
   "source": [
    "class KnnBruteClassifier(object):\n",
    "    '''Классификатор реализует взвешенное голосование по ближайшим соседям. \n",
    "    Поиск ближайшего соседа осуществляется полным перебором.\n",
    "    Параметры\n",
    "    ----------\n",
    "    n_neighbors : int, optional\n",
    "        Число ближайших соседей, учитывающихся в голосовании\n",
    "    weights : str, optional (default = 'uniform')\n",
    "        веса, используемые в голосовании. Возможные значения:\n",
    "        - 'uniform' : все веса равны.\n",
    "        - 'distance' : веса обратно пропорциональны расстоянию до классифицируемого объекта\n",
    "        -  функция, которая получает на вход массив расстояний и возвращает массив весов\n",
    "    metric: функция подсчета расстояния (по умолчанию l2).\n",
    "    '''\n",
    "    def __init__(self, n_neighbors=1, weights='uniform', metric=\"l2\"):\n",
    "        self.n_neighbors = n_neighbors\n",
    "        self.weights_param = weights\n",
    "        \n",
    "        if metric == 'l2':\n",
    "            self.algo = self.euclidian_distance\n",
    "        else: \n",
    "            raise ValueError(f\"Invalid `metric` {metric}\")\n",
    "    \n",
    "    @staticmethod\n",
    "    def euclidian_distance(vec, matrix, p=3):\n",
    "        ''' Вычисляем Евклидово расстояние между вектором vec и каждым вектором из матрицы matrix\n",
    "        '''\n",
    "        return np.sqrt(np.sum((matrix - np.tile(vec, (len(matrix), 1))) ** 2, axis=1))\n",
    "\n",
    "    def _get_weights(self, dist, weights_param):\n",
    "        ''' Находим веса в зависимости от weights_param:\n",
    "            - `uniform`: все веса еденичные\n",
    "            - `distance`: веса обратно проп расстояниям\n",
    "        '''\n",
    "        if weights_param == 'uniform':\n",
    "            return None\n",
    "\n",
    "        # делаем веса, обраптно проп расстояниям\n",
    "        # если нашли обхект с 0 дистанцией, то у него вес 1, у остальных - 0\n",
    "        if weights_param == 'distance':\n",
    "            with np.errstate(divide='ignore'):\n",
    "                dist = 1.0 / dist\n",
    "            inf_mask = np.isinf(dist)\n",
    "            inf_row = np.any(inf_mask)\n",
    "            dist[inf_row] = inf_mask[inf_row]\n",
    "            return dist\n",
    "    \n",
    "    def fit(self, x, y):\n",
    "        ''' Обучение модели.\n",
    "        Параметры\n",
    "        ----------\n",
    "        x : двумерным массив признаков размера n_queries x n_features\n",
    "        y : массив/список правильных меток размера n_queries\n",
    "        Выход\n",
    "        -------\n",
    "        Метод возвращает обученную модель\n",
    "        '''\n",
    "        self.X_train = x\n",
    "        self.y_train = y\n",
    "        \n",
    "    def predict(self, X):\n",
    "        \"\"\" Предсказание класса для входных объектов\n",
    "        Параметры\n",
    "        ----------\n",
    "        X : двумерным массив признаков размера n_queries x n_features\n",
    "        Выход\n",
    "        -------\n",
    "        y : Массив размера n_queries\n",
    "        \"\"\"\n",
    "        # находим ближ соседей и получаем веса соседей по параметру weights_param\n",
    "        neigh_dist, neigh_indarray = self.kneighbors(X, self.n_neighbors)\n",
    "        weights = self._get_weights(neigh_dist, self.weights_param)        \n",
    "        if weights is None:\n",
    "            mode, _ = scipy.stats.mode(self.y_train[neigh_indarray], axis=1)  \n",
    "        else:\n",
    "            mode, _ = weighted_mode(self.y_train[neigh_indarray], weights, axis=1) \n",
    "            \n",
    "        return np.asarray(mode.ravel(), dtype=np.intp)\n",
    "        \n",
    "        \n",
    "    def predict_proba(self, X):\n",
    "        \"\"\"Возвращает вероятности классов для входных объектов\n",
    "        Параметры\n",
    "        ----------\n",
    "        X : двумерным массив признаков размера n_queries x n_features\n",
    "        Выход\n",
    "        -------\n",
    "        p : массив размера n_queries x n_classes] c вероятностями принадлежности \n",
    "        объекта к каждому классу\n",
    "        \"\"\"\n",
    "        neigh_dist, neigh_indarray = self.kneighbors(X, self.n_neighbors)\n",
    "        weights = self._get_weights(neigh_dist, self.weights_param) \n",
    "        if weights is None:\n",
    "            weights = np.ones_like(neigh_indarray)\n",
    "\n",
    "        # итерируясь по каждому виду таргета векторизованно считаем вероятности \n",
    "        pred_labels = self.y_train[neigh_indarray]\n",
    "        probas = []\n",
    "        for label in set(self.y_train):\n",
    "            masked = np.ma.masked_array(weights, mask = (pred_labels != label)) # тут векторизованно, но можно и без\n",
    "            proba_by_label = masked.sum(axis=1).data / weights.sum(axis=1)      # тут векторизованно, но можно и без\n",
    "            probas.append(proba_by_label)\n",
    "        \n",
    "        return np.asarray(list(zip(*probas)), np.float64)\n",
    "    \n",
    "    def _get_k_nns(self, x1, k):\n",
    "        ''' Находим ближайшего соседа из Х_train для х1\n",
    "        '''\n",
    "        # считаем расстояния от х1 до каждого объекта в трейне\n",
    "        dists = self.algo(x1, self.X_train)                                     # тут векторизованно, но можно и без\n",
    "        sorted_nns = np.array(sorted(zip(range(len(dists)), dists), \n",
    "                                     key=lambda x: x[1])[:k])\n",
    "        dists, idxs = sorted_nns[:,1], sorted_nns[:,0]\n",
    "        return dists, idxs\n",
    "        \n",
    "    def kneighbors(self, x, n_neighbors):\n",
    "        \"\"\" Возвращает n_neighbors ближайших соседей \n",
    "            для всех входных объектов и расстояния до них\n",
    "        Параметры\n",
    "        ----------\n",
    "        X : двумерным массив признаков размера n_queries x n_features\n",
    "        Выход\n",
    "        -------\n",
    "        neigh_dist массив размера n_queries х n_neighbors\n",
    "        расстояния до ближайших элементов\n",
    "        neigh_indarray, массив размера n_queries x n_neighbors\n",
    "        индексы ближайших элементов\n",
    "        \"\"\"\n",
    "        # итерируясь по каждому входному объекту находим его nns\n",
    "        neigh_dist, neigh_indarray = [], []\n",
    "        for elem in x:\n",
    "            dists, idxs = self._get_k_nns(elem, k=n_neighbors)\n",
    "            neigh_dist.append(dists)\n",
    "            neigh_indarray.append(idxs)\n",
    "\n",
    "        return np.array(neigh_dist), np.asarray(neigh_indarray, np.int64)"
   ]
  },
  {
   "cell_type": "code",
   "execution_count": 3,
   "metadata": {},
   "outputs": [],
   "source": [
    "def load_file(filename):\n",
    "    \"\"\"\n",
    "    TODO: Необходимо загрузить файл задания и вернуть словарь с ключами \"X_train\", \"X_test\", \"y_train\"\n",
    "    \"\"\"\n",
    "    return np.load('knn_data_087.npy', allow_pickle=True).item()"
   ]
  },
  {
   "cell_type": "code",
   "execution_count": 4,
   "metadata": {},
   "outputs": [],
   "source": [
    "input_filename = \"knn_data_087.npy\" #TODO задать путь к входному файлу\n",
    "data_dict = load_file(input_filename)"
   ]
  },
  {
   "cell_type": "markdown",
   "metadata": {},
   "source": [
    "## Пример работы"
   ]
  },
  {
   "cell_type": "code",
   "execution_count": 5,
   "metadata": {},
   "outputs": [],
   "source": [
    "knnb = KnnBruteClassifier(n_neighbors=1, weights='uniform', metric=\"l2\")\n",
    "knnb.fit(data_dict[\"X_train\"], data_dict[\"y_train\"])"
   ]
  },
  {
   "cell_type": "code",
   "execution_count": 6,
   "metadata": {},
   "outputs": [
    {
     "data": {
      "text/plain": [
       "(array([0.        , 2.02801567, 2.40733786, 2.95657087, 2.95975611]),\n",
       " array([  0., 332., 276., 657., 431.]))"
      ]
     },
     "execution_count": 6,
     "metadata": {},
     "output_type": "execute_result"
    }
   ],
   "source": [
    "knnb._get_k_nns(data_dict['X_train'][0], 5)"
   ]
  },
  {
   "cell_type": "code",
   "execution_count": 7,
   "metadata": {
    "scrolled": true
   },
   "outputs": [
    {
     "data": {
      "text/plain": [
       "(array([[2.69648094, 3.00639148, 3.19284103, 3.27703849, 3.44592179],\n",
       "        [2.3443735 , 2.48005403, 2.88411034, 3.04010719, 3.10831352],\n",
       "        [3.00909217, 3.44527439, 4.06177944, 4.11511927, 5.06202939]]),\n",
       " array([[345, 285, 102, 461,  45],\n",
       "        [ 81, 628, 159, 409, 533],\n",
       "        [305, 234, 260, 613,  40]], dtype=int64))"
      ]
     },
     "execution_count": 7,
     "metadata": {},
     "output_type": "execute_result"
    }
   ],
   "source": [
    "a,b = knnb.kneighbors(data_dict['X_test'][30:33], 5)\n",
    "a,b"
   ]
  },
  {
   "cell_type": "code",
   "execution_count": 8,
   "metadata": {},
   "outputs": [
    {
     "data": {
      "text/plain": [
       "(array([8, 5, 5, 6, 5], dtype=int64), array([8, 5, 5, 6, 5], dtype=int64))"
      ]
     },
     "execution_count": 8,
     "metadata": {},
     "output_type": "execute_result"
    }
   ],
   "source": [
    "knnb.predict(data_dict['X_train'][0:5]), data_dict['y_train'][0:5]"
   ]
  },
  {
   "cell_type": "code",
   "execution_count": 9,
   "metadata": {},
   "outputs": [
    {
     "data": {
      "text/plain": [
       "array([2, 6, 7, 8, 1], dtype=int64)"
      ]
     },
     "execution_count": 9,
     "metadata": {},
     "output_type": "execute_result"
    }
   ],
   "source": [
    "knnb.predict(data_dict['X_test'][0:5])"
   ]
  },
  {
   "cell_type": "markdown",
   "metadata": {},
   "source": [
    "## Прогон модели"
   ]
  },
  {
   "cell_type": "code",
   "execution_count": 10,
   "metadata": {
    "scrolled": true
   },
   "outputs": [],
   "source": [
    "model1 = KnnBruteClassifier(n_neighbors=5, weights='uniform')\n",
    "model1.fit(data_dict[\"X_train\"], data_dict[\"y_train\"])\n",
    "\n",
    "l2_uniform_n5_y_predict = model1.predict(data_dict[\"X_test\"])\n",
    "l2_uniform_n5_y_predict_proba = model1.predict_proba(data_dict[\"X_test\"])"
   ]
  },
  {
   "cell_type": "code",
   "execution_count": 11,
   "metadata": {},
   "outputs": [],
   "source": [
    "model2 = KnnBruteClassifier(n_neighbors=10, weights='uniform')\n",
    "model2.fit(data_dict[\"X_train\"], data_dict[\"y_train\"])\n",
    "\n",
    "l2_uniform_10_y_predict = model2.predict(data_dict[\"X_test\"])\n",
    "l2_uniform_10_y_predict_proba = model2.predict_proba(data_dict[\"X_test\"])"
   ]
  },
  {
   "cell_type": "code",
   "execution_count": 12,
   "metadata": {},
   "outputs": [],
   "source": [
    "model3 = KnnBruteClassifier(n_neighbors=5, weights='distance')\n",
    "model3.fit(data_dict[\"X_train\"], data_dict[\"y_train\"])\n",
    "\n",
    "l2_distance_n5_y_predict = model3.predict(data_dict[\"X_test\"])\n",
    "l2_distance_n5_y_predict_proba = model3.predict_proba(data_dict[\"X_test\"])"
   ]
  },
  {
   "cell_type": "markdown",
   "metadata": {},
   "source": [
    "## Проверка на sklearn-модели"
   ]
  },
  {
   "cell_type": "code",
   "execution_count": 13,
   "metadata": {},
   "outputs": [],
   "source": [
    "check_knn1 = KNeighborsClassifier(n_neighbors=5, weights='uniform', metric='l2', algorithm='brute')\n",
    "check_knn1.fit(data_dict[\"X_train\"], data_dict[\"y_train\"])\n",
    "\n",
    "check1 = check_knn1.predict(data_dict[\"X_test\"])\n",
    "check1_proba = check_knn1.predict_proba(data_dict[\"X_test\"])"
   ]
  },
  {
   "cell_type": "code",
   "execution_count": 14,
   "metadata": {},
   "outputs": [],
   "source": [
    "check_knn2 = KNeighborsClassifier(n_neighbors=10, weights='uniform', metric='l2', algorithm='brute')\n",
    "check_knn2.fit(data_dict[\"X_train\"], data_dict[\"y_train\"])\n",
    "\n",
    "check2 = check_knn2.predict(data_dict[\"X_test\"])\n",
    "check2_proba = check_knn2.predict_proba(data_dict[\"X_test\"])"
   ]
  },
  {
   "cell_type": "code",
   "execution_count": 15,
   "metadata": {},
   "outputs": [],
   "source": [
    "check_knn3 = KNeighborsClassifier(n_neighbors=5, weights='distance', metric='l2', algorithm='brute')\n",
    "check_knn3.fit(data_dict[\"X_train\"], data_dict[\"y_train\"])\n",
    "\n",
    "check3 = check_knn3.predict(data_dict[\"X_test\"])\n",
    "check3_proba = check_knn3.predict_proba(data_dict[\"X_test\"])"
   ]
  },
  {
   "cell_type": "code",
   "execution_count": 16,
   "metadata": {},
   "outputs": [
    {
     "data": {
      "text/plain": [
       "(0, 0)"
      ]
     },
     "execution_count": 16,
     "metadata": {},
     "output_type": "execute_result"
    }
   ],
   "source": [
    "(check1 != l2_uniform_n5_y_predict).sum(), (check1_proba != l2_uniform_n5_y_predict_proba).sum()"
   ]
  },
  {
   "cell_type": "code",
   "execution_count": 17,
   "metadata": {},
   "outputs": [
    {
     "data": {
      "text/plain": [
       "(0, 0)"
      ]
     },
     "execution_count": 17,
     "metadata": {},
     "output_type": "execute_result"
    }
   ],
   "source": [
    "(check2 != l2_uniform_10_y_predict).sum(), (check2_proba != l2_uniform_10_y_predict_proba).sum()"
   ]
  },
  {
   "cell_type": "code",
   "execution_count": 18,
   "metadata": {},
   "outputs": [
    {
     "data": {
      "text/plain": [
       "(0, 76)"
      ]
     },
     "execution_count": 18,
     "metadata": {},
     "output_type": "execute_result"
    }
   ],
   "source": [
    "(check3 != l2_distance_n5_y_predict).sum(), (check3_proba != l2_distance_n5_y_predict_proba).sum()"
   ]
  },
  {
   "cell_type": "code",
   "execution_count": 19,
   "metadata": {},
   "outputs": [
    {
     "data": {
      "text/plain": [
       "0"
      ]
     },
     "execution_count": 19,
     "metadata": {},
     "output_type": "execute_result"
    }
   ],
   "source": [
    "(check3_proba.round(7) != l2_distance_n5_y_predict_proba.round(7)).sum()"
   ]
  },
  {
   "cell_type": "markdown",
   "metadata": {},
   "source": [
    "__То, что у нас не совпала в нек случаях проба В ТОЧНОСТИ - это норм, пример &uarr;__ \\\n",
    "Все из-за гуляющей мантиссы - если округлим до 7го знака, то все норм"
   ]
  },
  {
   "cell_type": "markdown",
   "metadata": {},
   "source": [
    "## Сохранение модели"
   ]
  },
  {
   "cell_type": "code",
   "execution_count": 20,
   "metadata": {},
   "outputs": [],
   "source": [
    "# output_filename = \"results.npy\"\n",
    "# result_dict = {\n",
    "#     \"input_filename\": input_filename,\n",
    "#     \"l2_uniform_n5_y_predict\": l2_uniform_n5_y_predict,\n",
    "#     \"l2_uniform_10_y_predict\": l2_uniform_10_y_predict,\n",
    "#     \"l2_distance_n5_y_predict\": l2_distance_n5_y_predict,\n",
    "# }\n",
    "# np.save(output_filename, result_dict)"
   ]
  },
  {
   "cell_type": "code",
   "execution_count": null,
   "metadata": {},
   "outputs": [],
   "source": []
  }
 ],
 "metadata": {
  "kernelspec": {
   "display_name": "Python 3 (ipykernel)",
   "language": "python",
   "name": "python3"
  },
  "language_info": {
   "codemirror_mode": {
    "name": "ipython",
    "version": 3
   },
   "file_extension": ".py",
   "mimetype": "text/x-python",
   "name": "python",
   "nbconvert_exporter": "python",
   "pygments_lexer": "ipython3",
   "version": "3.12.0"
  }
 },
 "nbformat": 4,
 "nbformat_minor": 4
}
