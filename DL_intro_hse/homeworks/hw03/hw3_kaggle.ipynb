{
  "nbformat": 4,
  "nbformat_minor": 0,
  "metadata": {
    "kernelspec": {
      "display_name": "Python 3",
      "language": "python",
      "name": "python3"
    },
    "language_info": {
      "codemirror_mode": {
        "name": "ipython",
        "version": 3
      },
      "file_extension": ".py",
      "mimetype": "text/x-python",
      "name": "python",
      "nbconvert_exporter": "python",
      "pygments_lexer": "ipython3",
      "version": "3.9.0"
    },
    "colab": {
      "name": "hw3_kaggle.ipynb",
      "provenance": [],
      "collapsed_sections": []
    }
  },
  "cells": [
    {
      "cell_type": "markdown",
      "metadata": {
        "id": "OCfOAvvpXHaH"
      },
      "source": [
        "# Домашнее задание 3. \n",
        "\n",
        "## Предсказание пользовательской оценки отеля по тексту отзыва.\n",
        "\n",
        "В данном домашнем задании вам будет обучиться на данных с кэггла и заслать в [соревнование](https://www.kaggle.com/t/325e82797935464aa07c254b3cc3d8ad) предикт. Чтобы контест отображался, откройте и примите условия участия в контесте через ссылку-приглашение в телеграм-канале. По той же ссылке можете скачать данные."
      ]
    },
    {
      "cell_type": "markdown",
      "metadata": {
        "id": "jz-JIchOXHaK"
      },
      "source": [
        "Мы собрали для вас отзывы по 1500 отелям из совершенно разных уголков мира. Что это за отели - секрет. Вам дан текст отзыва и пользовательская оценка отеля. Ваша задача - научиться предсказывать оценку отеля по отзыву."
      ]
    },
    {
      "cell_type": "markdown",
      "metadata": {
        "id": "7L3cOQLiXHaK"
      },
      "source": [
        "Главная метрика - Mean Absolute Error (MAE). Во всех частях домашней работы вам нужно получить значение MAE не превышающее 0.92 на публичном лидерборде. В противном случае мы будем вынуждены не засчитать задание :( "
      ]
    },
    {
      "cell_type": "markdown",
      "metadata": {
        "id": "qn7rLZ12XHaM"
      },
      "source": [
        "#### Про данные:\n",
        "Каждое ревью состоит из двух текстов: positive и negative - плюсы и минусы отеля. В столбце score находится оценка пользователя - вещественное число 0 до 10. Вам нужно извлечь признаки из этих текстов и предсказать по ним оценку."
      ]
    },
    {
      "cell_type": "markdown",
      "metadata": {
        "id": "N7N2muuMaGgF"
      },
      "source": [
        "Для локального тестирования используйте предоставленное разбиение на трейн и тест."
      ]
    },
    {
      "cell_type": "markdown",
      "metadata": {
        "id": "zdKbQvpcXHaM"
      },
      "source": [
        "Good luck & have fun! 💪"
      ]
    },
    {
      "cell_type": "markdown",
      "metadata": {
        "id": "T6Ej16t1XHaM"
      },
      "source": [
        "#### Использовать любые данные для обучения кроме предоставленных организаторами строго запрещено. В последней части можно использовать предобученные модели из библиотеки `transformers`."
      ]
    },
    {
      "cell_type": "code",
      "metadata": {
        "id": "U4Gc4Go5XHaN"
      },
      "source": [
        "PATH_TO_TRAIN_DATA = 'data/train.csv'"
      ],
      "execution_count": null,
      "outputs": []
    },
    {
      "cell_type": "code",
      "metadata": {
        "id": "6kJRM6ZUXHaO",
        "outputId": "e6ba4512-21c3-4dd8-a1d5-e270541cdc64"
      },
      "source": [
        "import pandas as pd\n",
        "\n",
        "df = pd.read_csv(PATH_TO_TRAIN_DATA)\n",
        "df.head()"
      ],
      "execution_count": null,
      "outputs": [
        {
          "data": {
            "text/html": [
              "<div>\n",
              "<style scoped>\n",
              "    .dataframe tbody tr th:only-of-type {\n",
              "        vertical-align: middle;\n",
              "    }\n",
              "\n",
              "    .dataframe tbody tr th {\n",
              "        vertical-align: top;\n",
              "    }\n",
              "\n",
              "    .dataframe thead th {\n",
              "        text-align: right;\n",
              "    }\n",
              "</style>\n",
              "<table border=\"1\" class=\"dataframe\">\n",
              "  <thead>\n",
              "    <tr style=\"text-align: right;\">\n",
              "      <th></th>\n",
              "      <th>review_id</th>\n",
              "      <th>negative</th>\n",
              "      <th>positive</th>\n",
              "      <th>score</th>\n",
              "    </tr>\n",
              "  </thead>\n",
              "  <tbody>\n",
              "    <tr>\n",
              "      <th>0</th>\n",
              "      <td>00003c6036f30f590c0ac435efb8739b</td>\n",
              "      <td>There were issues with the wifi connection</td>\n",
              "      <td>No Positive</td>\n",
              "      <td>7.1</td>\n",
              "    </tr>\n",
              "    <tr>\n",
              "      <th>1</th>\n",
              "      <td>00004d18f186bf2489590dc415876f73</td>\n",
              "      <td>TV not working</td>\n",
              "      <td>No Positive</td>\n",
              "      <td>7.5</td>\n",
              "    </tr>\n",
              "    <tr>\n",
              "      <th>2</th>\n",
              "      <td>0000cf900cbb8667fad33a717e9b1cf4</td>\n",
              "      <td>More pillows</td>\n",
              "      <td>Beautiful room Great location Lovely staff</td>\n",
              "      <td>10.0</td>\n",
              "    </tr>\n",
              "    <tr>\n",
              "      <th>3</th>\n",
              "      <td>0000df16edf19e7ad9dd8c5cd6f6925e</td>\n",
              "      <td>Very business</td>\n",
              "      <td>Location</td>\n",
              "      <td>5.4</td>\n",
              "    </tr>\n",
              "    <tr>\n",
              "      <th>4</th>\n",
              "      <td>00025e1aa3ac32edb496db49e76bbd00</td>\n",
              "      <td>Rooms could do with a bit of a refurbishment ...</td>\n",
              "      <td>Nice breakfast handy for Victoria train stati...</td>\n",
              "      <td>6.7</td>\n",
              "    </tr>\n",
              "  </tbody>\n",
              "</table>\n",
              "</div>"
            ],
            "text/plain": [
              "                          review_id  \\\n",
              "0  00003c6036f30f590c0ac435efb8739b   \n",
              "1  00004d18f186bf2489590dc415876f73   \n",
              "2  0000cf900cbb8667fad33a717e9b1cf4   \n",
              "3  0000df16edf19e7ad9dd8c5cd6f6925e   \n",
              "4  00025e1aa3ac32edb496db49e76bbd00   \n",
              "\n",
              "                                            negative  \\\n",
              "0         There were issues with the wifi connection   \n",
              "1                                     TV not working   \n",
              "2                                       More pillows   \n",
              "3                                      Very business   \n",
              "4   Rooms could do with a bit of a refurbishment ...   \n",
              "\n",
              "                                            positive  score  \n",
              "0                                        No Positive    7.1  \n",
              "1                                        No Positive    7.5  \n",
              "2        Beautiful room Great location Lovely staff    10.0  \n",
              "3                                           Location    5.4  \n",
              "4   Nice breakfast handy for Victoria train stati...    6.7  "
            ]
          },
          "execution_count": 2,
          "metadata": {},
          "output_type": "execute_result"
        }
      ]
    },
    {
      "cell_type": "markdown",
      "metadata": {
        "id": "bpLk8dXBXHaP"
      },
      "source": [
        "Предобработка текста может сказываться на качестве вашей модели.\n",
        "Сделаем небольшой препроцессинг текстов: удалим знаки препинания, приведем все слова к нижнему регистру. \n",
        "Однако можно не ограничиваться этим набором преобразований. Подумайте, что еще можно сделать с текстами, чтобы помочь будущим моделям? Добавьте преобразования, которые могли бы помочь по вашему мнению."
      ]
    },
    {
      "cell_type": "markdown",
      "metadata": {
        "id": "SfkhII5AXHaP"
      },
      "source": [
        "Также мы добавили разбиение текстов на токены. Теперь каждая строка-ревью стала массивом токенов."
      ]
    },
    {
      "cell_type": "code",
      "metadata": {
        "id": "tv-gbEKGXHaQ"
      },
      "source": [
        "import string\n",
        "\n",
        "import nltk\n",
        "nltk.download('punkt')\n",
        "\n",
        "from nltk.tokenize import word_tokenize\n",
        "\n",
        "def process_text(text):\n",
        "    return [word for word in word_tokenize(text.lower()) if word not in string.punctuation]"
      ],
      "execution_count": null,
      "outputs": []
    },
    {
      "cell_type": "code",
      "metadata": {
        "id": "-X1bXhROXHaQ"
      },
      "source": [
        "df['negative'] = df['negative'].apply(process_text)\n",
        "df['positive'] = df['positive'].apply(process_text)"
      ],
      "execution_count": null,
      "outputs": []
    },
    {
      "cell_type": "code",
      "metadata": {
        "id": "MewBIvp9XHaQ"
      },
      "source": [
        "from sklearn.model_selection import train_test_split\n",
        "\n",
        "df_train, df_test = train_test_split(df, random_state=1412) # <- для локального тестирования"
      ],
      "execution_count": null,
      "outputs": []
    },
    {
      "cell_type": "markdown",
      "metadata": {
        "id": "3gu1EIc3XHaR"
      },
      "source": [
        "### Часть 1. 1 балл"
      ]
    },
    {
      "cell_type": "markdown",
      "metadata": {
        "id": "DM7ZD9gyXHaR"
      },
      "source": [
        "Обучите логистическую регрессию на TF-IDF векторах текстов."
      ]
    },
    {
      "cell_type": "code",
      "metadata": {
        "id": "2x4yCjh8XHaR"
      },
      "source": [
        "from sklearn.feature_extraction.text import TfidfVectorizer\n",
        "from sklearn.linear_model import LogisticRegression"
      ],
      "execution_count": null,
      "outputs": []
    },
    {
      "cell_type": "markdown",
      "metadata": {
        "id": "0CufFcfHXhuo"
      },
      "source": [
        "Предскажите этой моделью тестовые данные из [соревнования](https://www.kaggle.com/t/325e82797935464aa07c254b3cc3d8ad) и сделайте сабмит. Какой у вас получился скор? Прикрепите скриншот из кэггла."
      ]
    },
    {
      "cell_type": "markdown",
      "metadata": {
        "id": "E-4Zve40XHaS"
      },
      "source": [
        "### Часть 2. 2 балла"
      ]
    },
    {
      "cell_type": "markdown",
      "metadata": {
        "id": "cYFL-5yFXHaS"
      },
      "source": [
        "Обучите логистическую регрессию на усредненных Word2Vec векторах. "
      ]
    },
    {
      "cell_type": "code",
      "metadata": {
        "id": "jpcCEhBDXHaS"
      },
      "source": [
        ""
      ],
      "execution_count": null,
      "outputs": []
    },
    {
      "cell_type": "markdown",
      "metadata": {
        "id": "KWrIciGxXHaS"
      },
      "source": [
        "Усредняя w2v вектора, мы предполагаем, что каждое слово имеет равноценный вклад в смысл предложения, однако это может быть не совсем так. Теперь попробуйте воспользоваться другой концепцией и перевзвесить слова при получении итогового эмбеддинга текста. В качестве весов используйте IDF (Inverse document frequency)"
      ]
    },
    {
      "cell_type": "code",
      "metadata": {
        "id": "mQSuuLP9XHaS"
      },
      "source": [
        "def calc_idf(texts):\n",
        "    pass"
      ],
      "execution_count": null,
      "outputs": []
    },
    {
      "cell_type": "markdown",
      "metadata": {
        "id": "4s-6HQo0XHaT"
      },
      "source": [
        "Проведите эксперименты с размерностью эмбеддинга. Для каждого из двух методов постройте график зависимости качества модели от размерности эмбеддинга. \n",
        "\n",
        "#### Сделайте выводы:"
      ]
    },
    {
      "cell_type": "markdown",
      "metadata": {
        "id": "f29vizrmXHaT"
      },
      "source": [
        "Теперь попробуйте обучить логистическую регрессию на любых других эмбеддингах размерности 300 и сравните качество с Word2Vec.\n",
        "#### Выводы:\n",
        "`<ВАШ ТЕКСТ ЗДЕСЬ>`"
      ]
    },
    {
      "cell_type": "markdown",
      "metadata": {
        "id": "9AjabHMsXXBu"
      },
      "source": [
        "Предскажите вашей лучшей моделью из этого задания тестовые данные из [соревнования](https://www.kaggle.com/t/325e82797935464aa07c254b3cc3d8ad) и сделайте сабмит. Какой у вас получился скор? Прикрепите скриншот из кэггла."
      ]
    },
    {
      "cell_type": "markdown",
      "metadata": {
        "id": "EO5TZriLXHaT"
      },
      "source": [
        "### Часть 3. 4 балла"
      ]
    },
    {
      "cell_type": "markdown",
      "metadata": {
        "id": "5RNngNdWXHaT"
      },
      "source": [
        "Теперь давайте воспользуемся более продвинутыми методами обработки текстовых данных, которые мы проходили в нашем курсе. Обучите RNN/Transformer для предсказания пользовательской оценки. Получите ошибку меньше, чем во всех вышеперечисленных методах."
      ]
    },
    {
      "cell_type": "markdown",
      "metadata": {
        "id": "_8YdTedQXHaT"
      },
      "source": [
        "Если будете обучать RNN, попробуйте ограничить максимальную длину предложения. Некоторые отзывы могут быть слишком длинные относительно остальных.\n",
        "\n",
        "Чтобы пользоваться DataLoader, все его элементы должны быть одинаковой размерности. Для этого вы можете добавить нулевой паддинг ко всем предложениям (см пример pad_sequence)"
      ]
    },
    {
      "cell_type": "code",
      "metadata": {
        "id": "89Y9wsViXHaU"
      },
      "source": [
        "import torch\n",
        "from torch import nn\n",
        "from torch.nn import functional as F"
      ],
      "execution_count": null,
      "outputs": []
    },
    {
      "cell_type": "code",
      "metadata": {
        "id": "dPOjSwwwXHaU"
      },
      "source": [
        "WORDS = set()\n",
        "for sent in list(df['positive']):\n",
        "    for w in sent:\n",
        "        WORDS.add(w)\n",
        "        \n",
        "for sent in list(df['negative']):\n",
        "    for w in sent:\n",
        "        WORDS.add(w)"
      ],
      "execution_count": null,
      "outputs": []
    },
    {
      "cell_type": "code",
      "metadata": {
        "id": "EMQ-cVxGXHaU"
      },
      "source": [
        "int2word = dict(enumerate(tuple(WORDS)))\n",
        "word2int = {w: ii for ii, w in int2word.items()}"
      ],
      "execution_count": null,
      "outputs": []
    },
    {
      "cell_type": "code",
      "metadata": {
        "id": "GiKyqKIWXHaU"
      },
      "source": [
        "MAX_LEN = max(max(df['positive'].apply(len)), max(df['negative'].apply(len)))"
      ],
      "execution_count": null,
      "outputs": []
    },
    {
      "cell_type": "code",
      "metadata": {
        "id": "81o6S3_AXHaU",
        "outputId": "6ac4d30d-efc7-4324-eeda-d2950734813f"
      },
      "source": [
        "MAX_LEN"
      ],
      "execution_count": null,
      "outputs": [
        {
          "data": {
            "text/plain": [
              "399"
            ]
          },
          "execution_count": 19,
          "metadata": {},
          "output_type": "execute_result"
        }
      ]
    },
    {
      "cell_type": "code",
      "metadata": {
        "id": "PQI2EGzbXHaV"
      },
      "source": [
        "from torch.nn.utils.rnn import pad_sequence\n",
        "\n",
        "train_pos_pad = pad_sequence([torch.as_tensor([word2int[w] for w in seq][:MAX_LEN]) for seq in df_train['positive']], \n",
        "                           batch_first=True)"
      ],
      "execution_count": null,
      "outputs": []
    },
    {
      "cell_type": "code",
      "metadata": {
        "id": "76PDJ4yTXHaV"
      },
      "source": [
        "class ReviewsDataset(torch.utils.data.Dataset):\n",
        "    def __init__(self, df):\n",
        "        ## TODO\n",
        "        pass\n",
        "        \n",
        "    def __len__(self):\n",
        "        ## TODO\n",
        "        pass\n",
        "    \n",
        "    def __getitem__(self, idx):\n",
        "        ## TODO\n",
        "        pass"
      ],
      "execution_count": null,
      "outputs": []
    },
    {
      "cell_type": "code",
      "metadata": {
        "id": "m8jxX9B2XHaV"
      },
      "source": [
        "BATCH_SIZE = 1\n",
        "\n",
        "train_dataset = ReviewsDataset(df_train)\n",
        "test_dataset = ReviewsDataset(df_test)\n",
        "\n",
        "train_dataloader = torch.utils.data.DataLoader(train_dataset, batch_size=BATCH_SIZE)\n",
        "test_dataloader = torch.utils.data.DataLoader(test_dataset, batch_size=BATCH_SIZE)"
      ],
      "execution_count": null,
      "outputs": []
    },
    {
      "cell_type": "code",
      "metadata": {
        "id": "0f6EmAuJXHaV"
      },
      "source": [
        "NUM_EPOCHS = 1\n",
        "\n",
        "for n in range(NUM_EPOCHS):\n",
        "    model.train()\n",
        "    ## TODO"
      ],
      "execution_count": null,
      "outputs": []
    },
    {
      "cell_type": "markdown",
      "metadata": {
        "id": "n3OeNQkoXHaW"
      },
      "source": [
        "### Контест (до 3 баллов)\n",
        "\n",
        "По итогам всех ваших экспериментов выберите модель, которую считаете лучшей. Сделайте сабмит в контест. В зависимости от вашего скора на публичном лидерборде, мы начислим вам баллы:\n",
        "\n",
        " - <0.77 - 3 балла\n",
        " - [0.77; 0.78) - 2 балла\n",
        " - [0.78; 0.8) - 1 балл"
      ]
    },
    {
      "cell_type": "code",
      "metadata": {
        "id": "jfORFaucXHaW"
      },
      "source": [
        ""
      ],
      "execution_count": null,
      "outputs": []
    }
  ]
}