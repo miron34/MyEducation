{
 "cells": [
  {
   "cell_type": "markdown",
   "metadata": {},
   "source": [
    "## Вступление\n",
    "\n",
    "Всем привет! На сегодняшнем семинаре мы познакомимся с библиотекой **pytorch**. Он очень похож на numpy, с одним лишь отличием (на самом деле их больше, но сейчас мы поговорим про самое главное) -- pytorch может считать градиенты за вас. Таким образом вам не надо будет руками писать обратный проход в нейросетях. \n",
    "\n",
    "#### Семинар построен следующим образом:\n",
    "\n",
    "1. Вспоминаем numpy и сравниваем операции в pytorch\n",
    "2. Создаем тензоры в pytorch\n",
    "3. Работаем с градиентами руками\n",
    "4. Моя первая нейросеть "
   ]
  },
  {
   "cell_type": "markdown",
   "metadata": {},
   "source": [
    "### 1. Вспоминаем numpy и сравниваем операции в pytorch\n",
    "\n",
    "Мы можем создавать матрицы, перемножать их, складывать, транспонировать и в целом совершать любые матричные операции"
   ]
  },
  {
   "cell_type": "code",
   "execution_count": 1,
   "metadata": {
    "ExecuteTime": {
     "end_time": "2022-10-09T19:51:47.582366Z",
     "start_time": "2022-10-09T19:51:45.411901Z"
    }
   },
   "outputs": [],
   "source": [
    "import matplotlib.pyplot as plt\n",
    "import numpy as np\n",
    "import torch\n",
    "import torch.nn.functional as F\n",
    "import torchvision\n",
    "from sklearn.datasets import load_boston\n",
    "from torch import nn\n",
    "from tqdm.notebook import tqdm\n",
    "\n",
    "\n",
    "%matplotlib inline"
   ]
  },
  {
   "cell_type": "code",
   "execution_count": 2,
   "metadata": {
    "ExecuteTime": {
     "end_time": "2022-10-09T19:51:48.692149Z",
     "start_time": "2022-10-09T19:51:48.676809Z"
    }
   },
   "outputs": [
    {
     "data": {
      "text/plain": [
       "array([[0.546518  , 0.57740287, 0.04354708],\n",
       "       [0.39290046, 0.58130063, 0.22196659],\n",
       "       [0.13393897, 0.47043338, 0.12126343],\n",
       "       [0.63755107, 0.0390025 , 0.86564088],\n",
       "       [0.55371999, 0.55830079, 0.26899487]])"
      ]
     },
     "execution_count": 2,
     "metadata": {},
     "output_type": "execute_result"
    }
   ],
   "source": [
    "# случайная матрица\n",
    "a = np.random.rand(5, 3)\n",
    "a"
   ]
  },
  {
   "cell_type": "code",
   "execution_count": 3,
   "metadata": {
    "ExecuteTime": {
     "end_time": "2022-10-09T19:51:49.695457Z",
     "start_time": "2022-10-09T19:51:49.684746Z"
    }
   },
   "outputs": [
    {
     "name": "stdout",
     "output_type": "stream",
     "text": [
      "Размеры: (5, 3)\n"
     ]
    }
   ],
   "source": [
    "print(f\"Размеры: {a.shape}\")"
   ]
  },
  {
   "cell_type": "code",
   "execution_count": 4,
   "metadata": {
    "ExecuteTime": {
     "end_time": "2022-09-13T05:10:11.774349Z",
     "start_time": "2022-09-13T05:10:11.771949Z"
    }
   },
   "outputs": [
    {
     "name": "stdout",
     "output_type": "stream",
     "text": [
      "Добавили 5:\n",
      "[[5.31721365 5.81830552 5.01450186]\n",
      " [5.46456415 5.48267476 5.23064224]\n",
      " [5.90863006 5.75498753 5.63056075]\n",
      " [5.48890647 5.29264216 5.31520869]\n",
      " [5.95364588 5.70457033 5.42268938]]\n"
     ]
    }
   ],
   "source": [
    "print(f\"Добавили 5:\\n{a + 5}\")"
   ]
  },
  {
   "cell_type": "code",
   "execution_count": 5,
   "metadata": {
    "ExecuteTime": {
     "end_time": "2022-09-13T05:10:25.492855Z",
     "start_time": "2022-09-13T05:10:25.481344Z"
    }
   },
   "outputs": [
    {
     "name": "stdout",
     "output_type": "stream",
     "text": [
      "Посчитали произведение X X^T:\n",
      "[[0.77045873 0.54568625 0.91518462 0.39912961 0.88519306]\n",
      " [0.54568625 0.50199062 0.93196432 0.44107984 0.88059803]\n",
      " [0.91518462 0.93196432 1.79322161 0.86393452 1.66498445]\n",
      " [0.39912961 0.44107984 0.86393452 0.42402549 0.80566599]\n",
      " [0.88519306 0.88059803 1.66498445 0.80566599 1.58452612]]\n"
     ]
    }
   ],
   "source": [
    "print(f\"Посчитали произведение X X^T:\\n{a @ a.T}\")"
   ]
  },
  {
   "cell_type": "code",
   "execution_count": 6,
   "metadata": {
    "ExecuteTime": {
     "end_time": "2022-09-13T05:10:25.503201Z",
     "start_time": "2022-09-13T05:10:25.497471Z"
    }
   },
   "outputs": [
    {
     "name": "stdout",
     "output_type": "stream",
     "text": [
      "Среднее по колонкам:\n",
      "[0.38334034 0.39262705 0.76472611 0.36558577 0.69363519]\n"
     ]
    }
   ],
   "source": [
    "print(f\"Среднее по колонкам:\\n{a.mean(axis=-1)}\")"
   ]
  },
  {
   "cell_type": "code",
   "execution_count": 7,
   "metadata": {
    "ExecuteTime": {
     "end_time": "2022-09-13T05:10:25.507660Z",
     "start_time": "2022-09-13T05:10:25.504828Z"
    }
   },
   "outputs": [
    {
     "name": "stdout",
     "output_type": "stream",
     "text": [
      "Изменили размеры: (3, 5)\n"
     ]
    }
   ],
   "source": [
    "print(f\"Изменили размеры: {a.reshape(3, 5).shape}\")"
   ]
  },
  {
   "cell_type": "markdown",
   "metadata": {},
   "source": [
    "Аналогичные операции в **pytorch** выглядят следующим образом, синтаксис отличается, но совсем немного:"
   ]
  },
  {
   "cell_type": "code",
   "execution_count": 8,
   "metadata": {
    "ExecuteTime": {
     "end_time": "2022-09-13T05:10:25.626884Z",
     "start_time": "2022-09-13T05:10:25.615664Z"
    }
   },
   "outputs": [
    {
     "data": {
      "text/plain": [
       "tensor([[0.9341, 0.1717, 0.5515],\n",
       "        [0.2624, 0.8808, 0.2572],\n",
       "        [0.8036, 0.5687, 0.3231],\n",
       "        [0.2628, 0.5910, 0.4980],\n",
       "        [0.4129, 0.8588, 0.6815]])"
      ]
     },
     "execution_count": 8,
     "metadata": {},
     "output_type": "execute_result"
    }
   ],
   "source": [
    "x = torch.rand(5, 3)\n",
    "x"
   ]
  },
  {
   "cell_type": "code",
   "execution_count": 9,
   "metadata": {
    "ExecuteTime": {
     "end_time": "2022-09-13T05:10:25.635330Z",
     "start_time": "2022-09-13T05:10:25.630729Z"
    }
   },
   "outputs": [
    {
     "name": "stdout",
     "output_type": "stream",
     "text": [
      "Размеры: torch.Size([5, 3])\n"
     ]
    }
   ],
   "source": [
    "print(f\"Размеры: {x.shape}\")"
   ]
  },
  {
   "cell_type": "code",
   "execution_count": 10,
   "metadata": {
    "ExecuteTime": {
     "end_time": "2022-09-13T05:10:25.639064Z",
     "start_time": "2022-09-13T05:10:25.636360Z"
    }
   },
   "outputs": [
    {
     "name": "stdout",
     "output_type": "stream",
     "text": [
      "Добавили 5:\n",
      "tensor([[5.9341, 5.1717, 5.5515],\n",
      "        [5.2624, 5.8808, 5.2572],\n",
      "        [5.8036, 5.5687, 5.3231],\n",
      "        [5.2628, 5.5910, 5.4980],\n",
      "        [5.4129, 5.8588, 5.6815]])\n"
     ]
    }
   ],
   "source": [
    "print(f\"Добавили 5:\\n{x + 5}\")"
   ]
  },
  {
   "cell_type": "code",
   "execution_count": 11,
   "metadata": {
    "ExecuteTime": {
     "end_time": "2022-09-13T05:10:25.643563Z",
     "start_time": "2022-09-13T05:10:25.639937Z"
    }
   },
   "outputs": [
    {
     "name": "stdout",
     "output_type": "stream",
     "text": [
      "X X^T  (1):\n",
      "tensor([[1.2061, 0.5382, 1.0265, 0.6216, 0.9090],\n",
      "        [0.5382, 0.9108, 0.7949, 0.7176, 1.0401],\n",
      "        [1.0265, 0.7949, 1.0737, 0.7082, 1.0404],\n",
      "        [0.6216, 0.7176, 0.7082, 0.6663, 0.9554],\n",
      "        [0.9090, 1.0401, 1.0404, 0.9554, 1.3725]])\n",
      "\n",
      "X X^T  (2):\n",
      "tensor([[1.2061, 0.5382, 1.0265, 0.6216, 0.9090],\n",
      "        [0.5382, 0.9108, 0.7949, 0.7176, 1.0401],\n",
      "        [1.0265, 0.7949, 1.0737, 0.7082, 1.0404],\n",
      "        [0.6216, 0.7176, 0.7082, 0.6663, 0.9554],\n",
      "        [0.9090, 1.0401, 1.0404, 0.9554, 1.3725]])\n"
     ]
    }
   ],
   "source": [
    "# для перемножения тензоров высокой размерности читайте документацию по различным вариантам:\n",
    "# torch.mm, torch.matmul, torch.bmm, @\n",
    "print(f\"X X^T  (1):\\n{torch.matmul(x, x.transpose(1, 0))}\\n\")\n",
    "print(f\"X X^T  (2):\\n{x.mm(x.t())}\")"
   ]
  },
  {
   "cell_type": "code",
   "execution_count": 12,
   "metadata": {
    "ExecuteTime": {
     "end_time": "2022-09-13T05:10:25.647480Z",
     "start_time": "2022-09-13T05:10:25.645144Z"
    }
   },
   "outputs": [
    {
     "name": "stdout",
     "output_type": "stream",
     "text": [
      "Среднее по колонкам:\n",
      "tensor([0.5524, 0.4668, 0.5651, 0.4506, 0.6511])\n"
     ]
    }
   ],
   "source": [
    "print(f\"Среднее по колонкам:\\n{x.mean(dim=-1)}\")"
   ]
  },
  {
   "cell_type": "code",
   "execution_count": 13,
   "metadata": {
    "ExecuteTime": {
     "end_time": "2022-09-13T05:10:25.651286Z",
     "start_time": "2022-09-13T05:10:25.648339Z"
    }
   },
   "outputs": [
    {
     "name": "stdout",
     "output_type": "stream",
     "text": [
      "Изменили размеры:\n",
      "torch.Size([3, 5])\n",
      "\n",
      "По-другому изменили размеры:\n",
      "torch.Size([3, 5])\n",
      "\n",
      "Но не транспонировали!\n",
      "tensor([[ True, False, False, False, False],\n",
      "        [False, False,  True, False, False],\n",
      "        [False, False, False, False,  True]])\n"
     ]
    }
   ],
   "source": [
    "print(f\"Изменили размеры:\\n{x.view([3, 5]).shape}\\n\")\n",
    "\n",
    "# будьте внимательны и не используйте view для транспонирования осей\n",
    "print(f\"По-другому изменили размеры:\\n{x.view_as(x.t()).shape}\\n\")\n",
    "print(f\"Но не транспонировали!\\n{x.view_as(x.t()) == x.t()}\")"
   ]
  },
  {
   "cell_type": "markdown",
   "metadata": {},
   "source": [
    "Небольшой пример того, как меняются операции:\n",
    "\n",
    "* `x.reshape([1,2,8]) -> x.view(1,2,8)`\n",
    "\n",
    "* `x.sum(axis=-1) -> x.sum(dim=-1)`\n",
    "\n",
    "* `x.astype(\"int64\") -> x.type(torch.LongTensor)`\n",
    "\n",
    "Для помощи вам есть [таблица](https://github.com/torch/torch7/wiki/Torch-for-Numpy-users), которая поможет вам найти аналог операции в numpy\n"
   ]
  },
  {
   "cell_type": "markdown",
   "metadata": {},
   "source": [
    "### 2. Создаем тензоры в pytorch и снова изучаем базовые операции"
   ]
  },
  {
   "cell_type": "code",
   "execution_count": 14,
   "metadata": {
    "ExecuteTime": {
     "end_time": "2022-09-13T05:10:25.840933Z",
     "start_time": "2022-09-13T05:10:25.831763Z"
    }
   },
   "outputs": [
    {
     "name": "stdout",
     "output_type": "stream",
     "text": [
      "tensor([[ 0.0000e+00,  4.6566e-10,  0.0000e+00],\n",
      "        [ 4.6566e-10,  3.0245e+35,  1.4153e-43],\n",
      "        [ 1.0562e-38,  3.4438e-41,  2.9147e-43],\n",
      "        [ 0.0000e+00, -5.8836e+14,  4.5800e-41],\n",
      "        [-2.6515e-38,  4.5800e-41,  0.0000e+00]])\n"
     ]
    }
   ],
   "source": [
    "x = torch.empty(5, 3)  # пустой тензор\n",
    "print(x)"
   ]
  },
  {
   "cell_type": "code",
   "execution_count": 15,
   "metadata": {
    "ExecuteTime": {
     "end_time": "2022-09-13T05:10:25.851685Z",
     "start_time": "2022-09-13T05:10:25.845521Z"
    }
   },
   "outputs": [
    {
     "name": "stdout",
     "output_type": "stream",
     "text": [
      "tensor([[0.8500, 0.2199, 0.0321],\n",
      "        [0.8363, 0.9648, 0.1909],\n",
      "        [0.5133, 0.3979, 0.6011],\n",
      "        [0.8873, 0.8633, 0.5638],\n",
      "        [0.4944, 0.5594, 0.0279]])\n"
     ]
    }
   ],
   "source": [
    "x = torch.rand(5, 3)  # случайный тензор\n",
    "print(x)"
   ]
  },
  {
   "cell_type": "code",
   "execution_count": 16,
   "metadata": {
    "ExecuteTime": {
     "end_time": "2022-09-13T05:10:25.855919Z",
     "start_time": "2022-09-13T05:10:25.853224Z"
    }
   },
   "outputs": [
    {
     "name": "stdout",
     "output_type": "stream",
     "text": [
      "tensor([[0., 0., 0.],\n",
      "        [0., 0., 0.],\n",
      "        [0., 0., 0.],\n",
      "        [0., 0., 0.],\n",
      "        [0., 0., 0.]])\n"
     ]
    }
   ],
   "source": [
    "x = torch.zeros(5, 3, dtype=torch.float32)  # тензор с нулями и указанием типов чисел\n",
    "print(x)"
   ]
  },
  {
   "cell_type": "code",
   "execution_count": 17,
   "metadata": {
    "ExecuteTime": {
     "end_time": "2022-09-13T05:10:25.860385Z",
     "start_time": "2022-09-13T05:10:25.857175Z"
    }
   },
   "outputs": [
    {
     "name": "stdout",
     "output_type": "stream",
     "text": [
      "tensor([5.5000, 3.0000])\n"
     ]
    }
   ],
   "source": [
    "x = torch.tensor([5.5, 3])  # конструируем тензор из питоновского листа\n",
    "print(x)"
   ]
  },
  {
   "cell_type": "code",
   "execution_count": 18,
   "metadata": {
    "ExecuteTime": {
     "end_time": "2022-09-13T05:10:25.864845Z",
     "start_time": "2022-09-13T05:10:25.862176Z"
    }
   },
   "outputs": [
    {
     "name": "stdout",
     "output_type": "stream",
     "text": [
      "tensor([5.5000, 3.0000]) torch.Size([2])\n"
     ]
    }
   ],
   "source": [
    "x1 = x.new_ones(5, 3, dtype=torch.double)  # используем уже созданный тензор для создания тензора из единичек\n",
    "print(x, x.size()) "
   ]
  },
  {
   "cell_type": "code",
   "execution_count": 19,
   "metadata": {
    "ExecuteTime": {
     "end_time": "2022-09-13T05:10:25.868549Z",
     "start_time": "2022-09-13T05:10:25.865880Z"
    }
   },
   "outputs": [
    {
     "name": "stdout",
     "output_type": "stream",
     "text": [
      "tensor([[-0.7101,  0.1116,  0.8223],\n",
      "        [-1.1132, -0.1211,  2.2035],\n",
      "        [ 0.0493, -0.2566,  1.0694],\n",
      "        [-0.1828, -0.1145,  0.8236],\n",
      "        [-0.5935, -0.0419,  1.5377]]) torch.Size([5, 3])\n"
     ]
    }
   ],
   "source": [
    "x = torch.randn_like(x1, dtype=torch.float)  # создаем случайный тензор с размерами x\n",
    "print(x, x.size())"
   ]
  },
  {
   "cell_type": "code",
   "execution_count": 20,
   "metadata": {
    "ExecuteTime": {
     "end_time": "2022-09-13T05:10:25.872034Z",
     "start_time": "2022-09-13T05:10:25.869497Z"
    }
   },
   "outputs": [
    {
     "name": "stdout",
     "output_type": "stream",
     "text": [
      "tensor([[-0.6884,  0.8789,  1.7236],\n",
      "        [-0.7366,  0.3910,  2.9020],\n",
      "        [ 0.1575, -0.0344,  1.2201],\n",
      "        [ 0.1137,  0.6072,  1.0551],\n",
      "        [-0.5093,  0.3502,  2.3959]])\n"
     ]
    }
   ],
   "source": [
    "y = torch.rand(5, 3)\n",
    "print(x + y)  # операция сложения"
   ]
  },
  {
   "cell_type": "code",
   "execution_count": 21,
   "metadata": {
    "ExecuteTime": {
     "end_time": "2022-09-13T05:10:25.875497Z",
     "start_time": "2022-09-13T05:10:25.873083Z"
    }
   },
   "outputs": [
    {
     "name": "stdout",
     "output_type": "stream",
     "text": [
      "tensor([[-0.6884,  0.8789,  1.7236],\n",
      "        [-0.7366,  0.3910,  2.9020],\n",
      "        [ 0.1575, -0.0344,  1.2201],\n",
      "        [ 0.1137,  0.6072,  1.0551],\n",
      "        [-0.5093,  0.3502,  2.3959]])\n"
     ]
    }
   ],
   "source": [
    "z = torch.add(x, y)  # очередная операция сложения\n",
    "print(z)"
   ]
  },
  {
   "cell_type": "code",
   "execution_count": 22,
   "metadata": {
    "ExecuteTime": {
     "end_time": "2022-09-13T05:10:25.878986Z",
     "start_time": "2022-09-13T05:10:25.876434Z"
    }
   },
   "outputs": [
    {
     "name": "stdout",
     "output_type": "stream",
     "text": [
      "tensor([[-0.6884,  0.8789,  1.7236],\n",
      "        [-0.7366,  0.3910,  2.9020],\n",
      "        [ 0.1575, -0.0344,  1.2201],\n",
      "        [ 0.1137,  0.6072,  1.0551],\n",
      "        [-0.5093,  0.3502,  2.3959]])\n"
     ]
    }
   ],
   "source": [
    "torch.add(x, y, out=z)  # и наконец последний вид\n",
    "print(z)"
   ]
  },
  {
   "cell_type": "code",
   "execution_count": 23,
   "metadata": {
    "ExecuteTime": {
     "end_time": "2022-09-13T05:10:25.882327Z",
     "start_time": "2022-09-13T05:10:25.879920Z"
    }
   },
   "outputs": [
    {
     "name": "stdout",
     "output_type": "stream",
     "text": [
      "tensor([[-0.0154,  0.0856,  0.7412],\n",
      "        [-0.4192, -0.0620,  1.5390],\n",
      "        [ 0.0053, -0.0570,  0.1612],\n",
      "        [-0.0542, -0.0826,  0.1906],\n",
      "        [-0.0500, -0.0164,  1.3196]])\n"
     ]
    }
   ],
   "source": [
    "print(x * y)  # поэлементное умножение"
   ]
  },
  {
   "cell_type": "code",
   "execution_count": 24,
   "metadata": {
    "ExecuteTime": {
     "end_time": "2022-09-13T05:10:25.885812Z",
     "start_time": "2022-09-13T05:10:25.883223Z"
    }
   },
   "outputs": [
    {
     "name": "stdout",
     "output_type": "stream",
     "text": [
      "tensor([[0.8114, 0.3641, 0.0719, 0.0604, 0.6896],\n",
      "        [1.8691, 1.0578, 0.1848, 0.0926, 1.7498],\n",
      "        [0.7681, 0.6340, 0.1095, 0.0770, 0.8213],\n",
      "        [0.6506, 0.4478, 0.0789, 0.0538, 0.6466],\n",
      "        [1.3410, 0.8290, 0.1583, 0.1497, 1.2533]])\n"
     ]
    }
   ],
   "source": [
    "print(x @ y.t())  # матричное умножение"
   ]
  },
  {
   "cell_type": "code",
   "execution_count": 25,
   "metadata": {
    "ExecuteTime": {
     "end_time": "2022-09-13T05:10:25.889184Z",
     "start_time": "2022-09-13T05:10:25.886722Z"
    }
   },
   "outputs": [
    {
     "name": "stdout",
     "output_type": "stream",
     "text": [
      "tensor([[0.8114, 0.3641, 0.0719, 0.0604, 0.6896],\n",
      "        [1.8691, 1.0578, 0.1848, 0.0926, 1.7498],\n",
      "        [0.7681, 0.6340, 0.1095, 0.0770, 0.8213],\n",
      "        [0.6506, 0.4478, 0.0789, 0.0538, 0.6466],\n",
      "        [1.3410, 0.8290, 0.1583, 0.1497, 1.2533]])\n"
     ]
    }
   ],
   "source": [
    "print(x.mm(y.t()))  # и опять матричное умножение"
   ]
  },
  {
   "cell_type": "code",
   "execution_count": 26,
   "metadata": {
    "ExecuteTime": {
     "end_time": "2022-09-13T05:10:25.892841Z",
     "start_time": "2022-09-13T05:10:25.890079Z"
    }
   },
   "outputs": [
    {
     "data": {
      "text/plain": [
       "(tensor([[-0.7101,  0.1116,  0.8223],\n",
       "         [-1.1132, -0.1211,  2.2035],\n",
       "         [ 0.0493, -0.2566,  1.0694],\n",
       "         [-0.1828, -0.1145,  0.8236],\n",
       "         [-0.5935, -0.0419,  1.5377]]),\n",
       " torch.Size([5, 3]))"
      ]
     },
     "execution_count": 26,
     "metadata": {},
     "output_type": "execute_result"
    }
   ],
   "source": [
    "x, x.shape"
   ]
  },
  {
   "cell_type": "code",
   "execution_count": 27,
   "metadata": {
    "ExecuteTime": {
     "end_time": "2022-09-13T05:10:25.897228Z",
     "start_time": "2022-09-13T05:10:25.895253Z"
    }
   },
   "outputs": [
    {
     "name": "stdout",
     "output_type": "stream",
     "text": [
      "torch.Size([1, 5, 3])\n"
     ]
    }
   ],
   "source": [
    "print(x.unsqueeze(0).shape)  # добавили измерение в начало, аналог броадкастинга"
   ]
  },
  {
   "cell_type": "code",
   "execution_count": 28,
   "metadata": {
    "ExecuteTime": {
     "end_time": "2022-09-13T05:10:25.900092Z",
     "start_time": "2022-09-13T05:10:25.898088Z"
    }
   },
   "outputs": [
    {
     "name": "stdout",
     "output_type": "stream",
     "text": [
      "torch.Size([5, 3])\n"
     ]
    }
   ],
   "source": [
    "print(x.unsqueeze(0).unsqueeze(1).squeeze().shape)  # убрали измерение в начале"
   ]
  },
  {
   "cell_type": "markdown",
   "metadata": {},
   "source": [
    "Мы также можем делать обычные срезы и переводить матрицы назад в numpy:"
   ]
  },
  {
   "cell_type": "code",
   "execution_count": 29,
   "metadata": {
    "ExecuteTime": {
     "end_time": "2022-09-13T05:10:25.959637Z",
     "start_time": "2022-09-13T05:10:25.956118Z"
    }
   },
   "outputs": [
    {
     "name": "stdout",
     "output_type": "stream",
     "text": [
      "True\n",
      "True\n"
     ]
    }
   ],
   "source": [
    "a = np.ones((3, 5))\n",
    "x = torch.ones((3, 5))\n",
    "print(np.allclose(x.numpy(), a))\n",
    "print(np.allclose(x.numpy()[:, 1], a[:, 1]))"
   ]
  },
  {
   "cell_type": "markdown",
   "metadata": {},
   "source": [
    "### 3. Работаем с градиентами руками"
   ]
  },
  {
   "cell_type": "code",
   "execution_count": 30,
   "metadata": {
    "ExecuteTime": {
     "end_time": "2022-09-13T05:10:27.069022Z",
     "start_time": "2022-09-13T05:10:26.070817Z"
    }
   },
   "outputs": [
    {
     "data": {
      "image/png": "[encoded data removed]",
      "text/plain": [
       "<Figure size 432x288 with 1 Axes>"
      ]
     },
     "metadata": {
      "needs_background": "light"
     },
     "output_type": "display_data"
    }
   ],
   "source": [
    "import pandas as pd\n",
    "import numpy as np\n",
    "\n",
    "# загрузка датасета Бостон (убран из sklearn'а)\n",
    "data_url = \"http://lib.stat.cmu.edu/datasets/boston\"\n",
    "raw_df = pd.read_csv(data_url, sep=\"\\s+\", skiprows=22, header=None)\n",
    "data = np.hstack([raw_df.values[::2, :], raw_df.values[1::2, :2]])\n",
    "target = raw_df.values[1::2, 2]\n",
    "\n",
    "plt.scatter(data[:, -1], target);"
   ]
  },
  {
   "cell_type": "markdown",
   "metadata": {},
   "source": [
    "В pytorch есть возможность при создании тензора указывать нужно ли считать по нему градиент или нет, с помощью параметра `requires_grad`. Когда `requires_grad=True` мы сообщаем фреймворку, о том, что мы хотим следить за всеми тензорами, которые получаются из созданного. Иными словами, у любого тензора, у которого указан данный параметр, будет доступ к цепочке операций и преобразований совершенными с ними. Если эти функции дифференцируемые, то у тензора появляется параметр `.grad`, в котором хранится значение градиента."
   ]
  },
  {
   "cell_type": "markdown",
   "metadata": {},
   "source": [
    "Если к результирующему тензору применить метод `.backward()`, то фреймворк посчитает по цепочке градиенту для всех тензоров, у которых `requires_grad=True`."
   ]
  },
  {
   "cell_type": "code",
   "execution_count": 31,
   "metadata": {
    "ExecuteTime": {
     "end_time": "2022-09-13T05:10:27.074144Z",
     "start_time": "2022-09-13T05:10:27.070824Z"
    }
   },
   "outputs": [],
   "source": [
    "w = torch.rand(1, requires_grad=True)\n",
    "b = torch.rand(1, requires_grad=True)\n",
    "\n",
    "x = torch.tensor(data[:,-1] / data[:,-1].max(), dtype=torch.float32)\n",
    "y = torch.tensor(target, dtype=torch.float32)\n",
    "\n",
    "# только создали тензоры и в них нет градиентов\n",
    "assert w.grad is None\n",
    "assert b.grad is None"
   ]
  },
  {
   "cell_type": "code",
   "execution_count": 32,
   "metadata": {
    "ExecuteTime": {
     "end_time": "2022-09-13T05:10:27.078907Z",
     "start_time": "2022-09-13T05:10:27.075523Z"
    }
   },
   "outputs": [],
   "source": [
    "y_pred = w * x + b                    # и опять совершаем операции с тензорами\n",
    "loss = torch.mean((y_pred - y) ** 2)  # совершаем операции с тензорами\n",
    "loss.backward()                       # считаем градиенты"
   ]
  },
  {
   "cell_type": "code",
   "execution_count": 33,
   "metadata": {
    "ExecuteTime": {
     "end_time": "2022-09-13T05:10:27.085027Z",
     "start_time": "2022-09-13T05:10:27.080866Z"
    }
   },
   "outputs": [
    {
     "name": "stdout",
     "output_type": "stream",
     "text": [
      "dL/dw = \n",
      " tensor([-11.9597])\n",
      "dL/db = \n",
      " tensor([-43.6629])\n"
     ]
    }
   ],
   "source": [
    "# сделали операции и посчитали градиенты, значение должно было появится\n",
    "assert w.grad is not None\n",
    "assert b.grad is not None\n",
    "\n",
    "print(\"dL/dw = \\n\", w.grad)\n",
    "print(\"dL/db = \\n\", b.grad)"
   ]
  },
  {
   "cell_type": "code",
   "execution_count": 221,
   "metadata": {
    "ExecuteTime": {
     "end_time": "2022-09-18T22:12:46.198316Z",
     "start_time": "2022-09-18T22:12:46.179487Z"
    }
   },
   "outputs": [
    {
     "data": {
      "text/plain": [
       "tensor(12.)"
      ]
     },
     "execution_count": 221,
     "metadata": {},
     "output_type": "execute_result"
    }
   ],
   "source": [
    "# мега-пример того, как торч умеет считать градиенты\n",
    "a = torch.tensor(2.)\n",
    "a.requires_grad_()\n",
    "b = a**2* 3\n",
    "\n",
    "b.backward()\n",
    "a.grad"
   ]
  },
  {
   "cell_type": "markdown",
   "metadata": {},
   "source": [
    "__Ремарка__. Для доступа к значениям в тензоре используйте атрибут `.data`:"
   ]
  },
  {
   "cell_type": "code",
   "execution_count": 34,
   "metadata": {
    "ExecuteTime": {
     "end_time": "2022-09-13T05:10:27.089398Z",
     "start_time": "2022-09-13T05:10:27.085940Z"
    }
   },
   "outputs": [
    {
     "data": {
      "text/plain": [
       "tensor([0.6171])"
      ]
     },
     "execution_count": 34,
     "metadata": {},
     "output_type": "execute_result"
    }
   ],
   "source": [
    "w.data"
   ]
  },
  {
   "cell_type": "markdown",
   "metadata": {},
   "source": [
    "**Обучение линейной модели через PyTorch**"
   ]
  },
  {
   "cell_type": "code",
   "execution_count": 35,
   "metadata": {
    "ExecuteTime": {
     "end_time": "2022-09-13T05:10:29.002793Z",
     "start_time": "2022-09-13T05:10:27.090597Z"
    }
   },
   "outputs": [
    {
     "data": {
      "image/png": "[encoded data removed]",
      "text/plain": [
       "<Figure size 720x576 with 1 Axes>"
      ]
     },
     "metadata": {
      "needs_background": "light"
     },
     "output_type": "display_data"
    },
    {
     "name": "stdout",
     "output_type": "stream",
     "text": [
      "loss =  73.013245\n",
      "Кривая предсказания: y = -4 * x + 23\n"
     ]
    }
   ],
   "source": [
    "from IPython.display import clear_output\n",
    "\n",
    "w = torch.rand(1, requires_grad=True)\n",
    "b = torch.rand(1, requires_grad=True)\n",
    "\n",
    "# обучение обычной линейной регрессии на 1м признаке\n",
    "for i in range(100):\n",
    "    y_pred = w * x + b\n",
    "    # попробуйте сделать полиномиальную регрессию в данном предсказании и посчитать градиенты после\n",
    "    loss = torch.mean((y_pred - y)**2)\n",
    "    loss.backward()\n",
    "\n",
    "    # делаем шаг градиентного спуска с lr = .05\n",
    "    w.data -=  0.05 * w.grad\n",
    "    b.data -=  0.05 * b.grad \n",
    "\n",
    "    # обнуляем градиенты, чтобы на следующем шаге опять посчитать и не аккумулировать их\n",
    "    w.grad.data.zero_()\n",
    "    b.grad.data.zero_()\n",
    "\n",
    "    # рисуем картинки\n",
    "    if (i + 1) % 5 == 0:\n",
    "        clear_output(True)\n",
    "        plt.figure(figsize=(10,8))\n",
    "        plt.scatter(x.data.numpy(), y.data.numpy(), label=\"data\")\n",
    "        plt.scatter(x.data.numpy(), y_pred.data.numpy(),\n",
    "                    color=\"orange\", linewidth=5, label=\"predictions\")\n",
    "        plt.xlabel(\"LSTAT\", fontsize=14)\n",
    "        plt.ylabel(\"MEDV (target)\", fontsize=14)\n",
    "        plt.title(\"Boston modelling\", fontsize=18)\n",
    "        plt.legend(fontsize=14)\n",
    "        plt.show()\n",
    "\n",
    "        print(\"loss = \", loss.data.numpy())\n",
    "        if loss.data.numpy() < 0.01:\n",
    "            print(\"Done!\")\n",
    "            break\n",
    "\n",
    "print(f\"Кривая предсказания: y = {int(w.data[0])} * x + {int(b.data[0])}\")"
   ]
  },
  {
   "cell_type": "markdown",
   "metadata": {},
   "source": [
    "**Обучение полиномиальной линейной модели через PyTorch**"
   ]
  },
  {
   "cell_type": "code",
   "execution_count": 36,
   "metadata": {
    "ExecuteTime": {
     "end_time": "2022-09-13T05:10:30.945631Z",
     "start_time": "2022-09-13T05:10:29.004449Z"
    }
   },
   "outputs": [
    {
     "data": {
      "image/png": "[encoded data removed]",
      "text/plain": [
       "<Figure size 720x576 with 1 Axes>"
      ]
     },
     "metadata": {
      "needs_background": "light"
     },
     "output_type": "display_data"
    },
    {
     "name": "stdout",
     "output_type": "stream",
     "text": [
      "loss =  64.9561\n",
      "Кривая предсказания: y = -2 * x^4 + -3 * x^3 + -5 * x^2 + -3 * x + -4\n"
     ]
    }
   ],
   "source": [
    "from IPython.display import clear_output\n",
    "\n",
    "w4 = torch.rand(1, requires_grad=True)\n",
    "w3 = torch.rand(1, requires_grad=True)\n",
    "w2 = torch.rand(1, requires_grad=True)\n",
    "w1 = torch.rand(1, requires_grad=True)\n",
    "b = torch.rand(1, requires_grad=True)\n",
    "\n",
    "# обучение полиномиальной линейной регрессии на 1м признаке\n",
    "for i in range(100):\n",
    "    y_pred = w4 * x**4 + w3 * x**3 + w2 * x**2 + w1 * x + b\n",
    "    # попробуйте сделать полиномиальную регрессию в данном предсказании и посчитать градиенты после\n",
    "    loss = torch.mean((y_pred - y)**2)\n",
    "    loss.backward()\n",
    "\n",
    "    # делаем шаг градиентного спуска с lr = .05\n",
    "    w4.data -=  0.05 * w4.grad\n",
    "    w3.data -=  0.05 * w3.grad\n",
    "    w2.data -=  0.05 * w2.grad\n",
    "    w1.data -=  0.05 * w1.grad\n",
    "    b.data -=  0.05 * b.grad \n",
    "\n",
    "    # обнуляем градиенты, чтобы на следующем шаге опять посчитать и не аккумулировать их\n",
    "    w4.grad.data.zero_()\n",
    "    w3.grad.data.zero_()\n",
    "    w2.grad.data.zero_()\n",
    "    w1.grad.data.zero_()\n",
    "    b.grad.data.zero_()\n",
    "\n",
    "    # рисуем картинки\n",
    "    if (i + 1) % 5 == 0:\n",
    "        clear_output(True)\n",
    "        plt.figure(figsize=(10,8))\n",
    "        plt.scatter(x.data.numpy(), y.data.numpy(), label=\"data\")\n",
    "        plt.scatter(x.data.numpy(), y_pred.data.numpy(),\n",
    "                    color=\"orange\", linewidth=5, label=\"predictions\")\n",
    "        plt.xlabel(\"LSTAT\", fontsize=14)\n",
    "        plt.ylabel(\"MEDV (target)\", fontsize=14)\n",
    "        plt.title(\"Boston modelling\", fontsize=18)\n",
    "        plt.legend(fontsize=14)\n",
    "        plt.show()\n",
    "\n",
    "        print(\"loss = \", loss.data.numpy())\n",
    "        if loss.data.numpy() < 0.01:\n",
    "            print(\"Done!\")\n",
    "            break\n",
    "\n",
    "print(f\"Кривая предсказания: y = {int(w4.data[0])} * x^4 + {int(w3.data[0])} * x^3 + {int(w2.data[0])} * x^2 + {int(w1.data[0])} * x + {int(w.data[0])}\")"
   ]
  },
  {
   "cell_type": "markdown",
   "metadata": {},
   "source": [
    "### 4. Моя первая нейросеть"
   ]
  },
  {
   "cell_type": "markdown",
   "metadata": {},
   "source": [
    "Для того, чтобы разобраться как обучать нейросите в pytorch, нужно освоить три вещи: \n",
    "\n",
    "1. Как формировать батчи и пихать их в сетку\n",
    "2. Как сделать сетку\n",
    "3. Как написать цикл обучения и отслеживать метрики"
   ]
  },
  {
   "cell_type": "markdown",
   "metadata": {},
   "source": [
    "#### Как формировать батчи и подавать их на вход нейросети\n",
    "\n",
    "Чтобы в данном фреймворке иметь возможность итерироваться по данным и применять к ним преобразования, например, аугментации, о которых вы узнаете позже -- нужно создать свой класс унаследованный от `torch.utils.data.Dataset`.\n",
    "\n",
    "Вот пример из документации:\n",
    "\n",
    "```\n",
    "class FaceLandmarksDataset(torch.utils.data.Dataset):\n",
    "    \"\"\"Face Landmarks dataset.\"\"\"\n",
    "\n",
    "    def __init__(self, csv_file, root_dir, transform=None):\n",
    "        \"\"\"\n",
    "        Args:\n",
    "            csv_file (string): Path to the csv file with annotations.\n",
    "            root_dir (string): Directory with all the images.\n",
    "            transform (callable, optional): Optional transform to be applied\n",
    "                on a sample.\n",
    "        \"\"\"\n",
    "        self.landmarks_frame = pd.read_csv(csv_file)\n",
    "        self.root_dir = root_dir\n",
    "        self.transform = transform\n",
    "\n",
    "    def __len__(self):\n",
    "        return len(self.landmarks_frame)\n",
    "\n",
    "    def __getitem__(self, idx):\n",
    "        if torch.is_tensor(idx):\n",
    "            idx = idx.tolist()\n",
    "\n",
    "        img_name = os.path.join(self.root_dir,\n",
    "                                self.landmarks_frame.iloc[idx, 0])\n",
    "        image = io.imread(img_name)\n",
    "        landmarks = self.landmarks_frame.iloc[idx, 1:]\n",
    "        landmarks = np.array([landmarks])\n",
    "        landmarks = landmarks.astype('float').reshape(-1, 2)\n",
    "        sample = {'image': image, 'landmarks': landmarks}\n",
    "\n",
    "        if self.transform:\n",
    "            sample = self.transform(sample)\n",
    "\n",
    "        return sample\n",
    "```\n",
    "\n",
    "Как вы видите, у такого класса **должно быть** два метода: \n",
    "\n",
    "* `__len__` -- возвращает информацию о том, сколько объектов у нас в датасете\n",
    "* `__getitem__` -- возвращает семпл и таргет к нему\n",
    "\n",
    "\n",
    "Теперь давайте напишем такой сами, в качестве датасета сгенерируем рандомные данные."
   ]
  },
  {
   "cell_type": "code",
   "execution_count": 4,
   "metadata": {
    "ExecuteTime": {
     "end_time": "2022-10-09T19:52:04.666702Z",
     "start_time": "2022-10-09T19:52:04.651959Z"
    }
   },
   "outputs": [],
   "source": [
    "class RandomDataset(torch.utils.data.Dataset):\n",
    "    \"\"\"\n",
    "    Our random dataset\n",
    "    \"\"\"\n",
    "    def __init__(self, x, y):\n",
    "        self.x = x\n",
    "        self.y = y\n",
    "        \n",
    "    def __len__(self):\n",
    "        return len(self.x)\n",
    "    \n",
    "    def __getitem__(self, idx):\n",
    "        return {\"sample\": torch.tensor(x[idx, :], dtype=torch.float), \"target\": y[idx]}"
   ]
  },
  {
   "cell_type": "code",
   "execution_count": 5,
   "metadata": {
    "ExecuteTime": {
     "end_time": "2022-10-09T19:52:04.855522Z",
     "start_time": "2022-10-09T19:52:04.848685Z"
    }
   },
   "outputs": [],
   "source": [
    "x = np.random.rand(1000, 5)\n",
    "y = np.random.rand(1000)"
   ]
  },
  {
   "cell_type": "code",
   "execution_count": 6,
   "metadata": {
    "ExecuteTime": {
     "end_time": "2022-10-09T19:52:05.087426Z",
     "start_time": "2022-10-09T19:52:05.080657Z"
    }
   },
   "outputs": [],
   "source": [
    "our_dataset = RandomDataset(x, y)"
   ]
  },
  {
   "cell_type": "code",
   "execution_count": 7,
   "metadata": {
    "ExecuteTime": {
     "end_time": "2022-10-09T19:52:05.873410Z",
     "start_time": "2022-10-09T19:52:05.857650Z"
    }
   },
   "outputs": [
    {
     "data": {
      "text/plain": [
       "{'sample': tensor([0.8904, 0.5579, 0.8289, 0.9233, 0.2064]),\n",
       " 'target': 0.5829998049530659}"
      ]
     },
     "execution_count": 7,
     "metadata": {},
     "output_type": "execute_result"
    }
   ],
   "source": [
    "our_dataset.__getitem__(0)"
   ]
  },
  {
   "cell_type": "markdown",
   "metadata": {},
   "source": [
    "Для того, чтобы из данных получать батчи в pytorch используется такая сущность как даталоадер, который принимает на вход класс унаследованный от `torch.utils.data.Dataset`. Сейчас посмотрим на пример:"
   ]
  },
  {
   "cell_type": "code",
   "execution_count": 8,
   "metadata": {
    "ExecuteTime": {
     "end_time": "2022-10-09T19:52:07.560739Z",
     "start_time": "2022-10-09T19:52:07.551630Z"
    }
   },
   "outputs": [],
   "source": [
    "dataloader = torch.utils.data.DataLoader(our_dataset, batch_size=4)"
   ]
  },
  {
   "cell_type": "markdown",
   "metadata": {},
   "source": [
    "Работают с ним следующим образом:"
   ]
  },
  {
   "cell_type": "code",
   "execution_count": 9,
   "metadata": {
    "ExecuteTime": {
     "end_time": "2022-10-09T19:52:08.987254Z",
     "start_time": "2022-10-09T19:52:08.974252Z"
    }
   },
   "outputs": [
    {
     "name": "stdout",
     "output_type": "stream",
     "text": [
      "Sample:\n",
      "tensor([[0.8904, 0.5579, 0.8289, 0.9233, 0.2064],\n",
      "        [0.9815, 0.6781, 0.9273, 0.8605, 0.6828],\n",
      "        [0.5413, 0.5179, 0.9215, 0.2560, 0.8607],\n",
      "        [0.0178, 0.7170, 0.2609, 0.1567, 0.4530]])\n",
      "Target:\n",
      "tensor([0.5830, 0.7581, 0.1217, 0.2838], dtype=torch.float64)\n"
     ]
    }
   ],
   "source": [
    "batch = next(iter(dataloader))\n",
    "\n",
    "print(f\"Sample:\\n{batch['sample']}\")\n",
    "print(f\"Target:\\n{batch['target']}\")"
   ]
  },
  {
   "cell_type": "markdown",
   "metadata": {},
   "source": [
    "или же:"
   ]
  },
  {
   "cell_type": "code",
   "execution_count": 10,
   "metadata": {
    "ExecuteTime": {
     "end_time": "2022-10-09T19:52:10.478586Z",
     "start_time": "2022-10-09T19:52:10.468780Z"
    }
   },
   "outputs": [
    {
     "name": "stdout",
     "output_type": "stream",
     "text": [
      "tensor([[0.8904, 0.5579, 0.8289, 0.9233, 0.2064],\n",
      "        [0.9815, 0.6781, 0.9273, 0.8605, 0.6828],\n",
      "        [0.5413, 0.5179, 0.9215, 0.2560, 0.8607],\n",
      "        [0.0178, 0.7170, 0.2609, 0.1567, 0.4530]])\n",
      "tensor([0.5830, 0.7581, 0.1217, 0.2838], dtype=torch.float64)\n"
     ]
    }
   ],
   "source": [
    "for batch in dataloader:\n",
    "    print(\n",
    "        batch['sample'],\n",
    "        batch['target'],\n",
    "        sep='\\n'\n",
    "    )\n",
    "    break"
   ]
  },
  {
   "cell_type": "markdown",
   "metadata": {},
   "source": [
    "#### Как сделать нейросеть"
   ]
  },
  {
   "cell_type": "markdown",
   "metadata": {},
   "source": [
    "Для того, чтобы в high-level pytorch создавать нейросети используется модуль `nn`. Нейросеть должна быть унаследована от класса `nn.Module`. Пример как это может выглядеть:\n",
    "\n",
    "```\n",
    "class Model(nn.Module):\n",
    "    def __init__(self):\n",
    "        super(Model, self).__init__()\n",
    "        self.conv1 = nn.Conv2d(1, 20, 5)\n",
    "        self.conv2 = nn.Conv2d(20, 20, 5)\n",
    "\n",
    "    def forward(self, x):\n",
    "       x = F.relu(self.conv1(x))\n",
    "       return F.relu(self.conv2(x))\n",
    "```\n",
    "\n",
    "Как мы видим на данном примере, у данного класса **должен быть** метод `forward`, который определяет прямой проход нейросети. Также из класса выше видно, что модуль `nn` содержит в себе реализацию большинства слоев, а модуль `nn.functional` -- функций активаций.\n",
    "\n",
    "Есть еще один способ создать нейросеть и давайте его разберем на практике:"
   ]
  },
  {
   "cell_type": "code",
   "execution_count": 11,
   "metadata": {
    "ExecuteTime": {
     "end_time": "2022-10-09T19:52:12.029824Z",
     "start_time": "2022-10-09T19:52:12.016227Z"
    }
   },
   "outputs": [],
   "source": [
    "model = nn.Sequential()                   # создаем пустую модель, в которую будем добавлять слои\n",
    "model.add_module(\"l1\", nn.Linear(5, 10))  # добавили слой с 5-ю нейронами на вход и 3-мя на выход\n",
    "model.add_module(\"l2\", nn.ReLU())         # добавили функцию активации\n",
    "model.add_module(\"l3\", nn.Linear(10, 1))  # добавили слой с 3-мя нейронами на вход и 5-ю на выход\n",
    "\n",
    "# альтернативный способ\n",
    "another_model = nn.Sequential(\n",
    "    nn.Linear(5, 10),\n",
    "    nn.ReLU(),\n",
    "    nn.Linear(10, 1)\n",
    ")"
   ]
  },
  {
   "cell_type": "code",
   "execution_count": 12,
   "metadata": {
    "ExecuteTime": {
     "end_time": "2022-10-09T19:52:12.880731Z",
     "start_time": "2022-10-09T19:52:12.869812Z"
    }
   },
   "outputs": [],
   "source": [
    "y_pred = model(batch['sample']) # получили предсказания модели"
   ]
  },
  {
   "cell_type": "markdown",
   "metadata": {},
   "source": [
    "#### Как написать цикл обучения и отслеживать метрики\n",
    " \n",
    "Давайте теперь соберем теперь загрузку данных, создание модели и обучим на уже созданном для нас датасете MNIST"
   ]
  },
  {
   "cell_type": "code",
   "execution_count": 14,
   "metadata": {
    "ExecuteTime": {
     "end_time": "2022-10-09T19:52:23.119057Z",
     "start_time": "2022-10-09T19:52:23.054591Z"
    }
   },
   "outputs": [],
   "source": [
    "# используем готовый класс от торча для загрузки данных для тренировки\n",
    "import torchvision\n",
    "\n",
    "mnist_train = torchvision.datasets.MNIST(\n",
    "    \"./data/datasets/\", \n",
    "    train=True, \n",
    "    download=False, \n",
    "    transform=torchvision.transforms.ToTensor()\n",
    ") \n",
    "mnist_val = torchvision.datasets.MNIST(\n",
    "    \"./data/datasets/\",\n",
    "    train=False, \n",
    "    download=False,\n",
    "    transform=torchvision.transforms.ToTensor()\n",
    ")"
   ]
  },
  {
   "cell_type": "code",
   "execution_count": 15,
   "metadata": {
    "ExecuteTime": {
     "end_time": "2022-10-09T19:52:24.220314Z",
     "start_time": "2022-10-09T19:52:24.209083Z"
    }
   },
   "outputs": [],
   "source": [
    "# так как это уже унаследованный от Dataset класс, его можно сразу обернуть в даталоадер\n",
    "train_dataloader = torch.utils.data.DataLoader(\n",
    "    mnist_train, \n",
    "    batch_size=4, \n",
    "    shuffle=True, \n",
    "    num_workers=1\n",
    ") \n",
    "\n",
    "val_dataloader = torch.utils.data.DataLoader(\n",
    "    mnist_val, \n",
    "    batch_size=4, \n",
    "    shuffle=True, \n",
    "    num_workers=1\n",
    ")"
   ]
  },
  {
   "cell_type": "code",
   "execution_count": 16,
   "metadata": {
    "ExecuteTime": {
     "end_time": "2022-10-09T19:52:25.824653Z",
     "start_time": "2022-10-09T19:52:25.595702Z"
    },
    "scrolled": false
   },
   "outputs": [
    {
     "data": {
      "image/png": "[encoded data removed]",
      "text/plain": [
       "<Figure size 720x216 with 5 Axes>"
      ]
     },
     "metadata": {
      "needs_background": "light"
     },
     "output_type": "display_data"
    }
   ],
   "source": [
    "# посмотрим на то, с чем мы работаем\n",
    "\n",
    "fig, axs = plt.subplots(ncols=5, figsize=(10,3))\n",
    "for i in range(5):\n",
    "    axs[i].imshow(mnist_train[i][0].squeeze(0).numpy().reshape([28, 28]))\n",
    "    axs[i].set_title(str(mnist_train[i][1]))\n",
    "plt.show()"
   ]
  },
  {
   "cell_type": "code",
   "execution_count": 17,
   "metadata": {
    "ExecuteTime": {
     "end_time": "2022-10-09T19:52:29.145753Z",
     "start_time": "2022-10-09T19:52:29.127089Z"
    }
   },
   "outputs": [],
   "source": [
    "model = nn.Sequential(\n",
    "    nn.Flatten(),             # превращаем картинку 28х28 в вектор размером 784\n",
    "    nn.Linear(28 * 28, 128),  # линейный слой, преобразующий вектор размера 784 в вектор размера 128\n",
    "    nn.ReLU(),                # нелинейность\n",
    "    nn.Linear(128, 10),       # линейный слой, преобразующий вектор размера 128 в вектор размера 10\n",
    "    nn.Softmax(dim=-1)        # софтмакс для получения вероятностного распределения над метками класса\n",
    ")\n",
    "\n",
    "# создаем оптимизатор, который будет обновлять веса модели\n",
    "optimizer = torch.optim.SGD(model.parameters(), lr=0.05) "
   ]
  },
  {
   "cell_type": "markdown",
   "metadata": {},
   "source": [
    "Веса моделей хранятся в виде матриц и выглядят так:"
   ]
  },
  {
   "cell_type": "code",
   "execution_count": 18,
   "metadata": {
    "ExecuteTime": {
     "end_time": "2022-10-09T19:52:29.749595Z",
     "start_time": "2022-10-09T19:52:29.730504Z"
    },
    "scrolled": false
   },
   "outputs": [
    {
     "data": {
      "text/plain": [
       "[('1.weight', torch.Size([128, 784])),\n",
       " ('1.bias', torch.Size([128])),\n",
       " ('3.weight', torch.Size([10, 128])),\n",
       " ('3.bias', torch.Size([10]))]"
      ]
     },
     "execution_count": 18,
     "metadata": {},
     "output_type": "execute_result"
    }
   ],
   "source": [
    "# 2 слоя: на каждый матрица весов и вектор смещений\n",
    "[(x[0], x[1].shape) for x in model.named_parameters()] "
   ]
  },
  {
   "cell_type": "markdown",
   "metadata": {},
   "source": [
    "_Красиво_ трекать метрики в полуавтоматическом режиме мы будем в [wandb](https://wandb.ai). Для этого регистрируемся на сайте, устанавливаем и логинимся(это того стоит):"
   ]
  },
  {
   "cell_type": "code",
   "execution_count": 101,
   "metadata": {
    "ExecuteTime": {
     "end_time": "2022-09-13T05:51:59.408990Z",
     "start_time": "2022-09-13T05:51:36.465767Z"
    }
   },
   "outputs": [
    {
     "name": "stderr",
     "output_type": "stream",
     "text": [
      "\u001b[34m\u001b[1mwandb\u001b[0m: \u001b[33mWARNING\u001b[0m Calling wandb.login() after wandb.init() has no effect.\n"
     ]
    },
    {
     "data": {
      "text/html": [
       "Finishing last run (ID:2wpjc2ev) before initializing another..."
      ],
      "text/plain": [
       "<IPython.core.display.HTML object>"
      ]
     },
     "metadata": {},
     "output_type": "display_data"
    },
    {
     "data": {
      "text/html": [
       "Waiting for W&B process to finish... <strong style=\"color:green\">(success).</strong>"
      ],
      "text/plain": [
       "<IPython.core.display.HTML object>"
      ]
     },
     "metadata": {},
     "output_type": "display_data"
    },
    {
     "data": {
      "application/vnd.jupyter.widget-view+json": {
       "model_id": "",
       "version_major": 2,
       "version_minor": 0
      },
      "text/plain": [
       "VBox(children=(Label(value='0.001 MB of 0.001 MB uploaded (0.000 MB deduped)\\r'), FloatProgress(value=1.0, max…"
      ]
     },
     "metadata": {},
     "output_type": "display_data"
    },
    {
     "data": {
      "text/html": [
       "Synced <strong style=\"color:#cdcd00\">dashing-terrain-1</strong>: <a href=\"https://wandb.ai/miron34/hse_intro_dl_sem1/runs/2wpjc2ev\" target=\"_blank\">https://wandb.ai/miron34/hse_intro_dl_sem1/runs/2wpjc2ev</a><br/>Synced 6 W&B file(s), 0 media file(s), 0 artifact file(s) and 0 other file(s)"
      ],
      "text/plain": [
       "<IPython.core.display.HTML object>"
      ]
     },
     "metadata": {},
     "output_type": "display_data"
    },
    {
     "data": {
      "text/html": [
       "Find logs at: <code>./wandb/run-20220912_224757-2wpjc2ev/logs</code>"
      ],
      "text/plain": [
       "<IPython.core.display.HTML object>"
      ]
     },
     "metadata": {},
     "output_type": "display_data"
    },
    {
     "data": {
      "text/html": [
       "Successfully finished last run (ID:2wpjc2ev). Initializing new run:<br/>"
      ],
      "text/plain": [
       "<IPython.core.display.HTML object>"
      ]
     },
     "metadata": {},
     "output_type": "display_data"
    },
    {
     "data": {
      "application/vnd.jupyter.widget-view+json": {
       "model_id": "48d3567bce25408ab03548d384b146a5",
       "version_major": 2,
       "version_minor": 0
      },
      "text/plain": [
       "VBox(children=(Label(value='Waiting for wandb.init()...\\r'), FloatProgress(value=0.033424901962280276, max=1.0…"
      ]
     },
     "metadata": {},
     "output_type": "display_data"
    },
    {
     "data": {
      "text/html": [
       "Tracking run with wandb version 0.13.3"
      ],
      "text/plain": [
       "<IPython.core.display.HTML object>"
      ]
     },
     "metadata": {},
     "output_type": "display_data"
    },
    {
     "data": {
      "text/html": [
       "Run data is saved locally in <code>/Users/miron/Desktop/MyEducation/DL_intro_hse/seminars/sem01/wandb/run-20220912_225136-3lj3nifi</code>"
      ],
      "text/plain": [
       "<IPython.core.display.HTML object>"
      ]
     },
     "metadata": {},
     "output_type": "display_data"
    },
    {
     "data": {
      "text/html": [
       "Syncing run <strong><a href=\"https://wandb.ai/miron34/hse_intro_dl_sem1/runs/3lj3nifi\" target=\"_blank\">glamorous-vortex-2</a></strong> to <a href=\"https://wandb.ai/miron34/hse_intro_dl_sem1\" target=\"_blank\">Weights & Biases</a> (<a href=\"https://wandb.me/run\" target=\"_blank\">docs</a>)<br/>"
      ],
      "text/plain": [
       "<IPython.core.display.HTML object>"
      ]
     },
     "metadata": {},
     "output_type": "display_data"
    }
   ],
   "source": [
    "import wandb\n",
    "\n",
    "# логинимся в своего пользователя (предварительно нужно ввести ключ из настроек с wandb.ai через консоль)\n",
    "wandb.login()\n",
    "# инициализируем проект\n",
    "wandb.init(project=\"hse_intro_dl_sem1\")\n",
    "# сохраняем параметры сетки в wandb + просим следить за градиентами сетки\n",
    "wandb.watch(model);"
   ]
  },
  {
   "cell_type": "markdown",
   "metadata": {},
   "source": [
    "Можно перейти по ссылке и следить за нашей моделью прямо во время обучения!"
   ]
  },
  {
   "cell_type": "code",
   "execution_count": 118,
   "metadata": {
    "ExecuteTime": {
     "end_time": "2022-09-13T06:09:55.904401Z",
     "start_time": "2022-09-13T06:08:42.532973Z"
    },
    "scrolled": false
   },
   "outputs": [
    {
     "data": {
      "application/vnd.jupyter.widget-view+json": {
       "model_id": "e6c047491f5b47899f3593dd9e3a14b1",
       "version_major": 2,
       "version_minor": 0
      },
      "text/plain": [
       "  0%|          | 0/15000 [00:00<?, ?it/s]"
      ]
     },
     "metadata": {},
     "output_type": "display_data"
    },
    {
     "data": {
      "application/vnd.jupyter.widget-view+json": {
       "model_id": "ec4748042ee54edf87ebe22b073d524d",
       "version_major": 2,
       "version_minor": 0
      },
      "text/plain": [
       "  0%|          | 0/2500 [00:00<?, ?it/s]"
      ]
     },
     "metadata": {},
     "output_type": "display_data"
    },
    {
     "name": "stdout",
     "output_type": "stream",
     "text": [
      "Epoch: 0, loss: 1.540583610534668, accuracy: 0.9281\n"
     ]
    },
    {
     "data": {
      "application/vnd.jupyter.widget-view+json": {
       "model_id": "a80db76718624222b8b4d1ea63588ca0",
       "version_major": 2,
       "version_minor": 0
      },
      "text/plain": [
       "  0%|          | 0/15000 [00:00<?, ?it/s]"
      ]
     },
     "metadata": {},
     "output_type": "display_data"
    },
    {
     "data": {
      "application/vnd.jupyter.widget-view+json": {
       "model_id": "c30807c388a849fbacc77d2fe6eb7119",
       "version_major": 2,
       "version_minor": 0
      },
      "text/plain": [
       "  0%|          | 0/15000 [00:00<?, ?it/s]"
      ]
     },
     "metadata": {},
     "output_type": "display_data"
    },
    {
     "data": {
      "application/vnd.jupyter.widget-view+json": {
       "model_id": "49014a02b4bb42c6af704baa03cacbc3",
       "version_major": 2,
       "version_minor": 0
      },
      "text/plain": [
       "  0%|          | 0/2500 [00:00<?, ?it/s]"
      ]
     },
     "metadata": {},
     "output_type": "display_data"
    },
    {
     "name": "stdout",
     "output_type": "stream",
     "text": [
      "Epoch: 2, loss: 1.5125720500946045, accuracy: 0.9515\n"
     ]
    },
    {
     "data": {
      "application/vnd.jupyter.widget-view+json": {
       "model_id": "e3b8c1225fc945d0a8299fa1f90a2eda",
       "version_major": 2,
       "version_minor": 0
      },
      "text/plain": [
       "  0%|          | 0/15000 [00:00<?, ?it/s]"
      ]
     },
     "metadata": {},
     "output_type": "display_data"
    },
    {
     "data": {
      "application/vnd.jupyter.widget-view+json": {
       "model_id": "862c29bb61214ca49d69021733909eec",
       "version_major": 2,
       "version_minor": 0
      },
      "text/plain": [
       "  0%|          | 0/15000 [00:00<?, ?it/s]"
      ]
     },
     "metadata": {},
     "output_type": "display_data"
    },
    {
     "data": {
      "application/vnd.jupyter.widget-view+json": {
       "model_id": "6765073cf0d64ce69fa0c81c10e55fe9",
       "version_major": 2,
       "version_minor": 0
      },
      "text/plain": [
       "  0%|          | 0/2500 [00:00<?, ?it/s]"
      ]
     },
     "metadata": {},
     "output_type": "display_data"
    },
    {
     "name": "stdout",
     "output_type": "stream",
     "text": [
      "Epoch: 4, loss: 1.4986817836761475, accuracy: 0.9644\n"
     ]
    }
   ],
   "source": [
    "# всего у нас будет 5 эпох (5 раз подряд пройдемся по всем батчам из трейна)\n",
    "for epoch in range(5):\n",
    "    for x_train, y_train in tqdm(train_dataloader):    # берем батч из трейн лоадера\n",
    "        y_pred = model(x_train)                        # делаем предсказания\n",
    "        loss = F.cross_entropy(y_pred, y_train)        # считаем лосс\n",
    "        loss.backward()                                # считаем градиенты обратным проходом\n",
    "        optimizer.step()                               # обновляем параметры сети\n",
    "        optimizer.zero_grad()                          # обнуляем посчитанные градиенты параметров\n",
    "        \n",
    "    if epoch % 2 == 0:\n",
    "        val_loss = []                                  # сюда будем складывать **средний по бачу** лосс\n",
    "        val_accuracy = []\n",
    "        with torch.no_grad():                          # на валидации запрещаем фреймворку считать градиенты по параметрам\n",
    "            for x_val, y_val in tqdm(val_dataloader):  # берем батч из вал лоадера\n",
    "                y_pred = model(x_val)                  # делаем предсказания\n",
    "                loss = F.cross_entropy(y_pred, y_val)  # считаем лосс\n",
    "                val_loss.append(loss.numpy())          # добавляем в массив \n",
    "                val_accuracy.extend((torch.argmax(y_pred, dim=-1) == y_val).numpy().tolist())\n",
    "          \n",
    "        # скидываем метрики на wandb и автоматом смотрим на графики\n",
    "        wandb.log({\"mean val loss\": np.mean(val_loss),\n",
    "                   \"mean val accuracy\": np.mean(val_accuracy)})\n",
    "        \n",
    "        # печатаем метрики\n",
    "        print(f\"Epoch: {epoch}, loss: {np.mean(val_loss)}, accuracy: {np.mean(val_accuracy)}\")"
   ]
  },
  {
   "cell_type": "markdown",
   "metadata": {},
   "source": [
    "### Отличная точность сетки всего на 2х полносвязных слоях\n",
    "Пример предсказания батча:"
   ]
  },
  {
   "cell_type": "code",
   "execution_count": 212,
   "metadata": {
    "ExecuteTime": {
     "end_time": "2022-09-17T23:29:15.833840Z",
     "start_time": "2022-09-17T23:29:14.656310Z"
    }
   },
   "outputs": [],
   "source": [
    "x_example, y_example = next(iter(val_dataloader))"
   ]
  },
  {
   "cell_type": "code",
   "execution_count": 213,
   "metadata": {
    "ExecuteTime": {
     "end_time": "2022-09-17T23:29:16.575213Z",
     "start_time": "2022-09-17T23:29:16.567744Z"
    }
   },
   "outputs": [
    {
     "data": {
      "text/plain": [
       "torch.Size([4, 1, 28, 28])"
      ]
     },
     "execution_count": 213,
     "metadata": {},
     "output_type": "execute_result"
    }
   ],
   "source": [
    "x_example.shape # 4 матрицы 28х28 пикселей"
   ]
  },
  {
   "cell_type": "code",
   "execution_count": 214,
   "metadata": {
    "ExecuteTime": {
     "end_time": "2022-09-17T23:29:17.764572Z",
     "start_time": "2022-09-17T23:29:17.753699Z"
    }
   },
   "outputs": [
    {
     "data": {
      "text/plain": [
       "tensor([5, 9, 4, 4])"
      ]
     },
     "execution_count": 214,
     "metadata": {},
     "output_type": "execute_result"
    }
   ],
   "source": [
    "y_example.data"
   ]
  },
  {
   "cell_type": "code",
   "execution_count": 215,
   "metadata": {
    "ExecuteTime": {
     "end_time": "2022-09-17T23:29:18.781701Z",
     "start_time": "2022-09-17T23:29:18.600165Z"
    }
   },
   "outputs": [
    {
     "data": {
      "image/png": "[encoded data removed]",
      "text/plain": [
       "<Figure size 720x216 with 4 Axes>"
      ]
     },
     "metadata": {
      "needs_background": "light"
     },
     "output_type": "display_data"
    },
    {
     "name": "stdout",
     "output_type": "stream",
     "text": [
      "Predictions: [5, 9, 4, 4]\n"
     ]
    }
   ],
   "source": [
    "# визуализация данных на входе\n",
    "fig, axs = plt.subplots(ncols=4, figsize=(10,3))\n",
    "for i in range(4):\n",
    "    axs[i].imshow(x_example[i].squeeze(0).numpy().reshape([28, 28]))\n",
    "plt.show()\n",
    "\n",
    "# подаем данные батча в сетку\n",
    "print('Predictions:', torch.argmax(model(x_example), dim=1).tolist())"
   ]
  },
  {
   "cell_type": "markdown",
   "metadata": {},
   "source": [
    "**Частая проблема CV при полносвяз слоях - неустойчивостьк сдвигам** \\\n",
    "=> требуется центрирование - не универсально"
   ]
  },
  {
   "cell_type": "code",
   "execution_count": 218,
   "metadata": {
    "ExecuteTime": {
     "end_time": "2022-09-17T23:29:35.865865Z",
     "start_time": "2022-09-17T23:29:35.854643Z"
    }
   },
   "outputs": [],
   "source": [
    "shift = 10\n",
    " \n",
    "shifted = x_example.squeeze()[2]\n",
    "\n",
    "shifted = torch.hstack((shifted, torch.zeros(28,shift)))[:,shift:]"
   ]
  },
  {
   "cell_type": "code",
   "execution_count": 219,
   "metadata": {
    "ExecuteTime": {
     "end_time": "2022-09-17T23:29:36.483526Z",
     "start_time": "2022-09-17T23:29:36.424056Z"
    }
   },
   "outputs": [
    {
     "data": {
      "text/plain": [
       "<matplotlib.image.AxesImage at 0x7facd9b68cd0>"
      ]
     },
     "execution_count": 219,
     "metadata": {},
     "output_type": "execute_result"
    },
    {
     "data": {
      "image/png": "[encoded data removed]",
      "text/plain": [
       "<Figure size 432x288 with 1 Axes>"
      ]
     },
     "metadata": {
      "needs_background": "light"
     },
     "output_type": "display_data"
    }
   ],
   "source": [
    "plt.imshow(shifted)"
   ]
  },
  {
   "cell_type": "code",
   "execution_count": 220,
   "metadata": {
    "ExecuteTime": {
     "end_time": "2022-09-17T23:29:44.948904Z",
     "start_time": "2022-09-17T23:29:44.935676Z"
    }
   },
   "outputs": [
    {
     "data": {
      "text/plain": [
       "tensor(7)"
      ]
     },
     "execution_count": 220,
     "metadata": {},
     "output_type": "execute_result"
    }
   ],
   "source": [
    "torch.argmax(model(shifted.unsqueeze(0)))"
   ]
  },
  {
   "cell_type": "markdown",
   "metadata": {},
   "source": [
    "### Дополнительные материалы:\n",
    "\n",
    "* [PyTroch на простейшем примере с пояснениями](https://github.com/Kaixhin/grokking-pytorch)\n",
    "* [Хорошая книга про pytorch](https://pytorch.org/assets/deep-learning/Deep-Learning-with-PyTorch.pdf)\n",
    "* [Использование pytorch на GPU](https://pytorch.org/docs/master/notes/cuda.html)\n",
    "* [Pytorch за 60 минут](http://pytorch.org/tutorials/beginner/deep_learning_60min_blitz.html)\n",
    "* [Как устроено автоматическое дифференцирование в pytorch](http://videolectures.net/site/normal_dl/tag=1129745/deeplearning2017_johnson_automatic_differentiation_01.pdf)"
   ]
  }
 ],
 "metadata": {
  "kernelspec": {
   "display_name": "Python 3 (ipykernel)",
   "language": "python",
   "name": "python3"
  },
  "language_info": {
   "codemirror_mode": {
    "name": "ipython",
    "version": 3
   },
   "file_extension": ".py",
   "mimetype": "text/x-python",
   "name": "python",
   "nbconvert_exporter": "python",
   "pygments_lexer": "ipython3",
   "version": "3.9.12"
  },
  "latex_envs": {
   "LaTeX_envs_menu_present": true,
   "autoclose": false,
   "autocomplete": true,
   "bibliofile": "biblio.bib",
   "cite_by": "apalike",
   "current_citInitial": 1,
   "eqLabelWithNumbers": true,
   "eqNumInitial": 1,
   "hotkeys": {
    "equation": "Ctrl-E",
    "itemize": "Ctrl-I"
   },
   "labels_anchors": false,
   "latex_user_defs": false,
   "report_style_numbering": false,
   "user_envs_cfg": false
  },
  "toc": {
   "base_numbering": 1,
   "nav_menu": {},
   "number_sections": true,
   "sideBar": true,
   "skip_h1_title": false,
   "title_cell": "Table of Contents",
   "title_sidebar": "Contents",
   "toc_cell": false,
   "toc_position": {
    "height": "calc(100% - 180px)",
    "left": "10px",
    "top": "150px",
    "width": "284.6323547363281px"
   },
   "toc_section_display": true,
   "toc_window_display": true
  },
  "varInspector": {
   "cols": {
    "lenName": 16,
    "lenType": 16,
    "lenVar": 40
   },
   "kernels_config": {
    "python": {
     "delete_cmd_postfix": "",
     "delete_cmd_prefix": "del ",
     "library": "var_list.py",
     "varRefreshCmd": "print(var_dic_list())"
    },
    "r": {
     "delete_cmd_postfix": ") ",
     "delete_cmd_prefix": "rm(",
     "library": "var_list.r",
     "varRefreshCmd": "cat(var_dic_list()) "
    }
   },
   "types_to_exclude": [
    "module",
    "function",
    "builtin_function_or_method",
    "instance",
    "_Feature"
   ],
   "window_display": false
  }
 },
 "nbformat": 4,
 "nbformat_minor": 4
}
