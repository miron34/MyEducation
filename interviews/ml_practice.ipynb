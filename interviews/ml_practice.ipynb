{
 "cells": [
  {
   "cell_type": "code",
   "execution_count": null,
   "metadata": {
    "vscode": {
     "languageId": "plaintext"
    }
   },
   "outputs": [],
   "source": [
    "# ЦПТ и ЗБЧ симуляшки\n",
    "Будем развлекаться с игральным кубиком\n",
    "\n",
    "import scipy.stats as sts \n",
    "import numpy as np \n",
    "import pandas as pd \n",
    "import matplotlib.pyplot as plt \n",
    "import seaborn as sns \n",
    "plt.style.use('ggplot')\n",
    "\n",
    "### ЗБЧ\n",
    "Хотиим проверить __ЗБЧ__, а именно, что выборочное среднее &rarr; к мат\\ож при n &rarr; inf\n",
    "\n",
    "n_samples = 10000 # размер расширяющейся выборки\n",
    "xi = np.random.choice(range(l,7), size=n_samples, replace=True) # бросили случайно кубик n_samples раз \n",
    "x_means = [xi[:i].mean() for i in range(1, n_samples+1)] # посчитали средние для увеличивающейся подвыборки\n",
    "\n",
    "plt.figure(figsize=(15,6))\n",
    "plt.plot(x_means)\n",
    "plt.axhline(3.5, color='b'/ linestyle='dashed')\n",
    "\n",
    "У нас есть одна расширяющаяся выборка из бросков кубиков, и мы смотрим средние по этой сумме. \\\n",
    "Видно, что при n &rarr; inf: среднее по выборке стремится к мат ожиданию распределения случ.вел. броска кубика, равной 3.5 \n",
    "\n",
    "\n",
    "### ЦПТ\n",
    "Хотим проверить, что случ.вел выборочного среднего будет стремиться к норм распределению(mu, var/n) при росте размера выборки. \\\n",
    "Для проверки возьмем выборки из (5,10, 20, 50, 100, 1000) экземпляров и убедимся, что при росте n распределение будет все больше походить на нормальное.\n",
    "\n",
    "P.S. mu, var - мат\\ож и дисперсия для случ величин входящих в выборочное среднее. (В нашем случае mu = 3.5, var = 2.9)\n",
    "\n",
    "# для репрезентативности случайной величины (выборочного среднего) \n",
    "n_samples = 10000\n",
    "\n",
    "fig, axs = plt.subplots(ncols=3, nrows=2, figsize=(20,9))\n",
    "\n",
    "for i, sample_size in enumerate([5, 10, 20, 50,100,1000]): \n",
    "    # n_samples выборок no sample_size элементов\n",
    "    xi = np.random.choice(range(l,7), size=(n_samples, sample_size), replace=True)\n",
    "    # считаем средние для каждой выборки, чтобы построить гистограмму (выборучную функ-ю распределения) \n",
    "    x_means = xi.mean(axis=l)\n",
    "\n",
    "    norm_range = np.linspace(l,6,100)\n",
    "    pdf = sts.norm(loc=3.5, scale=np.sqrt(2.9 / sample_size)).pdf(norm_range)\n",
    "    axs[i % 2][i // 2].plot(norm_range, pdf)\n",
    "    axs[i % 2][i // 2].hist(x_means, density=True)\n",
    "    axs[i % 2][i // 2].set_title(f Размер выборки = {sample_size}')\n",
    "\n",
    "plt.show()"
   ]
  }
 ],
 "metadata": {
  "language_info": {
   "name": "python"
  },
  "orig_nbformat": 4
 },
 "nbformat": 4,
 "nbformat_minor": 2
}
