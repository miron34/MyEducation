{
 "cells": [
  {
   "cell_type": "markdown",
   "metadata": {},
   "source": [
    "<center>\n",
    "<img src=\"../data/logo.png\" height=\"900\"> \n",
    "</center>\n",
    "\n",
    "\n",
    "#  Что разрешает ЗБЧ\n",
    "\n",
    "\n",
    "---------------"
   ]
  },
  {
   "cell_type": "code",
   "execution_count": 1,
   "metadata": {},
   "outputs": [
    {
     "data": {
      "text/plain": [
       "'1.4.3'"
      ]
     },
     "execution_count": 1,
     "metadata": {},
     "output_type": "execute_result"
    }
   ],
   "source": [
    "import pandas as pd\n",
    "pd.__version__"
   ]
  },
  {
   "cell_type": "code",
   "execution_count": 2,
   "metadata": {},
   "outputs": [],
   "source": [
    "import numpy as np\n",
    "import pandas as pd\n",
    "\n",
    "from scipy import stats\n",
    "\n",
    "from tqdm.notebook import tqdm\n",
    "\n",
    "import matplotlib.pyplot as plt\n",
    "plt.style.use('ggplot')  # стиль для графиков\n",
    "%matplotlib inline"
   ]
  },
  {
   "cell_type": "markdown",
   "metadata": {},
   "source": [
    "# 1. Сложные распределения\n",
    "\n",
    "ЗБЧ разрешает нам решать реальные проблемы с помощью симуляций. Например, можно оценить математическое ожидание случайной величины $\\frac{1}{X}$, где $X \\sim N(5; 3)$ без взятия интегралов."
   ]
  },
  {
   "cell_type": "code",
   "execution_count": 3,
   "metadata": {},
   "outputs": [
    {
     "data": {
      "text/plain": [
       "0.2670177349422154"
      ]
     },
     "execution_count": 3,
     "metadata": {},
     "output_type": "execute_result"
    }
   ],
   "source": [
    "n_obs = 10**6\n",
    "\n",
    "norm_rv = stats.norm(loc=5, scale=3)  \n",
    "x = norm_rv.rvs(n_obs)\n",
    "\n",
    "np.mean(1/x)"
   ]
  },
  {
   "cell_type": "markdown",
   "metadata": {},
   "source": [
    "Если бы не было питона пришлось бы искать такой интеграл: \n",
    "\n",
    "$$\n",
    "\\mathbb{E} \\left(\\frac{1}{X} \\right) = \\int_{-\\infty}^{+\\infty} \\frac{1}{x} \\cdot \\frac{1}{\\sigma \\sqrt{2 \\pi}} \\cdot  e^{-\\frac{(x - 5)^2}{2 \\cdot 3^2}} dx.\n",
    "$$"
   ]
  },
  {
   "cell_type": "markdown",
   "metadata": {},
   "source": [
    "> __Важно:__ в видео мы с вами сказали, что для данного примера подход с симуляциями не работает. Интеграл расходится, так как этого математического ожидания не существует. При перезапуске симуляций мы каждый раз будем получать в качестве стреднего новые числа. Если мы попробуем нарисовать в динамике, к чему сходится выборочное среднее, мы увидим, что никакой сходимости тут нет. С делением случайных величин надо быть очень осторожным. \n",
    "\n",
    "-------------------------"
   ]
  },
  {
   "cell_type": "markdown",
   "metadata": {},
   "source": [
    "__Другой пример.__ Также легко оценить многие вероятности. Например, оценим вероятность $P(X_1 + X_2 + X_3^2 > 5)$, где величины $X_i$ независимы и одинаково равномерно распределены $X_i \\sim U[0;2]$:"
   ]
  },
  {
   "cell_type": "code",
   "execution_count": 4,
   "metadata": {},
   "outputs": [
    {
     "data": {
      "text/plain": [
       "array([False, False, False, False, False])"
      ]
     },
     "execution_count": 4,
     "metadata": {},
     "output_type": "execute_result"
    }
   ],
   "source": [
    "n_obs = 10**6\n",
    "\n",
    "# обратите внимание, что в этой функции задается левая граница и длина\n",
    "# а не левая и правая границы\n",
    "uniform_rv = stats.uniform(0, 2)\n",
    "\n",
    "x_1 = uniform_rv.rvs(n_obs)\n",
    "x_2 = uniform_rv.rvs(n_obs)\n",
    "x_3 = uniform_rv.rvs(n_obs)\n",
    "\n",
    "success = x_1 + x_2 + x_3**2 > 5\n",
    "success[:5]"
   ]
  },
  {
   "cell_type": "code",
   "execution_count": 5,
   "metadata": {},
   "outputs": [
    {
     "data": {
      "text/plain": [
       "0.147237"
      ]
     },
     "execution_count": 5,
     "metadata": {},
     "output_type": "execute_result"
    }
   ],
   "source": [
    "np.sum(success) / n_obs"
   ]
  },
  {
   "cell_type": "markdown",
   "metadata": {},
   "source": [
    "Здесь вектор success будет содержать значение `True` там, где условие `x_1 + x_2 + x_3**2 > 5` выполнено, и `False` там, где условие не выполнено. При сложении командой `np.sum()` каждое `True` будет посчитано как единица, а каждое `False` как ноль. Поэтому `np.sum(success)` даст количество раз, когда условие `x_1 + x_2 + x_3**2 > 5` выполнено.\n",
    "\n",
    "__Как найти такую вероятность руками:__ \n",
    "\n",
    "- Первым шагом нам придётся найти распределение для $X_3^2$ \n",
    "- Втором шагом по формуле свёртки надо будет найти распределение суммы\n",
    "- Третьим шагом можно посчитать вероятность\n",
    "\n",
    "Почти на каждом шаге мы сталкиваемся с интегрированием. "
   ]
  },
  {
   "cell_type": "markdown",
   "metadata": {},
   "source": [
    "__Ещё пример.__ давайте найдём условную вероятность $P(X_1 + X_2 + X_3 > 0.8 \\mid X_3 < 0.1)$. Снова используем для этого всю мощь `numpy` и сделаем срез по всем объектам, попавшим под условие."
   ]
  },
  {
   "cell_type": "code",
   "execution_count": 6,
   "metadata": {},
   "outputs": [
    {
     "data": {
      "text/plain": [
       "0.9300746775288526"
      ]
     },
     "execution_count": 6,
     "metadata": {},
     "output_type": "execute_result"
    }
   ],
   "source": [
    "n_obs = 10**6\n",
    "\n",
    "uniform_rv = stats.uniform(0, 2)\n",
    "\n",
    "x_1 = uniform_rv.rvs(n_obs)\n",
    "x_2 = uniform_rv.rvs(n_obs)\n",
    "x_3 = uniform_rv.rvs(n_obs)\n",
    "\n",
    "uslovie = x_3 < 0.1\n",
    "\n",
    "# x[uslovie] оставит в векторе только те элементы, где uslovie == True\n",
    "success = x_1[uslovie] + x_2[uslovie] + x_3[uslovie] > 0.8\n",
    "np.sum(success) / np.sum(uslovie)"
   ]
  },
  {
   "cell_type": "code",
   "execution_count": 7,
   "metadata": {},
   "outputs": [
    {
     "data": {
      "text/plain": [
       "50082"
      ]
     },
     "execution_count": 7,
     "metadata": {},
     "output_type": "execute_result"
    }
   ],
   "source": [
    "# можно посмотреть сколько раз за всю симуляцию x_3 < 0.1\n",
    "np.sum(uslovie)"
   ]
  },
  {
   "cell_type": "markdown",
   "metadata": {},
   "source": [
    "__Как найти такую вероятность руками:__ \n",
    "\n",
    "- Первым шагом по формуле свёртки надо будет найти распределение суммы\n",
    "- Вторым шагом нам надо будет найти условную плотность \n",
    "- Третьим шагом можно посчитать вероятность"
   ]
  },
  {
   "cell_type": "markdown",
   "metadata": {},
   "source": [
    "__Тем не менее это не говорит про ненужность аналитической работы.__ \n",
    "\n",
    "- Постоянно делать симуляции вместо того, чтобы один раз получить формулу и считать по ней - неэффективно \n",
    "- Часто возникают ситуации, когда за счёт генераций получить правильный ответ очень сложно. Например, куча проблем возникает для многомерных распределений.\n",
    "\n",
    "> Подобные численные методы для оценки разных характеристик называются методами Монте-Карло.\n"
   ]
  },
  {
   "cell_type": "markdown",
   "metadata": {},
   "source": [
    "# 2. Удав и багеты\n",
    "\n",
    "Удав Анатолий любит французские багеты. Длина французского багета равна $1$ метру. За один укус Удав Анатолий поедает кусок случайной длины, равномерно распределённый на отрезке $[0;1]$. Для того, чтобы съесть весь багет удаву потребуется случайное количество $N$ укусов. \n",
    "\n",
    "Найдём $\\mathbb{E}(N)$ и $Var(N)$ с помощью симуляций."
   ]
  },
  {
   "cell_type": "code",
   "execution_count": 8,
   "metadata": {},
   "outputs": [
    {
     "name": "stdout",
     "output_type": "stream",
     "text": [
      "2\n"
     ]
    }
   ],
   "source": [
    "# Багеты! Давайте начнём с одной итерации эксперемента.\n",
    "unif_rv = stats.uniform(0, 1)\n",
    "\n",
    "l = 1 # длина багета\n",
    "m = 0 # число укусов\n",
    "\n",
    "# пока длина багета больше 0\n",
    "while l > 0:\n",
    "    # делай укусы\n",
    "    l -= unif_rv.rvs(1)\n",
    "    m += 1 # на один укус стало больше\n",
    "\n",
    "print(m)"
   ]
  },
  {
   "cell_type": "markdown",
   "metadata": {},
   "source": [
    "Одну итерацию можно обернуть в функцию, чтобы было удобнее пользоваться. "
   ]
  },
  {
   "cell_type": "code",
   "execution_count": 9,
   "metadata": {},
   "outputs": [
    {
     "data": {
      "text/plain": [
       "3"
      ]
     },
     "execution_count": 9,
     "metadata": {},
     "output_type": "execute_result"
    }
   ],
   "source": [
    "def eat_one_baguette():\n",
    "    l = 1\n",
    "    m = 0 \n",
    "    while l > 0:\n",
    "        l -= unif_rv.rvs(1)\n",
    "        m += 1\n",
    "\n",
    "    return(m)\n",
    "\n",
    "eat_one_baguette()"
   ]
  },
  {
   "cell_type": "markdown",
   "metadata": {},
   "source": [
    "Теперь мы можем провести много итераций эксперимента."
   ]
  },
  {
   "cell_type": "code",
   "execution_count": 10,
   "metadata": {},
   "outputs": [],
   "source": [
    "n_obs = 10**4 # количество итераций эксперимента\n",
    "N = [eat_one_baguette() for i in range(n_obs)]"
   ]
  },
  {
   "cell_type": "code",
   "execution_count": 11,
   "metadata": {},
   "outputs": [
    {
     "data": {
      "text/plain": [
       "2.712"
      ]
     },
     "execution_count": 11,
     "metadata": {},
     "output_type": "execute_result"
    }
   ],
   "source": [
    "np.mean(N)"
   ]
  },
  {
   "cell_type": "code",
   "execution_count": 12,
   "metadata": {},
   "outputs": [
    {
     "data": {
      "text/plain": [
       "0.7690560000000002"
      ]
     },
     "execution_count": 12,
     "metadata": {},
     "output_type": "execute_result"
    }
   ],
   "source": [
    "np.var(N)"
   ]
  },
  {
   "cell_type": "markdown",
   "metadata": {},
   "source": [
    "Кстати говоря, в сборнике сложных задач по теории вероятностей, [культурном коде,](https://github.com/bdemeshev/probability_dna/raw/master/probability_dna.pdf) можно найти три разных решения этой задаи руками. Она там находится под номером $46$. Кроме неё там много других очень красивых задач. "
   ]
  },
  {
   "cell_type": "markdown",
   "metadata": {},
   "source": [
    "# 3. Парадокс дней рождений\n",
    "\n",
    "__Парадокс дней рождений:__ в произвольной группе из $50$ человек вероятность того, что хотябы у двоих людей дни рождения совпадут, равна $0.97$. Но это в теории, при предпосылке, что люди равномерно рождаются в течение года. Давайте проверим это. \n"
   ]
  },
  {
   "cell_type": "markdown",
   "metadata": {},
   "source": [
    "В табличке `bdates.tsv` лежит информация о $1$ млн. пользователей из вконтакте. В табличке можно найти данные о имени пользователя `first_name`, его поле `sex`, городе проживания `city`, дне `bdate`, месяце `bmonth` и годе `byear` рождения."
   ]
  },
  {
   "cell_type": "code",
   "execution_count": 14,
   "metadata": {},
   "outputs": [
    {
     "name": "stdout",
     "output_type": "stream",
     "text": [
      "--2023-03-26 22:59:22--  https://github.com/FUlyankin/matstat-AB/raw/main/week05_LLN_CLT/data/vk_bdate.tsv\n",
      "Resolving github.com (github.com)... 140.82.121.4\n",
      "Connecting to github.com (github.com)|140.82.121.4|:443... connected.\n",
      "HTTP request sent, awaiting response... 302 Found\n",
      "Location: https://raw.githubusercontent.com/FUlyankin/matstat-AB/main/week05_LLN_CLT/data/vk_bdate.tsv [following]\n",
      "--2023-03-26 22:59:22--  https://raw.githubusercontent.com/FUlyankin/matstat-AB/main/week05_LLN_CLT/data/vk_bdate.tsv\n",
      "Resolving raw.githubusercontent.com (raw.githubusercontent.com)... 185.199.110.133, 185.199.109.133, 185.199.111.133, ...\n",
      "Connecting to raw.githubusercontent.com (raw.githubusercontent.com)|185.199.110.133|:443... connected.\n",
      "HTTP request sent, awaiting response... 200 OK\n",
      "Length: 43510701 (41M) [text/plain]\n",
      "Saving to: '../../datasets/vk_bdate.tsv'\n",
      "\n",
      "../../datasets/vk_b 100%[===================>]  41.49M  3.41MB/s    in 9.7s    \n",
      "\n",
      "2023-03-26 22:59:34 (4.29 MB/s) - '../../datasets/vk_bdate.tsv' saved [43510701/43510701]\n",
      "\n"
     ]
    }
   ],
   "source": [
    "!wget -O ../../datasets/vk_bdate.tsv https://github.com/FUlyankin/matstat-AB/raw/main/week05_LLN_CLT/data/vk_bdate.tsv"
   ]
  },
  {
   "cell_type": "code",
   "execution_count": 15,
   "metadata": {},
   "outputs": [
    {
     "name": "stdout",
     "output_type": "stream",
     "text": [
      "(1000000, 7)\n"
     ]
    },
    {
     "data": {
      "text/html": [
       "<div>\n",
       "<style scoped>\n",
       "    .dataframe tbody tr th:only-of-type {\n",
       "        vertical-align: middle;\n",
       "    }\n",
       "\n",
       "    .dataframe tbody tr th {\n",
       "        vertical-align: top;\n",
       "    }\n",
       "\n",
       "    .dataframe thead th {\n",
       "        text-align: right;\n",
       "    }\n",
       "</style>\n",
       "<table border=\"1\" class=\"dataframe\">\n",
       "  <thead>\n",
       "    <tr style=\"text-align: right;\">\n",
       "      <th></th>\n",
       "      <th>city</th>\n",
       "      <th>first_name</th>\n",
       "      <th>id</th>\n",
       "      <th>sex</th>\n",
       "      <th>byear</th>\n",
       "      <th>bmonth</th>\n",
       "      <th>bday</th>\n",
       "    </tr>\n",
       "  </thead>\n",
       "  <tbody>\n",
       "    <tr>\n",
       "      <th>0</th>\n",
       "      <td>Севастополь</td>\n",
       "      <td>Галина</td>\n",
       "      <td>268520763</td>\n",
       "      <td>1</td>\n",
       "      <td>1955</td>\n",
       "      <td>2</td>\n",
       "      <td>4</td>\n",
       "    </tr>\n",
       "    <tr>\n",
       "      <th>1</th>\n",
       "      <td>Новороссийск</td>\n",
       "      <td>Маша</td>\n",
       "      <td>386703913</td>\n",
       "      <td>1</td>\n",
       "      <td>2002</td>\n",
       "      <td>7</td>\n",
       "      <td>10</td>\n",
       "    </tr>\n",
       "    <tr>\n",
       "      <th>2</th>\n",
       "      <td>Нижний Новгород</td>\n",
       "      <td>Екатерина</td>\n",
       "      <td>250291860</td>\n",
       "      <td>1</td>\n",
       "      <td>&lt;NA&gt;</td>\n",
       "      <td>&lt;NA&gt;</td>\n",
       "      <td>&lt;NA&gt;</td>\n",
       "    </tr>\n",
       "    <tr>\n",
       "      <th>3</th>\n",
       "      <td>Турсунзаде</td>\n",
       "      <td>Μαχμυδσθδ</td>\n",
       "      <td>384274806</td>\n",
       "      <td>2</td>\n",
       "      <td>&lt;NA&gt;</td>\n",
       "      <td>&lt;NA&gt;</td>\n",
       "      <td>&lt;NA&gt;</td>\n",
       "    </tr>\n",
       "    <tr>\n",
       "      <th>4</th>\n",
       "      <td>NaN</td>\n",
       "      <td>Bekzod</td>\n",
       "      <td>366702299</td>\n",
       "      <td>2</td>\n",
       "      <td>&lt;NA&gt;</td>\n",
       "      <td>&lt;NA&gt;</td>\n",
       "      <td>&lt;NA&gt;</td>\n",
       "    </tr>\n",
       "  </tbody>\n",
       "</table>\n",
       "</div>"
      ],
      "text/plain": [
       "              city first_name         id  sex  byear  bmonth  bday\n",
       "0      Севастополь     Галина  268520763    1   1955       2     4\n",
       "1     Новороссийск       Маша  386703913    1   2002       7    10\n",
       "2  Нижний Новгород  Екатерина  250291860    1   <NA>    <NA>  <NA>\n",
       "3       Турсунзаде  Μαχμυδσθδ  384274806    2   <NA>    <NA>  <NA>\n",
       "4              NaN     Bekzod  366702299    2   <NA>    <NA>  <NA>"
      ]
     },
     "execution_count": 15,
     "metadata": {},
     "output_type": "execute_result"
    }
   ],
   "source": [
    "df = pd.read_csv(\"../../datasets/vk_bdate.tsv\", sep=\"\\t\", \n",
    "                 dtype={'byear': pd.Int64Dtype(), \n",
    "                        'bmonth': pd.Int64Dtype(), \n",
    "                         'bday': pd.Int64Dtype()}\n",
    "                )\n",
    "print(df.shape)\n",
    "df.head()"
   ]
  },
  {
   "cell_type": "markdown",
   "metadata": {},
   "source": [
    "Удалим из данных всех, кто не указал когда он родился."
   ]
  },
  {
   "cell_type": "code",
   "execution_count": 16,
   "metadata": {},
   "outputs": [
    {
     "data": {
      "text/plain": [
       "(694755, 7)"
      ]
     },
     "execution_count": 16,
     "metadata": {},
     "output_type": "execute_result"
    }
   ],
   "source": [
    "df = df[~(df.bmonth.isnull() | df.bday.isnull())]\n",
    "df.shape"
   ]
  },
  {
   "cell_type": "markdown",
   "metadata": {},
   "source": [
    "Заведём колонку с днём и месяцем рождения человека."
   ]
  },
  {
   "cell_type": "code",
   "execution_count": 17,
   "metadata": {},
   "outputs": [],
   "source": [
    "df['bdate'] = df['bday'].astype(str) + '-' + df['bmonth'].astype(str) "
   ]
  },
  {
   "cell_type": "markdown",
   "metadata": {},
   "source": [
    "Построим гистограмму, на которой было бы понятно, в какой месяц родилось какое количество людей. Правда ли, что рождаемость людей в течение года распределена равномерно?"
   ]
  },
  {
   "cell_type": "code",
   "execution_count": 18,
   "metadata": {},
   "outputs": [
    {
     "data": {
      "image/png": "[encoded data removed]",
      "text/plain": [
       "<Figure size 1000x500 with 1 Axes>"
      ]
     },
     "metadata": {},
     "output_type": "display_data"
    }
   ],
   "source": [
    "plt.figure(figsize=(10, 5))\n",
    "\n",
    "df.bmonth.value_counts().sort_index().plot(kind='bar');\n",
    "\n",
    "plt.title('Количество дней рождений по месяцам')\n",
    "plt.xlabel('Номер месяца')\n",
    "plt.ylabel('Количество дней рождений в этот месяц');"
   ]
  },
  {
   "cell_type": "markdown",
   "metadata": {},
   "source": [
    "Эмпирически оценим вероятность того, что в группе из 50 произвольных людей найдутся хотя бы двое с одинаковым днём рождения."
   ]
  },
  {
   "cell_type": "code",
   "execution_count": 19,
   "metadata": {},
   "outputs": [
    {
     "data": {
      "text/html": [
       "<div>\n",
       "<style scoped>\n",
       "    .dataframe tbody tr th:only-of-type {\n",
       "        vertical-align: middle;\n",
       "    }\n",
       "\n",
       "    .dataframe tbody tr th {\n",
       "        vertical-align: top;\n",
       "    }\n",
       "\n",
       "    .dataframe thead th {\n",
       "        text-align: right;\n",
       "    }\n",
       "</style>\n",
       "<table border=\"1\" class=\"dataframe\">\n",
       "  <thead>\n",
       "    <tr style=\"text-align: right;\">\n",
       "      <th></th>\n",
       "      <th>city</th>\n",
       "      <th>first_name</th>\n",
       "      <th>id</th>\n",
       "      <th>sex</th>\n",
       "      <th>byear</th>\n",
       "      <th>bmonth</th>\n",
       "      <th>bday</th>\n",
       "      <th>bdate</th>\n",
       "    </tr>\n",
       "  </thead>\n",
       "  <tbody>\n",
       "    <tr>\n",
       "      <th>273226</th>\n",
       "      <td>Луганск</td>\n",
       "      <td>Максим</td>\n",
       "      <td>258924277</td>\n",
       "      <td>2</td>\n",
       "      <td>1986</td>\n",
       "      <td>5</td>\n",
       "      <td>29</td>\n",
       "      <td>29-5</td>\n",
       "    </tr>\n",
       "    <tr>\n",
       "      <th>373959</th>\n",
       "      <td>Ōsaka</td>\n",
       "      <td>Виктория</td>\n",
       "      <td>290921434</td>\n",
       "      <td>1</td>\n",
       "      <td>&lt;NA&gt;</td>\n",
       "      <td>10</td>\n",
       "      <td>10</td>\n",
       "      <td>10-10</td>\n",
       "    </tr>\n",
       "    <tr>\n",
       "      <th>94834</th>\n",
       "      <td>Шымкент</td>\n",
       "      <td>Айдын</td>\n",
       "      <td>420219474</td>\n",
       "      <td>1</td>\n",
       "      <td>2003</td>\n",
       "      <td>8</td>\n",
       "      <td>11</td>\n",
       "      <td>11-8</td>\n",
       "    </tr>\n",
       "    <tr>\n",
       "      <th>296266</th>\n",
       "      <td>Калуш</td>\n",
       "      <td>Андрій</td>\n",
       "      <td>134206236</td>\n",
       "      <td>2</td>\n",
       "      <td>&lt;NA&gt;</td>\n",
       "      <td>2</td>\n",
       "      <td>16</td>\n",
       "      <td>16-2</td>\n",
       "    </tr>\n",
       "    <tr>\n",
       "      <th>400579</th>\n",
       "      <td>Киев</td>\n",
       "      <td>Дима</td>\n",
       "      <td>71139443</td>\n",
       "      <td>2</td>\n",
       "      <td>&lt;NA&gt;</td>\n",
       "      <td>10</td>\n",
       "      <td>25</td>\n",
       "      <td>25-10</td>\n",
       "    </tr>\n",
       "  </tbody>\n",
       "</table>\n",
       "</div>"
      ],
      "text/plain": [
       "           city first_name         id  sex  byear  bmonth  bday  bdate\n",
       "273226  Луганск     Максим  258924277    2   1986       5    29   29-5\n",
       "373959    Ōsaka   Виктория  290921434    1   <NA>      10    10  10-10\n",
       "94834   Шымкент      Айдын  420219474    1   2003       8    11   11-8\n",
       "296266    Калуш     Андрій  134206236    2   <NA>       2    16   16-2\n",
       "400579     Киев       Дима   71139443    2   <NA>      10    25  25-10"
      ]
     },
     "execution_count": 19,
     "metadata": {},
     "output_type": "execute_result"
    }
   ],
   "source": [
    "df.sample(5) # выборка в 5 человек"
   ]
  },
  {
   "cell_type": "code",
   "execution_count": 20,
   "metadata": {},
   "outputs": [
    {
     "data": {
      "text/plain": [
       "48"
      ]
     },
     "execution_count": 20,
     "metadata": {},
     "output_type": "execute_result"
    }
   ],
   "source": [
    "# если уникальных дат меньше 50 => совпадение\n",
    "df.bdate.sample(50).unique().size "
   ]
  },
  {
   "cell_type": "code",
   "execution_count": 21,
   "metadata": {},
   "outputs": [
    {
     "data": {
      "application/vnd.jupyter.widget-view+json": {
       "model_id": "2d13f57302b748099facdef0f3e180c6",
       "version_major": 2,
       "version_minor": 0
      },
      "text/plain": [
       "  0%|          | 0/10000 [00:00<?, ?it/s]"
      ]
     },
     "metadata": {},
     "output_type": "display_data"
    }
   ],
   "source": [
    "n = 10**4  # число симуляций \n",
    "m = 0      # счётчик для наших событий\n",
    "\n",
    "for i in tqdm(range(n)):\n",
    "    m += df.bdate.sample(50).unique().size < 50"
   ]
  },
  {
   "cell_type": "code",
   "execution_count": 22,
   "metadata": {},
   "outputs": [
    {
     "data": {
      "text/plain": [
       "0.9767"
      ]
     },
     "execution_count": 22,
     "metadata": {},
     "output_type": "execute_result"
    }
   ],
   "source": [
    "m/n # итоговая вероятность "
   ]
  },
  {
   "cell_type": "markdown",
   "metadata": {},
   "source": [
    "Похоже на правду. "
   ]
  },
  {
   "cell_type": "markdown",
   "metadata": {},
   "source": [
    "   "
   ]
  }
 ],
 "metadata": {
  "kernelspec": {
   "display_name": "Python 3 (ipykernel)",
   "language": "python",
   "name": "python3"
  },
  "language_info": {
   "codemirror_mode": {
    "name": "ipython",
    "version": 3
   },
   "file_extension": ".py",
   "mimetype": "text/x-python",
   "name": "python",
   "nbconvert_exporter": "python",
   "pygments_lexer": "ipython3",
   "version": "3.9.13"
  }
 },
 "nbformat": 4,
 "nbformat_minor": 4
}
