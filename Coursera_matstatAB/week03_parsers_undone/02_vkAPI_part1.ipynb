{
 "cells": [
  {
   "cell_type": "markdown",
   "metadata": {},
   "source": [
    "<img src=\"../logo.png\" height=\"200\" width=\"900\"> \n",
    "\n",
    "# <center> Сбор данных: грязная работа руками API </center>"
   ]
  },
  {
   "cell_type": "markdown",
   "metadata": {},
   "source": [
    "__API (Application Programming Interface__ — это уже готовый код, который можно всунуть в свой код! Многие сервисы, в том числе Google и Вконтакте, предоставляют свои уже готовые решения для вашей разработки.\n",
    "\n",
    "Примеры: \n",
    "\n",
    "* [Контактовский API](https://vk.com/dev/methods)\n",
    "* [API twitter](https://developer.twitter.com/en/docs.html) \n",
    "* [API youtube](https://developers.google.com/youtube/v3/)\n",
    "* [API google maps](https://developers.google.com/maps/documentation/) \n",
    "* [Aviasales](https://www.aviasales.ru/API)\n",
    "* [Yandex Translate](https://yandex.ru/dev/translate/)\n",
    "\n",
    "Оно есть почти везде! Мы сейчас с вами обсудим как работать с таким API на примере социальной сетки вконтакте. "
   ]
  },
  {
   "cell_type": "markdown",
   "metadata": {},
   "source": [
    "# 1. Доступ к API vk\n",
    "\n",
    "Зачем может понадобиться доступ к API контакта, думаю, объяснять не надо. Социальная сетка — это тонны различной полезной информации, которую можно заиспользовать для своего рисёрча. [В документации](https://vk.com/dev/manuals) очень подробно описано как можно работать с API контакта и к чему это приводит. \n",
    "\n",
    "Но для начала к API нужно получить доступ. Для этого придётся пройти пару бюрократических процедур (о, боже, эти два предложения были так бюрократически сформулированы, что мне захотелось отстоять в очереди).\n",
    "\n",
    "Первая такая процедура заключается в создании своего приложения. Для этого переходим по [ссылке](http://vk.com/editapp?act=create) и проходимся по необходимым шагам:\n",
    "\n",
    "<img align=\"center\" src=\"pictures/app_creation_1.png\" width=\"500\">\n",
    "\n",
    "После подтверждения своей личности по номеру телефона, попадаем на страницу свежесозданного приложения\n",
    "\n",
    "<img align=\"center\" src=\"pictures/app_creation_2.png\" width=\"500\">\n",
    "\n",
    "Слева нам будем доступна вкладка с настройками, перейдя в неё мы увидим все необходимые нам для работы с приложением параметры:\n",
    "<img align=\"center\" src=\"pictures/app_creation_3.png\" width=\"500\">\n",
    "\n",
    "Отсюда в качестве токена можно забрать сервисный ключ доступа. Для работы с частью методов API этого вполне достаточно (обычно в заголовке такого метода стоит соответствующая пометка). Иногда нужны дополнительные доступы. Для того, чтобы получить их, необходимо сделать ещё пару странных манипуляций:\n",
    "\n",
    "Переходим по ссылке вида (на месте звездочек должен стоять ID созданного вами приложения):\n",
    "\n",
    "> https://oauth.vk.com/authorize?client_id=**********&scope=8198&redirect_uri=https://oauth.vk.com/blank.html&display=page&v=5.16&response_type=token\n",
    "\n",
    "В итоге по этому запросу будет сформирована ссылка следующего вида:\n",
    "> https://oauth.vk.com/blank.html#access_token=25b636116ef40e0718fe4d9f382544fc28&expires_in=86400&user_id=*******\n",
    "\n",
    "Первый набор знаков — `access token`, т.е. маркер доступа. Вторая цифра (`expires_in=`) время работы маркера доступа в секундах (одни сутки). По истечению суток нужно будет получить новый маркер доступа. Последняя цифра (`user_id=`) ваш ID Вконтакте. Нам в дальнейшем понадобится маркер доступа. Для удобства сохраним его в отдельном файле или экспортируем в глобальную область видимости. В целях безопасности ваших данных не стоит нигде светить токенами и тем более выкладывать их в открытый доступ. __Так можно и аккаунта случайно лишиться.__ Берегите токен смолоду. \n",
    "\n",
    "Обратите внимание на ссылку, по которой мы делали запрос на предоставление токена. Внутри неё находится странный параметр `scope=8198.` Это мы просим доступ к конкретным разделам. Подробнее познакомиться с взаимно-однозначным соответствием между числами и правами можно [в документации.](https://vk.com/dev/permissions) Например, если мы хотим получить доступ к друзьям, фото и стенам, мы подставим в scope цифру 2+4++8192=8198."
   ]
  },
  {
   "cell_type": "code",
   "execution_count": 1,
   "metadata": {},
   "outputs": [],
   "source": [
    "# мой номер странички\n",
    "myid = ' '  # вставить номер странички\n",
    "\n",
    "# версия используемого API\n",
    "version = '5.103' \n",
    "\n",
    "# подгружаем токен из файлика на компьютере\n",
    "with open('token.txt') as f:\n",
    "    token = f.read()"
   ]
  },
  {
   "cell_type": "code",
   "execution_count": 2,
   "metadata": {},
   "outputs": [],
   "source": [
    "import requests\n",
    "from tqdm import tqdm_notebook"
   ]
  },
  {
   "cell_type": "code",
   "execution_count": 4,
   "metadata": {},
   "outputs": [],
   "source": [
    "method = \"users.get\"\n",
    "parameters = \"user_ids=6045249\"\n",
    "\n",
    "url = 'https://api.vk.com/method/' + method + \\\n",
    "'?' + parameters + '&v=' + version + '&access_token=' + token"
   ]
  },
  {
   "cell_type": "code",
   "execution_count": 6,
   "metadata": {},
   "outputs": [
    {
     "data": {
      "text/plain": [
       "{'response': [{'id': 6045249,\n",
       "   'first_name': 'Филипп',\n",
       "   'last_name': 'Ульянкин',\n",
       "   'is_closed': False,\n",
       "   'can_access_closed': True}]}"
      ]
     },
     "execution_count": 6,
     "metadata": {},
     "output_type": "execute_result"
    }
   ],
   "source": [
    "response = requests.get(url)\n",
    "response.json()"
   ]
  },
  {
   "cell_type": "code",
   "execution_count": 8,
   "metadata": {},
   "outputs": [
    {
     "data": {
      "text/plain": [
       "'Филипп'"
      ]
     },
     "execution_count": 8,
     "metadata": {},
     "output_type": "execute_result"
    }
   ],
   "source": [
    "response.json()['response'][0]['first_name']"
   ]
  },
  {
   "cell_type": "code",
   "execution_count": 9,
   "metadata": {},
   "outputs": [],
   "source": [
    "def vk_download(method, parameters):\n",
    "    url = 'https://api.vk.com/method/' + method + \\\n",
    "'?' + parameters + '&v=' + version + '&access_token=' + token\n",
    "    \n",
    "    response = requests.get(url)\n",
    "    return response.json()['response']"
   ]
  },
  {
   "cell_type": "code",
   "execution_count": 11,
   "metadata": {},
   "outputs": [
    {
     "data": {
      "text/plain": [
       "[{'id': 6045249,\n",
       "  'first_name': 'Филипп',\n",
       "  'last_name': 'Ульянкин',\n",
       "  'is_closed': False,\n",
       "  'can_access_closed': True,\n",
       "  'bdate': '3.10.1994',\n",
       "  'city': {'id': 1, 'title': 'Москва'}},\n",
       " {'id': 1,\n",
       "  'first_name': 'Павел',\n",
       "  'last_name': 'Дуров',\n",
       "  'is_closed': False,\n",
       "  'can_access_closed': True,\n",
       "  'bdate': '10.10.1984',\n",
       "  'city': {'id': 2, 'title': 'Санкт-Петербург'}}]"
      ]
     },
     "execution_count": 11,
     "metadata": {},
     "output_type": "execute_result"
    }
   ],
   "source": [
    "vk_download('users.get','user_ids=6045249,1&fields=bdate,city')"
   ]
  },
  {
   "cell_type": "markdown",
   "metadata": {},
   "source": [
    "# Почиташки\n",
    "\n",
    "* [Немного устаревший туториал по vk API](https://nbviewer.jupyter.org/github/FUlyankin/ekanam_grand_research/blob/master/0.%20vk_parser_tutorial.ipynb)"
   ]
  },
  {
   "cell_type": "markdown",
   "metadata": {},
   "source": [
    "<img src=\"pictures/cats.jpg\" height=\"200\" width=\"1200\">  "
   ]
  },
  {
   "cell_type": "markdown",
   "metadata": {},
   "source": [
    " "
   ]
  }
 ],
 "metadata": {
  "kernelspec": {
   "display_name": "Python 3",
   "language": "python",
   "name": "python3"
  },
  "language_info": {
   "codemirror_mode": {
    "name": "ipython",
    "version": 3
   },
   "file_extension": ".py",
   "mimetype": "text/x-python",
   "name": "python",
   "nbconvert_exporter": "python",
   "pygments_lexer": "ipython3",
   "version": "3.6.5"
  }
 },
 "nbformat": 4,
 "nbformat_minor": 2
}
