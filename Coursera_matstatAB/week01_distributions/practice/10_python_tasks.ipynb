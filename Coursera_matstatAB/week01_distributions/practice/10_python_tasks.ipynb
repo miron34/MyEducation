{
 "cells": [
  {
   "cell_type": "markdown",
   "metadata": {},
   "source": [
    "<center>\n",
    "<img src=\"logo.png\" height=\"900\"> \n",
    "</center>\n",
    "\n",
    "\n",
    "#  Описательные статистики\n",
    "\n",
    "В этой тетрадке мы попробуем искать по данным ответы на свои вопросы. "
   ]
  },
  {
   "cell_type": "code",
   "execution_count": 1,
   "metadata": {},
   "outputs": [],
   "source": [
    "import numpy as np         # библиотека для матриц и математики\n",
    "import pandas as pd        # библиотека для работы с табличками\n",
    "from scipy import stats    # модуль для работы со статистикой\n",
    "\n",
    "# библиотеки для визуализации\n",
    "import matplotlib.pyplot as plt\n",
    "import seaborn as sns\n",
    "\n",
    "plt.style.use('ggplot')    # стиль графиков"
   ]
  },
  {
   "cell_type": "markdown",
   "metadata": {},
   "source": [
    "Опция `matplotlib inline` - позволяет рисовать графики прямо в ноутбуке."
   ]
  },
  {
   "cell_type": "code",
   "execution_count": 2,
   "metadata": {},
   "outputs": [],
   "source": [
    "%matplotlib inline"
   ]
  },
  {
   "cell_type": "markdown",
   "metadata": {},
   "source": [
    "# 1. Данные"
   ]
  },
  {
   "cell_type": "code",
   "execution_count": 3,
   "metadata": {},
   "outputs": [
    {
     "data": {
      "text/html": [
       "<div>\n",
       "<style scoped>\n",
       "    .dataframe tbody tr th:only-of-type {\n",
       "        vertical-align: middle;\n",
       "    }\n",
       "\n",
       "    .dataframe tbody tr th {\n",
       "        vertical-align: top;\n",
       "    }\n",
       "\n",
       "    .dataframe thead th {\n",
       "        text-align: right;\n",
       "    }\n",
       "</style>\n",
       "<table border=\"1\" class=\"dataframe\">\n",
       "  <thead>\n",
       "    <tr style=\"text-align: right;\">\n",
       "      <th></th>\n",
       "      <th>title</th>\n",
       "      <th>commentCount</th>\n",
       "      <th>dislikeCount</th>\n",
       "      <th>likeCount</th>\n",
       "      <th>music_style</th>\n",
       "      <th>performer</th>\n",
       "      <th>viewCount</th>\n",
       "      <th>commentators_uniq</th>\n",
       "      <th>comments_obscene_cnt</th>\n",
       "      <th>video_age</th>\n",
       "    </tr>\n",
       "  </thead>\n",
       "  <tbody>\n",
       "    <tr>\n",
       "      <th>0</th>\n",
       "      <td>\"#2Маши \"Свободные линии\"</td>\n",
       "      <td>34.0</td>\n",
       "      <td>43.0</td>\n",
       "      <td>1402.0</td>\n",
       "      <td>popsa</td>\n",
       "      <td>2маши</td>\n",
       "      <td>214301.0</td>\n",
       "      <td>24.0</td>\n",
       "      <td>0.0</td>\n",
       "      <td>1141</td>\n",
       "    </tr>\n",
       "    <tr>\n",
       "      <th>1</th>\n",
       "      <td>\"ALARM\" СЕРГЕЙ ЛАЗАРЕВ ( SERGEY LAZAREV )</td>\n",
       "      <td>NaN</td>\n",
       "      <td>690.0</td>\n",
       "      <td>10532.0</td>\n",
       "      <td>popsa</td>\n",
       "      <td>лазарев</td>\n",
       "      <td>2221419.0</td>\n",
       "      <td>NaN</td>\n",
       "      <td>NaN</td>\n",
       "      <td>3217</td>\n",
       "    </tr>\n",
       "    <tr>\n",
       "      <th>2</th>\n",
       "      <td>\"EARTH SONG\"  SERGEY LAZAREV. DEDICATED TO MIC...</td>\n",
       "      <td>26.0</td>\n",
       "      <td>10.0</td>\n",
       "      <td>269.0</td>\n",
       "      <td>popsa</td>\n",
       "      <td>лазарев</td>\n",
       "      <td>40327.0</td>\n",
       "      <td>23.0</td>\n",
       "      <td>0.0</td>\n",
       "      <td>3546</td>\n",
       "    </tr>\n",
       "    <tr>\n",
       "      <th>3</th>\n",
       "      <td>\"Earth song\" премия МУЗ-тВ 2010 (LIVE)</td>\n",
       "      <td>12.0</td>\n",
       "      <td>7.0</td>\n",
       "      <td>163.0</td>\n",
       "      <td>popsa</td>\n",
       "      <td>лазарев</td>\n",
       "      <td>11907.0</td>\n",
       "      <td>11.0</td>\n",
       "      <td>0.0</td>\n",
       "      <td>3189</td>\n",
       "    </tr>\n",
       "    <tr>\n",
       "      <th>4</th>\n",
       "      <td>\"FAKE\" СЕРГЕЙ ЛАЗАРЕВ (SERGEY)</td>\n",
       "      <td>46.0</td>\n",
       "      <td>19.0</td>\n",
       "      <td>597.0</td>\n",
       "      <td>popsa</td>\n",
       "      <td>лазарев</td>\n",
       "      <td>91483.0</td>\n",
       "      <td>33.0</td>\n",
       "      <td>1.0</td>\n",
       "      <td>3361</td>\n",
       "    </tr>\n",
       "  </tbody>\n",
       "</table>\n",
       "</div>"
      ],
      "text/plain": [
       "                                               title  commentCount  \\\n",
       "0                          \"#2Маши \"Свободные линии\"          34.0   \n",
       "1          \"ALARM\" СЕРГЕЙ ЛАЗАРЕВ ( SERGEY LAZAREV )           NaN   \n",
       "2  \"EARTH SONG\"  SERGEY LAZAREV. DEDICATED TO MIC...          26.0   \n",
       "3             \"Earth song\" премия МУЗ-тВ 2010 (LIVE)          12.0   \n",
       "4                     \"FAKE\" СЕРГЕЙ ЛАЗАРЕВ (SERGEY)          46.0   \n",
       "\n",
       "   dislikeCount  likeCount music_style performer  viewCount  \\\n",
       "0          43.0     1402.0       popsa     2маши   214301.0   \n",
       "1         690.0    10532.0       popsa   лазарев  2221419.0   \n",
       "2          10.0      269.0       popsa   лазарев    40327.0   \n",
       "3           7.0      163.0       popsa   лазарев    11907.0   \n",
       "4          19.0      597.0       popsa   лазарев    91483.0   \n",
       "\n",
       "   commentators_uniq  comments_obscene_cnt  video_age  \n",
       "0               24.0                   0.0       1141  \n",
       "1                NaN                   NaN       3217  \n",
       "2               23.0                   0.0       3546  \n",
       "3               11.0                   0.0       3189  \n",
       "4               33.0                   1.0       3361  "
      ]
     },
     "execution_count": 3,
     "metadata": {},
     "output_type": "execute_result"
    }
   ],
   "source": [
    "df = pd.read_csv(\"data/youtube_data_short.csv\", sep = \"\\t\")\n",
    "df.head()"
   ]
  },
  {
   "cell_type": "markdown",
   "metadata": {},
   "source": [
    "__Описание колонок:__\n",
    "\n",
    "- `title` - название видео\n",
    "- `commentCount` - число комментариев\n",
    "- `dislikeCount` - число дизлайков\n",
    "- `likeCount`  - число лайков\n",
    "- `music_style` - музыкальный стиль\n",
    "- `performer` - исполнитель\n",
    "- `viewCount` - число просмотров\n",
    "- `commentators_uniq` - число уникальных комментаторов\n",
    "- `comments_obscene_cnt` - число комментариев\n",
    "- `video_age` - возраст видео в днях\n",
    "\n",
    "Возраст видео посчитан в днях относительно `2019-03-15` (момент, когда данные собирались авторами курса)."
   ]
  },
  {
   "cell_type": "markdown",
   "metadata": {},
   "source": [
    "# 2. На любые ответы всегда найдутся вопросы\n",
    "\n",
    "В pandas можно пытаться искать ответы на разные интересующие вас вопросы. Давайте попробуем такие ответы находить. "
   ]
  },
  {
   "cell_type": "markdown",
   "metadata": {},
   "source": [
    "- Сколько всего наблюдений в таблице? "
   ]
  },
  {
   "cell_type": "code",
   "execution_count": 4,
   "metadata": {},
   "outputs": [
    {
     "data": {
      "text/plain": [
       "(19124, 10)"
      ]
     },
     "execution_count": 4,
     "metadata": {},
     "output_type": "execute_result"
    }
   ],
   "source": [
    "df.shape"
   ]
  },
  {
   "cell_type": "code",
   "execution_count": 5,
   "metadata": {},
   "outputs": [
    {
     "data": {
      "text/plain": [
       "191240"
      ]
     },
     "execution_count": 5,
     "metadata": {},
     "output_type": "execute_result"
    }
   ],
   "source": [
    "df.size"
   ]
  },
  {
   "cell_type": "markdown",
   "metadata": {},
   "source": [
    "- Сколько уникальных исполнителей встречается в данных? "
   ]
  },
  {
   "cell_type": "code",
   "execution_count": 6,
   "metadata": {},
   "outputs": [
    {
     "data": {
      "text/plain": [
       "111"
      ]
     },
     "execution_count": 6,
     "metadata": {},
     "output_type": "execute_result"
    }
   ],
   "source": [
    "len(df.performer.unique())"
   ]
  },
  {
   "cell_type": "code",
   "execution_count": 7,
   "metadata": {},
   "outputs": [
    {
     "data": {
      "text/plain": [
       "111"
      ]
     },
     "execution_count": 7,
     "metadata": {},
     "output_type": "execute_result"
    }
   ],
   "source": [
    "df.performer.unique().size"
   ]
  },
  {
   "cell_type": "markdown",
   "metadata": {},
   "source": [
    "- Выведите троих исполнителей, у которых в данных больше всего клипов."
   ]
  },
  {
   "cell_type": "code",
   "execution_count": 8,
   "metadata": {},
   "outputs": [
    {
     "data": {
      "text/plain": [
       "['николаев', 'валерия', 'михайлов']"
      ]
     },
     "execution_count": 8,
     "metadata": {},
     "output_type": "execute_result"
    }
   ],
   "source": [
    "x = list(df.performer.value_counts()[:3].index)\n",
    "x"
   ]
  },
  {
   "cell_type": "code",
   "execution_count": 9,
   "metadata": {},
   "outputs": [
    {
     "data": {
      "text/plain": [
       "3"
      ]
     },
     "execution_count": 9,
     "metadata": {},
     "output_type": "execute_result"
    }
   ],
   "source": [
    "len(x)"
   ]
  },
  {
   "cell_type": "markdown",
   "metadata": {},
   "source": [
    "- Какая доля клипов приходится на рэп? "
   ]
  },
  {
   "cell_type": "code",
   "execution_count": 10,
   "metadata": {},
   "outputs": [
    {
     "data": {
      "text/plain": [
       "0.10604476051035348"
      ]
     },
     "execution_count": 10,
     "metadata": {},
     "output_type": "execute_result"
    }
   ],
   "source": [
    "(df.music_style == 'rap').mean()"
   ]
  },
  {
   "cell_type": "markdown",
   "metadata": {},
   "source": [
    "- Какая доля приходится на разные жанры? "
   ]
  },
  {
   "cell_type": "code",
   "execution_count": 11,
   "metadata": {},
   "outputs": [
    {
     "data": {
      "text/plain": [
       "rock       0.307885\n",
       "estrada    0.217057\n",
       "popsa      0.174597\n",
       "shanson    0.107770\n",
       "rap        0.106045\n",
       "indi       0.071063\n",
       "classic    0.015583\n",
       "Name: music_style, dtype: float64"
      ]
     },
     "execution_count": 11,
     "metadata": {},
     "output_type": "execute_result"
    }
   ],
   "source": [
    "df.music_style.value_counts()/df.shape[0]"
   ]
  },
  {
   "cell_type": "code",
   "execution_count": 12,
   "metadata": {},
   "outputs": [
    {
     "data": {
      "text/plain": [
       "<matplotlib.axes._subplots.AxesSubplot at 0x7f4c3da77290>"
      ]
     },
     "execution_count": 12,
     "metadata": {},
     "output_type": "execute_result"
    },
    {
     "data": {
      "image/png": "[encoded data removed]",
      "text/plain": [
       "<Figure size 432x288 with 1 Axes>"
      ]
     },
     "metadata": {
      "needs_background": "light"
     },
     "output_type": "display_data"
    }
   ],
   "source": [
    "y =(100*df.music_style.value_counts()/df.shape[0])\n",
    "y.plot(kind='bar')"
   ]
  },
  {
   "cell_type": "markdown",
   "metadata": {},
   "source": [
    "- Сколько исполнителей пишут свою музыку сразу в нескольких жанрах? "
   ]
  },
  {
   "cell_type": "code",
   "execution_count": 13,
   "metadata": {},
   "outputs": [
    {
     "data": {
      "text/plain": [
       "0"
      ]
     },
     "execution_count": 13,
     "metadata": {},
     "output_type": "execute_result"
    }
   ],
   "source": [
    "df_agg = df.groupby('performer')['music_style'].agg('nunique')\n",
    "(df_agg > 1).sum()"
   ]
  },
  {
   "cell_type": "markdown",
   "metadata": {},
   "source": [
    "- сколко в среднем просмотров под видео с `likeCoun > 100000` и `commentators_uniq > 50`."
   ]
  },
  {
   "cell_type": "code",
   "execution_count": 14,
   "metadata": {},
   "outputs": [],
   "source": [
    "df_restricted = df[(df.likeCount > 100000)&(df.commentators_uniq > 50)]"
   ]
  },
  {
   "cell_type": "code",
   "execution_count": 15,
   "metadata": {},
   "outputs": [
    {
     "data": {
      "text/plain": [
       "(19124, 10)"
      ]
     },
     "execution_count": 15,
     "metadata": {},
     "output_type": "execute_result"
    }
   ],
   "source": [
    "df.shape"
   ]
  },
  {
   "cell_type": "code",
   "execution_count": 16,
   "metadata": {},
   "outputs": [
    {
     "data": {
      "text/plain": [
       "(214, 10)"
      ]
     },
     "execution_count": 16,
     "metadata": {},
     "output_type": "execute_result"
    }
   ],
   "source": [
    "df_restricted.shape"
   ]
  },
  {
   "cell_type": "code",
   "execution_count": 17,
   "metadata": {},
   "outputs": [
    {
     "data": {
      "text/plain": [
       "39326558.901869155"
      ]
     },
     "execution_count": 17,
     "metadata": {},
     "output_type": "execute_result"
    }
   ],
   "source": [
    "df_restricted.viewCount.mean()"
   ]
  },
  {
   "cell_type": "markdown",
   "metadata": {},
   "source": [
    "- Выведите 5% самых популярных исполнителей. В качестве меры популярности используйте разность между медианным числом лайков и дизлайков. Оценку популярности стройте только по исполнителям, собравшим в сумме больше 100 000 лайков. "
   ]
  },
  {
   "cell_type": "code",
   "execution_count": 18,
   "metadata": {},
   "outputs": [],
   "source": [
    "df_r = df[df.likeCount > 100000]\n",
    "df_agg = df_r.groupby('performer')[['likeCount', 'dislikeCount']].median()"
   ]
  },
  {
   "cell_type": "code",
   "execution_count": 19,
   "metadata": {},
   "outputs": [
    {
     "data": {
      "text/html": [
       "<div>\n",
       "<style scoped>\n",
       "    .dataframe tbody tr th:only-of-type {\n",
       "        vertical-align: middle;\n",
       "    }\n",
       "\n",
       "    .dataframe tbody tr th {\n",
       "        vertical-align: top;\n",
       "    }\n",
       "\n",
       "    .dataframe thead th {\n",
       "        text-align: right;\n",
       "    }\n",
       "</style>\n",
       "<table border=\"1\" class=\"dataframe\">\n",
       "  <thead>\n",
       "    <tr style=\"text-align: right;\">\n",
       "      <th></th>\n",
       "      <th>likeCount</th>\n",
       "      <th>dislikeCount</th>\n",
       "      <th>popularity</th>\n",
       "    </tr>\n",
       "    <tr>\n",
       "      <th>performer</th>\n",
       "      <th></th>\n",
       "      <th></th>\n",
       "      <th></th>\n",
       "    </tr>\n",
       "  </thead>\n",
       "  <tbody>\n",
       "    <tr>\n",
       "      <th>2маши</th>\n",
       "      <td>212909.0</td>\n",
       "      <td>24583.0</td>\n",
       "      <td>188326.0</td>\n",
       "    </tr>\n",
       "    <tr>\n",
       "      <th>classical_channel</th>\n",
       "      <td>271070.5</td>\n",
       "      <td>10307.5</td>\n",
       "      <td>260763.0</td>\n",
       "    </tr>\n",
       "    <tr>\n",
       "      <th>face</th>\n",
       "      <td>405493.0</td>\n",
       "      <td>54433.0</td>\n",
       "      <td>351060.0</td>\n",
       "    </tr>\n",
       "    <tr>\n",
       "      <th>feduk</th>\n",
       "      <td>381360.0</td>\n",
       "      <td>44912.0</td>\n",
       "      <td>336448.0</td>\n",
       "    </tr>\n",
       "    <tr>\n",
       "      <th>gazgolder</th>\n",
       "      <td>192971.0</td>\n",
       "      <td>16075.0</td>\n",
       "      <td>176896.0</td>\n",
       "    </tr>\n",
       "  </tbody>\n",
       "</table>\n",
       "</div>"
      ],
      "text/plain": [
       "                   likeCount  dislikeCount  popularity\n",
       "performer                                             \n",
       "2маши               212909.0       24583.0    188326.0\n",
       "classical_channel   271070.5       10307.5    260763.0\n",
       "face                405493.0       54433.0    351060.0\n",
       "feduk               381360.0       44912.0    336448.0\n",
       "gazgolder           192971.0       16075.0    176896.0"
      ]
     },
     "execution_count": 19,
     "metadata": {},
     "output_type": "execute_result"
    }
   ],
   "source": [
    "df_agg['popularity'] = df_agg['likeCount'] - df_agg['dislikeCount']\n",
    "df_agg.head()"
   ]
  },
  {
   "cell_type": "code",
   "execution_count": 20,
   "metadata": {},
   "outputs": [
    {
     "data": {
      "text/plain": [
       "337304.89999999997"
      ]
     },
     "execution_count": 20,
     "metadata": {},
     "output_type": "execute_result"
    }
   ],
   "source": [
    "q = df_agg.popularity.quantile(0.95)\n",
    "q"
   ]
  },
  {
   "cell_type": "code",
   "execution_count": 21,
   "metadata": {},
   "outputs": [
    {
     "data": {
      "text/plain": [
       "performer\n",
       "miyagi&эндшпиль    701683.0\n",
       "face               351060.0\n",
       "лсп                337350.0\n",
       "Name: popularity, dtype: float64"
      ]
     },
     "execution_count": 21,
     "metadata": {},
     "output_type": "execute_result"
    }
   ],
   "source": [
    "df_agg[df_agg.popularity > q]['popularity'].sort_values(ascending=False)"
   ]
  },
  {
   "cell_type": "code",
   "execution_count": 22,
   "metadata": {
    "scrolled": false
   },
   "outputs": [
    {
     "data": {
      "text/html": [
       "<div>\n",
       "<style scoped>\n",
       "    .dataframe tbody tr th:only-of-type {\n",
       "        vertical-align: middle;\n",
       "    }\n",
       "\n",
       "    .dataframe tbody tr th {\n",
       "        vertical-align: top;\n",
       "    }\n",
       "\n",
       "    .dataframe thead th {\n",
       "        text-align: right;\n",
       "    }\n",
       "</style>\n",
       "<table border=\"1\" class=\"dataframe\">\n",
       "  <thead>\n",
       "    <tr style=\"text-align: right;\">\n",
       "      <th></th>\n",
       "      <th>title</th>\n",
       "      <th>commentCount</th>\n",
       "      <th>dislikeCount</th>\n",
       "      <th>likeCount</th>\n",
       "      <th>music_style</th>\n",
       "      <th>performer</th>\n",
       "      <th>viewCount</th>\n",
       "      <th>commentators_uniq</th>\n",
       "      <th>comments_obscene_cnt</th>\n",
       "      <th>video_age</th>\n",
       "    </tr>\n",
       "  </thead>\n",
       "  <tbody>\n",
       "    <tr>\n",
       "      <th>0</th>\n",
       "      <td>\"#2Маши \"Свободные линии\"</td>\n",
       "      <td>34.0</td>\n",
       "      <td>43.0</td>\n",
       "      <td>1402.0</td>\n",
       "      <td>popsa</td>\n",
       "      <td>2маши</td>\n",
       "      <td>214301.0</td>\n",
       "      <td>24.0</td>\n",
       "      <td>0.0</td>\n",
       "      <td>1141</td>\n",
       "    </tr>\n",
       "    <tr>\n",
       "      <th>1</th>\n",
       "      <td>\"ALARM\" СЕРГЕЙ ЛАЗАРЕВ ( SERGEY LAZAREV )</td>\n",
       "      <td>NaN</td>\n",
       "      <td>690.0</td>\n",
       "      <td>10532.0</td>\n",
       "      <td>popsa</td>\n",
       "      <td>лазарев</td>\n",
       "      <td>2221419.0</td>\n",
       "      <td>NaN</td>\n",
       "      <td>NaN</td>\n",
       "      <td>3217</td>\n",
       "    </tr>\n",
       "    <tr>\n",
       "      <th>2</th>\n",
       "      <td>\"EARTH SONG\"  SERGEY LAZAREV. DEDICATED TO MIC...</td>\n",
       "      <td>26.0</td>\n",
       "      <td>10.0</td>\n",
       "      <td>269.0</td>\n",
       "      <td>popsa</td>\n",
       "      <td>лазарев</td>\n",
       "      <td>40327.0</td>\n",
       "      <td>23.0</td>\n",
       "      <td>0.0</td>\n",
       "      <td>3546</td>\n",
       "    </tr>\n",
       "    <tr>\n",
       "      <th>3</th>\n",
       "      <td>\"Earth song\" премия МУЗ-тВ 2010 (LIVE)</td>\n",
       "      <td>12.0</td>\n",
       "      <td>7.0</td>\n",
       "      <td>163.0</td>\n",
       "      <td>popsa</td>\n",
       "      <td>лазарев</td>\n",
       "      <td>11907.0</td>\n",
       "      <td>11.0</td>\n",
       "      <td>0.0</td>\n",
       "      <td>3189</td>\n",
       "    </tr>\n",
       "    <tr>\n",
       "      <th>4</th>\n",
       "      <td>\"FAKE\" СЕРГЕЙ ЛАЗАРЕВ (SERGEY)</td>\n",
       "      <td>46.0</td>\n",
       "      <td>19.0</td>\n",
       "      <td>597.0</td>\n",
       "      <td>popsa</td>\n",
       "      <td>лазарев</td>\n",
       "      <td>91483.0</td>\n",
       "      <td>33.0</td>\n",
       "      <td>1.0</td>\n",
       "      <td>3361</td>\n",
       "    </tr>\n",
       "    <tr>\n",
       "      <th>...</th>\n",
       "      <td>...</td>\n",
       "      <td>...</td>\n",
       "      <td>...</td>\n",
       "      <td>...</td>\n",
       "      <td>...</td>\n",
       "      <td>...</td>\n",
       "      <td>...</td>\n",
       "      <td>...</td>\n",
       "      <td>...</td>\n",
       "      <td>...</td>\n",
       "    </tr>\n",
       "    <tr>\n",
       "      <th>19119</th>\n",
       "      <td>♫♪Мы расстаемся ♫♪  Бутырка new2019</td>\n",
       "      <td>2.0</td>\n",
       "      <td>0.0</td>\n",
       "      <td>11.0</td>\n",
       "      <td>shanson</td>\n",
       "      <td>бутырка</td>\n",
       "      <td>1107.0</td>\n",
       "      <td>NaN</td>\n",
       "      <td>NaN</td>\n",
       "      <td>44</td>\n",
       "    </tr>\n",
       "    <tr>\n",
       "      <th>19120</th>\n",
       "      <td>❤ 2 ЧАСА ❤ МОЦАРТ Для Младенцев - Колыбельная ...</td>\n",
       "      <td>94.0</td>\n",
       "      <td>431.0</td>\n",
       "      <td>1837.0</td>\n",
       "      <td>classic</td>\n",
       "      <td>classical_channel</td>\n",
       "      <td>391836.0</td>\n",
       "      <td>37.0</td>\n",
       "      <td>1.0</td>\n",
       "      <td>239</td>\n",
       "    </tr>\n",
       "    <tr>\n",
       "      <th>19121</th>\n",
       "      <td>モスクワライブショー ' 17</td>\n",
       "      <td>4872.0</td>\n",
       "      <td>15494.0</td>\n",
       "      <td>30603.0</td>\n",
       "      <td>rap</td>\n",
       "      <td>элджей</td>\n",
       "      <td>1187340.0</td>\n",
       "      <td>1788.0</td>\n",
       "      <td>352.0</td>\n",
       "      <td>339</td>\n",
       "    </tr>\n",
       "    <tr>\n",
       "      <th>19122</th>\n",
       "      <td>舞梅鬼   -  新年好宝贝 / Mumiy Troll - Happy New Year ...</td>\n",
       "      <td>59.0</td>\n",
       "      <td>10.0</td>\n",
       "      <td>260.0</td>\n",
       "      <td>rock</td>\n",
       "      <td>мумий_тролль</td>\n",
       "      <td>10147.0</td>\n",
       "      <td>19.0</td>\n",
       "      <td>0.0</td>\n",
       "      <td>997</td>\n",
       "    </tr>\n",
       "    <tr>\n",
       "      <th>19123</th>\n",
       "      <td>🎄#премьера песни!!! 2019г(вы не спешите говори...</td>\n",
       "      <td>1.0</td>\n",
       "      <td>0.0</td>\n",
       "      <td>22.0</td>\n",
       "      <td>shanson</td>\n",
       "      <td>бутырка</td>\n",
       "      <td>1566.0</td>\n",
       "      <td>NaN</td>\n",
       "      <td>NaN</td>\n",
       "      <td>65</td>\n",
       "    </tr>\n",
       "  </tbody>\n",
       "</table>\n",
       "<p>19124 rows × 10 columns</p>\n",
       "</div>"
      ],
      "text/plain": [
       "                                                   title  commentCount  \\\n",
       "0                              \"#2Маши \"Свободные линии\"          34.0   \n",
       "1              \"ALARM\" СЕРГЕЙ ЛАЗАРЕВ ( SERGEY LAZAREV )           NaN   \n",
       "2      \"EARTH SONG\"  SERGEY LAZAREV. DEDICATED TO MIC...          26.0   \n",
       "3                 \"Earth song\" премия МУЗ-тВ 2010 (LIVE)          12.0   \n",
       "4                         \"FAKE\" СЕРГЕЙ ЛАЗАРЕВ (SERGEY)          46.0   \n",
       "...                                                  ...           ...   \n",
       "19119                ♫♪Мы расстаемся ♫♪  Бутырка new2019           2.0   \n",
       "19120  ❤ 2 ЧАСА ❤ МОЦАРТ Для Младенцев - Колыбельная ...          94.0   \n",
       "19121                                    モスクワライブショー ' 17        4872.0   \n",
       "19122  舞梅鬼   -  新年好宝贝 / Mumiy Troll - Happy New Year ...          59.0   \n",
       "19123  🎄#премьера песни!!! 2019г(вы не спешите говори...           1.0   \n",
       "\n",
       "       dislikeCount  likeCount music_style          performer  viewCount  \\\n",
       "0              43.0     1402.0       popsa              2маши   214301.0   \n",
       "1             690.0    10532.0       popsa            лазарев  2221419.0   \n",
       "2              10.0      269.0       popsa            лазарев    40327.0   \n",
       "3               7.0      163.0       popsa            лазарев    11907.0   \n",
       "4              19.0      597.0       popsa            лазарев    91483.0   \n",
       "...             ...        ...         ...                ...        ...   \n",
       "19119           0.0       11.0     shanson            бутырка     1107.0   \n",
       "19120         431.0     1837.0     classic  classical_channel   391836.0   \n",
       "19121       15494.0    30603.0         rap             элджей  1187340.0   \n",
       "19122          10.0      260.0        rock       мумий_тролль    10147.0   \n",
       "19123           0.0       22.0     shanson            бутырка     1566.0   \n",
       "\n",
       "       commentators_uniq  comments_obscene_cnt  video_age  \n",
       "0                   24.0                   0.0       1141  \n",
       "1                    NaN                   NaN       3217  \n",
       "2                   23.0                   0.0       3546  \n",
       "3                   11.0                   0.0       3189  \n",
       "4                   33.0                   1.0       3361  \n",
       "...                  ...                   ...        ...  \n",
       "19119                NaN                   NaN         44  \n",
       "19120               37.0                   1.0        239  \n",
       "19121             1788.0                 352.0        339  \n",
       "19122               19.0                   0.0        997  \n",
       "19123                NaN                   NaN         65  \n",
       "\n",
       "[19124 rows x 10 columns]"
      ]
     },
     "execution_count": 22,
     "metadata": {},
     "output_type": "execute_result"
    }
   ],
   "source": [
    "df"
   ]
  },
  {
   "cell_type": "markdown",
   "metadata": {},
   "source": [
    " "
   ]
  }
 ],
 "metadata": {
  "kernelspec": {
   "display_name": "Python 3",
   "language": "python",
   "name": "python3"
  },
  "language_info": {
   "codemirror_mode": {
    "name": "ipython",
    "version": 3
   },
   "file_extension": ".py",
   "mimetype": "text/x-python",
   "name": "python",
   "nbconvert_exporter": "python",
   "pygments_lexer": "ipython3",
   "version": "3.7.6"
  }
 },
 "nbformat": 4,
 "nbformat_minor": 2
}
