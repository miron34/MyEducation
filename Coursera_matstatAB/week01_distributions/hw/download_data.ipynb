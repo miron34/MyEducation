{
 "cells": [
  {
   "cell_type": "markdown",
   "metadata": {},
   "source": [
    "# Технический скрипт для домашки 1\n",
    "\n",
    "Скачиваем данные о ценных бумагах. \n",
    "\n",
    "```\n",
    "pip install yfinance\n",
    "```"
   ]
  },
  {
   "cell_type": "code",
   "execution_count": 83,
   "metadata": {},
   "outputs": [],
   "source": [
    "import pandas as pd\n",
    "import re\n",
    "\n",
    "# компании из индекса \n",
    "df = pd.read_html('http://en.wikipedia.org/wiki/List_of_S%26P_500_companies')[0]\n",
    "tickers_sp = list(df.Symbol.values)"
   ]
  },
  {
   "cell_type": "code",
   "execution_count": 84,
   "metadata": {},
   "outputs": [],
   "source": [
    "df2 = pd.read_html('https://en.wikipedia.org/wiki/NASDAQ-100')[2]\n",
    "tickers_nasdaq = list(df2.Ticker.values)"
   ]
  },
  {
   "cell_type": "code",
   "execution_count": 85,
   "metadata": {},
   "outputs": [],
   "source": [
    "df3 = pd.read_html('https://en.wikipedia.org/wiki/Dow_Jones_Industrial_Average')[1]\n",
    "tickers_dji = list(df3.Symbol.str.split(':').apply(lambda w: re.sub('\\xa0', '', w[-1])).values)"
   ]
  },
  {
   "cell_type": "code",
   "execution_count": 86,
   "metadata": {},
   "outputs": [
    {
     "data": {
      "text/plain": [
       "525"
      ]
     },
     "execution_count": 86,
     "metadata": {},
     "output_type": "execute_result"
    }
   ],
   "source": [
    "tickers = list(set(tickers_sp + tickers_nasdaq + tickers_dji))\n",
    "len(tickers)"
   ]
  },
  {
   "cell_type": "code",
   "execution_count": 62,
   "metadata": {},
   "outputs": [
    {
     "name": "stdout",
     "output_type": "stream",
     "text": [
      "[*********************100%***********************]  525 of 525 completed\n",
      "\n",
      "2 Failed downloads:\n",
      "- BRK.B: No data found, symbol may be delisted\n",
      "- BF.B: No data found for this date range, symbol may be delisted\n"
     ]
    }
   ],
   "source": [
    "import yfinance as yf\n",
    "import datetime\n",
    "\n",
    "start = datetime.datetime(2010,1,1)\n",
    "end = datetime.datetime(2021,1,1)\n",
    "data = yf.download(tickers, start=start, end=end)"
   ]
  },
  {
   "cell_type": "code",
   "execution_count": 63,
   "metadata": {},
   "outputs": [
    {
     "data": {
      "text/html": [
       "<div>\n",
       "<style scoped>\n",
       "    .dataframe tbody tr th:only-of-type {\n",
       "        vertical-align: middle;\n",
       "    }\n",
       "\n",
       "    .dataframe tbody tr th {\n",
       "        vertical-align: top;\n",
       "    }\n",
       "\n",
       "    .dataframe thead th {\n",
       "        text-align: right;\n",
       "    }\n",
       "</style>\n",
       "<table border=\"1\" class=\"dataframe\">\n",
       "  <thead>\n",
       "    <tr style=\"text-align: right;\">\n",
       "      <th></th>\n",
       "      <th>A</th>\n",
       "      <th>AAL</th>\n",
       "      <th>AAP</th>\n",
       "      <th>AAPL</th>\n",
       "      <th>ABBV</th>\n",
       "      <th>ABC</th>\n",
       "      <th>ABMD</th>\n",
       "      <th>ABT</th>\n",
       "      <th>ACN</th>\n",
       "      <th>ADBE</th>\n",
       "      <th>...</th>\n",
       "      <th>XOM</th>\n",
       "      <th>XRAY</th>\n",
       "      <th>XRX</th>\n",
       "      <th>XYL</th>\n",
       "      <th>YUM</th>\n",
       "      <th>ZBH</th>\n",
       "      <th>ZBRA</th>\n",
       "      <th>ZION</th>\n",
       "      <th>ZM</th>\n",
       "      <th>ZTS</th>\n",
       "    </tr>\n",
       "    <tr>\n",
       "      <th>Date</th>\n",
       "      <th></th>\n",
       "      <th></th>\n",
       "      <th></th>\n",
       "      <th></th>\n",
       "      <th></th>\n",
       "      <th></th>\n",
       "      <th></th>\n",
       "      <th></th>\n",
       "      <th></th>\n",
       "      <th></th>\n",
       "      <th></th>\n",
       "      <th></th>\n",
       "      <th></th>\n",
       "      <th></th>\n",
       "      <th></th>\n",
       "      <th></th>\n",
       "      <th></th>\n",
       "      <th></th>\n",
       "      <th></th>\n",
       "      <th></th>\n",
       "      <th></th>\n",
       "    </tr>\n",
       "  </thead>\n",
       "  <tbody>\n",
       "    <tr>\n",
       "      <th>2020-07-27</th>\n",
       "      <td>97.269997</td>\n",
       "      <td>11.39</td>\n",
       "      <td>146.830002</td>\n",
       "      <td>378.557434</td>\n",
       "      <td>97.160004</td>\n",
       "      <td>103.574806</td>\n",
       "      <td>298.609985</td>\n",
       "      <td>99.989998</td>\n",
       "      <td>223.320007</td>\n",
       "      <td>437.100006</td>\n",
       "      <td>...</td>\n",
       "      <td>43.217411</td>\n",
       "      <td>43.450001</td>\n",
       "      <td>15.82</td>\n",
       "      <td>75.260002</td>\n",
       "      <td>93.370003</td>\n",
       "      <td>134.240005</td>\n",
       "      <td>273.339996</td>\n",
       "      <td>32.098629</td>\n",
       "      <td>252.330002</td>\n",
       "      <td>146.919998</td>\n",
       "    </tr>\n",
       "    <tr>\n",
       "      <th>2020-07-28</th>\n",
       "      <td>95.300003</td>\n",
       "      <td>11.77</td>\n",
       "      <td>146.190002</td>\n",
       "      <td>372.338684</td>\n",
       "      <td>96.709999</td>\n",
       "      <td>101.692535</td>\n",
       "      <td>294.890015</td>\n",
       "      <td>99.860001</td>\n",
       "      <td>222.179993</td>\n",
       "      <td>432.260010</td>\n",
       "      <td>...</td>\n",
       "      <td>42.707470</td>\n",
       "      <td>43.500000</td>\n",
       "      <td>15.21</td>\n",
       "      <td>74.339996</td>\n",
       "      <td>92.750000</td>\n",
       "      <td>134.160004</td>\n",
       "      <td>271.179993</td>\n",
       "      <td>31.950068</td>\n",
       "      <td>252.179993</td>\n",
       "      <td>145.979996</td>\n",
       "    </tr>\n",
       "    <tr>\n",
       "      <th>2020-07-29</th>\n",
       "      <td>97.099998</td>\n",
       "      <td>11.40</td>\n",
       "      <td>148.210007</td>\n",
       "      <td>379.475800</td>\n",
       "      <td>97.010002</td>\n",
       "      <td>102.887627</td>\n",
       "      <td>299.100006</td>\n",
       "      <td>102.519997</td>\n",
       "      <td>224.380005</td>\n",
       "      <td>436.299988</td>\n",
       "      <td>...</td>\n",
       "      <td>43.178185</td>\n",
       "      <td>44.790001</td>\n",
       "      <td>15.86</td>\n",
       "      <td>77.169998</td>\n",
       "      <td>94.830002</td>\n",
       "      <td>139.580002</td>\n",
       "      <td>273.850006</td>\n",
       "      <td>33.049404</td>\n",
       "      <td>252.389999</td>\n",
       "      <td>147.589996</td>\n",
       "    </tr>\n",
       "    <tr>\n",
       "      <th>2020-07-30</th>\n",
       "      <td>95.930000</td>\n",
       "      <td>11.18</td>\n",
       "      <td>152.869995</td>\n",
       "      <td>384.067535</td>\n",
       "      <td>96.040001</td>\n",
       "      <td>101.752289</td>\n",
       "      <td>298.910004</td>\n",
       "      <td>101.529999</td>\n",
       "      <td>223.979996</td>\n",
       "      <td>438.880005</td>\n",
       "      <td>...</td>\n",
       "      <td>41.059971</td>\n",
       "      <td>45.240002</td>\n",
       "      <td>16.32</td>\n",
       "      <td>74.669998</td>\n",
       "      <td>91.639999</td>\n",
       "      <td>138.300003</td>\n",
       "      <td>274.950012</td>\n",
       "      <td>32.465073</td>\n",
       "      <td>250.000000</td>\n",
       "      <td>149.110001</td>\n",
       "    </tr>\n",
       "    <tr>\n",
       "      <th>2020-07-31</th>\n",
       "      <td>96.330002</td>\n",
       "      <td>11.12</td>\n",
       "      <td>150.139999</td>\n",
       "      <td>424.275024</td>\n",
       "      <td>94.910004</td>\n",
       "      <td>99.780388</td>\n",
       "      <td>299.940002</td>\n",
       "      <td>100.639999</td>\n",
       "      <td>224.779999</td>\n",
       "      <td>444.320007</td>\n",
       "      <td>...</td>\n",
       "      <td>41.265911</td>\n",
       "      <td>44.599998</td>\n",
       "      <td>16.65</td>\n",
       "      <td>72.980003</td>\n",
       "      <td>91.050003</td>\n",
       "      <td>134.860001</td>\n",
       "      <td>280.750000</td>\n",
       "      <td>32.158054</td>\n",
       "      <td>253.910004</td>\n",
       "      <td>151.679993</td>\n",
       "    </tr>\n",
       "  </tbody>\n",
       "</table>\n",
       "<p>5 rows × 525 columns</p>\n",
       "</div>"
      ],
      "text/plain": [
       "                    A    AAL         AAP        AAPL       ABBV         ABC  \\\n",
       "Date                                                                          \n",
       "2020-07-27  97.269997  11.39  146.830002  378.557434  97.160004  103.574806   \n",
       "2020-07-28  95.300003  11.77  146.190002  372.338684  96.709999  101.692535   \n",
       "2020-07-29  97.099998  11.40  148.210007  379.475800  97.010002  102.887627   \n",
       "2020-07-30  95.930000  11.18  152.869995  384.067535  96.040001  101.752289   \n",
       "2020-07-31  96.330002  11.12  150.139999  424.275024  94.910004   99.780388   \n",
       "\n",
       "                  ABMD         ABT         ACN        ADBE  ...        XOM  \\\n",
       "Date                                                        ...              \n",
       "2020-07-27  298.609985   99.989998  223.320007  437.100006  ...  43.217411   \n",
       "2020-07-28  294.890015   99.860001  222.179993  432.260010  ...  42.707470   \n",
       "2020-07-29  299.100006  102.519997  224.380005  436.299988  ...  43.178185   \n",
       "2020-07-30  298.910004  101.529999  223.979996  438.880005  ...  41.059971   \n",
       "2020-07-31  299.940002  100.639999  224.779999  444.320007  ...  41.265911   \n",
       "\n",
       "                 XRAY    XRX        XYL        YUM         ZBH        ZBRA  \\\n",
       "Date                                                                         \n",
       "2020-07-27  43.450001  15.82  75.260002  93.370003  134.240005  273.339996   \n",
       "2020-07-28  43.500000  15.21  74.339996  92.750000  134.160004  271.179993   \n",
       "2020-07-29  44.790001  15.86  77.169998  94.830002  139.580002  273.850006   \n",
       "2020-07-30  45.240002  16.32  74.669998  91.639999  138.300003  274.950012   \n",
       "2020-07-31  44.599998  16.65  72.980003  91.050003  134.860001  280.750000   \n",
       "\n",
       "                 ZION          ZM         ZTS  \n",
       "Date                                           \n",
       "2020-07-27  32.098629  252.330002  146.919998  \n",
       "2020-07-28  31.950068  252.179993  145.979996  \n",
       "2020-07-29  33.049404  252.389999  147.589996  \n",
       "2020-07-30  32.465073  250.000000  149.110001  \n",
       "2020-07-31  32.158054  253.910004  151.679993  \n",
       "\n",
       "[5 rows x 525 columns]"
      ]
     },
     "execution_count": 63,
     "metadata": {},
     "output_type": "execute_result"
    }
   ],
   "source": [
    "data = data['Adj Close']\n",
    "data.tail()"
   ]
  },
  {
   "cell_type": "code",
   "execution_count": 68,
   "metadata": {},
   "outputs": [],
   "source": [
    "# избавимся от пустых тикеров\n",
    "isnull = data.isnull().sum()/data.shape[0]\n",
    "bad_tickers = list(isnull[isnull == 1].index)\n",
    "data.drop(bad_tickers, axis=1, inplace=True)"
   ]
  },
  {
   "cell_type": "code",
   "execution_count": 71,
   "metadata": {},
   "outputs": [
    {
     "data": {
      "text/plain": [
       "FBHS    0.115293\n",
       "XYL     0.122821\n",
       "APTV    0.132726\n",
       "PSX     0.171949\n",
       "SPLK    0.173930\n",
       "AMCR    0.181062\n",
       "FB      0.182250\n",
       "TT      0.184628\n",
       "NOW     0.193740\n",
       "WDAY    0.222662\n",
       "FANG    0.222662\n",
       "ABBV    0.243661\n",
       "NCLH    0.248415\n",
       "ZTS     0.251981\n",
       "IQV     0.278526\n",
       "COTY    0.288035\n",
       "NWS     0.289620\n",
       "NWSA    0.289620\n",
       "CDW     0.291997\n",
       "TWTR    0.328843\n",
       "ALLE    0.331616\n",
       "HLT     0.338352\n",
       "PAYC    0.371632\n",
       "JD      0.381933\n",
       "ANET    0.385895\n",
       "INFO    0.389461\n",
       "SYF     0.400951\n",
       "CFG     0.416006\n",
       "KEYS    0.423138\n",
       "QRVO    0.443344\n",
       "WRK     0.490491\n",
       "KHC     0.493265\n",
       "PYPL    0.493265\n",
       "UA      0.494453\n",
       "HPE     0.522583\n",
       "FTV     0.593106\n",
       "LW      0.629160\n",
       "IR      0.678685\n",
       "DOCU    0.774168\n",
       "MRNA    0.835578\n",
       "NLOK    0.859746\n",
       "FOXA    0.860539\n",
       "FOX     0.860935\n",
       "DOW     0.862916\n",
       "ZM      0.871236\n",
       "CTVA    0.881141\n",
       "HWM     0.927892\n",
       "VIAC    0.939382\n",
       "CARR    0.962758\n",
       "OTIS    0.962758\n",
       "dtype: float64"
      ]
     },
     "execution_count": 71,
     "metadata": {},
     "output_type": "execute_result"
    }
   ],
   "source": [
    "data.isnull().sum().sort_values()[-50:]/data.shape[0]"
   ]
  },
  {
   "cell_type": "code",
   "execution_count": 72,
   "metadata": {},
   "outputs": [],
   "source": [
    "data.to_csv('price.tsv', sep='\\t')"
   ]
  },
  {
   "cell_type": "code",
   "execution_count": null,
   "metadata": {},
   "outputs": [],
   "source": []
  },
  {
   "cell_type": "code",
   "execution_count": 90,
   "metadata": {},
   "outputs": [],
   "source": [
    "df['S&P-500'] = True\n",
    "df.set_index('Symbol', inplace=True)\n",
    "\n",
    "df2['NASDAQ'] = True\n",
    "df2.set_index('Ticker', inplace=True)\n",
    "\n",
    "df = df.join(df2, how='outer')\n",
    "\n",
    "df3['DJI'] = True\n",
    "df3['Symbol'] = df3['Symbol'].apply(lambda w: re.sub('\\xa0', '', w.split(':')[-1]))\n",
    "df4 = df3[['Symbol', 'DJI', 'Company']].set_index('Symbol')\n",
    "\n",
    "df = df.join(df4, how='outer', rsuffix='dj')"
   ]
  },
  {
   "cell_type": "code",
   "execution_count": 91,
   "metadata": {},
   "outputs": [],
   "source": [
    "df.to_csv('information.tsv', sep='\\t')"
   ]
  },
  {
   "cell_type": "code",
   "execution_count": 92,
   "metadata": {},
   "outputs": [
    {
     "data": {
      "text/plain": [
       "(525, 13)"
      ]
     },
     "execution_count": 92,
     "metadata": {},
     "output_type": "execute_result"
    }
   ],
   "source": [
    "df.shape"
   ]
  },
  {
   "cell_type": "code",
   "execution_count": 95,
   "metadata": {},
   "outputs": [
    {
     "data": {
      "text/plain": [
       "Index(['Company', 'Exchange', 'Symbol', 'Industry', 'Date added', 'Notes',\n",
       "       'Index weighting(April 30, 2020)', 'DJI'],\n",
       "      dtype='object')"
      ]
     },
     "execution_count": 95,
     "metadata": {},
     "output_type": "execute_result"
    }
   ],
   "source": [
    "df3.columns"
   ]
  },
  {
   "cell_type": "code",
   "execution_count": 99,
   "metadata": {},
   "outputs": [
    {
     "data": {
      "text/plain": [
       "{'MMM': '4.35%',\n",
       " 'AXP': '2.68%',\n",
       " 'AAPL': '8.01%',\n",
       " 'BA': '3.87%',\n",
       " 'CAT': '3.34%',\n",
       " 'CVX': '2.63%',\n",
       " 'CSCO': '1.21%',\n",
       " 'KO': '1.31%',\n",
       " 'DOW': '1.04%',\n",
       " 'XOM': '1.32%',\n",
       " 'GS': '5.29%',\n",
       " 'HD': '6.17%',\n",
       " 'IBM': '3.58%',\n",
       " 'INTC': '1.72%',\n",
       " 'JNJ': '4.18%',\n",
       " 'JPM': '2.72%',\n",
       " 'MCD': '5.23%',\n",
       " 'MRK': '2.25%',\n",
       " 'MSFT': '4.94%',\n",
       " 'NKE': '2.45%',\n",
       " 'PFE': '1.06%',\n",
       " 'PG': '3.26%',\n",
       " 'RTX': '1.89%',\n",
       " 'TRV': '2.95%',\n",
       " 'UNH': '8.01%',\n",
       " 'VZ': '1.62%',\n",
       " 'V': '5.06%',\n",
       " 'WMT': '3.44%',\n",
       " 'WBA': '1.26%',\n",
       " 'DIS': '3.12%'}"
      ]
     },
     "execution_count": 99,
     "metadata": {},
     "output_type": "execute_result"
    }
   ],
   "source": [
    "df3[['Symbol', 'Index weighting(April 30, 2020)']].set_index('Symbol').to_dict()['Index weighting(April 30, 2020)']"
   ]
  },
  {
   "cell_type": "raw",
   "metadata": {},
   "source": [
    "weights = {\n",
    "    'MMM': 4.35, 'AXP': 2.68, 'AAPL': 8.01, 'BA': 3.87, 'CAT': 3.34, \n",
    "    'CVX': 2.63, 'CSCO': 1.21, 'KO': 1.31, 'DOW': 1.04, 'XOM': 1.32,\n",
    "    'GS': 5.29, 'HD': 6.17, 'IBM': 3.58, 'INTC': 1.72, 'JNJ': 4.18,\n",
    "    'JPM': 2.72, 'MCD': 5.23, 'MRK': 2.25, 'MSFT': 4.94, 'NKE': 2.45,\n",
    "    'PFE': 1.06, 'PG': 3.26, 'RTX': 1.89, 'TRV': 2.95, 'UNH': 8.01,\n",
    "    'VZ': 1.62, 'V': 5.06, 'WMT': 3.44, 'WBA': 1.26, 'DIS': 3.12\n",
    "}"
   ]
  },
  {
   "cell_type": "markdown",
   "metadata": {},
   "source": [
    " "
   ]
  }
 ],
 "metadata": {
  "kernelspec": {
   "display_name": "Python 3",
   "language": "python",
   "name": "python3"
  },
  "language_info": {
   "codemirror_mode": {
    "name": "ipython",
    "version": 3
   },
   "file_extension": ".py",
   "mimetype": "text/x-python",
   "name": "python",
   "nbconvert_exporter": "python",
   "pygments_lexer": "ipython3",
   "version": "3.9.1"
  }
 },
 "nbformat": 4,
 "nbformat_minor": 2
}
