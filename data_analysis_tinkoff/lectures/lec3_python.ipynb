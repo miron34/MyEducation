{
 "cells": [
  {
   "cell_type": "markdown",
   "id": "b586ee0b",
   "metadata": {},
   "source": [
    "# Python\n",
    "\n",
    "## План\n",
    "* Установка и работа с кодом\n",
    "* Стандартные типы данных и работа с ними\n",
    "    * Строки\n",
    "    * Списки и кортежи\n",
    "    * Множества и словари\n",
    "* Функции "
   ]
  },
  {
   "cell_type": "markdown",
   "id": "7552d38c",
   "metadata": {},
   "source": [
    "## Работа с кодом\n",
    "\n",
    "### Запуск интерпретатора через консоль \n",
    "\n",
    "```python[3][.v]```\n",
    "\n",
    "### Запуск исполняемого скрипта через консоль \n",
    "\n",
    "\n",
    "```python3  my_first_script.py [-arg_1]```\n",
    "\n",
    "## IDE (Integrated Development Environment)\n",
    "* [PyCharm](https://www.jetbrains.com/ru-ru/pycharm/) \n",
    "\n",
    "\n",
    "## CE (Code Editor)\n",
    "* [VSCode](https://code.visualstudio.com) \n",
    "* [Atom](https://atom.io/)\n",
    "* [Sublime](https://www.sublimetext.com/)\n",
    "\n",
    "\n",
    "## Тетрадки с кодом\n",
    "* [Jupyter Notebook](https://jupyter.org/)\n",
    "* [Google Cloud Colaboratory](https://colab.research.google.com/)"
   ]
  },
  {
   "cell_type": "code",
   "execution_count": 1,
   "id": "67e8f944",
   "metadata": {},
   "outputs": [
    {
     "data": {
      "application/javascript": [
       "\n",
       "            setTimeout(function() {\n",
       "                var nbb_cell_id = 1;\n",
       "                var nbb_unformatted_code = \"# https://github.com/psf/black -- code formatter\\n%load_ext nb_black\";\n",
       "                var nbb_formatted_code = \"# https://github.com/psf/black -- code formatter\\n%load_ext nb_black\";\n",
       "                var nbb_cells = Jupyter.notebook.get_cells();\n",
       "                for (var i = 0; i < nbb_cells.length; ++i) {\n",
       "                    if (nbb_cells[i].input_prompt_number == nbb_cell_id) {\n",
       "                        if (nbb_cells[i].get_text() == nbb_unformatted_code) {\n",
       "                             nbb_cells[i].set_text(nbb_formatted_code);\n",
       "                        }\n",
       "                        break;\n",
       "                    }\n",
       "                }\n",
       "            }, 500);\n",
       "            "
      ],
      "text/plain": [
       "<IPython.core.display.Javascript object>"
      ]
     },
     "metadata": {},
     "output_type": "display_data"
    }
   ],
   "source": [
    "# https://github.com/psf/black -- code formatter\n",
    "%load_ext nb_black"
   ]
  },
  {
   "cell_type": "markdown",
   "id": "ea43e371",
   "metadata": {},
   "source": [
    "## Стандартные типы данных\n",
    "https://docs.python.org/3/library/stdtypes.html"
   ]
  },
  {
   "cell_type": "code",
   "execution_count": 2,
   "id": "1e561339",
   "metadata": {},
   "outputs": [
    {
     "data": {
      "application/javascript": [
       "\n",
       "            setTimeout(function() {\n",
       "                var nbb_cell_id = 2;\n",
       "                var nbb_unformatted_code = \"# \\u0426\\u0435\\u043b\\u043e\\u0435 \\u0447\\u0438\\u0441\\u043b\\u043e integer -> int\\n# a = int(7)\\na = 7\\n\\n# \\u0427\\u0438\\u0441\\u043b\\u043e \\u0441 \\u043f\\u043b\\u0430\\u0432\\u0430\\u044e\\u0449\\u0435\\u0439 \\u0437\\u0430\\u043f\\u044f\\u0442\\u043e\\u0439 -- float -> float\\n# b = float(3.14)\\nb = 3.14\\n\\n# \\u0422\\u0435\\u043a\\u0441\\u0442\\u043e\\u0432\\u0430\\u044f \\u043f\\u043e\\u0441\\u043b\\u0435\\u0434\\u043e\\u0432\\u0430\\u0442\\u0435\\u043b\\u044c\\u043d\\u043e\\u0441\\u0442\\u044c -- string -> str\\n# c = str(\\\"\\u0422\\u0435\\u043a\\u0441\\u0442 1\\\")\\n\\u0441 = '\\u0422\\u0435\\u043a\\u0441\\u0442 1'\\nd = \\\"\\u0422\\u0435\\u043a\\u0441\\u0442 2\\\"\\ne = \\\"\\\"\\\"\\u0422\\u0435\\u043a\\u0441\\u0442 3 \\u043c\\u043e\\u0436\\u0435\\u0442 \\u0431\\u044b\\u0442\\u044c \\u0434\\u043b\\u0438\\u043d\\u043d\\u044b\\u043c \\u0438\\n\\u043c\\u043e\\u0436\\u043d\\u043e \\u043f\\u0435\\u0440\\u0435\\u043d\\u043e\\u0441\\u0438\\u0442\\u044c \\u0435\\u0433\\u043e \\u043d\\u0430 \\u043d\\u043e\\u0432\\u044b\\u0435 \\u0441\\u0442\\u0440\\u043e\\u043a\\u0438\\n\\u043c\\u043e\\u0436\\u043d\\u043e \\u043f\\u0435\\u0440\\u0435\\u043d\\u043e\\u0441\\u0438\\u0442\\u044c \\u0435\\u0433\\u043e \\u043d\\u0430 \\u043d\\u043e\\u0432\\u044b\\u0435 \\u0441\\u0442\\u0440\\u043e\\u043a\\u0438\\n\\u043c\\u043e\\u0436\\u043d\\u043e \\u043f\\u0435\\u0440\\u0435\\u043d\\u043e\\u0441\\u0438\\u0442\\u044c \\u0435\\u0433\\u043e \\u043d\\u0430 \\u043d\\u043e\\u0432\\u044b\\u0435 \\u0441\\u0442\\u0440\\u043e\\u043a\\u0438\\n\\u043c\\u043e\\u0436\\u043d\\u043e \\u043f\\u0435\\u0440\\u0435\\u043d\\u043e\\u0441\\u0438\\u0442\\u044c \\u0435\\u0433\\u043e \\u043d\\u0430 \\u043d\\u043e\\u0432\\u044b\\u0435 \\u0441\\u0442\\u0440\\u043e\\u043a\\u0438\\\"\\\"\\\"\\n\\n# \\u041b\\u043e\\u0433\\u0438\\u0447\\u0435\\u043a\\u0430\\u044f \\u043f\\u0435\\u0440\\u0435\\u043c\\u0435\\u043d\\u043d\\u0430\\u044f -- boolean -> bool\\n# f = bool(1)\\nf = True\\n\\n\\n# \\u0421\\u043f\\u0438\\u0441\\u043a\\u0438 list -> list\\n# g = list(\\\"123456789\\\")\\ng = [1, 2, 3, 4, 5, 6, 7, 8, 9]\\n\\n# \\u041c\\u043d\\u043e\\u0436\\u0435\\u0441\\u0442\\u0432\\u0430 \\u0438 \\u0441\\u043b\\u043e\\u0432\\u0430\\u0440\\u0438 -> set, dict\\n# h = set([\\\"A\\\", \\\"B\\\", \\\"C\\\"])\\nh = {\\\"A\\\", \\\"B\\\", \\\"C\\\"}\\n\\n# i = dict(((\\\"key1\\\", 1), (\\\"key2\\\", 2), (\\\"key3\\\", 3)))\\ni = {\\\"key1\\\": 1, \\\"key2\\\": 2, \\\"key3\\\": 3}\\n\\n# \\u0418 \\u043c\\u043d\\u043e\\u0433\\u0438\\u0435 \\u0434\\u0440\\u0443\\u0433\\u0438\\u0435...\";\n",
       "                var nbb_formatted_code = \"# \\u0426\\u0435\\u043b\\u043e\\u0435 \\u0447\\u0438\\u0441\\u043b\\u043e integer -> int\\n# a = int(7)\\na = 7\\n\\n# \\u0427\\u0438\\u0441\\u043b\\u043e \\u0441 \\u043f\\u043b\\u0430\\u0432\\u0430\\u044e\\u0449\\u0435\\u0439 \\u0437\\u0430\\u043f\\u044f\\u0442\\u043e\\u0439 -- float -> float\\n# b = float(3.14)\\nb = 3.14\\n\\n# \\u0422\\u0435\\u043a\\u0441\\u0442\\u043e\\u0432\\u0430\\u044f \\u043f\\u043e\\u0441\\u043b\\u0435\\u0434\\u043e\\u0432\\u0430\\u0442\\u0435\\u043b\\u044c\\u043d\\u043e\\u0441\\u0442\\u044c -- string -> str\\n# c = str(\\\"\\u0422\\u0435\\u043a\\u0441\\u0442 1\\\")\\n\\u0441 = \\\"\\u0422\\u0435\\u043a\\u0441\\u0442 1\\\"\\nd = \\\"\\u0422\\u0435\\u043a\\u0441\\u0442 2\\\"\\ne = \\\"\\\"\\\"\\u0422\\u0435\\u043a\\u0441\\u0442 3 \\u043c\\u043e\\u0436\\u0435\\u0442 \\u0431\\u044b\\u0442\\u044c \\u0434\\u043b\\u0438\\u043d\\u043d\\u044b\\u043c \\u0438\\n\\u043c\\u043e\\u0436\\u043d\\u043e \\u043f\\u0435\\u0440\\u0435\\u043d\\u043e\\u0441\\u0438\\u0442\\u044c \\u0435\\u0433\\u043e \\u043d\\u0430 \\u043d\\u043e\\u0432\\u044b\\u0435 \\u0441\\u0442\\u0440\\u043e\\u043a\\u0438\\n\\u043c\\u043e\\u0436\\u043d\\u043e \\u043f\\u0435\\u0440\\u0435\\u043d\\u043e\\u0441\\u0438\\u0442\\u044c \\u0435\\u0433\\u043e \\u043d\\u0430 \\u043d\\u043e\\u0432\\u044b\\u0435 \\u0441\\u0442\\u0440\\u043e\\u043a\\u0438\\n\\u043c\\u043e\\u0436\\u043d\\u043e \\u043f\\u0435\\u0440\\u0435\\u043d\\u043e\\u0441\\u0438\\u0442\\u044c \\u0435\\u0433\\u043e \\u043d\\u0430 \\u043d\\u043e\\u0432\\u044b\\u0435 \\u0441\\u0442\\u0440\\u043e\\u043a\\u0438\\n\\u043c\\u043e\\u0436\\u043d\\u043e \\u043f\\u0435\\u0440\\u0435\\u043d\\u043e\\u0441\\u0438\\u0442\\u044c \\u0435\\u0433\\u043e \\u043d\\u0430 \\u043d\\u043e\\u0432\\u044b\\u0435 \\u0441\\u0442\\u0440\\u043e\\u043a\\u0438\\\"\\\"\\\"\\n\\n# \\u041b\\u043e\\u0433\\u0438\\u0447\\u0435\\u043a\\u0430\\u044f \\u043f\\u0435\\u0440\\u0435\\u043c\\u0435\\u043d\\u043d\\u0430\\u044f -- boolean -> bool\\n# f = bool(1)\\nf = True\\n\\n\\n# \\u0421\\u043f\\u0438\\u0441\\u043a\\u0438 list -> list\\n# g = list(\\\"123456789\\\")\\ng = [1, 2, 3, 4, 5, 6, 7, 8, 9]\\n\\n# \\u041c\\u043d\\u043e\\u0436\\u0435\\u0441\\u0442\\u0432\\u0430 \\u0438 \\u0441\\u043b\\u043e\\u0432\\u0430\\u0440\\u0438 -> set, dict\\n# h = set([\\\"A\\\", \\\"B\\\", \\\"C\\\"])\\nh = {\\\"A\\\", \\\"B\\\", \\\"C\\\"}\\n\\n# i = dict(((\\\"key1\\\", 1), (\\\"key2\\\", 2), (\\\"key3\\\", 3)))\\ni = {\\\"key1\\\": 1, \\\"key2\\\": 2, \\\"key3\\\": 3}\\n\\n# \\u0418 \\u043c\\u043d\\u043e\\u0433\\u0438\\u0435 \\u0434\\u0440\\u0443\\u0433\\u0438\\u0435...\";\n",
       "                var nbb_cells = Jupyter.notebook.get_cells();\n",
       "                for (var i = 0; i < nbb_cells.length; ++i) {\n",
       "                    if (nbb_cells[i].input_prompt_number == nbb_cell_id) {\n",
       "                        if (nbb_cells[i].get_text() == nbb_unformatted_code) {\n",
       "                             nbb_cells[i].set_text(nbb_formatted_code);\n",
       "                        }\n",
       "                        break;\n",
       "                    }\n",
       "                }\n",
       "            }, 500);\n",
       "            "
      ],
      "text/plain": [
       "<IPython.core.display.Javascript object>"
      ]
     },
     "metadata": {},
     "output_type": "display_data"
    }
   ],
   "source": [
    "# Целое число integer -> int\n",
    "# a = int(7)\n",
    "a = 7\n",
    "\n",
    "# Число с плавающей запятой -- float -> float\n",
    "# b = float(3.14)\n",
    "b = 3.14\n",
    "\n",
    "# Текстовая последовательность -- string -> str\n",
    "# c = str(\"Текст 1\")\n",
    "с = \"Текст 1\"\n",
    "d = \"Текст 2\"\n",
    "e = \"\"\"Текст 3 может быть длинным и\n",
    "можно переносить его на новые строки\n",
    "можно переносить его на новые строки\n",
    "можно переносить его на новые строки\n",
    "можно переносить его на новые строки\"\"\"\n",
    "\n",
    "# Логичекая переменная -- boolean -> bool\n",
    "# f = bool(1)\n",
    "f = True\n",
    "\n",
    "\n",
    "# Списки list -> list\n",
    "# g = list(\"123456789\")\n",
    "g = [1, 2, 3, 4, 5, 6, 7, 8, 9]\n",
    "\n",
    "# Множества и словари -> set, dict\n",
    "# h = set([\"A\", \"B\", \"C\"])\n",
    "h = {\"A\", \"B\", \"C\"}\n",
    "\n",
    "# i = dict(((\"key1\", 1), (\"key2\", 2), (\"key3\", 3)))\n",
    "i = {\"key1\": 1, \"key2\": 2, \"key3\": 3}\n",
    "\n",
    "# И многие другие..."
   ]
  },
  {
   "cell_type": "code",
   "execution_count": 3,
   "id": "49f8f0c9",
   "metadata": {},
   "outputs": [
    {
     "data": {
      "application/javascript": [
       "\n",
       "            setTimeout(function() {\n",
       "                var nbb_cell_id = 3;\n",
       "                var nbb_unformatted_code = \"# \\u0410\\u043d\\u043d\\u043e\\u0442\\u0430\\u0446\\u0438\\u0438 \\u0442\\u0438\\u043f\\u043e\\u0432\\na: int = 1\\nb: float = 3.14\\nc: str = \\\"qwerty\\\"\";\n",
       "                var nbb_formatted_code = \"# \\u0410\\u043d\\u043d\\u043e\\u0442\\u0430\\u0446\\u0438\\u0438 \\u0442\\u0438\\u043f\\u043e\\u0432\\na: int = 1\\nb: float = 3.14\\nc: str = \\\"qwerty\\\"\";\n",
       "                var nbb_cells = Jupyter.notebook.get_cells();\n",
       "                for (var i = 0; i < nbb_cells.length; ++i) {\n",
       "                    if (nbb_cells[i].input_prompt_number == nbb_cell_id) {\n",
       "                        if (nbb_cells[i].get_text() == nbb_unformatted_code) {\n",
       "                             nbb_cells[i].set_text(nbb_formatted_code);\n",
       "                        }\n",
       "                        break;\n",
       "                    }\n",
       "                }\n",
       "            }, 500);\n",
       "            "
      ],
      "text/plain": [
       "<IPython.core.display.Javascript object>"
      ]
     },
     "metadata": {},
     "output_type": "display_data"
    }
   ],
   "source": [
    "# Аннотации типов\n",
    "a: int = 1\n",
    "b: float = 3.14\n",
    "c: str = \"qwerty\""
   ]
  },
  {
   "cell_type": "code",
   "execution_count": 4,
   "id": "e969a25e",
   "metadata": {},
   "outputs": [
    {
     "data": {
      "text/plain": [
       "'0.30000000000000004 > 0.3, 0.7999999999999999 < 0.80'"
      ]
     },
     "execution_count": 4,
     "metadata": {},
     "output_type": "execute_result"
    },
    {
     "data": {
      "application/javascript": [
       "\n",
       "            setTimeout(function() {\n",
       "                var nbb_cell_id = 4;\n",
       "                var nbb_unformatted_code = \"# \\u0441\\u0442\\u0440\\u043e\\u043a\\u0438 \\u0444\\u043e\\u0440\\u043c\\u0430\\u0442\\u0438\\u0440\\u043e\\u0432\\u0430\\u043d\\u0438\\u044f\\n# https://docs.python.org/3/library/string.html#formatstrings\\n\\nf\\\"{0.2 + 0.1} > {0.3}, {0.7+0.1} < {0.7+0.1:.2f}\\\"\";\n",
       "                var nbb_formatted_code = \"# \\u0441\\u0442\\u0440\\u043e\\u043a\\u0438 \\u0444\\u043e\\u0440\\u043c\\u0430\\u0442\\u0438\\u0440\\u043e\\u0432\\u0430\\u043d\\u0438\\u044f\\n# https://docs.python.org/3/library/string.html#formatstrings\\n\\nf\\\"{0.2 + 0.1} > {0.3}, {0.7+0.1} < {0.7+0.1:.2f}\\\"\";\n",
       "                var nbb_cells = Jupyter.notebook.get_cells();\n",
       "                for (var i = 0; i < nbb_cells.length; ++i) {\n",
       "                    if (nbb_cells[i].input_prompt_number == nbb_cell_id) {\n",
       "                        if (nbb_cells[i].get_text() == nbb_unformatted_code) {\n",
       "                             nbb_cells[i].set_text(nbb_formatted_code);\n",
       "                        }\n",
       "                        break;\n",
       "                    }\n",
       "                }\n",
       "            }, 500);\n",
       "            "
      ],
      "text/plain": [
       "<IPython.core.display.Javascript object>"
      ]
     },
     "metadata": {},
     "output_type": "display_data"
    }
   ],
   "source": [
    "# строки форматирования\n",
    "# https://docs.python.org/3/library/string.html#formatstrings\n",
    "\n",
    "f\"{0.2 + 0.1} > {0.3}, {0.7+0.1} < {0.7+0.1:.2f}\""
   ]
  },
  {
   "cell_type": "markdown",
   "id": "d3e8335c",
   "metadata": {},
   "source": [
    "### Строки -> str\n",
    "https://docs.python.org/3/library/string.html"
   ]
  },
  {
   "cell_type": "code",
   "execution_count": 5,
   "id": "8bbbd849",
   "metadata": {},
   "outputs": [
    {
     "name": "stdout",
     "output_type": "stream",
     "text": [
      "qwerty\n",
      "asdfg!\n",
      "qwerty\\nasdfg!\n",
      "b'\\xd1\\x81\\xd1\\x82\\xd1\\x80\\xd0\\xbe\\xd0\\xba\\xd0\\xb0'\n",
      "qwerty -> 6 ? 3.14\n"
     ]
    },
    {
     "data": {
      "application/javascript": [
       "\n",
       "            setTimeout(function() {\n",
       "                var nbb_cell_id = 5;\n",
       "                var nbb_unformatted_code = \"print(\\\"qwerty\\\\nasdfg!\\\")  # unicode\\nprint(r\\\"qwerty\\\\nasdfg!\\\")  # \\\"\\u0441\\u044b\\u0440\\u0430\\u044f\\\" -- row\\nprint(b\\\"\\\\xd1\\\\x81\\\\xd1\\\\x82\\\\xd1\\\\x80\\\\xd0\\\\xbe\\\\xd0\\\\xba\\\\xd0\\\\xb0\\\")  # \\u0431\\u0430\\u0439\\u0442\\u043e\\u0432\\u0430\\u044f\\nprint(f\\\"qwerty -> {1+2+3} ? {b}\\\")  # \\u0441\\u0442\\u0440\\u043e\\u043a\\u0430 \\u0444\\u043e\\u0440\\u043c\\u0430\\u0442\\u0438\\u0440\\u043e\\u0432\\u0430\\u043d\\u0438\\u044f\";\n",
       "                var nbb_formatted_code = \"print(\\\"qwerty\\\\nasdfg!\\\")  # unicode\\nprint(r\\\"qwerty\\\\nasdfg!\\\")  # \\\"\\u0441\\u044b\\u0440\\u0430\\u044f\\\" -- row\\nprint(b\\\"\\\\xd1\\\\x81\\\\xd1\\\\x82\\\\xd1\\\\x80\\\\xd0\\\\xbe\\\\xd0\\\\xba\\\\xd0\\\\xb0\\\")  # \\u0431\\u0430\\u0439\\u0442\\u043e\\u0432\\u0430\\u044f\\nprint(f\\\"qwerty -> {1+2+3} ? {b}\\\")  # \\u0441\\u0442\\u0440\\u043e\\u043a\\u0430 \\u0444\\u043e\\u0440\\u043c\\u0430\\u0442\\u0438\\u0440\\u043e\\u0432\\u0430\\u043d\\u0438\\u044f\";\n",
       "                var nbb_cells = Jupyter.notebook.get_cells();\n",
       "                for (var i = 0; i < nbb_cells.length; ++i) {\n",
       "                    if (nbb_cells[i].input_prompt_number == nbb_cell_id) {\n",
       "                        if (nbb_cells[i].get_text() == nbb_unformatted_code) {\n",
       "                             nbb_cells[i].set_text(nbb_formatted_code);\n",
       "                        }\n",
       "                        break;\n",
       "                    }\n",
       "                }\n",
       "            }, 500);\n",
       "            "
      ],
      "text/plain": [
       "<IPython.core.display.Javascript object>"
      ]
     },
     "metadata": {},
     "output_type": "display_data"
    }
   ],
   "source": [
    "print(\"qwerty\\nasdfg!\")  # unicode\n",
    "print(r\"qwerty\\nasdfg!\")  # \"сырая\" -- row\n",
    "print(b\"\\xd1\\x81\\xd1\\x82\\xd1\\x80\\xd0\\xbe\\xd0\\xba\\xd0\\xb0\")  # байтовая\n",
    "print(f\"qwerty -> {1+2+3} ? {b}\")  # строка форматирования"
   ]
  },
  {
   "cell_type": "code",
   "execution_count": 6,
   "id": "82892d88",
   "metadata": {},
   "outputs": [
    {
     "name": "stdout",
     "output_type": "stream",
     "text": [
      "строка и еще что-то\n",
      "__________\n"
     ]
    },
    {
     "data": {
      "application/javascript": [
       "\n",
       "            setTimeout(function() {\n",
       "                var nbb_cell_id = 6;\n",
       "                var nbb_unformatted_code = \"print(\\\"\\u0441\\u0442\\u0440\\u043e\\u043a\\u0430\\\" + \\\" \\u0438 \\u0435\\u0449\\u0435 \\u0447\\u0442\\u043e-\\u0442\\u043e\\\")  # \\u043a\\u043e\\u043d\\u043a\\u0430\\u0442\\u0435\\u043d\\u0430\\u0446\\u0438\\u044f\\nprint(\\\"_\\\" * 10)  # \\\"\\u043c\\u0443\\u043b\\u044c\\u0442\\u0438\\u043f\\u043b\\u0438\\u0446\\u0438\\u0440\\u043e\\u0432\\u0430\\u043d\\u0438\\u0435\\\"\";\n",
       "                var nbb_formatted_code = \"print(\\\"\\u0441\\u0442\\u0440\\u043e\\u043a\\u0430\\\" + \\\" \\u0438 \\u0435\\u0449\\u0435 \\u0447\\u0442\\u043e-\\u0442\\u043e\\\")  # \\u043a\\u043e\\u043d\\u043a\\u0430\\u0442\\u0435\\u043d\\u0430\\u0446\\u0438\\u044f\\nprint(\\\"_\\\" * 10)  # \\\"\\u043c\\u0443\\u043b\\u044c\\u0442\\u0438\\u043f\\u043b\\u0438\\u0446\\u0438\\u0440\\u043e\\u0432\\u0430\\u043d\\u0438\\u0435\\\"\";\n",
       "                var nbb_cells = Jupyter.notebook.get_cells();\n",
       "                for (var i = 0; i < nbb_cells.length; ++i) {\n",
       "                    if (nbb_cells[i].input_prompt_number == nbb_cell_id) {\n",
       "                        if (nbb_cells[i].get_text() == nbb_unformatted_code) {\n",
       "                             nbb_cells[i].set_text(nbb_formatted_code);\n",
       "                        }\n",
       "                        break;\n",
       "                    }\n",
       "                }\n",
       "            }, 500);\n",
       "            "
      ],
      "text/plain": [
       "<IPython.core.display.Javascript object>"
      ]
     },
     "metadata": {},
     "output_type": "display_data"
    }
   ],
   "source": [
    "print(\"строка\" + \" и еще что-то\")  # конкатенация\n",
    "print(\"_\" * 10)  # \"мультиплицирование\""
   ]
  },
  {
   "cell_type": "code",
   "execution_count": 7,
   "id": "b16fcb15",
   "metadata": {},
   "outputs": [
    {
     "data": {
      "text/plain": [
       "str"
      ]
     },
     "execution_count": 7,
     "metadata": {},
     "output_type": "execute_result"
    },
    {
     "data": {
      "application/javascript": [
       "\n",
       "            setTimeout(function() {\n",
       "                var nbb_cell_id = 7;\n",
       "                var nbb_unformatted_code = \"# 12345 + \\\"\\u0441\\u0442\\u0440\\u043e\\u043a\\u0430\\\"  # -> TypeError: \\u043c\\u044b \\u0434\\u043e\\u043b\\u0436\\u043d\\u044b \\u0440\\u0430\\u0431\\u043e\\u0442\\u0430\\u0442\\u044c \\u0441 \\u043e\\u0434\\u043d\\u0438\\u043c \\u0442\\u0438\\u043f\\u043e\\u043c \\u0434\\u0430\\u043d\\u043d\\u044b\\u0445\\ntype(str(12345) + \\\"\\u0441\\u0442\\u0440\\u043e\\u043a\\u0430\\\")\";\n",
       "                var nbb_formatted_code = \"# 12345 + \\\"\\u0441\\u0442\\u0440\\u043e\\u043a\\u0430\\\"  # -> TypeError: \\u043c\\u044b \\u0434\\u043e\\u043b\\u0436\\u043d\\u044b \\u0440\\u0430\\u0431\\u043e\\u0442\\u0430\\u0442\\u044c \\u0441 \\u043e\\u0434\\u043d\\u0438\\u043c \\u0442\\u0438\\u043f\\u043e\\u043c \\u0434\\u0430\\u043d\\u043d\\u044b\\u0445\\ntype(str(12345) + \\\"\\u0441\\u0442\\u0440\\u043e\\u043a\\u0430\\\")\";\n",
       "                var nbb_cells = Jupyter.notebook.get_cells();\n",
       "                for (var i = 0; i < nbb_cells.length; ++i) {\n",
       "                    if (nbb_cells[i].input_prompt_number == nbb_cell_id) {\n",
       "                        if (nbb_cells[i].get_text() == nbb_unformatted_code) {\n",
       "                             nbb_cells[i].set_text(nbb_formatted_code);\n",
       "                        }\n",
       "                        break;\n",
       "                    }\n",
       "                }\n",
       "            }, 500);\n",
       "            "
      ],
      "text/plain": [
       "<IPython.core.display.Javascript object>"
      ]
     },
     "metadata": {},
     "output_type": "display_data"
    }
   ],
   "source": [
    "# 12345 + \"строка\"  # -> TypeError: мы должны работать с одним типом данных\n",
    "type(str(12345) + \"строка\")"
   ]
  },
  {
   "cell_type": "code",
   "execution_count": 8,
   "id": "12753279",
   "metadata": {},
   "outputs": [
    {
     "name": "stdout",
     "output_type": "stream",
     "text": [
      "т\n",
      "а\n"
     ]
    },
    {
     "data": {
      "application/javascript": [
       "\n",
       "            setTimeout(function() {\n",
       "                var nbb_cell_id = 8;\n",
       "                var nbb_unformatted_code = \"string = \\\"\\u0441\\u0442\\u0440\\u043e\\u043a\\u0430\\\"\\nprint(string[1])  # \\u0438\\u043d\\u0434\\u0435\\u043a\\u0441\\u0430\\u0446\\u0438\\u044f \\u0441 0\\nprint(string[-1])  # \\u043c\\u044b \\u043c\\u043e\\u0436\\u0435\\u043c \\u043e\\u0431\\u0440\\u0430\\u0449\\u0430\\u0442\\u044c\\u0441\\u044f \\u0432 \\u043e\\u0431\\u0440\\u0430\\u0442\\u043d\\u043e\\u043c \\u043f\\u043e\\u0440\\u044f\\u0434\\u043a\\u0435\";\n",
       "                var nbb_formatted_code = \"string = \\\"\\u0441\\u0442\\u0440\\u043e\\u043a\\u0430\\\"\\nprint(string[1])  # \\u0438\\u043d\\u0434\\u0435\\u043a\\u0441\\u0430\\u0446\\u0438\\u044f \\u0441 0\\nprint(string[-1])  # \\u043c\\u044b \\u043c\\u043e\\u0436\\u0435\\u043c \\u043e\\u0431\\u0440\\u0430\\u0449\\u0430\\u0442\\u044c\\u0441\\u044f \\u0432 \\u043e\\u0431\\u0440\\u0430\\u0442\\u043d\\u043e\\u043c \\u043f\\u043e\\u0440\\u044f\\u0434\\u043a\\u0435\";\n",
       "                var nbb_cells = Jupyter.notebook.get_cells();\n",
       "                for (var i = 0; i < nbb_cells.length; ++i) {\n",
       "                    if (nbb_cells[i].input_prompt_number == nbb_cell_id) {\n",
       "                        if (nbb_cells[i].get_text() == nbb_unformatted_code) {\n",
       "                             nbb_cells[i].set_text(nbb_formatted_code);\n",
       "                        }\n",
       "                        break;\n",
       "                    }\n",
       "                }\n",
       "            }, 500);\n",
       "            "
      ],
      "text/plain": [
       "<IPython.core.display.Javascript object>"
      ]
     },
     "metadata": {},
     "output_type": "display_data"
    }
   ],
   "source": [
    "string = \"строка\"\n",
    "print(string[1])  # индексация с 0\n",
    "print(string[-1])  # мы можем обращаться в обратном порядке"
   ]
  },
  {
   "cell_type": "code",
   "execution_count": 9,
   "id": "dc6edb8a",
   "metadata": {},
   "outputs": [
    {
     "data": {
      "application/javascript": [
       "\n",
       "            setTimeout(function() {\n",
       "                var nbb_cell_id = 9;\n",
       "                var nbb_unformatted_code = \"# string[1] = \\\"\\u044e\\\"  # -> \\u0442\\u0430\\u043a \\u043c\\u044b \\u0434\\u0435\\u043b\\u0430\\u0442\\u044c \\u043d\\u0435 \\u043c\\u043e\\u0436\\u0435\\u043c, \\u0441\\u0442\\u0440\\u043e\\u043a\\u0438 \\u043d\\u0435\\u0438\\u0437\\u043c\\u0435\\u043d\\u044f\\u0435\\u043c\\u044b\\u0439 \\u0442\\u0438\\u043f \\u0434\\u0430\\u043d\\u043d\\u044b\\u0445\\n# string[100]  # -> IndexError -- \\u043d\\u0435 \\u0441\\u0443\\u0449\\u0435\\u0441\\u0442\\u0432\\u0443\\u0435\\u0442 \\u0442\\u0430\\u043a\\u043e\\u0433\\u043e \\u0438\\u043d\\u0434\\u0435\\u043a\\u0441\\u0430\";\n",
       "                var nbb_formatted_code = \"# string[1] = \\\"\\u044e\\\"  # -> \\u0442\\u0430\\u043a \\u043c\\u044b \\u0434\\u0435\\u043b\\u0430\\u0442\\u044c \\u043d\\u0435 \\u043c\\u043e\\u0436\\u0435\\u043c, \\u0441\\u0442\\u0440\\u043e\\u043a\\u0438 \\u043d\\u0435\\u0438\\u0437\\u043c\\u0435\\u043d\\u044f\\u0435\\u043c\\u044b\\u0439 \\u0442\\u0438\\u043f \\u0434\\u0430\\u043d\\u043d\\u044b\\u0445\\n# string[100]  # -> IndexError -- \\u043d\\u0435 \\u0441\\u0443\\u0449\\u0435\\u0441\\u0442\\u0432\\u0443\\u0435\\u0442 \\u0442\\u0430\\u043a\\u043e\\u0433\\u043e \\u0438\\u043d\\u0434\\u0435\\u043a\\u0441\\u0430\";\n",
       "                var nbb_cells = Jupyter.notebook.get_cells();\n",
       "                for (var i = 0; i < nbb_cells.length; ++i) {\n",
       "                    if (nbb_cells[i].input_prompt_number == nbb_cell_id) {\n",
       "                        if (nbb_cells[i].get_text() == nbb_unformatted_code) {\n",
       "                             nbb_cells[i].set_text(nbb_formatted_code);\n",
       "                        }\n",
       "                        break;\n",
       "                    }\n",
       "                }\n",
       "            }, 500);\n",
       "            "
      ],
      "text/plain": [
       "<IPython.core.display.Javascript object>"
      ]
     },
     "metadata": {},
     "output_type": "display_data"
    }
   ],
   "source": [
    "# string[1] = \"ю\"  # -> так мы делать не можем, строки неизменяемый тип данных\n",
    "# string[100]  # -> IndexError -- не существует такого индекса"
   ]
  },
  {
   "cell_type": "code",
   "execution_count": 10,
   "id": "d770f3cc",
   "metadata": {},
   "outputs": [
    {
     "name": "stdout",
     "output_type": "stream",
     "text": [
      "строка\n",
      "строк | рока\n",
      "срк | \n",
      "акортс | акортс | \n"
     ]
    },
    {
     "data": {
      "text/plain": [
       "'акортс'"
      ]
     },
     "execution_count": 10,
     "metadata": {},
     "output_type": "execute_result"
    },
    {
     "data": {
      "application/javascript": [
       "\n",
       "            setTimeout(function() {\n",
       "                var nbb_cell_id = 10;\n",
       "                var nbb_unformatted_code = \"# \\u0421\\u0440\\u0435\\u0437\\u044b\\nprint(string[:])  # [\\u043d\\u0430\\u0447\\u0430\\u043b\\u043e:\\u043a\\u043e\\u043d\\u0435\\u0446:\\u0448\\u0430\\u0433]\\nprint(string[:5], string[2:10], sep=\\\" | \\\")\\nprint(string[::2], string[5:-2:3], sep=\\\" | \\\")\\nprint(string[-1::-1], string[::-1], string[1:5:-1], sep=\\\" | \\\")\\nstring[::-1]\";\n",
       "                var nbb_formatted_code = \"# \\u0421\\u0440\\u0435\\u0437\\u044b\\nprint(string[:])  # [\\u043d\\u0430\\u0447\\u0430\\u043b\\u043e:\\u043a\\u043e\\u043d\\u0435\\u0446:\\u0448\\u0430\\u0433]\\nprint(string[:5], string[2:10], sep=\\\" | \\\")\\nprint(string[::2], string[5:-2:3], sep=\\\" | \\\")\\nprint(string[-1::-1], string[::-1], string[1:5:-1], sep=\\\" | \\\")\\nstring[::-1]\";\n",
       "                var nbb_cells = Jupyter.notebook.get_cells();\n",
       "                for (var i = 0; i < nbb_cells.length; ++i) {\n",
       "                    if (nbb_cells[i].input_prompt_number == nbb_cell_id) {\n",
       "                        if (nbb_cells[i].get_text() == nbb_unformatted_code) {\n",
       "                             nbb_cells[i].set_text(nbb_formatted_code);\n",
       "                        }\n",
       "                        break;\n",
       "                    }\n",
       "                }\n",
       "            }, 500);\n",
       "            "
      ],
      "text/plain": [
       "<IPython.core.display.Javascript object>"
      ]
     },
     "metadata": {},
     "output_type": "display_data"
    }
   ],
   "source": [
    "# Срезы\n",
    "print(string[:])  # [начало:конец:шаг]\n",
    "print(string[:5], string[2:10], sep=\" | \")\n",
    "print(string[::2], string[5:-2:3], sep=\" | \")\n",
    "print(string[-1::-1], string[::-1], string[1:5:-1], sep=\" | \")\n",
    "string[::-1]"
   ]
  },
  {
   "cell_type": "markdown",
   "id": "fbd9e38e",
   "metadata": {},
   "source": [
    "#### методы\n",
    "https://docs.python.org/3/library/stdtypes.html#string-methods"
   ]
  },
  {
   "cell_type": "code",
   "execution_count": 11,
   "id": "6499d0e0",
   "metadata": {},
   "outputs": [
    {
     "data": {
      "text/plain": [
       "('СТРОКА', 'строка')"
      ]
     },
     "execution_count": 11,
     "metadata": {},
     "output_type": "execute_result"
    },
    {
     "data": {
      "application/javascript": [
       "\n",
       "            setTimeout(function() {\n",
       "                var nbb_cell_id = 11;\n",
       "                var nbb_unformatted_code = \"string.upper(), string.lower()\";\n",
       "                var nbb_formatted_code = \"string.upper(), string.lower()\";\n",
       "                var nbb_cells = Jupyter.notebook.get_cells();\n",
       "                for (var i = 0; i < nbb_cells.length; ++i) {\n",
       "                    if (nbb_cells[i].input_prompt_number == nbb_cell_id) {\n",
       "                        if (nbb_cells[i].get_text() == nbb_unformatted_code) {\n",
       "                             nbb_cells[i].set_text(nbb_formatted_code);\n",
       "                        }\n",
       "                        break;\n",
       "                    }\n",
       "                }\n",
       "            }, 500);\n",
       "            "
      ],
      "text/plain": [
       "<IPython.core.display.Javascript object>"
      ]
     },
     "metadata": {},
     "output_type": "display_data"
    }
   ],
   "source": [
    "string.upper(), string.lower()"
   ]
  },
  {
   "cell_type": "code",
   "execution_count": 12,
   "id": "38adafb7",
   "metadata": {},
   "outputs": [
    {
     "data": {
      "text/plain": [
       "(True, True)"
      ]
     },
     "execution_count": 12,
     "metadata": {},
     "output_type": "execute_result"
    },
    {
     "data": {
      "application/javascript": [
       "\n",
       "            setTimeout(function() {\n",
       "                var nbb_cell_id = 12;\n",
       "                var nbb_unformatted_code = \"\\\"\\u041f\\u0440\\u0438\\u0432\\u0435\\u0442\\\".isalpha(), \\\"123\\\".isdigit()\";\n",
       "                var nbb_formatted_code = \"\\\"\\u041f\\u0440\\u0438\\u0432\\u0435\\u0442\\\".isalpha(), \\\"123\\\".isdigit()\";\n",
       "                var nbb_cells = Jupyter.notebook.get_cells();\n",
       "                for (var i = 0; i < nbb_cells.length; ++i) {\n",
       "                    if (nbb_cells[i].input_prompt_number == nbb_cell_id) {\n",
       "                        if (nbb_cells[i].get_text() == nbb_unformatted_code) {\n",
       "                             nbb_cells[i].set_text(nbb_formatted_code);\n",
       "                        }\n",
       "                        break;\n",
       "                    }\n",
       "                }\n",
       "            }, 500);\n",
       "            "
      ],
      "text/plain": [
       "<IPython.core.display.Javascript object>"
      ]
     },
     "metadata": {},
     "output_type": "display_data"
    }
   ],
   "source": [
    "\"Привет\".isalpha(), \"123\".isdigit()"
   ]
  },
  {
   "cell_type": "code",
   "execution_count": 13,
   "id": "633aa853",
   "metadata": {},
   "outputs": [
    {
     "data": {
      "text/plain": [
       "('стр!ка', 'м*л*ко')"
      ]
     },
     "execution_count": 13,
     "metadata": {},
     "output_type": "execute_result"
    },
    {
     "data": {
      "application/javascript": [
       "\n",
       "            setTimeout(function() {\n",
       "                var nbb_cell_id = 13;\n",
       "                var nbb_unformatted_code = \"string.replace(\\\"\\u043e\\\", \\\"!\\\"), \\\"\\u043c\\u043e\\u043b\\u043e\\u043a\\u043e\\\".replace(\\\"\\u043e\\\", \\\"*\\\", 2)\";\n",
       "                var nbb_formatted_code = \"string.replace(\\\"\\u043e\\\", \\\"!\\\"), \\\"\\u043c\\u043e\\u043b\\u043e\\u043a\\u043e\\\".replace(\\\"\\u043e\\\", \\\"*\\\", 2)\";\n",
       "                var nbb_cells = Jupyter.notebook.get_cells();\n",
       "                for (var i = 0; i < nbb_cells.length; ++i) {\n",
       "                    if (nbb_cells[i].input_prompt_number == nbb_cell_id) {\n",
       "                        if (nbb_cells[i].get_text() == nbb_unformatted_code) {\n",
       "                             nbb_cells[i].set_text(nbb_formatted_code);\n",
       "                        }\n",
       "                        break;\n",
       "                    }\n",
       "                }\n",
       "            }, 500);\n",
       "            "
      ],
      "text/plain": [
       "<IPython.core.display.Javascript object>"
      ]
     },
     "metadata": {},
     "output_type": "display_data"
    }
   ],
   "source": [
    "string.replace(\"о\", \"!\"), \"молоко\".replace(\"о\", \"*\", 2)"
   ]
  },
  {
   "cell_type": "code",
   "execution_count": 14,
   "id": "0f258619",
   "metadata": {},
   "outputs": [
    {
     "data": {
      "text/plain": [
       "(b'\\xd0\\x9d\\xd0\\xb5\\xd0\\xba\\xd0\\xbe\\xd1\\x82\\xd0\\xbe\\xd1\\x80\\xd0\\xb0\\xd1\\x8f \\xd1\\x81\\xd1\\x82\\xd1\\x80\\xd0\\xbe\\xd0\\xba\\xd0\\xb0',\n",
       " 'строка')"
      ]
     },
     "execution_count": 14,
     "metadata": {},
     "output_type": "execute_result"
    },
    {
     "data": {
      "application/javascript": [
       "\n",
       "            setTimeout(function() {\n",
       "                var nbb_cell_id = 14;\n",
       "                var nbb_unformatted_code = \"\\\"\\u041d\\u0435\\u043a\\u043e\\u0442\\u043e\\u0440\\u0430\\u044f \\u0441\\u0442\\u0440\\u043e\\u043a\\u0430\\\".encode(), b\\\"\\\\xd1\\\\x81\\\\xd1\\\\x82\\\\xd1\\\\x80\\\\xd0\\\\xbe\\\\xd0\\\\xba\\\\xd0\\\\xb0\\\".decode()\";\n",
       "                var nbb_formatted_code = \"\\\"\\u041d\\u0435\\u043a\\u043e\\u0442\\u043e\\u0440\\u0430\\u044f \\u0441\\u0442\\u0440\\u043e\\u043a\\u0430\\\".encode(), b\\\"\\\\xd1\\\\x81\\\\xd1\\\\x82\\\\xd1\\\\x80\\\\xd0\\\\xbe\\\\xd0\\\\xba\\\\xd0\\\\xb0\\\".decode()\";\n",
       "                var nbb_cells = Jupyter.notebook.get_cells();\n",
       "                for (var i = 0; i < nbb_cells.length; ++i) {\n",
       "                    if (nbb_cells[i].input_prompt_number == nbb_cell_id) {\n",
       "                        if (nbb_cells[i].get_text() == nbb_unformatted_code) {\n",
       "                             nbb_cells[i].set_text(nbb_formatted_code);\n",
       "                        }\n",
       "                        break;\n",
       "                    }\n",
       "                }\n",
       "            }, 500);\n",
       "            "
      ],
      "text/plain": [
       "<IPython.core.display.Javascript object>"
      ]
     },
     "metadata": {},
     "output_type": "display_data"
    }
   ],
   "source": [
    "\"Некоторая строка\".encode(), b\"\\xd1\\x81\\xd1\\x82\\xd1\\x80\\xd0\\xbe\\xd0\\xba\\xd0\\xb0\".decode()"
   ]
  },
  {
   "cell_type": "code",
   "execution_count": 15,
   "id": "8c359525",
   "metadata": {},
   "outputs": [
    {
     "name": "stdout",
     "output_type": "stream",
     "text": [
      "2.718281828459045\n",
      "1 2\n",
      "0 2 2 4\n"
     ]
    },
    {
     "data": {
      "application/javascript": [
       "\n",
       "            setTimeout(function() {\n",
       "                var nbb_cell_id = 15;\n",
       "                var nbb_unformatted_code = \"import math  # \\u043c\\u043e\\u0434\\u0443\\u043b\\u044c https://docs.python.org/3/library/math.html\\n\\nprint(math.e)\\nprint(math.floor(1.2), math.ceil(1.5))\\nprint(round(0.5), round(1.5), round(2.5), round(3.5))\";\n",
       "                var nbb_formatted_code = \"import math  # \\u043c\\u043e\\u0434\\u0443\\u043b\\u044c https://docs.python.org/3/library/math.html\\n\\nprint(math.e)\\nprint(math.floor(1.2), math.ceil(1.5))\\nprint(round(0.5), round(1.5), round(2.5), round(3.5))\";\n",
       "                var nbb_cells = Jupyter.notebook.get_cells();\n",
       "                for (var i = 0; i < nbb_cells.length; ++i) {\n",
       "                    if (nbb_cells[i].input_prompt_number == nbb_cell_id) {\n",
       "                        if (nbb_cells[i].get_text() == nbb_unformatted_code) {\n",
       "                             nbb_cells[i].set_text(nbb_formatted_code);\n",
       "                        }\n",
       "                        break;\n",
       "                    }\n",
       "                }\n",
       "            }, 500);\n",
       "            "
      ],
      "text/plain": [
       "<IPython.core.display.Javascript object>"
      ]
     },
     "metadata": {},
     "output_type": "display_data"
    }
   ],
   "source": [
    "import math  # модуль https://docs.python.org/3/library/math.html\n",
    "\n",
    "print(math.e)\n",
    "print(math.floor(1.2), math.ceil(1.5))\n",
    "print(round(0.5), round(1.5), round(2.5), round(3.5))"
   ]
  },
  {
   "cell_type": "code",
   "execution_count": 16,
   "id": "1f66d3ef",
   "metadata": {},
   "outputs": [
    {
     "name": "stdout",
     "output_type": "stream",
     "text": [
      "1: 1 2: 2.718 3: 999\n",
      "2.718281828459045 3 1\n",
      "1 2.718281828459045 3\n",
      "\n",
      "1)1 2)3.14 3)3\n",
      "\n",
      "строка + 33\n",
      "5 3.14159\n"
     ]
    },
    {
     "data": {
      "application/javascript": [
       "\n",
       "            setTimeout(function() {\n",
       "                var nbb_cell_id = 16;\n",
       "                var nbb_unformatted_code = \"print(\\\"1: {} 2: {:.3f} 3: {:03}\\\".format(1, math.e, 999))\\nprint(\\\"{1} {2} {0}\\\".format(1, math.e, 3))\\nprint(\\\"{first} {second} {third}\\\".format(first=1, second=math.e, third=3))\\nprint()\\n\\nprint(\\\"1)%d 2)%.2f 3)%s\\\" % (1, 3.1415, 3))  # python 2x\\nprint()\\n\\n# https://docs.python.org/3/reference/lexical_analysis.html#formatted-string-literals\\nprint(f\\\"{string} + {10+23}\\\")\\nprint(f\\\"{2+3} {math.pi:.5f}\\\")\";\n",
       "                var nbb_formatted_code = \"print(\\\"1: {} 2: {:.3f} 3: {:03}\\\".format(1, math.e, 999))\\nprint(\\\"{1} {2} {0}\\\".format(1, math.e, 3))\\nprint(\\\"{first} {second} {third}\\\".format(first=1, second=math.e, third=3))\\nprint()\\n\\nprint(\\\"1)%d 2)%.2f 3)%s\\\" % (1, 3.1415, 3))  # python 2x\\nprint()\\n\\n# https://docs.python.org/3/reference/lexical_analysis.html#formatted-string-literals\\nprint(f\\\"{string} + {10+23}\\\")\\nprint(f\\\"{2+3} {math.pi:.5f}\\\")\";\n",
       "                var nbb_cells = Jupyter.notebook.get_cells();\n",
       "                for (var i = 0; i < nbb_cells.length; ++i) {\n",
       "                    if (nbb_cells[i].input_prompt_number == nbb_cell_id) {\n",
       "                        if (nbb_cells[i].get_text() == nbb_unformatted_code) {\n",
       "                             nbb_cells[i].set_text(nbb_formatted_code);\n",
       "                        }\n",
       "                        break;\n",
       "                    }\n",
       "                }\n",
       "            }, 500);\n",
       "            "
      ],
      "text/plain": [
       "<IPython.core.display.Javascript object>"
      ]
     },
     "metadata": {},
     "output_type": "display_data"
    }
   ],
   "source": [
    "print(\"1: {} 2: {:.3f} 3: {:03}\".format(1, math.e, 999))\n",
    "print(\"{1} {2} {0}\".format(1, math.e, 3))\n",
    "print(\"{first} {second} {third}\".format(first=1, second=math.e, third=3))\n",
    "print()\n",
    "\n",
    "print(\"1)%d 2)%.2f 3)%s\" % (1, 3.1415, 3))  # python 2x\n",
    "print()\n",
    "\n",
    "# https://docs.python.org/3/reference/lexical_analysis.html#formatted-string-literals\n",
    "print(f\"{string} + {10+23}\")\n",
    "print(f\"{2+3} {math.pi:.5f}\")"
   ]
  },
  {
   "cell_type": "markdown",
   "id": "be5acdf1",
   "metadata": {},
   "source": [
    "## Списки\n",
    "https://docs.python.org/3/library/stdtypes.html#lists"
   ]
  },
  {
   "cell_type": "code",
   "execution_count": 17,
   "id": "820241ed",
   "metadata": {},
   "outputs": [
    {
     "data": {
      "application/javascript": [
       "\n",
       "            setTimeout(function() {\n",
       "                var nbb_cell_id = 17;\n",
       "                var nbb_unformatted_code = \"?list\\n\\n# https://docs.python.org/3/glossary.html\\n\\\"\\\"\\\"\\nBuilt-in mutable sequence.\\n\\nIf no argument is given, the constructor creates a new empty list.\\nThe argument must be an iterable if specified.\\n\\\"\\\"\\\"\\n# https://docs.python.org/3/glossary.html#term-iterable\\npass\";\n",
       "                var nbb_formatted_code = \"?list\\n\\n# https://docs.python.org/3/glossary.html\\n\\\"\\\"\\\"\\nBuilt-in mutable sequence.\\n\\nIf no argument is given, the constructor creates a new empty list.\\nThe argument must be an iterable if specified.\\n\\\"\\\"\\\"\\n# https://docs.python.org/3/glossary.html#term-iterable\\npass\";\n",
       "                var nbb_cells = Jupyter.notebook.get_cells();\n",
       "                for (var i = 0; i < nbb_cells.length; ++i) {\n",
       "                    if (nbb_cells[i].input_prompt_number == nbb_cell_id) {\n",
       "                        if (nbb_cells[i].get_text() == nbb_unformatted_code) {\n",
       "                             nbb_cells[i].set_text(nbb_formatted_code);\n",
       "                        }\n",
       "                        break;\n",
       "                    }\n",
       "                }\n",
       "            }, 500);\n",
       "            "
      ],
      "text/plain": [
       "<IPython.core.display.Javascript object>"
      ]
     },
     "metadata": {},
     "output_type": "display_data"
    }
   ],
   "source": [
    "?list\n",
    "\n",
    "# https://docs.python.org/3/glossary.html\n",
    "\"\"\"\n",
    "Built-in mutable sequence.\n",
    "\n",
    "If no argument is given, the constructor creates a new empty list.\n",
    "The argument must be an iterable if specified.\n",
    "\"\"\"\n",
    "# https://docs.python.org/3/glossary.html#term-iterable\n",
    "pass"
   ]
  },
  {
   "cell_type": "code",
   "execution_count": 18,
   "id": "13c6a0be",
   "metadata": {},
   "outputs": [
    {
     "data": {
      "application/javascript": [
       "\n",
       "            setTimeout(function() {\n",
       "                var nbb_cell_id = 18;\n",
       "                var nbb_unformatted_code = \"lst_1 = list()  # \\u0447\\u0435\\u0440\\u0435\\u0437 \\u043a\\u043e\\u043d\\u0441\\u0442\\u0440\\u0443\\u043a\\u0442\\u043e\\u0440\\nlst_2 = []  # \\u043f\\u0443\\u0441\\u0442\\u043e\\u0439 \\u0441\\u043f\\u0438\\u0441\\u043e\\u043a\\nlst_3 = [1, \\\"2\\\", True, 4, 5]  # \\u0447\\u0435\\u0440\\u0435\\u0437 \\u0437\\u0430\\u043f\\u044f\\u0442\\u0443\\u044e\\nlst_4 = [i for i in \\\"123456\\\"]  # \\u0447\\u0435\\u0440\\u0435\\u0437 \\u0430\\u0431\\u0441\\u0442\\u0440\\u0430\\u043a\\u0446\\u0438\\u044e \\u0441\\u043f\\u0438\\u0441\\u043a\\u043e\\u0432 / \\u0441\\u043f\\u0438\\u0441\\u043a\\u043e\\u0432\\u043e\\u0435 \\u0432\\u043a\\u043b\\u044e\\u0447\\u0435\\u043d\\u0438\\u0435\";\n",
       "                var nbb_formatted_code = \"lst_1 = list()  # \\u0447\\u0435\\u0440\\u0435\\u0437 \\u043a\\u043e\\u043d\\u0441\\u0442\\u0440\\u0443\\u043a\\u0442\\u043e\\u0440\\nlst_2 = []  # \\u043f\\u0443\\u0441\\u0442\\u043e\\u0439 \\u0441\\u043f\\u0438\\u0441\\u043e\\u043a\\nlst_3 = [1, \\\"2\\\", True, 4, 5]  # \\u0447\\u0435\\u0440\\u0435\\u0437 \\u0437\\u0430\\u043f\\u044f\\u0442\\u0443\\u044e\\nlst_4 = [i for i in \\\"123456\\\"]  # \\u0447\\u0435\\u0440\\u0435\\u0437 \\u0430\\u0431\\u0441\\u0442\\u0440\\u0430\\u043a\\u0446\\u0438\\u044e \\u0441\\u043f\\u0438\\u0441\\u043a\\u043e\\u0432 / \\u0441\\u043f\\u0438\\u0441\\u043a\\u043e\\u0432\\u043e\\u0435 \\u0432\\u043a\\u043b\\u044e\\u0447\\u0435\\u043d\\u0438\\u0435\";\n",
       "                var nbb_cells = Jupyter.notebook.get_cells();\n",
       "                for (var i = 0; i < nbb_cells.length; ++i) {\n",
       "                    if (nbb_cells[i].input_prompt_number == nbb_cell_id) {\n",
       "                        if (nbb_cells[i].get_text() == nbb_unformatted_code) {\n",
       "                             nbb_cells[i].set_text(nbb_formatted_code);\n",
       "                        }\n",
       "                        break;\n",
       "                    }\n",
       "                }\n",
       "            }, 500);\n",
       "            "
      ],
      "text/plain": [
       "<IPython.core.display.Javascript object>"
      ]
     },
     "metadata": {},
     "output_type": "display_data"
    }
   ],
   "source": [
    "lst_1 = list()  # через конструктор\n",
    "lst_2 = []  # пустой список\n",
    "lst_3 = [1, \"2\", True, 4, 5]  # через запятую\n",
    "lst_4 = [i for i in \"123456\"]  # через абстракцию списков / списковое включение"
   ]
  },
  {
   "cell_type": "code",
   "execution_count": 19,
   "id": "06a50c2b",
   "metadata": {},
   "outputs": [
    {
     "name": "stdout",
     "output_type": "stream",
     "text": [
      "abcdefghijklmnopqrstuvwxyzABCDEFGHIJKLMNOPQRSTUVWXYZ\n",
      "['a', 'b', 'c', 'd', 'e']\n",
      "a\n",
      "['a', 'b', 'c', 'd', 'e']\n"
     ]
    },
    {
     "data": {
      "text/plain": [
       "[-2,\n",
       " 'y',\n",
       " 'x',\n",
       " 'w',\n",
       " 'v',\n",
       " 'u',\n",
       " 't',\n",
       " 's',\n",
       " 'r',\n",
       " 'q',\n",
       " 'p',\n",
       " 'o',\n",
       " 'n',\n",
       " 'm',\n",
       " 'l',\n",
       " 'k',\n",
       " 'j',\n",
       " 'i',\n",
       " 'h',\n",
       " 'g',\n",
       " 'f',\n",
       " 'e',\n",
       " 'd',\n",
       " 'c',\n",
       " 'b',\n",
       " 'a']"
      ]
     },
     "execution_count": 19,
     "metadata": {},
     "output_type": "execute_result"
    },
    {
     "data": {
      "application/javascript": [
       "\n",
       "            setTimeout(function() {\n",
       "                var nbb_cell_id = 19;\n",
       "                var nbb_unformatted_code = \"import string\\n\\nprint(string.ascii_letters)\\n\\nlst = list(string.ascii_lowercase)\\nprint(lst[:5])\\nprint(lst[0])\\n\\nlst[-1] = -2\\nprint(lst[:5])\\nlst[::-1]\";\n",
       "                var nbb_formatted_code = \"import string\\n\\nprint(string.ascii_letters)\\n\\nlst = list(string.ascii_lowercase)\\nprint(lst[:5])\\nprint(lst[0])\\n\\nlst[-1] = -2\\nprint(lst[:5])\\nlst[::-1]\";\n",
       "                var nbb_cells = Jupyter.notebook.get_cells();\n",
       "                for (var i = 0; i < nbb_cells.length; ++i) {\n",
       "                    if (nbb_cells[i].input_prompt_number == nbb_cell_id) {\n",
       "                        if (nbb_cells[i].get_text() == nbb_unformatted_code) {\n",
       "                             nbb_cells[i].set_text(nbb_formatted_code);\n",
       "                        }\n",
       "                        break;\n",
       "                    }\n",
       "                }\n",
       "            }, 500);\n",
       "            "
      ],
      "text/plain": [
       "<IPython.core.display.Javascript object>"
      ]
     },
     "metadata": {},
     "output_type": "display_data"
    }
   ],
   "source": [
    "import string\n",
    "\n",
    "print(string.ascii_letters)\n",
    "\n",
    "lst = list(string.ascii_lowercase)\n",
    "print(lst[:5])\n",
    "print(lst[0])\n",
    "\n",
    "lst[-1] = -2\n",
    "print(lst[:5])\n",
    "lst[::-1]"
   ]
  },
  {
   "cell_type": "code",
   "execution_count": 20,
   "id": "76e8e52e",
   "metadata": {},
   "outputs": [
    {
     "name": "stdout",
     "output_type": "stream",
     "text": [
      "[]\n"
     ]
    },
    {
     "data": {
      "application/javascript": [
       "\n",
       "            setTimeout(function() {\n",
       "                var nbb_cell_id = 20;\n",
       "                var nbb_unformatted_code = \"print(lst[len(lst) : len(lst) + 100])  # \\u0442\\u0430\\u043a \\u043c\\u043e\\u0436\\u043d\\u043e, \\u043d\\u043e \\u0431\\u0443\\u0434\\u0435\\u0442 \\u043f\\u0443\\u0441\\u0442\\u043e\\n# lst[len(lst)] = \\\"0\\\"  # \\u0438\\u043d\\u0434\\u0435\\u043a\\u0441\\u0430\\u0446\\u0438\\u044f \\u0441 0 -> IndexError: list assignment index out of range\";\n",
       "                var nbb_formatted_code = \"print(lst[len(lst) : len(lst) + 100])  # \\u0442\\u0430\\u043a \\u043c\\u043e\\u0436\\u043d\\u043e, \\u043d\\u043e \\u0431\\u0443\\u0434\\u0435\\u0442 \\u043f\\u0443\\u0441\\u0442\\u043e\\n# lst[len(lst)] = \\\"0\\\"  # \\u0438\\u043d\\u0434\\u0435\\u043a\\u0441\\u0430\\u0446\\u0438\\u044f \\u0441 0 -> IndexError: list assignment index out of range\";\n",
       "                var nbb_cells = Jupyter.notebook.get_cells();\n",
       "                for (var i = 0; i < nbb_cells.length; ++i) {\n",
       "                    if (nbb_cells[i].input_prompt_number == nbb_cell_id) {\n",
       "                        if (nbb_cells[i].get_text() == nbb_unformatted_code) {\n",
       "                             nbb_cells[i].set_text(nbb_formatted_code);\n",
       "                        }\n",
       "                        break;\n",
       "                    }\n",
       "                }\n",
       "            }, 500);\n",
       "            "
      ],
      "text/plain": [
       "<IPython.core.display.Javascript object>"
      ]
     },
     "metadata": {},
     "output_type": "display_data"
    }
   ],
   "source": [
    "print(lst[len(lst) : len(lst) + 100])  # так можно, но будет пусто\n",
    "# lst[len(lst)] = \"0\"  # индексация с 0 -> IndexError: list assignment index out of range"
   ]
  },
  {
   "cell_type": "markdown",
   "id": "f16276f5",
   "metadata": {},
   "source": [
    "#### методы"
   ]
  },
  {
   "cell_type": "code",
   "execution_count": 21,
   "id": "a0113e5e",
   "metadata": {},
   "outputs": [
    {
     "data": {
      "text/plain": [
       "['q', 'w', 'e', 'r', 't', 'y', '1', 2]"
      ]
     },
     "execution_count": 21,
     "metadata": {},
     "output_type": "execute_result"
    },
    {
     "data": {
      "application/javascript": [
       "\n",
       "            setTimeout(function() {\n",
       "                var nbb_cell_id = 21;\n",
       "                var nbb_unformatted_code = \"# \\u0414\\u043e\\u0431\\u0430\\u0432\\u043b\\u0435\\u043d\\u0438\\u0435 \\u0432 \\u043a\\u043e\\u043d\\u0435\\u0446\\nlst = list(\\\"qwerty\\\")\\nlst.append(\\\"1\\\")\\nlst.append(2)\\nlst\";\n",
       "                var nbb_formatted_code = \"# \\u0414\\u043e\\u0431\\u0430\\u0432\\u043b\\u0435\\u043d\\u0438\\u0435 \\u0432 \\u043a\\u043e\\u043d\\u0435\\u0446\\nlst = list(\\\"qwerty\\\")\\nlst.append(\\\"1\\\")\\nlst.append(2)\\nlst\";\n",
       "                var nbb_cells = Jupyter.notebook.get_cells();\n",
       "                for (var i = 0; i < nbb_cells.length; ++i) {\n",
       "                    if (nbb_cells[i].input_prompt_number == nbb_cell_id) {\n",
       "                        if (nbb_cells[i].get_text() == nbb_unformatted_code) {\n",
       "                             nbb_cells[i].set_text(nbb_formatted_code);\n",
       "                        }\n",
       "                        break;\n",
       "                    }\n",
       "                }\n",
       "            }, 500);\n",
       "            "
      ],
      "text/plain": [
       "<IPython.core.display.Javascript object>"
      ]
     },
     "metadata": {},
     "output_type": "display_data"
    }
   ],
   "source": [
    "# Добавление в конец\n",
    "lst = list(\"qwerty\")\n",
    "lst.append(\"1\")\n",
    "lst.append(2)\n",
    "lst"
   ]
  },
  {
   "cell_type": "code",
   "execution_count": 22,
   "id": "322b7143",
   "metadata": {},
   "outputs": [
    {
     "data": {
      "text/plain": [
       "['q', 'w', 'A', 'e', 'r', 't', 'y', '1', 2, 'B']"
      ]
     },
     "execution_count": 22,
     "metadata": {},
     "output_type": "execute_result"
    },
    {
     "data": {
      "application/javascript": [
       "\n",
       "            setTimeout(function() {\n",
       "                var nbb_cell_id = 22;\n",
       "                var nbb_unformatted_code = \"# \\u0414\\u043e\\u0431\\u0430\\u0432\\u043b\\u0435\\u043d\\u0438\\u0435 \\u043f\\u043e \\u0438\\u043d\\u0434\\u0435\\u043a\\u0441\\u0443\\nlst.insert(2, \\\"A\\\")\\nlst.insert(100, \\\"B\\\")\\nlst\";\n",
       "                var nbb_formatted_code = \"# \\u0414\\u043e\\u0431\\u0430\\u0432\\u043b\\u0435\\u043d\\u0438\\u0435 \\u043f\\u043e \\u0438\\u043d\\u0434\\u0435\\u043a\\u0441\\u0443\\nlst.insert(2, \\\"A\\\")\\nlst.insert(100, \\\"B\\\")\\nlst\";\n",
       "                var nbb_cells = Jupyter.notebook.get_cells();\n",
       "                for (var i = 0; i < nbb_cells.length; ++i) {\n",
       "                    if (nbb_cells[i].input_prompt_number == nbb_cell_id) {\n",
       "                        if (nbb_cells[i].get_text() == nbb_unformatted_code) {\n",
       "                             nbb_cells[i].set_text(nbb_formatted_code);\n",
       "                        }\n",
       "                        break;\n",
       "                    }\n",
       "                }\n",
       "            }, 500);\n",
       "            "
      ],
      "text/plain": [
       "<IPython.core.display.Javascript object>"
      ]
     },
     "metadata": {},
     "output_type": "display_data"
    }
   ],
   "source": [
    "# Добавление по индексу\n",
    "lst.insert(2, \"A\")\n",
    "lst.insert(100, \"B\")\n",
    "lst"
   ]
  },
  {
   "cell_type": "code",
   "execution_count": 23,
   "id": "139a64c8",
   "metadata": {},
   "outputs": [
    {
     "data": {
      "text/plain": [
       "['q', 'w', 'A', 'e', 'r', 't', 'y', '1', 2]"
      ]
     },
     "execution_count": 23,
     "metadata": {},
     "output_type": "execute_result"
    },
    {
     "data": {
      "application/javascript": [
       "\n",
       "            setTimeout(function() {\n",
       "                var nbb_cell_id = 23;\n",
       "                var nbb_unformatted_code = \"# \\u0423\\u0434\\u0430\\u043b\\u0435\\u043d\\u0438\\u0435 \\u043f\\u043e \\u0437\\u043d\\u0430\\u0447\\u0435\\u043d\\u0438\\u044e\\nlst.remove(\\\"B\\\")\\n# lst.remove(\\\"C\\\")  # ValueError: list.remove(x): x not in list\\nlst\";\n",
       "                var nbb_formatted_code = \"# \\u0423\\u0434\\u0430\\u043b\\u0435\\u043d\\u0438\\u0435 \\u043f\\u043e \\u0437\\u043d\\u0430\\u0447\\u0435\\u043d\\u0438\\u044e\\nlst.remove(\\\"B\\\")\\n# lst.remove(\\\"C\\\")  # ValueError: list.remove(x): x not in list\\nlst\";\n",
       "                var nbb_cells = Jupyter.notebook.get_cells();\n",
       "                for (var i = 0; i < nbb_cells.length; ++i) {\n",
       "                    if (nbb_cells[i].input_prompt_number == nbb_cell_id) {\n",
       "                        if (nbb_cells[i].get_text() == nbb_unformatted_code) {\n",
       "                             nbb_cells[i].set_text(nbb_formatted_code);\n",
       "                        }\n",
       "                        break;\n",
       "                    }\n",
       "                }\n",
       "            }, 500);\n",
       "            "
      ],
      "text/plain": [
       "<IPython.core.display.Javascript object>"
      ]
     },
     "metadata": {},
     "output_type": "display_data"
    }
   ],
   "source": [
    "# Удаление по значению\n",
    "lst.remove(\"B\")\n",
    "# lst.remove(\"C\")  # ValueError: list.remove(x): x not in list\n",
    "lst"
   ]
  },
  {
   "cell_type": "code",
   "execution_count": 24,
   "id": "331ede3f",
   "metadata": {},
   "outputs": [
    {
     "name": "stdout",
     "output_type": "stream",
     "text": [
      "['q', 'w', 'A', 'e', 'r', 'y', '1'] 2 t\n"
     ]
    },
    {
     "data": {
      "application/javascript": [
       "\n",
       "            setTimeout(function() {\n",
       "                var nbb_cell_id = 24;\n",
       "                var nbb_unformatted_code = \"# \\u0423\\u0434\\u0430\\u043b\\u0435\\u043d\\u0438\\u0435 \\u043f\\u043e \\u0438\\u043d\\u0434\\u0435\\u043a\\u0441\\u0443\\nremoved_last = lst.pop()\\nremoved_i = lst.pop(5)\\nprint(lst, removed_last, removed_i)\";\n",
       "                var nbb_formatted_code = \"# \\u0423\\u0434\\u0430\\u043b\\u0435\\u043d\\u0438\\u0435 \\u043f\\u043e \\u0438\\u043d\\u0434\\u0435\\u043a\\u0441\\u0443\\nremoved_last = lst.pop()\\nremoved_i = lst.pop(5)\\nprint(lst, removed_last, removed_i)\";\n",
       "                var nbb_cells = Jupyter.notebook.get_cells();\n",
       "                for (var i = 0; i < nbb_cells.length; ++i) {\n",
       "                    if (nbb_cells[i].input_prompt_number == nbb_cell_id) {\n",
       "                        if (nbb_cells[i].get_text() == nbb_unformatted_code) {\n",
       "                             nbb_cells[i].set_text(nbb_formatted_code);\n",
       "                        }\n",
       "                        break;\n",
       "                    }\n",
       "                }\n",
       "            }, 500);\n",
       "            "
      ],
      "text/plain": [
       "<IPython.core.display.Javascript object>"
      ]
     },
     "metadata": {},
     "output_type": "display_data"
    }
   ],
   "source": [
    "# Удаление по индексу\n",
    "removed_last = lst.pop()\n",
    "removed_i = lst.pop(5)\n",
    "print(lst, removed_last, removed_i)"
   ]
  },
  {
   "cell_type": "code",
   "execution_count": 25,
   "id": "fd3dabd0",
   "metadata": {},
   "outputs": [
    {
     "data": {
      "text/plain": [
       "['A', 'e', 'r', 'y']"
      ]
     },
     "execution_count": 25,
     "metadata": {},
     "output_type": "execute_result"
    },
    {
     "data": {
      "application/javascript": [
       "\n",
       "            setTimeout(function() {\n",
       "                var nbb_cell_id = 25;\n",
       "                var nbb_unformatted_code = \"# \\u0423\\u0434\\u0430\\u043b\\u0435\\u043d\\u0438\\u0435 \\u0447\\u0435\\u0440\\u0435\\u0437 \\u0438\\u043d\\u0441\\u0442\\u0440\\u0443\\u043a\\u0446\\u0438\\u044e del\\ndel lst[-1], lst[:2]\\nlst\";\n",
       "                var nbb_formatted_code = \"# \\u0423\\u0434\\u0430\\u043b\\u0435\\u043d\\u0438\\u0435 \\u0447\\u0435\\u0440\\u0435\\u0437 \\u0438\\u043d\\u0441\\u0442\\u0440\\u0443\\u043a\\u0446\\u0438\\u044e del\\ndel lst[-1], lst[:2]\\nlst\";\n",
       "                var nbb_cells = Jupyter.notebook.get_cells();\n",
       "                for (var i = 0; i < nbb_cells.length; ++i) {\n",
       "                    if (nbb_cells[i].input_prompt_number == nbb_cell_id) {\n",
       "                        if (nbb_cells[i].get_text() == nbb_unformatted_code) {\n",
       "                             nbb_cells[i].set_text(nbb_formatted_code);\n",
       "                        }\n",
       "                        break;\n",
       "                    }\n",
       "                }\n",
       "            }, 500);\n",
       "            "
      ],
      "text/plain": [
       "<IPython.core.display.Javascript object>"
      ]
     },
     "metadata": {},
     "output_type": "display_data"
    }
   ],
   "source": [
    "# Удаление через инструкцию del\n",
    "del lst[-1], lst[:2]\n",
    "lst"
   ]
  },
  {
   "cell_type": "code",
   "execution_count": 26,
   "id": "bd907a1c",
   "metadata": {},
   "outputs": [
    {
     "ename": "NameError",
     "evalue": "name 'lst' is not defined",
     "output_type": "error",
     "traceback": [
      "\u001b[0;31m---------------------------------------------------------------------------\u001b[0m",
      "\u001b[0;31mNameError\u001b[0m                                 Traceback (most recent call last)",
      "\u001b[0;32m<ipython-input-26-19d04f711f3e>\u001b[0m in \u001b[0;36m<module>\u001b[0;34m\u001b[0m\n\u001b[1;32m      1\u001b[0m \u001b[0;32mdel\u001b[0m \u001b[0mlst\u001b[0m\u001b[0;34m\u001b[0m\u001b[0;34m\u001b[0m\u001b[0m\n\u001b[0;32m----> 2\u001b[0;31m \u001b[0mlst\u001b[0m\u001b[0;34m\u001b[0m\u001b[0;34m\u001b[0m\u001b[0m\n\u001b[0m",
      "\u001b[0;31mNameError\u001b[0m: name 'lst' is not defined"
     ]
    },
    {
     "data": {
      "application/javascript": [
       "\n",
       "            setTimeout(function() {\n",
       "                var nbb_cell_id = 26;\n",
       "                var nbb_unformatted_code = \"del lst\\nlst\";\n",
       "                var nbb_formatted_code = \"del lst\\nlst\";\n",
       "                var nbb_cells = Jupyter.notebook.get_cells();\n",
       "                for (var i = 0; i < nbb_cells.length; ++i) {\n",
       "                    if (nbb_cells[i].input_prompt_number == nbb_cell_id) {\n",
       "                        if (nbb_cells[i].get_text() == nbb_unformatted_code) {\n",
       "                             nbb_cells[i].set_text(nbb_formatted_code);\n",
       "                        }\n",
       "                        break;\n",
       "                    }\n",
       "                }\n",
       "            }, 500);\n",
       "            "
      ],
      "text/plain": [
       "<IPython.core.display.Javascript object>"
      ]
     },
     "metadata": {},
     "output_type": "display_data"
    }
   ],
   "source": [
    "del lst\n",
    "lst"
   ]
  },
  {
   "cell_type": "code",
   "execution_count": 27,
   "id": "db16c05c",
   "metadata": {},
   "outputs": [
    {
     "name": "stdout",
     "output_type": "stream",
     "text": [
      "['q', 'w', 'e', 'r', 't', 'y']\n",
      "[]\n"
     ]
    },
    {
     "data": {
      "application/javascript": [
       "\n",
       "            setTimeout(function() {\n",
       "                var nbb_cell_id = 27;\n",
       "                var nbb_unformatted_code = \"# \\u041e\\u0447\\u0438\\u0449\\u0435\\u043d\\u0438\\u0435\\nlst = list(\\\"qwerty\\\")\\nprint(lst)\\nlst.clear()\\nprint(lst)\";\n",
       "                var nbb_formatted_code = \"# \\u041e\\u0447\\u0438\\u0449\\u0435\\u043d\\u0438\\u0435\\nlst = list(\\\"qwerty\\\")\\nprint(lst)\\nlst.clear()\\nprint(lst)\";\n",
       "                var nbb_cells = Jupyter.notebook.get_cells();\n",
       "                for (var i = 0; i < nbb_cells.length; ++i) {\n",
       "                    if (nbb_cells[i].input_prompt_number == nbb_cell_id) {\n",
       "                        if (nbb_cells[i].get_text() == nbb_unformatted_code) {\n",
       "                             nbb_cells[i].set_text(nbb_formatted_code);\n",
       "                        }\n",
       "                        break;\n",
       "                    }\n",
       "                }\n",
       "            }, 500);\n",
       "            "
      ],
      "text/plain": [
       "<IPython.core.display.Javascript object>"
      ]
     },
     "metadata": {},
     "output_type": "display_data"
    }
   ],
   "source": [
    "# Очищение\n",
    "lst = list(\"qwerty\")\n",
    "print(lst)\n",
    "lst.clear()\n",
    "print(lst)"
   ]
  },
  {
   "cell_type": "code",
   "execution_count": 28,
   "id": "5e610580",
   "metadata": {},
   "outputs": [
    {
     "name": "stdout",
     "output_type": "stream",
     "text": [
      "5\n",
      "2\n",
      "0\n",
      "['e', 'q', 'q', 'r', 't', 'w', 'y']\n"
     ]
    },
    {
     "data": {
      "application/javascript": [
       "\n",
       "            setTimeout(function() {\n",
       "                var nbb_cell_id = 28;\n",
       "                var nbb_unformatted_code = \"lst = list(\\\"qwertyq\\\")\\n\\n# \\u041f\\u043e\\u0438\\u0441\\u043a\\nprint(lst.index(\\\"y\\\"))\\n# print(lst.index(1))\\n\\nprint(lst.count(\\\"q\\\"))\\nprint(lst.count(1))\\n# \\u0421\\u043e\\u0440\\u0442\\u0438\\u0440\\u043e\\u0432\\u043a\\u0430\\nlst.sort()\\nprint(lst)\";\n",
       "                var nbb_formatted_code = \"lst = list(\\\"qwertyq\\\")\\n\\n# \\u041f\\u043e\\u0438\\u0441\\u043a\\nprint(lst.index(\\\"y\\\"))\\n# print(lst.index(1))\\n\\nprint(lst.count(\\\"q\\\"))\\nprint(lst.count(1))\\n# \\u0421\\u043e\\u0440\\u0442\\u0438\\u0440\\u043e\\u0432\\u043a\\u0430\\nlst.sort()\\nprint(lst)\";\n",
       "                var nbb_cells = Jupyter.notebook.get_cells();\n",
       "                for (var i = 0; i < nbb_cells.length; ++i) {\n",
       "                    if (nbb_cells[i].input_prompt_number == nbb_cell_id) {\n",
       "                        if (nbb_cells[i].get_text() == nbb_unformatted_code) {\n",
       "                             nbb_cells[i].set_text(nbb_formatted_code);\n",
       "                        }\n",
       "                        break;\n",
       "                    }\n",
       "                }\n",
       "            }, 500);\n",
       "            "
      ],
      "text/plain": [
       "<IPython.core.display.Javascript object>"
      ]
     },
     "metadata": {},
     "output_type": "display_data"
    }
   ],
   "source": [
    "lst = list(\"qwertyq\")\n",
    "\n",
    "# Поиск\n",
    "print(lst.index(\"y\"))\n",
    "# print(lst.index(1))\n",
    "\n",
    "print(lst.count(\"q\"))\n",
    "print(lst.count(1))\n",
    "# Сортировка\n",
    "lst.sort()\n",
    "print(lst)"
   ]
  },
  {
   "cell_type": "code",
   "execution_count": 29,
   "id": "6632271e",
   "metadata": {},
   "outputs": [
    {
     "name": "stdout",
     "output_type": "stream",
     "text": [
      "[1, 2, 3, [3, 4, 5]]\n",
      "[1, 2, 3, 3, 4, 5, 3, 4, 5]\n"
     ]
    },
    {
     "data": {
      "application/javascript": [
       "\n",
       "            setTimeout(function() {\n",
       "                var nbb_cell_id = 29;\n",
       "                var nbb_unformatted_code = \"lst_1 = [1, 2, 3]\\nlst_2 = [3, 4, 5]\\nlst_1.append(lst_2)\\nprint(lst_1)\\n\\nlst_1 = [1, 2, 3]\\nlst_2 = [3, 4, 5]\\nlst_1.extend(lst_2)\\nlst_1 += lst_2\\nprint(lst_1)\";\n",
       "                var nbb_formatted_code = \"lst_1 = [1, 2, 3]\\nlst_2 = [3, 4, 5]\\nlst_1.append(lst_2)\\nprint(lst_1)\\n\\nlst_1 = [1, 2, 3]\\nlst_2 = [3, 4, 5]\\nlst_1.extend(lst_2)\\nlst_1 += lst_2\\nprint(lst_1)\";\n",
       "                var nbb_cells = Jupyter.notebook.get_cells();\n",
       "                for (var i = 0; i < nbb_cells.length; ++i) {\n",
       "                    if (nbb_cells[i].input_prompt_number == nbb_cell_id) {\n",
       "                        if (nbb_cells[i].get_text() == nbb_unformatted_code) {\n",
       "                             nbb_cells[i].set_text(nbb_formatted_code);\n",
       "                        }\n",
       "                        break;\n",
       "                    }\n",
       "                }\n",
       "            }, 500);\n",
       "            "
      ],
      "text/plain": [
       "<IPython.core.display.Javascript object>"
      ]
     },
     "metadata": {},
     "output_type": "display_data"
    }
   ],
   "source": [
    "lst_1 = [1, 2, 3]\n",
    "lst_2 = [3, 4, 5]\n",
    "lst_1.append(lst_2)\n",
    "print(lst_1)\n",
    "\n",
    "lst_1 = [1, 2, 3]\n",
    "lst_2 = [3, 4, 5]\n",
    "lst_1.extend(lst_2)\n",
    "lst_1 += lst_2\n",
    "print(lst_1)"
   ]
  },
  {
   "cell_type": "code",
   "execution_count": 30,
   "id": "e9125e3e",
   "metadata": {},
   "outputs": [
    {
     "name": "stdout",
     "output_type": "stream",
     "text": [
      "['e', 'q', 'q', 'r', 't', 'w', 'y']\n"
     ]
    },
    {
     "data": {
      "application/javascript": [
       "\n",
       "            setTimeout(function() {\n",
       "                var nbb_cell_id = 30;\n",
       "                var nbb_unformatted_code = \"lst = list(\\\"qwertyq\\\")\\nprint(sorted(lst))  # -> \\u0432\\u043e\\u0437\\u0432\\u0440\\u0430\\u0449\\u0430\\u0435\\u0442 \\u0441\\u043f\\u0438\\u0441\\u043e\\u043a\";\n",
       "                var nbb_formatted_code = \"lst = list(\\\"qwertyq\\\")\\nprint(sorted(lst))  # -> \\u0432\\u043e\\u0437\\u0432\\u0440\\u0430\\u0449\\u0430\\u0435\\u0442 \\u0441\\u043f\\u0438\\u0441\\u043e\\u043a\";\n",
       "                var nbb_cells = Jupyter.notebook.get_cells();\n",
       "                for (var i = 0; i < nbb_cells.length; ++i) {\n",
       "                    if (nbb_cells[i].input_prompt_number == nbb_cell_id) {\n",
       "                        if (nbb_cells[i].get_text() == nbb_unformatted_code) {\n",
       "                             nbb_cells[i].set_text(nbb_formatted_code);\n",
       "                        }\n",
       "                        break;\n",
       "                    }\n",
       "                }\n",
       "            }, 500);\n",
       "            "
      ],
      "text/plain": [
       "<IPython.core.display.Javascript object>"
      ]
     },
     "metadata": {},
     "output_type": "display_data"
    }
   ],
   "source": [
    "lst = list(\"qwertyq\")\n",
    "print(sorted(lst))  # -> возвращает список"
   ]
  },
  {
   "cell_type": "code",
   "execution_count": 31,
   "id": "5de569d8",
   "metadata": {},
   "outputs": [
    {
     "data": {
      "text/plain": [
       "(['q', 'w', 'e', 'r', 't', 'q', 'w', 'e', 'r', 't'],\n",
       " ['q', 'w', 'e', 'r', 't', 'q', 'w', 'e', 'r', 't', 'q', 'w', 'e', 'r', 't'],\n",
       " [0, 0, 0, 0, 0, 0, 0, 0, 0, 0])"
      ]
     },
     "execution_count": 31,
     "metadata": {},
     "output_type": "execute_result"
    },
    {
     "data": {
      "application/javascript": [
       "\n",
       "            setTimeout(function() {\n",
       "                var nbb_cell_id = 31;\n",
       "                var nbb_unformatted_code = \"lst[:5] + lst[:5], lst[:5] * 3, [0] * 10\";\n",
       "                var nbb_formatted_code = \"lst[:5] + lst[:5], lst[:5] * 3, [0] * 10\";\n",
       "                var nbb_cells = Jupyter.notebook.get_cells();\n",
       "                for (var i = 0; i < nbb_cells.length; ++i) {\n",
       "                    if (nbb_cells[i].input_prompt_number == nbb_cell_id) {\n",
       "                        if (nbb_cells[i].get_text() == nbb_unformatted_code) {\n",
       "                             nbb_cells[i].set_text(nbb_formatted_code);\n",
       "                        }\n",
       "                        break;\n",
       "                    }\n",
       "                }\n",
       "            }, 500);\n",
       "            "
      ],
      "text/plain": [
       "<IPython.core.display.Javascript object>"
      ]
     },
     "metadata": {},
     "output_type": "display_data"
    }
   ],
   "source": [
    "lst[:5] + lst[:5], lst[:5] * 3, [0] * 10"
   ]
  },
  {
   "cell_type": "code",
   "execution_count": 32,
   "id": "bf2f9bc9",
   "metadata": {},
   "outputs": [
    {
     "name": "stdout",
     "output_type": "stream",
     "text": [
      "[[1, 2, 3], [3, 4, 5], [6, 7, 8]]\n",
      "[1, 2, 3, 3, 4, 5, 6, 7, 8]\n",
      "6 1006\n"
     ]
    },
    {
     "data": {
      "application/javascript": [
       "\n",
       "            setTimeout(function() {\n",
       "                var nbb_cell_id = 32;\n",
       "                var nbb_unformatted_code = \"lst_1 = [1, 2, 3]\\nlst_2 = [3, 4, 5]\\nlst_3 = [6, 7, 8]\\n\\nprint([lst_1, lst_2, lst_3])  # \\u043c\\u0430\\u0442\\u0440\\u0438\\u0446\\u0430\\nprint(sum([lst_1, lst_2, lst_3], []))  # \\u043f\\u043e\\u043b\\u043e\\u0436\\u0438\\u043b\\u0438 \\u0432 \\u043e\\u0434\\u0438\\u043d \\u0441\\u043f\\u0438\\u0441\\u043e\\u043a\\n\\nprint(sum(lst_1), sum(lst_1, 1000))  # start = 0, start = 1000\";\n",
       "                var nbb_formatted_code = \"lst_1 = [1, 2, 3]\\nlst_2 = [3, 4, 5]\\nlst_3 = [6, 7, 8]\\n\\nprint([lst_1, lst_2, lst_3])  # \\u043c\\u0430\\u0442\\u0440\\u0438\\u0446\\u0430\\nprint(sum([lst_1, lst_2, lst_3], []))  # \\u043f\\u043e\\u043b\\u043e\\u0436\\u0438\\u043b\\u0438 \\u0432 \\u043e\\u0434\\u0438\\u043d \\u0441\\u043f\\u0438\\u0441\\u043e\\u043a\\n\\nprint(sum(lst_1), sum(lst_1, 1000))  # start = 0, start = 1000\";\n",
       "                var nbb_cells = Jupyter.notebook.get_cells();\n",
       "                for (var i = 0; i < nbb_cells.length; ++i) {\n",
       "                    if (nbb_cells[i].input_prompt_number == nbb_cell_id) {\n",
       "                        if (nbb_cells[i].get_text() == nbb_unformatted_code) {\n",
       "                             nbb_cells[i].set_text(nbb_formatted_code);\n",
       "                        }\n",
       "                        break;\n",
       "                    }\n",
       "                }\n",
       "            }, 500);\n",
       "            "
      ],
      "text/plain": [
       "<IPython.core.display.Javascript object>"
      ]
     },
     "metadata": {},
     "output_type": "display_data"
    }
   ],
   "source": [
    "lst_1 = [1, 2, 3]\n",
    "lst_2 = [3, 4, 5]\n",
    "lst_3 = [6, 7, 8]\n",
    "\n",
    "print([lst_1, lst_2, lst_3])  # матрица\n",
    "print(sum([lst_1, lst_2, lst_3], []))  # положили в один список\n",
    "\n",
    "print(sum(lst_1), sum(lst_1, 1000))  # start = 0, start = 1000"
   ]
  },
  {
   "cell_type": "code",
   "execution_count": 33,
   "id": "32970d3f",
   "metadata": {},
   "outputs": [
    {
     "name": "stdout",
     "output_type": "stream",
     "text": [
      "0\n"
     ]
    },
    {
     "data": {
      "text/plain": [
       "[1, 2, 1, 2, 1, 2]"
      ]
     },
     "execution_count": 33,
     "metadata": {},
     "output_type": "execute_result"
    },
    {
     "data": {
      "application/javascript": [
       "\n",
       "            setTimeout(function() {\n",
       "                var nbb_cell_id = 33;\n",
       "                var nbb_unformatted_code = \"print(sum([1, 2], start=-3))\\nsum([[1, 2] * 3], [])\";\n",
       "                var nbb_formatted_code = \"print(sum([1, 2], start=-3))\\nsum([[1, 2] * 3], [])\";\n",
       "                var nbb_cells = Jupyter.notebook.get_cells();\n",
       "                for (var i = 0; i < nbb_cells.length; ++i) {\n",
       "                    if (nbb_cells[i].input_prompt_number == nbb_cell_id) {\n",
       "                        if (nbb_cells[i].get_text() == nbb_unformatted_code) {\n",
       "                             nbb_cells[i].set_text(nbb_formatted_code);\n",
       "                        }\n",
       "                        break;\n",
       "                    }\n",
       "                }\n",
       "            }, 500);\n",
       "            "
      ],
      "text/plain": [
       "<IPython.core.display.Javascript object>"
      ]
     },
     "metadata": {},
     "output_type": "display_data"
    }
   ],
   "source": [
    "print(sum([1, 2], start=-3))\n",
    "sum([[1, 2] * 3], [])"
   ]
  },
  {
   "cell_type": "markdown",
   "id": "0e9337a9",
   "metadata": {},
   "source": [
    "### Строки <-> списки..."
   ]
  },
  {
   "cell_type": "code",
   "execution_count": 34,
   "id": "d60f37cc",
   "metadata": {},
   "outputs": [
    {
     "name": "stdout",
     "output_type": "stream",
     "text": [
      "['1', '2', '3', '4', '5', '6']\n",
      "1!_@2!_@3\n"
     ]
    },
    {
     "data": {
      "application/javascript": [
       "\n",
       "            setTimeout(function() {\n",
       "                var nbb_cell_id = 34;\n",
       "                var nbb_unformatted_code = \"string = \\\"1 2 3 4 5 6\\\"\\nlst = [\\\"1\\\", \\\"2\\\", \\\"3\\\", \\\"4\\\", \\\"5\\\", \\\"6\\\"]\\n\\nprint(string.split())  # \\u043c\\u0435\\u0442\\u043e\\u0434 \\u0441\\u0442\\u0440\\u043e\\u043a\\nprint(\\n    \\\"!_@\\\".join([\\\"1\\\", \\\"2\\\", \\\"3\\\"])\\n)  # \\u043c\\u0435\\u0442\\u043e\\u0434 \\u0441\\u0442\\u0440\\u043e\\u043a !\\u043d\\u043e \\u0432\\u043d\\u0443\\u0442\\u0440\\u0438 join \\u044d\\u043b\\u0435\\u043c\\u0435\\u043d\\u0442\\u044b iterable \\u0434\\u043e\\u043b\\u0436\\u043d\\u044b \\u0431\\u044b\\u0442\\u044c str\";\n",
       "                var nbb_formatted_code = \"string = \\\"1 2 3 4 5 6\\\"\\nlst = [\\\"1\\\", \\\"2\\\", \\\"3\\\", \\\"4\\\", \\\"5\\\", \\\"6\\\"]\\n\\nprint(string.split())  # \\u043c\\u0435\\u0442\\u043e\\u0434 \\u0441\\u0442\\u0440\\u043e\\u043a\\nprint(\\n    \\\"!_@\\\".join([\\\"1\\\", \\\"2\\\", \\\"3\\\"])\\n)  # \\u043c\\u0435\\u0442\\u043e\\u0434 \\u0441\\u0442\\u0440\\u043e\\u043a !\\u043d\\u043e \\u0432\\u043d\\u0443\\u0442\\u0440\\u0438 join \\u044d\\u043b\\u0435\\u043c\\u0435\\u043d\\u0442\\u044b iterable \\u0434\\u043e\\u043b\\u0436\\u043d\\u044b \\u0431\\u044b\\u0442\\u044c str\";\n",
       "                var nbb_cells = Jupyter.notebook.get_cells();\n",
       "                for (var i = 0; i < nbb_cells.length; ++i) {\n",
       "                    if (nbb_cells[i].input_prompt_number == nbb_cell_id) {\n",
       "                        if (nbb_cells[i].get_text() == nbb_unformatted_code) {\n",
       "                             nbb_cells[i].set_text(nbb_formatted_code);\n",
       "                        }\n",
       "                        break;\n",
       "                    }\n",
       "                }\n",
       "            }, 500);\n",
       "            "
      ],
      "text/plain": [
       "<IPython.core.display.Javascript object>"
      ]
     },
     "metadata": {},
     "output_type": "display_data"
    }
   ],
   "source": [
    "string = \"1 2 3 4 5 6\"\n",
    "lst = [\"1\", \"2\", \"3\", \"4\", \"5\", \"6\"]\n",
    "\n",
    "print(string.split())  # метод строк\n",
    "print(\n",
    "    \"!_@\".join([\"1\", \"2\", \"3\"])\n",
    ")  # метод строк !но внутри join элементы iterable должны быть str"
   ]
  },
  {
   "cell_type": "markdown",
   "id": "6e40570d",
   "metadata": {},
   "source": [
    "### Кортежи\n",
    "https://docs.python.org/3/library/stdtypes.html#tuples"
   ]
  },
  {
   "cell_type": "code",
   "execution_count": 35,
   "id": "aac543c5",
   "metadata": {},
   "outputs": [
    {
     "data": {
      "application/javascript": [
       "\n",
       "            setTimeout(function() {\n",
       "                var nbb_cell_id = 35;\n",
       "                var nbb_unformatted_code = \"tpl_1 = tuple(\\\"qwerty\\\")\\ntpl_2 = ()\\ntpl_3 = (2,)\\ntpl_4 = (1, 2, 3, 4)\";\n",
       "                var nbb_formatted_code = \"tpl_1 = tuple(\\\"qwerty\\\")\\ntpl_2 = ()\\ntpl_3 = (2,)\\ntpl_4 = (1, 2, 3, 4)\";\n",
       "                var nbb_cells = Jupyter.notebook.get_cells();\n",
       "                for (var i = 0; i < nbb_cells.length; ++i) {\n",
       "                    if (nbb_cells[i].input_prompt_number == nbb_cell_id) {\n",
       "                        if (nbb_cells[i].get_text() == nbb_unformatted_code) {\n",
       "                             nbb_cells[i].set_text(nbb_formatted_code);\n",
       "                        }\n",
       "                        break;\n",
       "                    }\n",
       "                }\n",
       "            }, 500);\n",
       "            "
      ],
      "text/plain": [
       "<IPython.core.display.Javascript object>"
      ]
     },
     "metadata": {},
     "output_type": "display_data"
    }
   ],
   "source": [
    "tpl_1 = tuple(\"qwerty\")\n",
    "tpl_2 = ()\n",
    "tpl_3 = (2,)\n",
    "tpl_4 = (1, 2, 3, 4)"
   ]
  },
  {
   "cell_type": "code",
   "execution_count": 36,
   "id": "11c53e4f",
   "metadata": {},
   "outputs": [
    {
     "data": {
      "text/plain": [
       "7"
      ]
     },
     "execution_count": 36,
     "metadata": {},
     "output_type": "execute_result"
    },
    {
     "data": {
      "application/javascript": [
       "\n",
       "            setTimeout(function() {\n",
       "                var nbb_cell_id = 36;\n",
       "                var nbb_unformatted_code = \"# \\u0420\\u0430\\u0441\\u043f\\u0430\\u043a\\u043e\\u0432\\u043a\\u0430 \\u043f\\u0435\\u0440\\u0435\\u043c\\u0435\\u043d\\u043d\\u044b\\u0445\\na, b, c, d = (1, 2, 3, 4)  # \\u0434\\u043b\\u044f \\u0441\\u043f\\u0438\\u0441\\u043a\\u043e\\u0432 \\u0442\\u043e\\u0436\\u0435 \\u0440\\u0430\\u0431\\u043e\\u0442\\u0430\\u0435\\u0442\\na, b, c, d = d, c, b, a\\na, _, _, _ = 1, 2, 3, 4\\na + b + c + d\";\n",
       "                var nbb_formatted_code = \"# \\u0420\\u0430\\u0441\\u043f\\u0430\\u043a\\u043e\\u0432\\u043a\\u0430 \\u043f\\u0435\\u0440\\u0435\\u043c\\u0435\\u043d\\u043d\\u044b\\u0445\\na, b, c, d = (1, 2, 3, 4)  # \\u0434\\u043b\\u044f \\u0441\\u043f\\u0438\\u0441\\u043a\\u043e\\u0432 \\u0442\\u043e\\u0436\\u0435 \\u0440\\u0430\\u0431\\u043e\\u0442\\u0430\\u0435\\u0442\\na, b, c, d = d, c, b, a\\na, _, _, _ = 1, 2, 3, 4\\na + b + c + d\";\n",
       "                var nbb_cells = Jupyter.notebook.get_cells();\n",
       "                for (var i = 0; i < nbb_cells.length; ++i) {\n",
       "                    if (nbb_cells[i].input_prompt_number == nbb_cell_id) {\n",
       "                        if (nbb_cells[i].get_text() == nbb_unformatted_code) {\n",
       "                             nbb_cells[i].set_text(nbb_formatted_code);\n",
       "                        }\n",
       "                        break;\n",
       "                    }\n",
       "                }\n",
       "            }, 500);\n",
       "            "
      ],
      "text/plain": [
       "<IPython.core.display.Javascript object>"
      ]
     },
     "metadata": {},
     "output_type": "display_data"
    }
   ],
   "source": [
    "# Распаковка переменных\n",
    "a, b, c, d = (1, 2, 3, 4)  # для списков тоже работает\n",
    "a, b, c, d = d, c, b, a\n",
    "a, _, _, _ = 1, 2, 3, 4\n",
    "a + b + c + d"
   ]
  },
  {
   "cell_type": "code",
   "execution_count": 37,
   "id": "062a052e",
   "metadata": {},
   "outputs": [
    {
     "name": "stdout",
     "output_type": "stream",
     "text": [
      "1->2->3->4\n",
      "1 2 3 4\n",
      "(1, 2, 3, 4)\n"
     ]
    },
    {
     "data": {
      "application/javascript": [
       "\n",
       "            setTimeout(function() {\n",
       "                var nbb_cell_id = 37;\n",
       "                var nbb_unformatted_code = \"print(*tpl_4, sep=\\\"->\\\")\\nprint(1, 2, 3, 4)\\nprint(tpl_4, sep=\\\"->\\\")\\n\\n# print(*[*[1] * 3] * 3, sep=\\\"\\\\n\\\")\";\n",
       "                var nbb_formatted_code = \"print(*tpl_4, sep=\\\"->\\\")\\nprint(1, 2, 3, 4)\\nprint(tpl_4, sep=\\\"->\\\")\\n\\n# print(*[*[1] * 3] * 3, sep=\\\"\\\\n\\\")\";\n",
       "                var nbb_cells = Jupyter.notebook.get_cells();\n",
       "                for (var i = 0; i < nbb_cells.length; ++i) {\n",
       "                    if (nbb_cells[i].input_prompt_number == nbb_cell_id) {\n",
       "                        if (nbb_cells[i].get_text() == nbb_unformatted_code) {\n",
       "                             nbb_cells[i].set_text(nbb_formatted_code);\n",
       "                        }\n",
       "                        break;\n",
       "                    }\n",
       "                }\n",
       "            }, 500);\n",
       "            "
      ],
      "text/plain": [
       "<IPython.core.display.Javascript object>"
      ]
     },
     "metadata": {},
     "output_type": "display_data"
    }
   ],
   "source": [
    "print(*tpl_4, sep=\"->\")\n",
    "print(1, 2, 3, 4)\n",
    "print(tpl_4, sep=\"->\")\n",
    "\n",
    "# print(*[*[1] * 3] * 3, sep=\"\\n\")"
   ]
  },
  {
   "cell_type": "code",
   "execution_count": 38,
   "id": "523e1084",
   "metadata": {},
   "outputs": [
    {
     "data": {
      "text/plain": [
       "(1, (1, 2, 3, 4))"
      ]
     },
     "execution_count": 38,
     "metadata": {},
     "output_type": "execute_result"
    },
    {
     "data": {
      "application/javascript": [
       "\n",
       "            setTimeout(function() {\n",
       "                var nbb_cell_id = 38;\n",
       "                var nbb_unformatted_code = \"# \\u0414\\u043e\\u0441\\u0442\\u0443\\u043f\\ntpl_4[0], tpl_4[:]\";\n",
       "                var nbb_formatted_code = \"# \\u0414\\u043e\\u0441\\u0442\\u0443\\u043f\\ntpl_4[0], tpl_4[:]\";\n",
       "                var nbb_cells = Jupyter.notebook.get_cells();\n",
       "                for (var i = 0; i < nbb_cells.length; ++i) {\n",
       "                    if (nbb_cells[i].input_prompt_number == nbb_cell_id) {\n",
       "                        if (nbb_cells[i].get_text() == nbb_unformatted_code) {\n",
       "                             nbb_cells[i].set_text(nbb_formatted_code);\n",
       "                        }\n",
       "                        break;\n",
       "                    }\n",
       "                }\n",
       "            }, 500);\n",
       "            "
      ],
      "text/plain": [
       "<IPython.core.display.Javascript object>"
      ]
     },
     "metadata": {},
     "output_type": "display_data"
    }
   ],
   "source": [
    "# Доступ\n",
    "tpl_4[0], tpl_4[:]"
   ]
  },
  {
   "cell_type": "code",
   "execution_count": 39,
   "id": "7f308336",
   "metadata": {},
   "outputs": [
    {
     "ename": "TypeError",
     "evalue": "'tuple' object does not support item assignment",
     "output_type": "error",
     "traceback": [
      "\u001b[0;31m---------------------------------------------------------------------------\u001b[0m",
      "\u001b[0;31mTypeError\u001b[0m                                 Traceback (most recent call last)",
      "\u001b[0;32m<ipython-input-39-e966a8360e47>\u001b[0m in \u001b[0;36m<module>\u001b[0;34m\u001b[0m\n\u001b[1;32m      1\u001b[0m \u001b[0;31m# Изменение и удаление элементов -> TypeError\u001b[0m\u001b[0;34m\u001b[0m\u001b[0;34m\u001b[0m\u001b[0;34m\u001b[0m\u001b[0m\n\u001b[0;32m----> 2\u001b[0;31m \u001b[0mtpl_4\u001b[0m\u001b[0;34m[\u001b[0m\u001b[0;36m0\u001b[0m\u001b[0;34m]\u001b[0m \u001b[0;34m=\u001b[0m \u001b[0;36m8\u001b[0m\u001b[0;34m\u001b[0m\u001b[0;34m\u001b[0m\u001b[0m\n\u001b[0m\u001b[1;32m      3\u001b[0m \u001b[0;32mdel\u001b[0m \u001b[0mtpl_4\u001b[0m\u001b[0;34m[\u001b[0m\u001b[0;36m0\u001b[0m\u001b[0;34m]\u001b[0m\u001b[0;34m\u001b[0m\u001b[0;34m\u001b[0m\u001b[0m\n",
      "\u001b[0;31mTypeError\u001b[0m: 'tuple' object does not support item assignment"
     ]
    },
    {
     "data": {
      "application/javascript": [
       "\n",
       "            setTimeout(function() {\n",
       "                var nbb_cell_id = 39;\n",
       "                var nbb_unformatted_code = \"# \\u0418\\u0437\\u043c\\u0435\\u043d\\u0435\\u043d\\u0438\\u0435 \\u0438 \\u0443\\u0434\\u0430\\u043b\\u0435\\u043d\\u0438\\u0435 \\u044d\\u043b\\u0435\\u043c\\u0435\\u043d\\u0442\\u043e\\u0432 -> TypeError\\ntpl_4[0] = 8\\ndel tpl_4[0]\";\n",
       "                var nbb_formatted_code = \"# \\u0418\\u0437\\u043c\\u0435\\u043d\\u0435\\u043d\\u0438\\u0435 \\u0438 \\u0443\\u0434\\u0430\\u043b\\u0435\\u043d\\u0438\\u0435 \\u044d\\u043b\\u0435\\u043c\\u0435\\u043d\\u0442\\u043e\\u0432 -> TypeError\\ntpl_4[0] = 8\\ndel tpl_4[0]\";\n",
       "                var nbb_cells = Jupyter.notebook.get_cells();\n",
       "                for (var i = 0; i < nbb_cells.length; ++i) {\n",
       "                    if (nbb_cells[i].input_prompt_number == nbb_cell_id) {\n",
       "                        if (nbb_cells[i].get_text() == nbb_unformatted_code) {\n",
       "                             nbb_cells[i].set_text(nbb_formatted_code);\n",
       "                        }\n",
       "                        break;\n",
       "                    }\n",
       "                }\n",
       "            }, 500);\n",
       "            "
      ],
      "text/plain": [
       "<IPython.core.display.Javascript object>"
      ]
     },
     "metadata": {},
     "output_type": "display_data"
    }
   ],
   "source": [
    "# Изменение и удаление элементов -> TypeError\n",
    "tpl_4[0] = 8\n",
    "del tpl_4[0]"
   ]
  },
  {
   "cell_type": "code",
   "execution_count": 40,
   "id": "61227945",
   "metadata": {},
   "outputs": [
    {
     "data": {
      "application/javascript": [
       "\n",
       "            setTimeout(function() {\n",
       "                var nbb_cell_id = 40;\n",
       "                var nbb_unformatted_code = \"del tpl_4\";\n",
       "                var nbb_formatted_code = \"del tpl_4\";\n",
       "                var nbb_cells = Jupyter.notebook.get_cells();\n",
       "                for (var i = 0; i < nbb_cells.length; ++i) {\n",
       "                    if (nbb_cells[i].input_prompt_number == nbb_cell_id) {\n",
       "                        if (nbb_cells[i].get_text() == nbb_unformatted_code) {\n",
       "                             nbb_cells[i].set_text(nbb_formatted_code);\n",
       "                        }\n",
       "                        break;\n",
       "                    }\n",
       "                }\n",
       "            }, 500);\n",
       "            "
      ],
      "text/plain": [
       "<IPython.core.display.Javascript object>"
      ]
     },
     "metadata": {},
     "output_type": "display_data"
    }
   ],
   "source": [
    "del tpl_4"
   ]
  },
  {
   "cell_type": "markdown",
   "id": "3ccdb97c",
   "metadata": {},
   "source": [
    "### Операторы in / not in"
   ]
  },
  {
   "cell_type": "code",
   "execution_count": 41,
   "id": "f4c2d075",
   "metadata": {},
   "outputs": [
    {
     "data": {
      "text/plain": [
       "(True, True, True)"
      ]
     },
     "execution_count": 41,
     "metadata": {},
     "output_type": "execute_result"
    },
    {
     "data": {
      "application/javascript": [
       "\n",
       "            setTimeout(function() {\n",
       "                var nbb_cell_id = 41;\n",
       "                var nbb_unformatted_code = \"\\\"abc\\\" in \\\"abc def ghi\\\", \\\"q\\\" in list(\\\"qwerty\\\"), 7 not in tuple((1, 2, 3, 4, 5))\";\n",
       "                var nbb_formatted_code = \"\\\"abc\\\" in \\\"abc def ghi\\\", \\\"q\\\" in list(\\\"qwerty\\\"), 7 not in tuple((1, 2, 3, 4, 5))\";\n",
       "                var nbb_cells = Jupyter.notebook.get_cells();\n",
       "                for (var i = 0; i < nbb_cells.length; ++i) {\n",
       "                    if (nbb_cells[i].input_prompt_number == nbb_cell_id) {\n",
       "                        if (nbb_cells[i].get_text() == nbb_unformatted_code) {\n",
       "                             nbb_cells[i].set_text(nbb_formatted_code);\n",
       "                        }\n",
       "                        break;\n",
       "                    }\n",
       "                }\n",
       "            }, 500);\n",
       "            "
      ],
      "text/plain": [
       "<IPython.core.display.Javascript object>"
      ]
     },
     "metadata": {},
     "output_type": "display_data"
    }
   ],
   "source": [
    "\"abc\" in \"abc def ghi\", \"q\" in list(\"qwerty\"), 7 not in tuple((1, 2, 3, 4, 5))"
   ]
  },
  {
   "cell_type": "code",
   "execution_count": 42,
   "id": "4b614199",
   "metadata": {},
   "outputs": [
    {
     "name": "stdout",
     "output_type": "stream",
     "text": [
      "In\n"
     ]
    },
    {
     "data": {
      "application/javascript": [
       "\n",
       "            setTimeout(function() {\n",
       "                var nbb_cell_id = 42;\n",
       "                var nbb_unformatted_code = \"if \\\"a\\\" in \\\"abc\\\":\\n    print(\\\"In\\\")\";\n",
       "                var nbb_formatted_code = \"if \\\"a\\\" in \\\"abc\\\":\\n    print(\\\"In\\\")\";\n",
       "                var nbb_cells = Jupyter.notebook.get_cells();\n",
       "                for (var i = 0; i < nbb_cells.length; ++i) {\n",
       "                    if (nbb_cells[i].input_prompt_number == nbb_cell_id) {\n",
       "                        if (nbb_cells[i].get_text() == nbb_unformatted_code) {\n",
       "                             nbb_cells[i].set_text(nbb_formatted_code);\n",
       "                        }\n",
       "                        break;\n",
       "                    }\n",
       "                }\n",
       "            }, 500);\n",
       "            "
      ],
      "text/plain": [
       "<IPython.core.display.Javascript object>"
      ]
     },
     "metadata": {},
     "output_type": "display_data"
    }
   ],
   "source": [
    "if \"a\" in \"abc\":\n",
    "    print(\"In\")"
   ]
  },
  {
   "cell_type": "markdown",
   "id": "a3abc86d",
   "metadata": {},
   "source": [
    "## Циклы while,for"
   ]
  },
  {
   "cell_type": "code",
   "execution_count": 43,
   "id": "157d9a1b",
   "metadata": {},
   "outputs": [
    {
     "data": {
      "text/plain": [
       "10"
      ]
     },
     "execution_count": 43,
     "metadata": {},
     "output_type": "execute_result"
    },
    {
     "data": {
      "application/javascript": [
       "\n",
       "            setTimeout(function() {\n",
       "                var nbb_cell_id = 43;\n",
       "                var nbb_unformatted_code = \"inc = 0\\ninc = inc + 1\\n# inc++ # c-style\\ninc *= 10  # *= -= ...\\ninc\";\n",
       "                var nbb_formatted_code = \"inc = 0\\ninc = inc + 1\\n# inc++ # c-style\\ninc *= 10  # *= -= ...\\ninc\";\n",
       "                var nbb_cells = Jupyter.notebook.get_cells();\n",
       "                for (var i = 0; i < nbb_cells.length; ++i) {\n",
       "                    if (nbb_cells[i].input_prompt_number == nbb_cell_id) {\n",
       "                        if (nbb_cells[i].get_text() == nbb_unformatted_code) {\n",
       "                             nbb_cells[i].set_text(nbb_formatted_code);\n",
       "                        }\n",
       "                        break;\n",
       "                    }\n",
       "                }\n",
       "            }, 500);\n",
       "            "
      ],
      "text/plain": [
       "<IPython.core.display.Javascript object>"
      ]
     },
     "metadata": {},
     "output_type": "display_data"
    }
   ],
   "source": [
    "inc = 0\n",
    "inc = inc + 1\n",
    "# inc++ # c-style\n",
    "inc *= 10  # *= -= ...\n",
    "inc"
   ]
  },
  {
   "cell_type": "code",
   "execution_count": 44,
   "id": "75885003",
   "metadata": {},
   "outputs": [
    {
     "name": "stdout",
     "output_type": "stream",
     "text": [
      "Итерация # 1\n",
      "Итерация # 2\n",
      "Итерация # 3\n",
      "Итерация # 4\n",
      "Итерация # 5\n",
      "Итерация # 6\n",
      "Итерация # 7\n",
      "Итерация # 8\n",
      "Итерация # 9\n"
     ]
    },
    {
     "data": {
      "application/javascript": [
       "\n",
       "            setTimeout(function() {\n",
       "                var nbb_cell_id = 44;\n",
       "                var nbb_unformatted_code = \"inc = 1\\nwhile inc < 10:\\n    print(\\\"\\u0418\\u0442\\u0435\\u0440\\u0430\\u0446\\u0438\\u044f #\\\", inc)\\n    inc += 1  # \\u043d\\u0435 \\u0437\\u0430\\u0431\\u044b\\u0432\\u0430\\u0435\\u043c \\u0443\\u0432\\u0435\\u043b\\u0438\\u0447\\u0438\\u0442\\u044c\";\n",
       "                var nbb_formatted_code = \"inc = 1\\nwhile inc < 10:\\n    print(\\\"\\u0418\\u0442\\u0435\\u0440\\u0430\\u0446\\u0438\\u044f #\\\", inc)\\n    inc += 1  # \\u043d\\u0435 \\u0437\\u0430\\u0431\\u044b\\u0432\\u0430\\u0435\\u043c \\u0443\\u0432\\u0435\\u043b\\u0438\\u0447\\u0438\\u0442\\u044c\";\n",
       "                var nbb_cells = Jupyter.notebook.get_cells();\n",
       "                for (var i = 0; i < nbb_cells.length; ++i) {\n",
       "                    if (nbb_cells[i].input_prompt_number == nbb_cell_id) {\n",
       "                        if (nbb_cells[i].get_text() == nbb_unformatted_code) {\n",
       "                             nbb_cells[i].set_text(nbb_formatted_code);\n",
       "                        }\n",
       "                        break;\n",
       "                    }\n",
       "                }\n",
       "            }, 500);\n",
       "            "
      ],
      "text/plain": [
       "<IPython.core.display.Javascript object>"
      ]
     },
     "metadata": {},
     "output_type": "display_data"
    }
   ],
   "source": [
    "inc = 1\n",
    "while inc < 10:\n",
    "    print(\"Итерация #\", inc)\n",
    "    inc += 1  # не забываем увеличить"
   ]
  },
  {
   "cell_type": "code",
   "execution_count": 45,
   "id": "fd6185c2",
   "metadata": {},
   "outputs": [
    {
     "name": "stdout",
     "output_type": "stream",
     "text": [
      "Итерация # 1\n",
      "Итерация # 2\n",
      "Итерация # 3\n",
      "--- Условие раннего выхода из цикла ---\n"
     ]
    },
    {
     "data": {
      "application/javascript": [
       "\n",
       "            setTimeout(function() {\n",
       "                var nbb_cell_id = 45;\n",
       "                var nbb_unformatted_code = \"inc = 1\\nwhile inc < 10:\\n    if inc > 3:\\n        print(\\\"--- \\u0423\\u0441\\u043b\\u043e\\u0432\\u0438\\u0435 \\u0440\\u0430\\u043d\\u043d\\u0435\\u0433\\u043e \\u0432\\u044b\\u0445\\u043e\\u0434\\u0430 \\u0438\\u0437 \\u0446\\u0438\\u043a\\u043b\\u0430 ---\\\")\\n        break\\n\\n    print(\\\"\\u0418\\u0442\\u0435\\u0440\\u0430\\u0446\\u0438\\u044f #\\\", inc)\\n\\n    inc += 1  # \\u043d\\u0435 \\u0437\\u0430\\u0431\\u044b\\u0432\\u0430\\u0435\\u043c \\u0443\\u0432\\u0435\\u043b\\u0438\\u0447\\u0438\\u0442\\u044c\";\n",
       "                var nbb_formatted_code = \"inc = 1\\nwhile inc < 10:\\n    if inc > 3:\\n        print(\\\"--- \\u0423\\u0441\\u043b\\u043e\\u0432\\u0438\\u0435 \\u0440\\u0430\\u043d\\u043d\\u0435\\u0433\\u043e \\u0432\\u044b\\u0445\\u043e\\u0434\\u0430 \\u0438\\u0437 \\u0446\\u0438\\u043a\\u043b\\u0430 ---\\\")\\n        break\\n\\n    print(\\\"\\u0418\\u0442\\u0435\\u0440\\u0430\\u0446\\u0438\\u044f #\\\", inc)\\n\\n    inc += 1  # \\u043d\\u0435 \\u0437\\u0430\\u0431\\u044b\\u0432\\u0430\\u0435\\u043c \\u0443\\u0432\\u0435\\u043b\\u0438\\u0447\\u0438\\u0442\\u044c\";\n",
       "                var nbb_cells = Jupyter.notebook.get_cells();\n",
       "                for (var i = 0; i < nbb_cells.length; ++i) {\n",
       "                    if (nbb_cells[i].input_prompt_number == nbb_cell_id) {\n",
       "                        if (nbb_cells[i].get_text() == nbb_unformatted_code) {\n",
       "                             nbb_cells[i].set_text(nbb_formatted_code);\n",
       "                        }\n",
       "                        break;\n",
       "                    }\n",
       "                }\n",
       "            }, 500);\n",
       "            "
      ],
      "text/plain": [
       "<IPython.core.display.Javascript object>"
      ]
     },
     "metadata": {},
     "output_type": "display_data"
    }
   ],
   "source": [
    "inc = 1\n",
    "while inc < 10:\n",
    "    if inc > 3:\n",
    "        print(\"--- Условие раннего выхода из цикла ---\")\n",
    "        break\n",
    "\n",
    "    print(\"Итерация #\", inc)\n",
    "\n",
    "    inc += 1  # не забываем увеличить"
   ]
  },
  {
   "cell_type": "code",
   "execution_count": 46,
   "id": "6f27156a",
   "metadata": {},
   "outputs": [
    {
     "name": "stdout",
     "output_type": "stream",
     "text": [
      "Итерация до # 1\n",
      "--- Тут нечетное число ---\n",
      "Итерация до # 2\n",
      "Итерация # 2\n",
      "Итерация до # 3\n",
      "--- Тут нечетное число ---\n",
      "Итерация до # 4\n",
      "Итерация # 4\n",
      "Итерация до # 5\n",
      "--- Тут нечетное число ---\n",
      "Итерация до # 6\n",
      "Итерация # 6\n",
      "Итерация до # 7\n",
      "--- Тут нечетное число ---\n",
      "Итерация до # 8\n",
      "Итерация # 8\n",
      "Итерация до # 9\n",
      "--- Тут нечетное число ---\n"
     ]
    },
    {
     "data": {
      "application/javascript": [
       "\n",
       "            setTimeout(function() {\n",
       "                var nbb_cell_id = 46;\n",
       "                var nbb_unformatted_code = \"inc = 1\\nwhile inc < 10:\\n    print(\\\"\\u0418\\u0442\\u0435\\u0440\\u0430\\u0446\\u0438\\u044f \\u0434\\u043e #\\\", inc)\\n    if inc % 2:\\n        print(\\\"--- \\u0422\\u0443\\u0442 \\u043d\\u0435\\u0447\\u0435\\u0442\\u043d\\u043e\\u0435 \\u0447\\u0438\\u0441\\u043b\\u043e ---\\\")\\n        inc += 1  # \\u043d\\u0435 \\u0437\\u0430\\u0431\\u044b\\u0432\\u0430\\u0435\\u043c \\u0443\\u0432\\u0435\\u043b\\u0438\\u0447\\u0438\\u0442\\u044c\\n        continue\\n\\n    print(\\\"\\u0418\\u0442\\u0435\\u0440\\u0430\\u0446\\u0438\\u044f #\\\", inc)\\n\\n    inc += 1  # \\u043d\\u0435 \\u0437\\u0430\\u0431\\u044b\\u0432\\u0430\\u0435\\u043c \\u0443\\u0432\\u0435\\u043b\\u0438\\u0447\\u0438\\u0442\\u044c\";\n",
       "                var nbb_formatted_code = \"inc = 1\\nwhile inc < 10:\\n    print(\\\"\\u0418\\u0442\\u0435\\u0440\\u0430\\u0446\\u0438\\u044f \\u0434\\u043e #\\\", inc)\\n    if inc % 2:\\n        print(\\\"--- \\u0422\\u0443\\u0442 \\u043d\\u0435\\u0447\\u0435\\u0442\\u043d\\u043e\\u0435 \\u0447\\u0438\\u0441\\u043b\\u043e ---\\\")\\n        inc += 1  # \\u043d\\u0435 \\u0437\\u0430\\u0431\\u044b\\u0432\\u0430\\u0435\\u043c \\u0443\\u0432\\u0435\\u043b\\u0438\\u0447\\u0438\\u0442\\u044c\\n        continue\\n\\n    print(\\\"\\u0418\\u0442\\u0435\\u0440\\u0430\\u0446\\u0438\\u044f #\\\", inc)\\n\\n    inc += 1  # \\u043d\\u0435 \\u0437\\u0430\\u0431\\u044b\\u0432\\u0430\\u0435\\u043c \\u0443\\u0432\\u0435\\u043b\\u0438\\u0447\\u0438\\u0442\\u044c\";\n",
       "                var nbb_cells = Jupyter.notebook.get_cells();\n",
       "                for (var i = 0; i < nbb_cells.length; ++i) {\n",
       "                    if (nbb_cells[i].input_prompt_number == nbb_cell_id) {\n",
       "                        if (nbb_cells[i].get_text() == nbb_unformatted_code) {\n",
       "                             nbb_cells[i].set_text(nbb_formatted_code);\n",
       "                        }\n",
       "                        break;\n",
       "                    }\n",
       "                }\n",
       "            }, 500);\n",
       "            "
      ],
      "text/plain": [
       "<IPython.core.display.Javascript object>"
      ]
     },
     "metadata": {},
     "output_type": "display_data"
    }
   ],
   "source": [
    "inc = 1\n",
    "while inc < 10:\n",
    "    print(\"Итерация до #\", inc)\n",
    "    if inc % 2:\n",
    "        print(\"--- Тут нечетное число ---\")\n",
    "        inc += 1  # не забываем увеличить\n",
    "        continue\n",
    "\n",
    "    print(\"Итерация #\", inc)\n",
    "\n",
    "    inc += 1  # не забываем увеличить"
   ]
  },
  {
   "cell_type": "code",
   "execution_count": 47,
   "id": "b94399a3",
   "metadata": {},
   "outputs": [
    {
     "name": "stdout",
     "output_type": "stream",
     "text": [
      "a.b.c.d.\n",
      "1,2,y,\n",
      "(0, 'q')|(1, 'w')|(2, 'e')|(3, 'r')|(4, 't')|(5, 'y')|\n",
      "0)q 1)w 2)e 3)r 4)t 5)y "
     ]
    },
    {
     "data": {
      "application/javascript": [
       "\n",
       "            setTimeout(function() {\n",
       "                var nbb_cell_id = 47;\n",
       "                var nbb_unformatted_code = \"for i in \\\"abcd\\\":\\n    print(i, end=\\\".\\\")\\nprint()\\n\\nfor letter in [1, 2, \\\"y\\\"]:\\n    print(letter, end=\\\",\\\")\\nprint()\\n\\nfor it in enumerate(list(\\\"qwerty\\\")):\\n    print(it, end=\\\"|\\\")\\n\\nprint()\\nfor i, letter in enumerate((\\\"qwerty\\\")):\\n    print(f\\\"{i}){letter}\\\", end=\\\" \\\")\";\n",
       "                var nbb_formatted_code = \"for i in \\\"abcd\\\":\\n    print(i, end=\\\".\\\")\\nprint()\\n\\nfor letter in [1, 2, \\\"y\\\"]:\\n    print(letter, end=\\\",\\\")\\nprint()\\n\\nfor it in enumerate(list(\\\"qwerty\\\")):\\n    print(it, end=\\\"|\\\")\\n\\nprint()\\nfor i, letter in enumerate((\\\"qwerty\\\")):\\n    print(f\\\"{i}){letter}\\\", end=\\\" \\\")\";\n",
       "                var nbb_cells = Jupyter.notebook.get_cells();\n",
       "                for (var i = 0; i < nbb_cells.length; ++i) {\n",
       "                    if (nbb_cells[i].input_prompt_number == nbb_cell_id) {\n",
       "                        if (nbb_cells[i].get_text() == nbb_unformatted_code) {\n",
       "                             nbb_cells[i].set_text(nbb_formatted_code);\n",
       "                        }\n",
       "                        break;\n",
       "                    }\n",
       "                }\n",
       "            }, 500);\n",
       "            "
      ],
      "text/plain": [
       "<IPython.core.display.Javascript object>"
      ]
     },
     "metadata": {},
     "output_type": "display_data"
    }
   ],
   "source": [
    "for i in \"abcd\":\n",
    "    print(i, end=\".\")\n",
    "print()\n",
    "\n",
    "for letter in [1, 2, \"y\"]:\n",
    "    print(letter, end=\",\")\n",
    "print()\n",
    "\n",
    "for it in enumerate(list(\"qwerty\")):\n",
    "    print(it, end=\"|\")\n",
    "\n",
    "print()\n",
    "for i, letter in enumerate((\"qwerty\")):\n",
    "    print(f\"{i}){letter}\", end=\" \")"
   ]
  },
  {
   "cell_type": "code",
   "execution_count": 48,
   "id": "92ebf4a9",
   "metadata": {},
   "outputs": [
    {
     "data": {
      "application/javascript": [
       "\n",
       "            setTimeout(function() {\n",
       "                var nbb_cell_id = 48;\n",
       "                var nbb_unformatted_code = \"?range\";\n",
       "                var nbb_formatted_code = \"?range\";\n",
       "                var nbb_cells = Jupyter.notebook.get_cells();\n",
       "                for (var i = 0; i < nbb_cells.length; ++i) {\n",
       "                    if (nbb_cells[i].input_prompt_number == nbb_cell_id) {\n",
       "                        if (nbb_cells[i].get_text() == nbb_unformatted_code) {\n",
       "                             nbb_cells[i].set_text(nbb_formatted_code);\n",
       "                        }\n",
       "                        break;\n",
       "                    }\n",
       "                }\n",
       "            }, 500);\n",
       "            "
      ],
      "text/plain": [
       "<IPython.core.display.Javascript object>"
      ]
     },
     "metadata": {},
     "output_type": "display_data"
    }
   ],
   "source": [
    "?range"
   ]
  },
  {
   "cell_type": "code",
   "execution_count": 49,
   "id": "336fc63a",
   "metadata": {},
   "outputs": [
    {
     "name": "stdout",
     "output_type": "stream",
     "text": [
      "0 1 2 3 4 5 6 7 8 9 \n",
      "5 6 7 8 9 \n",
      "5 7 9 "
     ]
    },
    {
     "data": {
      "application/javascript": [
       "\n",
       "            setTimeout(function() {\n",
       "                var nbb_cell_id = 49;\n",
       "                var nbb_unformatted_code = \"for i in range(10):\\n    print(i, end=\\\" \\\")\\nprint()\\n\\nfor i in range(5, 10):\\n    print(i, end=\\\" \\\")\\nprint()\\n\\nfor i in range(5, 10, 2):\\n    print(i, end=\\\" \\\")\";\n",
       "                var nbb_formatted_code = \"for i in range(10):\\n    print(i, end=\\\" \\\")\\nprint()\\n\\nfor i in range(5, 10):\\n    print(i, end=\\\" \\\")\\nprint()\\n\\nfor i in range(5, 10, 2):\\n    print(i, end=\\\" \\\")\";\n",
       "                var nbb_cells = Jupyter.notebook.get_cells();\n",
       "                for (var i = 0; i < nbb_cells.length; ++i) {\n",
       "                    if (nbb_cells[i].input_prompt_number == nbb_cell_id) {\n",
       "                        if (nbb_cells[i].get_text() == nbb_unformatted_code) {\n",
       "                             nbb_cells[i].set_text(nbb_formatted_code);\n",
       "                        }\n",
       "                        break;\n",
       "                    }\n",
       "                }\n",
       "            }, 500);\n",
       "            "
      ],
      "text/plain": [
       "<IPython.core.display.Javascript object>"
      ]
     },
     "metadata": {},
     "output_type": "display_data"
    }
   ],
   "source": [
    "for i in range(10):\n",
    "    print(i, end=\" \")\n",
    "print()\n",
    "\n",
    "for i in range(5, 10):\n",
    "    print(i, end=\" \")\n",
    "print()\n",
    "\n",
    "for i in range(5, 10, 2):\n",
    "    print(i, end=\" \")"
   ]
  },
  {
   "cell_type": "code",
   "execution_count": 50,
   "id": "51617bfb",
   "metadata": {},
   "outputs": [
    {
     "name": "stdout",
     "output_type": "stream",
     "text": [
      "0-0 1-0 2-0 3-0 4-0 5-0 6-0 7-0 8-0 9-0 "
     ]
    },
    {
     "data": {
      "application/javascript": [
       "\n",
       "            setTimeout(function() {\n",
       "                var nbb_cell_id = 50;\n",
       "                var nbb_unformatted_code = \"lst = [1, 2, 3, 4, 5, 6, 7, 8, 9, 10]\\nlen(lst)\\nfor i in range(len(lst)):\\n    lst[i] = 0\\n    print(f\\\"{i}-{lst[i]}\\\", end=\\\" \\\")\";\n",
       "                var nbb_formatted_code = \"lst = [1, 2, 3, 4, 5, 6, 7, 8, 9, 10]\\nlen(lst)\\nfor i in range(len(lst)):\\n    lst[i] = 0\\n    print(f\\\"{i}-{lst[i]}\\\", end=\\\" \\\")\";\n",
       "                var nbb_cells = Jupyter.notebook.get_cells();\n",
       "                for (var i = 0; i < nbb_cells.length; ++i) {\n",
       "                    if (nbb_cells[i].input_prompt_number == nbb_cell_id) {\n",
       "                        if (nbb_cells[i].get_text() == nbb_unformatted_code) {\n",
       "                             nbb_cells[i].set_text(nbb_formatted_code);\n",
       "                        }\n",
       "                        break;\n",
       "                    }\n",
       "                }\n",
       "            }, 500);\n",
       "            "
      ],
      "text/plain": [
       "<IPython.core.display.Javascript object>"
      ]
     },
     "metadata": {},
     "output_type": "display_data"
    }
   ],
   "source": [
    "lst = [1, 2, 3, 4, 5, 6, 7, 8, 9, 10]\n",
    "len(lst)\n",
    "for i in range(len(lst)):\n",
    "    lst[i] = 0\n",
    "    print(f\"{i}-{lst[i]}\", end=\" \")\n"
   ]
  },
  {
   "cell_type": "code",
   "execution_count": 51,
   "id": "f00d86ab",
   "metadata": {},
   "outputs": [
    {
     "name": "stdout",
     "output_type": "stream",
     "text": [
      "9\n"
     ]
    },
    {
     "data": {
      "application/javascript": [
       "\n",
       "            setTimeout(function() {\n",
       "                var nbb_cell_id = 51;\n",
       "                var nbb_unformatted_code = \"for x in range(20):\\n    break\\n\\nfor x in range(10):\\n    continue\\n\\n\\nprint(x)\";\n",
       "                var nbb_formatted_code = \"for x in range(20):\\n    break\\n\\nfor x in range(10):\\n    continue\\n\\n\\nprint(x)\";\n",
       "                var nbb_cells = Jupyter.notebook.get_cells();\n",
       "                for (var i = 0; i < nbb_cells.length; ++i) {\n",
       "                    if (nbb_cells[i].input_prompt_number == nbb_cell_id) {\n",
       "                        if (nbb_cells[i].get_text() == nbb_unformatted_code) {\n",
       "                             nbb_cells[i].set_text(nbb_formatted_code);\n",
       "                        }\n",
       "                        break;\n",
       "                    }\n",
       "                }\n",
       "            }, 500);\n",
       "            "
      ],
      "text/plain": [
       "<IPython.core.display.Javascript object>"
      ]
     },
     "metadata": {},
     "output_type": "display_data"
    }
   ],
   "source": [
    "for x in range(20):\n",
    "    break\n",
    "\n",
    "for x in range(10):\n",
    "    continue\n",
    "\n",
    "\n",
    "print(x)"
   ]
  },
  {
   "cell_type": "markdown",
   "id": "ac84d81d",
   "metadata": {},
   "source": [
    "## Множества\n",
    "https://docs.python.org/3/library/stdtypes.html#set-types-set-frozenset"
   ]
  },
  {
   "cell_type": "code",
   "execution_count": 52,
   "id": "ebcc42a0",
   "metadata": {},
   "outputs": [
    {
     "data": {
      "text/plain": [
       "(-2641178646822081237,\n",
       " -2740927056621133663,\n",
       " -2740927056621133663,\n",
       " 1,\n",
       " 230584300921369601)"
      ]
     },
     "execution_count": 52,
     "metadata": {},
     "output_type": "execute_result"
    },
    {
     "data": {
      "application/javascript": [
       "\n",
       "            setTimeout(function() {\n",
       "                var nbb_cell_id = 52;\n",
       "                var nbb_unformatted_code = \"# \\u043d\\u0430 \\u0432\\u0445\\u043e\\u0434 \\u043f\\u0440\\u0438\\u0445\\u043e\\u0434\\u0438\\u0442 \\u0447\\u0442\\u043e-\\u0442\\u043e \\u043d\\u0435\\u0438\\u0437\\u043c\\u0435\\u043d\\u044f\\u0435\\u043c\\u043e\\u0435 ->\\n# \\u0432\\u043d\\u0443\\u0442\\u0440\\u0438 \\u043f\\u0440\\u043e\\u0438\\u0441\\u0445\\u043e\\u0434\\u0438\\u0442 \\u043f\\u0440\\u0435\\u043e\\u0431\\u0440\\u0430\\u0437\\u043e\\u0432\\u0430\\u043d\\u0438\\u0435 \\u043e\\u0431\\u044a\\u0435\\u043a\\u0442\\u0430 \\u043f\\u043e \\u043e\\u043f\\u0440\\u0435\\u0434\\u0435\\u043b\\u0435\\u043d\\u043d\\u043e\\u043c\\u0443 \\u043f\\u0440\\u0430\\u0432\\u0438\\u043b\\u0443 ->\\n# \\u043d\\u0430 \\u0432\\u044b\\u0445\\u043e\\u0434\\u0435, \\u0432 \\u043d\\u0430\\u0448\\u0435\\u043c \\u0441\\u043b\\u0443\\u0447\\u0430\\u0435, \\u043c\\u044b \\u043f\\u043e\\u043b\\u0443\\u0447\\u0430\\u0435\\u043c \\u0447\\u0438\\u0441\\u043b\\u043e\\nhash(\\\"One\\\"), hash(\\\"1\\\"), hash(\\\"1\\\"), hash(1), hash(1.1)\";\n",
       "                var nbb_formatted_code = \"# \\u043d\\u0430 \\u0432\\u0445\\u043e\\u0434 \\u043f\\u0440\\u0438\\u0445\\u043e\\u0434\\u0438\\u0442 \\u0447\\u0442\\u043e-\\u0442\\u043e \\u043d\\u0435\\u0438\\u0437\\u043c\\u0435\\u043d\\u044f\\u0435\\u043c\\u043e\\u0435 ->\\n# \\u0432\\u043d\\u0443\\u0442\\u0440\\u0438 \\u043f\\u0440\\u043e\\u0438\\u0441\\u0445\\u043e\\u0434\\u0438\\u0442 \\u043f\\u0440\\u0435\\u043e\\u0431\\u0440\\u0430\\u0437\\u043e\\u0432\\u0430\\u043d\\u0438\\u0435 \\u043e\\u0431\\u044a\\u0435\\u043a\\u0442\\u0430 \\u043f\\u043e \\u043e\\u043f\\u0440\\u0435\\u0434\\u0435\\u043b\\u0435\\u043d\\u043d\\u043e\\u043c\\u0443 \\u043f\\u0440\\u0430\\u0432\\u0438\\u043b\\u0443 ->\\n# \\u043d\\u0430 \\u0432\\u044b\\u0445\\u043e\\u0434\\u0435, \\u0432 \\u043d\\u0430\\u0448\\u0435\\u043c \\u0441\\u043b\\u0443\\u0447\\u0430\\u0435, \\u043c\\u044b \\u043f\\u043e\\u043b\\u0443\\u0447\\u0430\\u0435\\u043c \\u0447\\u0438\\u0441\\u043b\\u043e\\nhash(\\\"One\\\"), hash(\\\"1\\\"), hash(\\\"1\\\"), hash(1), hash(1.1)\";\n",
       "                var nbb_cells = Jupyter.notebook.get_cells();\n",
       "                for (var i = 0; i < nbb_cells.length; ++i) {\n",
       "                    if (nbb_cells[i].input_prompt_number == nbb_cell_id) {\n",
       "                        if (nbb_cells[i].get_text() == nbb_unformatted_code) {\n",
       "                             nbb_cells[i].set_text(nbb_formatted_code);\n",
       "                        }\n",
       "                        break;\n",
       "                    }\n",
       "                }\n",
       "            }, 500);\n",
       "            "
      ],
      "text/plain": [
       "<IPython.core.display.Javascript object>"
      ]
     },
     "metadata": {},
     "output_type": "display_data"
    }
   ],
   "source": [
    "# на вход приходит что-то неизменяемое ->\n",
    "# внутри происходит преобразование объекта по определенному правилу ->\n",
    "# на выходе, в нашем случае, мы получаем число\n",
    "hash(\"One\"), hash(\"1\"), hash(\"1\"), hash(1), hash(1.1)"
   ]
  },
  {
   "cell_type": "code",
   "execution_count": 53,
   "id": "22a9387c",
   "metadata": {},
   "outputs": [
    {
     "data": {
      "text/plain": [
       "({'1', '2', '20', '3', '4'}, {'1', '2', '3', '4', '5', '6', '7', '8'})"
      ]
     },
     "execution_count": 53,
     "metadata": {},
     "output_type": "execute_result"
    },
    {
     "data": {
      "application/javascript": [
       "\n",
       "            setTimeout(function() {\n",
       "                var nbb_cell_id = 53;\n",
       "                var nbb_unformatted_code = \"st_1 = {\\\"1\\\", \\\"2\\\", \\\"3\\\", \\\"4\\\", \\\"1\\\", \\\"4\\\", \\\"20\\\"}\\nst_2 = set(\\\"12345678\\\")\\nst_1, st_2\";\n",
       "                var nbb_formatted_code = \"st_1 = {\\\"1\\\", \\\"2\\\", \\\"3\\\", \\\"4\\\", \\\"1\\\", \\\"4\\\", \\\"20\\\"}\\nst_2 = set(\\\"12345678\\\")\\nst_1, st_2\";\n",
       "                var nbb_cells = Jupyter.notebook.get_cells();\n",
       "                for (var i = 0; i < nbb_cells.length; ++i) {\n",
       "                    if (nbb_cells[i].input_prompt_number == nbb_cell_id) {\n",
       "                        if (nbb_cells[i].get_text() == nbb_unformatted_code) {\n",
       "                             nbb_cells[i].set_text(nbb_formatted_code);\n",
       "                        }\n",
       "                        break;\n",
       "                    }\n",
       "                }\n",
       "            }, 500);\n",
       "            "
      ],
      "text/plain": [
       "<IPython.core.display.Javascript object>"
      ]
     },
     "metadata": {},
     "output_type": "display_data"
    }
   ],
   "source": [
    "st_1 = {\"1\", \"2\", \"3\", \"4\", \"1\", \"4\", \"20\"}\n",
    "st_2 = set(\"12345678\")\n",
    "st_1, st_2"
   ]
  },
  {
   "cell_type": "markdown",
   "id": "dbf698c0",
   "metadata": {},
   "source": [
    "### Операции и методы"
   ]
  },
  {
   "cell_type": "code",
   "execution_count": 54,
   "id": "ff6f5f89",
   "metadata": {},
   "outputs": [
    {
     "name": "stdout",
     "output_type": "stream",
     "text": [
      "{1}\n",
      "{1, 2, 3, 4}\n",
      "2\n",
      "{3, 4}\n",
      "set()\n"
     ]
    },
    {
     "data": {
      "application/javascript": [
       "\n",
       "            setTimeout(function() {\n",
       "                var nbb_cell_id = 54;\n",
       "                var nbb_unformatted_code = \"st = set()\\n# \\u0414\\u043e\\u0431\\u0430\\u0432\\u043b\\u0435\\u043d\\u0438\\u0435\\nst.add(1)\\nprint(st)\\n\\n# \\u041e\\u0431\\u044a\\u0435\\u0434\\u0435\\u043d\\u0438\\u0442\\u044c \\u0441 \\u0434\\u0440\\u0443\\u0433\\u0438\\u043c \\u0438 \\u0434\\u0430\\u0431\\u0430\\u0432\\u0438\\u0442\\u044c \\u0432 \\u0441\\u0435\\u0431\\u044f\\nst.update({1, 2, 3, 4})\\nprint(st)\\n\\n# \\u0423\\u0434\\u0430\\u043b\\u0435\\u043d\\u0438\\u0435\\nst.discard(10)  # \\u043d\\u0435\\u0442 \\u043e\\u0448\\u0438\\u0431\\u043a\\u0438, \\u0435\\u0441\\u043b\\u0438 \\u043d\\u0435\\u0442 \\u044d\\u043b\\u0435\\u043c\\u0435\\u043d\\u0442\\u0430\\nst.remove(1)  # -> KeyError\\nprint(st.pop())\\nprint(st)\\n\\n# \\u041e\\u0447\\u0438\\u0449\\u0435\\u043d\\u0438\\u0435\\nst.clear()\\nprint(st)\\n\\n# \\u0423\\u0434\\u0430\\u043b\\u0435\\u043d\\u0438\\u0435\\ndel st\";\n",
       "                var nbb_formatted_code = \"st = set()\\n# \\u0414\\u043e\\u0431\\u0430\\u0432\\u043b\\u0435\\u043d\\u0438\\u0435\\nst.add(1)\\nprint(st)\\n\\n# \\u041e\\u0431\\u044a\\u0435\\u0434\\u0435\\u043d\\u0438\\u0442\\u044c \\u0441 \\u0434\\u0440\\u0443\\u0433\\u0438\\u043c \\u0438 \\u0434\\u0430\\u0431\\u0430\\u0432\\u0438\\u0442\\u044c \\u0432 \\u0441\\u0435\\u0431\\u044f\\nst.update({1, 2, 3, 4})\\nprint(st)\\n\\n# \\u0423\\u0434\\u0430\\u043b\\u0435\\u043d\\u0438\\u0435\\nst.discard(10)  # \\u043d\\u0435\\u0442 \\u043e\\u0448\\u0438\\u0431\\u043a\\u0438, \\u0435\\u0441\\u043b\\u0438 \\u043d\\u0435\\u0442 \\u044d\\u043b\\u0435\\u043c\\u0435\\u043d\\u0442\\u0430\\nst.remove(1)  # -> KeyError\\nprint(st.pop())\\nprint(st)\\n\\n# \\u041e\\u0447\\u0438\\u0449\\u0435\\u043d\\u0438\\u0435\\nst.clear()\\nprint(st)\\n\\n# \\u0423\\u0434\\u0430\\u043b\\u0435\\u043d\\u0438\\u0435\\ndel st\";\n",
       "                var nbb_cells = Jupyter.notebook.get_cells();\n",
       "                for (var i = 0; i < nbb_cells.length; ++i) {\n",
       "                    if (nbb_cells[i].input_prompt_number == nbb_cell_id) {\n",
       "                        if (nbb_cells[i].get_text() == nbb_unformatted_code) {\n",
       "                             nbb_cells[i].set_text(nbb_formatted_code);\n",
       "                        }\n",
       "                        break;\n",
       "                    }\n",
       "                }\n",
       "            }, 500);\n",
       "            "
      ],
      "text/plain": [
       "<IPython.core.display.Javascript object>"
      ]
     },
     "metadata": {},
     "output_type": "display_data"
    }
   ],
   "source": [
    "st = set()\n",
    "# Добавление\n",
    "st.add(1)\n",
    "print(st)\n",
    "\n",
    "# Объеденить с другим и дабавить в себя\n",
    "st.update({1, 2, 3, 4})\n",
    "print(st)\n",
    "\n",
    "# Удаление\n",
    "st.discard(10)  # нет ошибки, если нет элемента\n",
    "st.remove(1)  # -> KeyError\n",
    "print(st.pop())\n",
    "print(st)\n",
    "\n",
    "# Очищение\n",
    "st.clear()\n",
    "print(st)\n",
    "\n",
    "# Удаление\n",
    "del st"
   ]
  },
  {
   "cell_type": "code",
   "execution_count": 55,
   "id": "63794212",
   "metadata": {},
   "outputs": [
    {
     "name": "stdout",
     "output_type": "stream",
     "text": [
      "{'2', '1', '3', '4'} {'2', '1', '3', '4'}\n",
      "{'1', '3', '4', '2', '20', '6', '5', '8', '7'} {'1', '3', '4', '2', '20', '6', '5', '8', '7'}\n",
      "{'5', '7', '8', '6'} {'5', '7', '8', '6'}\n",
      "{'20', '6', '5', '8', '7'} {'5', '8', '20', '7', '6'}\n"
     ]
    },
    {
     "data": {
      "application/javascript": [
       "\n",
       "            setTimeout(function() {\n",
       "                var nbb_cell_id = 55;\n",
       "                var nbb_unformatted_code = \"print(st_1 & st_2, st_1.intersection(st_2))  # \\u043f\\u0435\\u0440\\u0435c\\u0435\\u0447\\u0435\\u043d\\u0438\\u0435\\nprint(st_1 | st_2, st_1.union(st_2))  # \\u043e\\u0431\\u044a\\u0435\\u0434\\u0438\\u043d\\u0435\\u043d\\u0438\\u0435\\nprint(st_2 - st_1, st_2.difference(st_1))  # \\u0440\\u0430\\u0437\\u043d\\u0438\\u0446\\u0430\\nprint(\\n    st_1 ^ st_2, st_2.symmetric_difference(st_1)\\n)  # \\u043d\\u0435 \\u043d\\u0430\\u0445\\u043e\\u0434\\u044f\\u0442\\u0441\\u044f \\u0441\\u0440\\u0430\\u0437\\u0443 \\u0432 \\u0434\\u0432\\u0443\\u0445 \\u043c\\u043d\\u043e\\u0436\\u0435\\u0441\\u0442\\u0432\\u0430\\u0445\";\n",
       "                var nbb_formatted_code = \"print(st_1 & st_2, st_1.intersection(st_2))  # \\u043f\\u0435\\u0440\\u0435c\\u0435\\u0447\\u0435\\u043d\\u0438\\u0435\\nprint(st_1 | st_2, st_1.union(st_2))  # \\u043e\\u0431\\u044a\\u0435\\u0434\\u0438\\u043d\\u0435\\u043d\\u0438\\u0435\\nprint(st_2 - st_1, st_2.difference(st_1))  # \\u0440\\u0430\\u0437\\u043d\\u0438\\u0446\\u0430\\nprint(\\n    st_1 ^ st_2, st_2.symmetric_difference(st_1)\\n)  # \\u043d\\u0435 \\u043d\\u0430\\u0445\\u043e\\u0434\\u044f\\u0442\\u0441\\u044f \\u0441\\u0440\\u0430\\u0437\\u0443 \\u0432 \\u0434\\u0432\\u0443\\u0445 \\u043c\\u043d\\u043e\\u0436\\u0435\\u0441\\u0442\\u0432\\u0430\\u0445\";\n",
       "                var nbb_cells = Jupyter.notebook.get_cells();\n",
       "                for (var i = 0; i < nbb_cells.length; ++i) {\n",
       "                    if (nbb_cells[i].input_prompt_number == nbb_cell_id) {\n",
       "                        if (nbb_cells[i].get_text() == nbb_unformatted_code) {\n",
       "                             nbb_cells[i].set_text(nbb_formatted_code);\n",
       "                        }\n",
       "                        break;\n",
       "                    }\n",
       "                }\n",
       "            }, 500);\n",
       "            "
      ],
      "text/plain": [
       "<IPython.core.display.Javascript object>"
      ]
     },
     "metadata": {},
     "output_type": "display_data"
    }
   ],
   "source": [
    "print(st_1 & st_2, st_1.intersection(st_2))  # переcечение\n",
    "print(st_1 | st_2, st_1.union(st_2))  # объединение\n",
    "print(st_2 - st_1, st_2.difference(st_1))  # разница\n",
    "print(\n",
    "    st_1 ^ st_2, st_2.symmetric_difference(st_1)\n",
    ")  # не находятся сразу в двух множествах"
   ]
  },
  {
   "cell_type": "markdown",
   "id": "2c804c2e",
   "metadata": {},
   "source": [
    "# Словари\n",
    "https://docs.python.org/3/library/stdtypes.html#mapping-types-dict"
   ]
  },
  {
   "cell_type": "code",
   "execution_count": 56,
   "id": "8a740ee8",
   "metadata": {},
   "outputs": [
    {
     "data": {
      "application/javascript": [
       "\n",
       "            setTimeout(function() {\n",
       "                var nbb_cell_id = 56;\n",
       "                var nbb_unformatted_code = \"# {1, 2, 3, 4, 5} -> {1:1, 2:2, 3:3, 4:4, 5:5} -- \\u043a\\u043b\\u044e\\u0447: \\u0437\\u043d\\u0430\\u0447\\u0435\\u043d\\u0438\\u0435\\ndct_1 = dict([(\\\"key1\\\", 1), (\\\"key2\\\", 2)])\\ndct_2 = {1: 1, 2: 2, 3: 3, 4: 4, 5: 5, 2: 5}\";\n",
       "                var nbb_formatted_code = \"# {1, 2, 3, 4, 5} -> {1:1, 2:2, 3:3, 4:4, 5:5} -- \\u043a\\u043b\\u044e\\u0447: \\u0437\\u043d\\u0430\\u0447\\u0435\\u043d\\u0438\\u0435\\ndct_1 = dict([(\\\"key1\\\", 1), (\\\"key2\\\", 2)])\\ndct_2 = {1: 1, 2: 2, 3: 3, 4: 4, 5: 5, 2: 5}\";\n",
       "                var nbb_cells = Jupyter.notebook.get_cells();\n",
       "                for (var i = 0; i < nbb_cells.length; ++i) {\n",
       "                    if (nbb_cells[i].input_prompt_number == nbb_cell_id) {\n",
       "                        if (nbb_cells[i].get_text() == nbb_unformatted_code) {\n",
       "                             nbb_cells[i].set_text(nbb_formatted_code);\n",
       "                        }\n",
       "                        break;\n",
       "                    }\n",
       "                }\n",
       "            }, 500);\n",
       "            "
      ],
      "text/plain": [
       "<IPython.core.display.Javascript object>"
      ]
     },
     "metadata": {},
     "output_type": "display_data"
    }
   ],
   "source": [
    "# {1, 2, 3, 4, 5} -> {1:1, 2:2, 3:3, 4:4, 5:5} -- ключ: значение\n",
    "dct_1 = dict([(\"key1\", 1), (\"key2\", 2)])\n",
    "dct_2 = {1: 1, 2: 2, 3: 3, 4: 4, 5: 5, 2: 5}"
   ]
  },
  {
   "cell_type": "code",
   "execution_count": 57,
   "id": "c09faff4",
   "metadata": {},
   "outputs": [
    {
     "data": {
      "text/plain": [
       "{'key1': [1, 2, 3, 4],\n",
       " 'key2': {},\n",
       " 3: (1, 2, 3),\n",
       " (1, 2, 3): {'e', 'q', 'r', 't', 'w', 'y'}}"
      ]
     },
     "execution_count": 57,
     "metadata": {},
     "output_type": "execute_result"
    },
    {
     "data": {
      "application/javascript": [
       "\n",
       "            setTimeout(function() {\n",
       "                var nbb_cell_id = 57;\n",
       "                var nbb_unformatted_code = \"# \\u043a\\u043b\\u044e\\u0447\\u0438 \\u0434\\u043e\\u043b\\u0436\\u043d\\u044b \\u0431\\u044b\\u0442\\u044c \\u0445\\u044d\\u0448\\u0438\\u0440\\u0443\\u0435\\u043c\\u044b, \\u043d\\u043e \\u0437\\u043d\\u0430\\u0447\\u0435\\u043d\\u0438\\u044f -- \\u043d\\u0435\\u0432\\u0430\\u0436\\u043d\\u043e\\n{\\\"key1\\\": [1, 2, 3, 4], \\\"key2\\\": dict(), 3: (1, 2, 3), (1, 2, 3): set(\\\"qwerty\\\")}\";\n",
       "                var nbb_formatted_code = \"# \\u043a\\u043b\\u044e\\u0447\\u0438 \\u0434\\u043e\\u043b\\u0436\\u043d\\u044b \\u0431\\u044b\\u0442\\u044c \\u0445\\u044d\\u0448\\u0438\\u0440\\u0443\\u0435\\u043c\\u044b, \\u043d\\u043e \\u0437\\u043d\\u0430\\u0447\\u0435\\u043d\\u0438\\u044f -- \\u043d\\u0435\\u0432\\u0430\\u0436\\u043d\\u043e\\n{\\\"key1\\\": [1, 2, 3, 4], \\\"key2\\\": dict(), 3: (1, 2, 3), (1, 2, 3): set(\\\"qwerty\\\")}\";\n",
       "                var nbb_cells = Jupyter.notebook.get_cells();\n",
       "                for (var i = 0; i < nbb_cells.length; ++i) {\n",
       "                    if (nbb_cells[i].input_prompt_number == nbb_cell_id) {\n",
       "                        if (nbb_cells[i].get_text() == nbb_unformatted_code) {\n",
       "                             nbb_cells[i].set_text(nbb_formatted_code);\n",
       "                        }\n",
       "                        break;\n",
       "                    }\n",
       "                }\n",
       "            }, 500);\n",
       "            "
      ],
      "text/plain": [
       "<IPython.core.display.Javascript object>"
      ]
     },
     "metadata": {},
     "output_type": "display_data"
    }
   ],
   "source": [
    "# ключи должны быть хэшируемы, но значения -- неважно\n",
    "{\"key1\": [1, 2, 3, 4], \"key2\": dict(), 3: (1, 2, 3), (1, 2, 3): set(\"qwerty\")}"
   ]
  },
  {
   "cell_type": "markdown",
   "id": "7af4d4f3",
   "metadata": {},
   "source": [
    "### Операции и методы"
   ]
  },
  {
   "cell_type": "code",
   "execution_count": 58,
   "id": "2f165dbf",
   "metadata": {},
   "outputs": [
    {
     "name": "stdout",
     "output_type": "stream",
     "text": [
      "{'key_1': 2}\n",
      "2\n",
      "-> None 3\n"
     ]
    },
    {
     "ename": "KeyError",
     "evalue": "'key_2'",
     "output_type": "error",
     "traceback": [
      "\u001b[0;31m---------------------------------------------------------------------------\u001b[0m",
      "\u001b[0;31mKeyError\u001b[0m                                  Traceback (most recent call last)",
      "\u001b[0;32m<ipython-input-58-38b0b9e7b4f7>\u001b[0m in \u001b[0;36m<module>\u001b[0;34m\u001b[0m\n\u001b[1;32m      9\u001b[0m \u001b[0;34m\u001b[0m\u001b[0m\n\u001b[1;32m     10\u001b[0m \u001b[0mprint\u001b[0m\u001b[0;34m(\u001b[0m\u001b[0;34m\"->\"\u001b[0m\u001b[0;34m,\u001b[0m \u001b[0mdct\u001b[0m\u001b[0;34m.\u001b[0m\u001b[0mget\u001b[0m\u001b[0;34m(\u001b[0m\u001b[0;34m\"key_2\"\u001b[0m\u001b[0;34m)\u001b[0m\u001b[0;34m,\u001b[0m \u001b[0mdct\u001b[0m\u001b[0;34m.\u001b[0m\u001b[0mget\u001b[0m\u001b[0;34m(\u001b[0m\u001b[0;34m\"key_2\"\u001b[0m\u001b[0;34m,\u001b[0m \u001b[0;36m3\u001b[0m\u001b[0;34m)\u001b[0m\u001b[0;34m)\u001b[0m  \u001b[0;31m# get(key, default = None)\u001b[0m\u001b[0;34m\u001b[0m\u001b[0;34m\u001b[0m\u001b[0m\n\u001b[0;32m---> 11\u001b[0;31m \u001b[0mdct\u001b[0m\u001b[0;34m[\u001b[0m\u001b[0;34m\"key_2\"\u001b[0m\u001b[0;34m]\u001b[0m \u001b[0;34m+=\u001b[0m \u001b[0mdct\u001b[0m\u001b[0;34m.\u001b[0m\u001b[0mget\u001b[0m\u001b[0;34m(\u001b[0m\u001b[0;34m\"key_2\"\u001b[0m\u001b[0;34m,\u001b[0m \u001b[0;36m0\u001b[0m\u001b[0;34m)\u001b[0m \u001b[0;34m+\u001b[0m \u001b[0;36m1\u001b[0m\u001b[0;34m\u001b[0m\u001b[0;34m\u001b[0m\u001b[0m\n\u001b[0m\u001b[1;32m     12\u001b[0m \u001b[0mprint\u001b[0m\u001b[0;34m(\u001b[0m\u001b[0mdct\u001b[0m\u001b[0;34m)\u001b[0m\u001b[0;34m\u001b[0m\u001b[0;34m\u001b[0m\u001b[0m\n",
      "\u001b[0;31mKeyError\u001b[0m: 'key_2'"
     ]
    },
    {
     "data": {
      "application/javascript": [
       "\n",
       "            setTimeout(function() {\n",
       "                var nbb_cell_id = 58;\n",
       "                var nbb_unformatted_code = \"dct = dict()\\n# \\u0414\\u043e\\u0431\\u0430\\u0432\\u043b\\u0435\\u043d\\u0438\\u0435\\ndct[\\\"key_1\\\"] = 2\\nprint(dct)\\n\\n# \\u0414\\u043e\\u0441\\u0442\\u0443\\u043f\\nprint(dct[\\\"key_1\\\"])\\n# print(dct[\\\"key_2\\\"])  # -> KeyError\\n\\nprint(\\\"->\\\", dct.get(\\\"key_2\\\"), dct.get(\\\"key_2\\\", 3))  # get(key, default = None)\\ndct[\\\"key_2\\\"] += dct.get(\\\"key_2\\\", 0) + 1\\nprint(dct)\";\n",
       "                var nbb_formatted_code = \"dct = dict()\\n# \\u0414\\u043e\\u0431\\u0430\\u0432\\u043b\\u0435\\u043d\\u0438\\u0435\\ndct[\\\"key_1\\\"] = 2\\nprint(dct)\\n\\n# \\u0414\\u043e\\u0441\\u0442\\u0443\\u043f\\nprint(dct[\\\"key_1\\\"])\\n# print(dct[\\\"key_2\\\"])  # -> KeyError\\n\\nprint(\\\"->\\\", dct.get(\\\"key_2\\\"), dct.get(\\\"key_2\\\", 3))  # get(key, default = None)\\ndct[\\\"key_2\\\"] += dct.get(\\\"key_2\\\", 0) + 1\\nprint(dct)\";\n",
       "                var nbb_cells = Jupyter.notebook.get_cells();\n",
       "                for (var i = 0; i < nbb_cells.length; ++i) {\n",
       "                    if (nbb_cells[i].input_prompt_number == nbb_cell_id) {\n",
       "                        if (nbb_cells[i].get_text() == nbb_unformatted_code) {\n",
       "                             nbb_cells[i].set_text(nbb_formatted_code);\n",
       "                        }\n",
       "                        break;\n",
       "                    }\n",
       "                }\n",
       "            }, 500);\n",
       "            "
      ],
      "text/plain": [
       "<IPython.core.display.Javascript object>"
      ]
     },
     "metadata": {},
     "output_type": "display_data"
    }
   ],
   "source": [
    "dct = dict()\n",
    "# Добавление\n",
    "dct[\"key_1\"] = 2\n",
    "print(dct)\n",
    "\n",
    "# Доступ\n",
    "print(dct[\"key_1\"])\n",
    "# print(dct[\"key_2\"])  # -> KeyError\n",
    "\n",
    "print(\"->\", dct.get(\"key_2\"), dct.get(\"key_2\", 3))  # get(key, default = None)\n",
    "dct[\"key_2\"] += dct.get(\"key_2\", 0) + 1\n",
    "print(dct)"
   ]
  },
  {
   "cell_type": "code",
   "execution_count": 59,
   "id": "fa687c21",
   "metadata": {},
   "outputs": [
    {
     "data": {
      "text/plain": [
       "'A b a A'"
      ]
     },
     "execution_count": 59,
     "metadata": {},
     "output_type": "execute_result"
    },
    {
     "data": {
      "application/javascript": [
       "\n",
       "            setTimeout(function() {\n",
       "                var nbb_cell_id = 59;\n",
       "                var nbb_unformatted_code = \"\\\"A b a A\\\"\";\n",
       "                var nbb_formatted_code = \"\\\"A b a A\\\"\";\n",
       "                var nbb_cells = Jupyter.notebook.get_cells();\n",
       "                for (var i = 0; i < nbb_cells.length; ++i) {\n",
       "                    if (nbb_cells[i].input_prompt_number == nbb_cell_id) {\n",
       "                        if (nbb_cells[i].get_text() == nbb_unformatted_code) {\n",
       "                             nbb_cells[i].set_text(nbb_formatted_code);\n",
       "                        }\n",
       "                        break;\n",
       "                    }\n",
       "                }\n",
       "            }, 500);\n",
       "            "
      ],
      "text/plain": [
       "<IPython.core.display.Javascript object>"
      ]
     },
     "metadata": {},
     "output_type": "display_data"
    }
   ],
   "source": [
    "\"A b a A\""
   ]
  },
  {
   "cell_type": "code",
   "execution_count": 60,
   "id": "67ba1acb",
   "metadata": {},
   "outputs": [
    {
     "name": "stdout",
     "output_type": "stream",
     "text": [
      "dict_keys(['key_1'])\n",
      "dict_values([2])\n",
      "dict_items([('key_1', 2)])\n"
     ]
    },
    {
     "data": {
      "application/javascript": [
       "\n",
       "            setTimeout(function() {\n",
       "                var nbb_cell_id = 60;\n",
       "                var nbb_unformatted_code = \"print(dct.keys(), dct.values(), dct.items(), sep=\\\"\\\\n\\\")\";\n",
       "                var nbb_formatted_code = \"print(dct.keys(), dct.values(), dct.items(), sep=\\\"\\\\n\\\")\";\n",
       "                var nbb_cells = Jupyter.notebook.get_cells();\n",
       "                for (var i = 0; i < nbb_cells.length; ++i) {\n",
       "                    if (nbb_cells[i].input_prompt_number == nbb_cell_id) {\n",
       "                        if (nbb_cells[i].get_text() == nbb_unformatted_code) {\n",
       "                             nbb_cells[i].set_text(nbb_formatted_code);\n",
       "                        }\n",
       "                        break;\n",
       "                    }\n",
       "                }\n",
       "            }, 500);\n",
       "            "
      ],
      "text/plain": [
       "<IPython.core.display.Javascript object>"
      ]
     },
     "metadata": {},
     "output_type": "display_data"
    }
   ],
   "source": [
    "print(dct.keys(), dct.values(), dct.items(), sep=\"\\n\")"
   ]
  },
  {
   "cell_type": "code",
   "execution_count": 61,
   "id": "f5a82e7f",
   "metadata": {},
   "outputs": [
    {
     "name": "stdout",
     "output_type": "stream",
     "text": [
      "key_1\t\n",
      "key_1\t\n",
      "2\t\n",
      "('key_1', 2)\t\n",
      "key_1:2\t\n"
     ]
    },
    {
     "data": {
      "application/javascript": [
       "\n",
       "            setTimeout(function() {\n",
       "                var nbb_cell_id = 61;\n",
       "                var nbb_unformatted_code = \"for i in dct:\\n    print(i, end=\\\"\\\\t\\\")\\nprint()\\n\\nfor i in dct.keys():\\n    print(i, end=\\\"\\\\t\\\")\\nprint()\\n\\nfor i in dct.values():\\n    print(i, end=\\\"\\\\t\\\")\\nprint()\\n\\nfor i in dct.items():\\n    print(i, end=\\\"\\\\t\\\")\\nprint()\\n\\nfor key, value in dct.items():\\n    print(f\\\"{key}:{value}\\\", end=\\\"\\\\t\\\")\\nprint()\";\n",
       "                var nbb_formatted_code = \"for i in dct:\\n    print(i, end=\\\"\\\\t\\\")\\nprint()\\n\\nfor i in dct.keys():\\n    print(i, end=\\\"\\\\t\\\")\\nprint()\\n\\nfor i in dct.values():\\n    print(i, end=\\\"\\\\t\\\")\\nprint()\\n\\nfor i in dct.items():\\n    print(i, end=\\\"\\\\t\\\")\\nprint()\\n\\nfor key, value in dct.items():\\n    print(f\\\"{key}:{value}\\\", end=\\\"\\\\t\\\")\\nprint()\";\n",
       "                var nbb_cells = Jupyter.notebook.get_cells();\n",
       "                for (var i = 0; i < nbb_cells.length; ++i) {\n",
       "                    if (nbb_cells[i].input_prompt_number == nbb_cell_id) {\n",
       "                        if (nbb_cells[i].get_text() == nbb_unformatted_code) {\n",
       "                             nbb_cells[i].set_text(nbb_formatted_code);\n",
       "                        }\n",
       "                        break;\n",
       "                    }\n",
       "                }\n",
       "            }, 500);\n",
       "            "
      ],
      "text/plain": [
       "<IPython.core.display.Javascript object>"
      ]
     },
     "metadata": {},
     "output_type": "display_data"
    }
   ],
   "source": [
    "for i in dct:\n",
    "    print(i, end=\"\\t\")\n",
    "print()\n",
    "\n",
    "for i in dct.keys():\n",
    "    print(i, end=\"\\t\")\n",
    "print()\n",
    "\n",
    "for i in dct.values():\n",
    "    print(i, end=\"\\t\")\n",
    "print()\n",
    "\n",
    "for i in dct.items():\n",
    "    print(i, end=\"\\t\")\n",
    "print()\n",
    "\n",
    "for key, value in dct.items():\n",
    "    print(f\"{key}:{value}\", end=\"\\t\")\n",
    "print()"
   ]
  },
  {
   "cell_type": "markdown",
   "id": "c7c486c0",
   "metadata": {},
   "source": [
    "###  List, Set, Dict Comprehensions\n",
    "\n",
    "{открывающий символ типа данных} {что складывается} for {прозвище переменной} in {iterable} {условия} {закрывающий символ типа данных}"
   ]
  },
  {
   "cell_type": "code",
   "execution_count": 62,
   "id": "1712ccd1",
   "metadata": {},
   "outputs": [
    {
     "name": "stdout",
     "output_type": "stream",
     "text": [
      "['q', 'w', 'e', 'r', 't', 'y']\n",
      "{'y', 'w', 'e', 'q', 'r', 't'}\n",
      "{'q': 6, 'w': 7, 'e': 8, 'r': 9, 't': 10, 'y': 11}\n"
     ]
    },
    {
     "data": {
      "application/javascript": [
       "\n",
       "            setTimeout(function() {\n",
       "                var nbb_cell_id = 62;\n",
       "                var nbb_unformatted_code = \"print([i for i in \\\"qwerty\\\"])\\nprint({i for i in \\\"qwertyqwerty\\\"})\\nprint({v: i for i, v in enumerate(\\\"qwertyqwerty\\\")})\\n\\n# print((i for i in range(10)))  # \\u044d\\u0442\\u043e \\u043d\\u0435\\u043c\\u043d\\u043e\\u0433\\u043e \\u0434\\u0440\\u0443\\u0433\\u043e\\u0435...\";\n",
       "                var nbb_formatted_code = \"print([i for i in \\\"qwerty\\\"])\\nprint({i for i in \\\"qwertyqwerty\\\"})\\nprint({v: i for i, v in enumerate(\\\"qwertyqwerty\\\")})\\n\\n# print((i for i in range(10)))  # \\u044d\\u0442\\u043e \\u043d\\u0435\\u043c\\u043d\\u043e\\u0433\\u043e \\u0434\\u0440\\u0443\\u0433\\u043e\\u0435...\";\n",
       "                var nbb_cells = Jupyter.notebook.get_cells();\n",
       "                for (var i = 0; i < nbb_cells.length; ++i) {\n",
       "                    if (nbb_cells[i].input_prompt_number == nbb_cell_id) {\n",
       "                        if (nbb_cells[i].get_text() == nbb_unformatted_code) {\n",
       "                             nbb_cells[i].set_text(nbb_formatted_code);\n",
       "                        }\n",
       "                        break;\n",
       "                    }\n",
       "                }\n",
       "            }, 500);\n",
       "            "
      ],
      "text/plain": [
       "<IPython.core.display.Javascript object>"
      ]
     },
     "metadata": {},
     "output_type": "display_data"
    }
   ],
   "source": [
    "print([i for i in \"qwerty\"])\n",
    "print({i for i in \"qwertyqwerty\"})\n",
    "print({v: i for i, v in enumerate(\"qwertyqwerty\")})\n",
    "\n",
    "# print((i for i in range(10)))  # это немного другое..."
   ]
  },
  {
   "cell_type": "code",
   "execution_count": 63,
   "id": "75e3147b",
   "metadata": {},
   "outputs": [
    {
     "name": "stdout",
     "output_type": "stream",
     "text": [
      "[0, 1, 2, 3, 4, 5, 6, 7, 8, 9]\n",
      "[0, 2, 4, 6, 8, 10, 12, 14, 16, 18]\n",
      "[0, -1, 4, -1, 8, -1, 12, -1, 16, -1, 20, -1, 24, -1, 28, -1, 32, -1, 36, -1]\n",
      "[(0, ''), (1, 'w'), (4, 'ee'), (9, 'rrr'), (16, 'tttt'), (25, 'yyyyy')]\n"
     ]
    },
    {
     "data": {
      "application/javascript": [
       "\n",
       "            setTimeout(function() {\n",
       "                var nbb_cell_id = 63;\n",
       "                var nbb_unformatted_code = \"print([i for i in range(10)])\\nprint([i for i in range(20) if i % 2 == 0])\\nprint([i * 2 if i % 2 == 0 else -1 for i in range(20)])\\nprint([(i ** 2, v * i) for i, v in enumerate(\\\"qwerty\\\")])\";\n",
       "                var nbb_formatted_code = \"print([i for i in range(10)])\\nprint([i for i in range(20) if i % 2 == 0])\\nprint([i * 2 if i % 2 == 0 else -1 for i in range(20)])\\nprint([(i ** 2, v * i) for i, v in enumerate(\\\"qwerty\\\")])\";\n",
       "                var nbb_cells = Jupyter.notebook.get_cells();\n",
       "                for (var i = 0; i < nbb_cells.length; ++i) {\n",
       "                    if (nbb_cells[i].input_prompt_number == nbb_cell_id) {\n",
       "                        if (nbb_cells[i].get_text() == nbb_unformatted_code) {\n",
       "                             nbb_cells[i].set_text(nbb_formatted_code);\n",
       "                        }\n",
       "                        break;\n",
       "                    }\n",
       "                }\n",
       "            }, 500);\n",
       "            "
      ],
      "text/plain": [
       "<IPython.core.display.Javascript object>"
      ]
     },
     "metadata": {},
     "output_type": "display_data"
    }
   ],
   "source": [
    "print([i for i in range(10)])\n",
    "print([i for i in range(20) if i % 2 == 0])\n",
    "print([i * 2 if i % 2 == 0 else -1 for i in range(20)])\n",
    "print([(i ** 2, v * i) for i, v in enumerate(\"qwerty\")])"
   ]
  },
  {
   "cell_type": "markdown",
   "id": "d67e21c2",
   "metadata": {},
   "source": [
    "#### Тернарный оператор"
   ]
  },
  {
   "cell_type": "code",
   "execution_count": 64,
   "id": "2c1bc36a",
   "metadata": {},
   "outputs": [
    {
     "data": {
      "text/plain": [
       "-1"
      ]
     },
     "execution_count": 64,
     "metadata": {},
     "output_type": "execute_result"
    },
    {
     "data": {
      "application/javascript": [
       "\n",
       "            setTimeout(function() {\n",
       "                var nbb_cell_id = 64;\n",
       "                var nbb_unformatted_code = \"# {\\u0447\\u0442\\u043e \\u0432\\u0435\\u0440\\u043d\\u0443\\u0442\\u044c \\u0435\\u0441\\u043b\\u0438 true} if {\\u0443\\u0441\\u043b\\u043e\\u0432\\u0438\\u0435} else {\\u0447\\u0442\\u043e \\u0432\\u0435\\u0440\\u043d\\u0443\\u0442\\u044c \\u0435\\u0441\\u043b\\u0438 false}\\n1 if 6 % 2 == 1 else -1\";\n",
       "                var nbb_formatted_code = \"# {\\u0447\\u0442\\u043e \\u0432\\u0435\\u0440\\u043d\\u0443\\u0442\\u044c \\u0435\\u0441\\u043b\\u0438 true} if {\\u0443\\u0441\\u043b\\u043e\\u0432\\u0438\\u0435} else {\\u0447\\u0442\\u043e \\u0432\\u0435\\u0440\\u043d\\u0443\\u0442\\u044c \\u0435\\u0441\\u043b\\u0438 false}\\n1 if 6 % 2 == 1 else -1\";\n",
       "                var nbb_cells = Jupyter.notebook.get_cells();\n",
       "                for (var i = 0; i < nbb_cells.length; ++i) {\n",
       "                    if (nbb_cells[i].input_prompt_number == nbb_cell_id) {\n",
       "                        if (nbb_cells[i].get_text() == nbb_unformatted_code) {\n",
       "                             nbb_cells[i].set_text(nbb_formatted_code);\n",
       "                        }\n",
       "                        break;\n",
       "                    }\n",
       "                }\n",
       "            }, 500);\n",
       "            "
      ],
      "text/plain": [
       "<IPython.core.display.Javascript object>"
      ]
     },
     "metadata": {},
     "output_type": "display_data"
    }
   ],
   "source": [
    "# {что вернуть если true} if {условие} else {что вернуть если false}\n",
    "1 if 6 % 2 == 1 else -1"
   ]
  },
  {
   "cell_type": "raw",
   "id": "fc38cd29",
   "metadata": {},
   "source": [
    "value = 0\n",
    "if 6%2 == 1\n",
    "    value = 1\n",
    "else:\n",
    "    value = -1"
   ]
  },
  {
   "cell_type": "markdown",
   "id": "b4a47608",
   "metadata": {},
   "source": [
    "#### Еще пара важных фунций"
   ]
  },
  {
   "cell_type": "code",
   "execution_count": 65,
   "id": "b1774459",
   "metadata": {},
   "outputs": [
    {
     "data": {
      "application/javascript": [
       "\n",
       "            setTimeout(function() {\n",
       "                var nbb_cell_id = 65;\n",
       "                var nbb_unformatted_code = \"?map\";\n",
       "                var nbb_formatted_code = \"?map\";\n",
       "                var nbb_cells = Jupyter.notebook.get_cells();\n",
       "                for (var i = 0; i < nbb_cells.length; ++i) {\n",
       "                    if (nbb_cells[i].input_prompt_number == nbb_cell_id) {\n",
       "                        if (nbb_cells[i].get_text() == nbb_unformatted_code) {\n",
       "                             nbb_cells[i].set_text(nbb_formatted_code);\n",
       "                        }\n",
       "                        break;\n",
       "                    }\n",
       "                }\n",
       "            }, 500);\n",
       "            "
      ],
      "text/plain": [
       "<IPython.core.display.Javascript object>"
      ]
     },
     "metadata": {},
     "output_type": "display_data"
    }
   ],
   "source": [
    "?map"
   ]
  },
  {
   "cell_type": "code",
   "execution_count": 66,
   "id": "30f74e88",
   "metadata": {},
   "outputs": [
    {
     "data": {
      "text/plain": [
       "(1, 2, 3, 4, 5, 6)"
      ]
     },
     "execution_count": 66,
     "metadata": {},
     "output_type": "execute_result"
    },
    {
     "data": {
      "application/javascript": [
       "\n",
       "            setTimeout(function() {\n",
       "                var nbb_cell_id = 66;\n",
       "                var nbb_unformatted_code = \"m = map(int, \\\"123456\\\")\\nnext(m), next(m), next(m), next(m), next(m), next(m)  # , next(m)\";\n",
       "                var nbb_formatted_code = \"m = map(int, \\\"123456\\\")\\nnext(m), next(m), next(m), next(m), next(m), next(m)  # , next(m)\";\n",
       "                var nbb_cells = Jupyter.notebook.get_cells();\n",
       "                for (var i = 0; i < nbb_cells.length; ++i) {\n",
       "                    if (nbb_cells[i].input_prompt_number == nbb_cell_id) {\n",
       "                        if (nbb_cells[i].get_text() == nbb_unformatted_code) {\n",
       "                             nbb_cells[i].set_text(nbb_formatted_code);\n",
       "                        }\n",
       "                        break;\n",
       "                    }\n",
       "                }\n",
       "            }, 500);\n",
       "            "
      ],
      "text/plain": [
       "<IPython.core.display.Javascript object>"
      ]
     },
     "metadata": {},
     "output_type": "display_data"
    }
   ],
   "source": [
    "m = map(int, \"123456\")\n",
    "next(m), next(m), next(m), next(m), next(m), next(m)  # , next(m)"
   ]
  },
  {
   "cell_type": "code",
   "execution_count": 67,
   "id": "1e569379",
   "metadata": {},
   "outputs": [
    {
     "data": {
      "text/plain": [
       "[1, 2, 3, 4, 5, 6]"
      ]
     },
     "execution_count": 67,
     "metadata": {},
     "output_type": "execute_result"
    },
    {
     "data": {
      "application/javascript": [
       "\n",
       "            setTimeout(function() {\n",
       "                var nbb_cell_id = 67;\n",
       "                var nbb_unformatted_code = \"list(map(int, \\\"123456\\\"))\";\n",
       "                var nbb_formatted_code = \"list(map(int, \\\"123456\\\"))\";\n",
       "                var nbb_cells = Jupyter.notebook.get_cells();\n",
       "                for (var i = 0; i < nbb_cells.length; ++i) {\n",
       "                    if (nbb_cells[i].input_prompt_number == nbb_cell_id) {\n",
       "                        if (nbb_cells[i].get_text() == nbb_unformatted_code) {\n",
       "                             nbb_cells[i].set_text(nbb_formatted_code);\n",
       "                        }\n",
       "                        break;\n",
       "                    }\n",
       "                }\n",
       "            }, 500);\n",
       "            "
      ],
      "text/plain": [
       "<IPython.core.display.Javascript object>"
      ]
     },
     "metadata": {},
     "output_type": "display_data"
    }
   ],
   "source": [
    "list(map(int, \"123456\"))"
   ]
  },
  {
   "cell_type": "code",
   "execution_count": 68,
   "id": "cba9bd95",
   "metadata": {},
   "outputs": [
    {
     "name": "stdout",
     "output_type": "stream",
     "text": [
      "['aaa', 'bbb', 'cc']\n"
     ]
    },
    {
     "data": {
      "application/javascript": [
       "\n",
       "            setTimeout(function() {\n",
       "                var nbb_cell_id = 68;\n",
       "                var nbb_unformatted_code = \"lst = [\\\"aaa\\\", \\\"bbb\\\", \\\"cc\\\"]\\nprint(lst, sep=\\\"\\\\t\\\")\";\n",
       "                var nbb_formatted_code = \"lst = [\\\"aaa\\\", \\\"bbb\\\", \\\"cc\\\"]\\nprint(lst, sep=\\\"\\\\t\\\")\";\n",
       "                var nbb_cells = Jupyter.notebook.get_cells();\n",
       "                for (var i = 0; i < nbb_cells.length; ++i) {\n",
       "                    if (nbb_cells[i].input_prompt_number == nbb_cell_id) {\n",
       "                        if (nbb_cells[i].get_text() == nbb_unformatted_code) {\n",
       "                             nbb_cells[i].set_text(nbb_formatted_code);\n",
       "                        }\n",
       "                        break;\n",
       "                    }\n",
       "                }\n",
       "            }, 500);\n",
       "            "
      ],
      "text/plain": [
       "<IPython.core.display.Javascript object>"
      ]
     },
     "metadata": {},
     "output_type": "display_data"
    }
   ],
   "source": [
    "lst = [\"aaa\", \"bbb\", \"cc\"]\n",
    "print(lst, sep=\"\\t\")"
   ]
  },
  {
   "cell_type": "code",
   "execution_count": 69,
   "id": "d151098f",
   "metadata": {},
   "outputs": [
    {
     "name": "stdout",
     "output_type": "stream",
     "text": [
      "Q W E R T Y\n"
     ]
    },
    {
     "data": {
      "application/javascript": [
       "\n",
       "            setTimeout(function() {\n",
       "                var nbb_cell_id = 69;\n",
       "                var nbb_unformatted_code = \"print(*map(str.upper, \\\"qwerty\\\"))\";\n",
       "                var nbb_formatted_code = \"print(*map(str.upper, \\\"qwerty\\\"))\";\n",
       "                var nbb_cells = Jupyter.notebook.get_cells();\n",
       "                for (var i = 0; i < nbb_cells.length; ++i) {\n",
       "                    if (nbb_cells[i].input_prompt_number == nbb_cell_id) {\n",
       "                        if (nbb_cells[i].get_text() == nbb_unformatted_code) {\n",
       "                             nbb_cells[i].set_text(nbb_formatted_code);\n",
       "                        }\n",
       "                        break;\n",
       "                    }\n",
       "                }\n",
       "            }, 500);\n",
       "            "
      ],
      "text/plain": [
       "<IPython.core.display.Javascript object>"
      ]
     },
     "metadata": {},
     "output_type": "display_data"
    }
   ],
   "source": [
    "print(*map(str.upper, \"qwerty\"))"
   ]
  },
  {
   "cell_type": "code",
   "execution_count": 70,
   "id": "a56d60f5",
   "metadata": {},
   "outputs": [
    {
     "name": "stdout",
     "output_type": "stream",
     "text": [
      "0 1 4 9 16 25 36 49 64 81\n"
     ]
    },
    {
     "data": {
      "application/javascript": [
       "\n",
       "            setTimeout(function() {\n",
       "                var nbb_cell_id = 70;\n",
       "                var nbb_unformatted_code = \"print(*map(lambda x: x ** 2, range(10)))\";\n",
       "                var nbb_formatted_code = \"print(*map(lambda x: x ** 2, range(10)))\";\n",
       "                var nbb_cells = Jupyter.notebook.get_cells();\n",
       "                for (var i = 0; i < nbb_cells.length; ++i) {\n",
       "                    if (nbb_cells[i].input_prompt_number == nbb_cell_id) {\n",
       "                        if (nbb_cells[i].get_text() == nbb_unformatted_code) {\n",
       "                             nbb_cells[i].set_text(nbb_formatted_code);\n",
       "                        }\n",
       "                        break;\n",
       "                    }\n",
       "                }\n",
       "            }, 500);\n",
       "            "
      ],
      "text/plain": [
       "<IPython.core.display.Javascript object>"
      ]
     },
     "metadata": {},
     "output_type": "display_data"
    }
   ],
   "source": [
    "print(*map(lambda x: x ** 2, range(10)))"
   ]
  },
  {
   "cell_type": "code",
   "execution_count": 71,
   "id": "a6c90889",
   "metadata": {},
   "outputs": [
    {
     "data": {
      "application/javascript": [
       "\n",
       "            setTimeout(function() {\n",
       "                var nbb_cell_id = 71;\n",
       "                var nbb_unformatted_code = \"?zip\";\n",
       "                var nbb_formatted_code = \"?zip\";\n",
       "                var nbb_cells = Jupyter.notebook.get_cells();\n",
       "                for (var i = 0; i < nbb_cells.length; ++i) {\n",
       "                    if (nbb_cells[i].input_prompt_number == nbb_cell_id) {\n",
       "                        if (nbb_cells[i].get_text() == nbb_unformatted_code) {\n",
       "                             nbb_cells[i].set_text(nbb_formatted_code);\n",
       "                        }\n",
       "                        break;\n",
       "                    }\n",
       "                }\n",
       "            }, 500);\n",
       "            "
      ],
      "text/plain": [
       "<IPython.core.display.Javascript object>"
      ]
     },
     "metadata": {},
     "output_type": "display_data"
    }
   ],
   "source": [
    "?zip"
   ]
  },
  {
   "cell_type": "code",
   "execution_count": 72,
   "id": "1eb9c371",
   "metadata": {},
   "outputs": [
    {
     "name": "stdout",
     "output_type": "stream",
     "text": [
      "[(0, 10, 0), (1, 9, 1), (2, 8, 2), (3, 7, 3), (4, 6, 4), (5, 5, 5), (6, 4, 6), (7, 3, 7), (8, 2, 8), (9, 1, 9)]\n"
     ]
    },
    {
     "data": {
      "application/javascript": [
       "\n",
       "            setTimeout(function() {\n",
       "                var nbb_cell_id = 72;\n",
       "                var nbb_unformatted_code = \"print(list(zip(range(10), range(10, 0, -1), range(10))))\";\n",
       "                var nbb_formatted_code = \"print(list(zip(range(10), range(10, 0, -1), range(10))))\";\n",
       "                var nbb_cells = Jupyter.notebook.get_cells();\n",
       "                for (var i = 0; i < nbb_cells.length; ++i) {\n",
       "                    if (nbb_cells[i].input_prompt_number == nbb_cell_id) {\n",
       "                        if (nbb_cells[i].get_text() == nbb_unformatted_code) {\n",
       "                             nbb_cells[i].set_text(nbb_formatted_code);\n",
       "                        }\n",
       "                        break;\n",
       "                    }\n",
       "                }\n",
       "            }, 500);\n",
       "            "
      ],
      "text/plain": [
       "<IPython.core.display.Javascript object>"
      ]
     },
     "metadata": {},
     "output_type": "display_data"
    }
   ],
   "source": [
    "print(list(zip(range(10), range(10, 0, -1), range(10))))"
   ]
  },
  {
   "cell_type": "code",
   "execution_count": 73,
   "id": "7385438b",
   "metadata": {},
   "outputs": [
    {
     "name": "stdout",
     "output_type": "stream",
     "text": [
      "[(0, 10), (1, 9), (2, 8), (3, 7), (4, 6), (5, 5), (6, 4), (7, 3), (8, 2), (9, 1)]\n"
     ]
    },
    {
     "data": {
      "text/plain": [
       "{0: 10, 1: 9, 2: 8, 3: 7, 4: 6, 5: 5, 6: 4, 7: 3, 8: 2, 9: 1}"
      ]
     },
     "execution_count": 73,
     "metadata": {},
     "output_type": "execute_result"
    },
    {
     "data": {
      "application/javascript": [
       "\n",
       "            setTimeout(function() {\n",
       "                var nbb_cell_id = 73;\n",
       "                var nbb_unformatted_code = \"# \\u041f\\u043e\\u043b\\u0443\\u0447\\u0438\\u043c \\u043f\\u0430\\u0440\\u044b \\u0438 \\u043f\\u043e\\u043b\\u043e\\u0436\\u0438\\u043c \\u0438\\u0445 \\u0432 \\u0441\\u043b\\u043e\\u0432\\u0430\\u0440\\u044c\\npairs = list(zip(range(10), range(10, 0, -1)))\\nprint(pairs)\\ndict(pairs)\";\n",
       "                var nbb_formatted_code = \"# \\u041f\\u043e\\u043b\\u0443\\u0447\\u0438\\u043c \\u043f\\u0430\\u0440\\u044b \\u0438 \\u043f\\u043e\\u043b\\u043e\\u0436\\u0438\\u043c \\u0438\\u0445 \\u0432 \\u0441\\u043b\\u043e\\u0432\\u0430\\u0440\\u044c\\npairs = list(zip(range(10), range(10, 0, -1)))\\nprint(pairs)\\ndict(pairs)\";\n",
       "                var nbb_cells = Jupyter.notebook.get_cells();\n",
       "                for (var i = 0; i < nbb_cells.length; ++i) {\n",
       "                    if (nbb_cells[i].input_prompt_number == nbb_cell_id) {\n",
       "                        if (nbb_cells[i].get_text() == nbb_unformatted_code) {\n",
       "                             nbb_cells[i].set_text(nbb_formatted_code);\n",
       "                        }\n",
       "                        break;\n",
       "                    }\n",
       "                }\n",
       "            }, 500);\n",
       "            "
      ],
      "text/plain": [
       "<IPython.core.display.Javascript object>"
      ]
     },
     "metadata": {},
     "output_type": "display_data"
    }
   ],
   "source": [
    "# Получим пары и положим их в словарь\n",
    "pairs = list(zip(range(10), range(10, 0, -1)))\n",
    "print(pairs)\n",
    "dict(pairs)"
   ]
  },
  {
   "cell_type": "markdown",
   "id": "873671d7",
   "metadata": {},
   "source": [
    "## Функции"
   ]
  },
  {
   "cell_type": "code",
   "execution_count": 74,
   "id": "622ff7c2",
   "metadata": {},
   "outputs": [
    {
     "data": {
      "application/javascript": [
       "\n",
       "            setTimeout(function() {\n",
       "                var nbb_cell_id = 74;\n",
       "                var nbb_unformatted_code = \"def function():  # \\u043d\\u0430\\u0437\\u0432\\u0430\\u043d\\u0438\\u0435 + \\u0430\\u0440\\u0433\\u0443\\u043c\\u0435\\u043d\\u0442\\u044b, \\u0435\\u0441\\u043b\\u0438 \\u043d\\u0443\\u0436\\u043d\\u044b\\n    \\\"\\\"\\\"\\u041e\\u043f\\u0438\\u0441\\u0430\\u043d\\u0438\\u0435 \\u0444\\u0443\\u043d\\u043a\\u0446\\u0438\\u0438 \\u0432 docstring\\\"\\\"\\\"\\n    # \\u043c\\u044b \\u0447\\u0442\\u043e-\\u0442\\u043e \\u0445\\u043e\\u0442\\u0438\\u043c \\u0441\\u0434\\u0435\\u043b\\u0430\\u0442\\u044c, \\u0432\\u0430\\u0448 \\u043a\\u043e\\u0434 \\u0437\\u0434\\u0435\\u0441\\u044c\\n    # \\u043c\\u044b \\u043c\\u043e\\u0436\\u0435\\u043c \\u0447\\u0442\\u043e-\\u0442\\u043e \\u0432\\u0435\\u0440\\u043d\\u0443\\u0442\\u044c \\u0430 \\u043c\\u043e\\u0436\\u0435\\u043c \\u043d\\u0438\\u0447\\u0435\\u0433\\u043e \\u043d\\u0435 \\u0432\\u043e\\u0437\\u0432\\u0440\\u0430\\u0449\\u0430\\u0442\\u044c\\n    pass  # \\u043e\\u043f\\u0435\\u0440\\u0430\\u0442\\u043e\\u0440-\\u0437\\u0430\\u0433\\u043b\\u0443\\u0448\\u043a\\u0430 == \\u043e\\u0442\\u0441\\u0443\\u0442\\u0441\\u0442\\u0432\\u0438\\u0435 \\u043e\\u043f\\u0435\\u0440\\u0430\\u0446\\u0438\\u0438\\n\\n\\nfunction()  # \\u0432\\u044b\\u0437\\u043e\\u0432 \\u0444\\u0443\\u043d\\u043a\\u0446\\u0438\\u0438\\n?function\";\n",
       "                var nbb_formatted_code = \"def function():  # \\u043d\\u0430\\u0437\\u0432\\u0430\\u043d\\u0438\\u0435 + \\u0430\\u0440\\u0433\\u0443\\u043c\\u0435\\u043d\\u0442\\u044b, \\u0435\\u0441\\u043b\\u0438 \\u043d\\u0443\\u0436\\u043d\\u044b\\n    \\\"\\\"\\\"\\u041e\\u043f\\u0438\\u0441\\u0430\\u043d\\u0438\\u0435 \\u0444\\u0443\\u043d\\u043a\\u0446\\u0438\\u0438 \\u0432 docstring\\\"\\\"\\\"\\n    # \\u043c\\u044b \\u0447\\u0442\\u043e-\\u0442\\u043e \\u0445\\u043e\\u0442\\u0438\\u043c \\u0441\\u0434\\u0435\\u043b\\u0430\\u0442\\u044c, \\u0432\\u0430\\u0448 \\u043a\\u043e\\u0434 \\u0437\\u0434\\u0435\\u0441\\u044c\\n    # \\u043c\\u044b \\u043c\\u043e\\u0436\\u0435\\u043c \\u0447\\u0442\\u043e-\\u0442\\u043e \\u0432\\u0435\\u0440\\u043d\\u0443\\u0442\\u044c \\u0430 \\u043c\\u043e\\u0436\\u0435\\u043c \\u043d\\u0438\\u0447\\u0435\\u0433\\u043e \\u043d\\u0435 \\u0432\\u043e\\u0437\\u0432\\u0440\\u0430\\u0449\\u0430\\u0442\\u044c\\n    pass  # \\u043e\\u043f\\u0435\\u0440\\u0430\\u0442\\u043e\\u0440-\\u0437\\u0430\\u0433\\u043b\\u0443\\u0448\\u043a\\u0430 == \\u043e\\u0442\\u0441\\u0443\\u0442\\u0441\\u0442\\u0432\\u0438\\u0435 \\u043e\\u043f\\u0435\\u0440\\u0430\\u0446\\u0438\\u0438\\n\\n\\nfunction()  # \\u0432\\u044b\\u0437\\u043e\\u0432 \\u0444\\u0443\\u043d\\u043a\\u0446\\u0438\\u0438\\n?function\";\n",
       "                var nbb_cells = Jupyter.notebook.get_cells();\n",
       "                for (var i = 0; i < nbb_cells.length; ++i) {\n",
       "                    if (nbb_cells[i].input_prompt_number == nbb_cell_id) {\n",
       "                        if (nbb_cells[i].get_text() == nbb_unformatted_code) {\n",
       "                             nbb_cells[i].set_text(nbb_formatted_code);\n",
       "                        }\n",
       "                        break;\n",
       "                    }\n",
       "                }\n",
       "            }, 500);\n",
       "            "
      ],
      "text/plain": [
       "<IPython.core.display.Javascript object>"
      ]
     },
     "metadata": {},
     "output_type": "display_data"
    }
   ],
   "source": [
    "def function():  # название + аргументы, если нужны\n",
    "    \"\"\"Описание функции в docstring\"\"\"\n",
    "    # мы что-то хотим сделать, ваш код здесь\n",
    "    # мы можем что-то вернуть а можем ничего не возвращать\n",
    "    pass  # оператор-заглушка == отсутствие операции\n",
    "\n",
    "\n",
    "function()  # вызов функции\n",
    "?function"
   ]
  },
  {
   "cell_type": "code",
   "execution_count": 75,
   "id": "19957255",
   "metadata": {},
   "outputs": [
    {
     "name": "stdout",
     "output_type": "stream",
     "text": [
      "Hello\n"
     ]
    },
    {
     "data": {
      "application/javascript": [
       "\n",
       "            setTimeout(function() {\n",
       "                var nbb_cell_id = 75;\n",
       "                var nbb_unformatted_code = \"def printHello():  # \\u0432\\u044b\\u0432\\u043e\\u0434 \\u043d\\u0430 \\u044d\\u043a\\u0440\\u0430\\u043d Hello\\n    print(\\\"Hello\\\")\\n\\n\\nprintHello()\";\n",
       "                var nbb_formatted_code = \"def printHello():  # \\u0432\\u044b\\u0432\\u043e\\u0434 \\u043d\\u0430 \\u044d\\u043a\\u0440\\u0430\\u043d Hello\\n    print(\\\"Hello\\\")\\n\\n\\nprintHello()\";\n",
       "                var nbb_cells = Jupyter.notebook.get_cells();\n",
       "                for (var i = 0; i < nbb_cells.length; ++i) {\n",
       "                    if (nbb_cells[i].input_prompt_number == nbb_cell_id) {\n",
       "                        if (nbb_cells[i].get_text() == nbb_unformatted_code) {\n",
       "                             nbb_cells[i].set_text(nbb_formatted_code);\n",
       "                        }\n",
       "                        break;\n",
       "                    }\n",
       "                }\n",
       "            }, 500);\n",
       "            "
      ],
      "text/plain": [
       "<IPython.core.display.Javascript object>"
      ]
     },
     "metadata": {},
     "output_type": "display_data"
    }
   ],
   "source": [
    "def printHello():  # вывод на экран Hello\n",
    "    print(\"Hello\")\n",
    "\n",
    "\n",
    "printHello()"
   ]
  },
  {
   "cell_type": "code",
   "execution_count": 76,
   "id": "ea620878",
   "metadata": {},
   "outputs": [
    {
     "data": {
      "text/plain": [
       "21"
      ]
     },
     "execution_count": 76,
     "metadata": {},
     "output_type": "execute_result"
    },
    {
     "data": {
      "application/javascript": [
       "\n",
       "            setTimeout(function() {\n",
       "                var nbb_cell_id = 76;\n",
       "                var nbb_unformatted_code = \"def summarize(a: int, b: int) -> int:\\n    return a + b // a\\n\\n\\nsummarize(20, 21)\";\n",
       "                var nbb_formatted_code = \"def summarize(a: int, b: int) -> int:\\n    return a + b // a\\n\\n\\nsummarize(20, 21)\";\n",
       "                var nbb_cells = Jupyter.notebook.get_cells();\n",
       "                for (var i = 0; i < nbb_cells.length; ++i) {\n",
       "                    if (nbb_cells[i].input_prompt_number == nbb_cell_id) {\n",
       "                        if (nbb_cells[i].get_text() == nbb_unformatted_code) {\n",
       "                             nbb_cells[i].set_text(nbb_formatted_code);\n",
       "                        }\n",
       "                        break;\n",
       "                    }\n",
       "                }\n",
       "            }, 500);\n",
       "            "
      ],
      "text/plain": [
       "<IPython.core.display.Javascript object>"
      ]
     },
     "metadata": {},
     "output_type": "display_data"
    }
   ],
   "source": [
    "def summarize(a: int, b: int) -> int:\n",
    "    return a + b // a\n",
    "\n",
    "\n",
    "summarize(20, 21)"
   ]
  },
  {
   "cell_type": "code",
   "execution_count": 77,
   "id": "64ae5f7a",
   "metadata": {},
   "outputs": [
    {
     "name": "stdout",
     "output_type": "stream",
     "text": [
      "1\n",
      "5\n"
     ]
    },
    {
     "data": {
      "application/javascript": [
       "\n",
       "            setTimeout(function() {\n",
       "                var nbb_cell_id = 77;\n",
       "                var nbb_unformatted_code = \"def function(a, b=0):  # b -- \\u043d\\u0435\\u043e\\u0431\\u044f\\u0437\\u0430\\u0442\\u0435\\u043b\\u044c\\u043d\\u044b\\u0439 \\u0430\\u0440\\u0433\\u0443\\u043c\\u0435\\u043d\\u0442, \\u043f\\u043e \\u0443\\u043c\\u043e\\u043b\\u0447\\u0430\\u043d\\u0438\\u044e = 0, \\u0432 \\u043d\\u0430\\u0448\\u0435\\u043c \\u0441\\u043b\\u0443\\u0447\\u0430\\u0435\\n    return a + b\\n\\n\\nprint(function(1))\\nprint(function(2, 3))\";\n",
       "                var nbb_formatted_code = \"def function(a, b=0):  # b -- \\u043d\\u0435\\u043e\\u0431\\u044f\\u0437\\u0430\\u0442\\u0435\\u043b\\u044c\\u043d\\u044b\\u0439 \\u0430\\u0440\\u0433\\u0443\\u043c\\u0435\\u043d\\u0442, \\u043f\\u043e \\u0443\\u043c\\u043e\\u043b\\u0447\\u0430\\u043d\\u0438\\u044e = 0, \\u0432 \\u043d\\u0430\\u0448\\u0435\\u043c \\u0441\\u043b\\u0443\\u0447\\u0430\\u0435\\n    return a + b\\n\\n\\nprint(function(1))\\nprint(function(2, 3))\";\n",
       "                var nbb_cells = Jupyter.notebook.get_cells();\n",
       "                for (var i = 0; i < nbb_cells.length; ++i) {\n",
       "                    if (nbb_cells[i].input_prompt_number == nbb_cell_id) {\n",
       "                        if (nbb_cells[i].get_text() == nbb_unformatted_code) {\n",
       "                             nbb_cells[i].set_text(nbb_formatted_code);\n",
       "                        }\n",
       "                        break;\n",
       "                    }\n",
       "                }\n",
       "            }, 500);\n",
       "            "
      ],
      "text/plain": [
       "<IPython.core.display.Javascript object>"
      ]
     },
     "metadata": {},
     "output_type": "display_data"
    }
   ],
   "source": [
    "def function(a, b=0):  # b -- необязательный аргумент, по умолчанию = 0, в нашем случае\n",
    "    return a + b\n",
    "\n",
    "\n",
    "print(function(1))\n",
    "print(function(2, 3))"
   ]
  },
  {
   "cell_type": "code",
   "execution_count": 78,
   "id": "3d3a2116",
   "metadata": {},
   "outputs": [
    {
     "data": {
      "text/plain": [
       "('positive', 'negative', 'neither positive nor negative')"
      ]
     },
     "execution_count": 78,
     "metadata": {},
     "output_type": "execute_result"
    },
    {
     "data": {
      "application/javascript": [
       "\n",
       "            setTimeout(function() {\n",
       "                var nbb_cell_id = 78;\n",
       "                var nbb_unformatted_code = \"def function(number):\\n    if number > 0:\\n        return \\\"positive\\\"\\n        print(\\\"---------\\\")\\n    elif number < 0:\\n        return \\\"negative\\\"\\n        print(\\\"---------\\\")\\n\\n    return \\\"neither positive nor negative\\\"  # return \\u0431\\u0443\\u0434\\u0435\\u0442 \\u0432 \\u043b\\u044e\\u0431\\u043e\\u043c \\u0441\\u043b\\u0443\\u0447\\u0430\\u0435\\n    print(\\\"---------\\\")\\n\\n\\nfunction(100), function(-100), function(0)\";\n",
       "                var nbb_formatted_code = \"def function(number):\\n    if number > 0:\\n        return \\\"positive\\\"\\n        print(\\\"---------\\\")\\n    elif number < 0:\\n        return \\\"negative\\\"\\n        print(\\\"---------\\\")\\n\\n    return \\\"neither positive nor negative\\\"  # return \\u0431\\u0443\\u0434\\u0435\\u0442 \\u0432 \\u043b\\u044e\\u0431\\u043e\\u043c \\u0441\\u043b\\u0443\\u0447\\u0430\\u0435\\n    print(\\\"---------\\\")\\n\\n\\nfunction(100), function(-100), function(0)\";\n",
       "                var nbb_cells = Jupyter.notebook.get_cells();\n",
       "                for (var i = 0; i < nbb_cells.length; ++i) {\n",
       "                    if (nbb_cells[i].input_prompt_number == nbb_cell_id) {\n",
       "                        if (nbb_cells[i].get_text() == nbb_unformatted_code) {\n",
       "                             nbb_cells[i].set_text(nbb_formatted_code);\n",
       "                        }\n",
       "                        break;\n",
       "                    }\n",
       "                }\n",
       "            }, 500);\n",
       "            "
      ],
      "text/plain": [
       "<IPython.core.display.Javascript object>"
      ]
     },
     "metadata": {},
     "output_type": "display_data"
    }
   ],
   "source": [
    "def function(number):\n",
    "    if number > 0:\n",
    "        return \"positive\"\n",
    "        print(\"---------\")\n",
    "    elif number < 0:\n",
    "        return \"negative\"\n",
    "        print(\"---------\")\n",
    "\n",
    "    return \"neither positive nor negative\"  # return будет в любом случае\n",
    "    print(\"---------\")\n",
    "\n",
    "\n",
    "function(100), function(-100), function(0)"
   ]
  },
  {
   "cell_type": "code",
   "execution_count": 79,
   "id": "6034d680",
   "metadata": {},
   "outputs": [
    {
     "name": "stdout",
     "output_type": "stream",
     "text": [
      "<class 'tuple'>\n",
      "(1, 2, 3, 4, 5, 6, 6, 77, 82)\n",
      "1\n",
      "2\n",
      "3\n",
      "4\n",
      "5\n",
      "6\n",
      "6\n",
      "77\n",
      "82\n"
     ]
    },
    {
     "data": {
      "application/javascript": [
       "\n",
       "            setTimeout(function() {\n",
       "                var nbb_cell_id = 79;\n",
       "                var nbb_unformatted_code = \"def function(*args):  # \\u0443\\u043f\\u0430\\u043a\\u043e\\u0432\\u043a\\u0430\\n    print(type(args))\\n    print(args)\\n    for i in args:\\n        print(i)\\n\\n\\nfunction(1, 2, 3, 4, 5, 6, 6, 77, 82)\\n# function(*[1, 2, 3])  # \\u0440\\u0430\\u0441\\u043f\\u0430\\u043a\\u043e\\u0432\\u043a\\u0430\";\n",
       "                var nbb_formatted_code = \"def function(*args):  # \\u0443\\u043f\\u0430\\u043a\\u043e\\u0432\\u043a\\u0430\\n    print(type(args))\\n    print(args)\\n    for i in args:\\n        print(i)\\n\\n\\nfunction(1, 2, 3, 4, 5, 6, 6, 77, 82)\\n# function(*[1, 2, 3])  # \\u0440\\u0430\\u0441\\u043f\\u0430\\u043a\\u043e\\u0432\\u043a\\u0430\";\n",
       "                var nbb_cells = Jupyter.notebook.get_cells();\n",
       "                for (var i = 0; i < nbb_cells.length; ++i) {\n",
       "                    if (nbb_cells[i].input_prompt_number == nbb_cell_id) {\n",
       "                        if (nbb_cells[i].get_text() == nbb_unformatted_code) {\n",
       "                             nbb_cells[i].set_text(nbb_formatted_code);\n",
       "                        }\n",
       "                        break;\n",
       "                    }\n",
       "                }\n",
       "            }, 500);\n",
       "            "
      ],
      "text/plain": [
       "<IPython.core.display.Javascript object>"
      ]
     },
     "metadata": {},
     "output_type": "display_data"
    }
   ],
   "source": [
    "def function(*args):  # упаковка\n",
    "    print(type(args))\n",
    "    print(args)\n",
    "    for i in args:\n",
    "        print(i)\n",
    "\n",
    "\n",
    "function(1, 2, 3, 4, 5, 6, 6, 77, 82)\n",
    "# function(*[1, 2, 3])  # распаковка"
   ]
  },
  {
   "cell_type": "code",
   "execution_count": 80,
   "id": "0aaa7445",
   "metadata": {},
   "outputs": [
    {
     "name": "stdout",
     "output_type": "stream",
     "text": [
      "1->2->3\n",
      "1->2->3\n"
     ]
    },
    {
     "data": {
      "application/javascript": [
       "\n",
       "            setTimeout(function() {\n",
       "                var nbb_cell_id = 80;\n",
       "                var nbb_unformatted_code = \"print(*[1, 2, 3], sep=\\\"->\\\")\\nprint(1, 2, 3, sep=\\\"->\\\")\";\n",
       "                var nbb_formatted_code = \"print(*[1, 2, 3], sep=\\\"->\\\")\\nprint(1, 2, 3, sep=\\\"->\\\")\";\n",
       "                var nbb_cells = Jupyter.notebook.get_cells();\n",
       "                for (var i = 0; i < nbb_cells.length; ++i) {\n",
       "                    if (nbb_cells[i].input_prompt_number == nbb_cell_id) {\n",
       "                        if (nbb_cells[i].get_text() == nbb_unformatted_code) {\n",
       "                             nbb_cells[i].set_text(nbb_formatted_code);\n",
       "                        }\n",
       "                        break;\n",
       "                    }\n",
       "                }\n",
       "            }, 500);\n",
       "            "
      ],
      "text/plain": [
       "<IPython.core.display.Javascript object>"
      ]
     },
     "metadata": {},
     "output_type": "display_data"
    }
   ],
   "source": [
    "print(*[1, 2, 3], sep=\"->\")\n",
    "print(1, 2, 3, sep=\"->\")"
   ]
  },
  {
   "cell_type": "code",
   "execution_count": 81,
   "id": "e30c65f8",
   "metadata": {},
   "outputs": [
    {
     "name": "stdout",
     "output_type": "stream",
     "text": [
      "<class 'dict'>\n",
      "{'key_1': 1, 'key_2': 2}\n"
     ]
    },
    {
     "data": {
      "application/javascript": [
       "\n",
       "            setTimeout(function() {\n",
       "                var nbb_cell_id = 81;\n",
       "                var nbb_unformatted_code = \"def function(**kwargs):  # \\u0443\\u043f\\u0430\\u043a\\u043e\\u0432\\u043a\\u0430\\n    print(type(kwargs))\\n    print(kwargs)\\n\\n\\nfunction(key_1=1, key_2=2)\\n# function(**{\\\"key_1\\\": 2, \\\"key_2\\\": 2})  # \\u0440\\u0430\\u0441\\u043f\\u0430\\u043a\\u043e\\u0432\\u043a\\u0430\";\n",
       "                var nbb_formatted_code = \"def function(**kwargs):  # \\u0443\\u043f\\u0430\\u043a\\u043e\\u0432\\u043a\\u0430\\n    print(type(kwargs))\\n    print(kwargs)\\n\\n\\nfunction(key_1=1, key_2=2)\\n# function(**{\\\"key_1\\\": 2, \\\"key_2\\\": 2})  # \\u0440\\u0430\\u0441\\u043f\\u0430\\u043a\\u043e\\u0432\\u043a\\u0430\";\n",
       "                var nbb_cells = Jupyter.notebook.get_cells();\n",
       "                for (var i = 0; i < nbb_cells.length; ++i) {\n",
       "                    if (nbb_cells[i].input_prompt_number == nbb_cell_id) {\n",
       "                        if (nbb_cells[i].get_text() == nbb_unformatted_code) {\n",
       "                             nbb_cells[i].set_text(nbb_formatted_code);\n",
       "                        }\n",
       "                        break;\n",
       "                    }\n",
       "                }\n",
       "            }, 500);\n",
       "            "
      ],
      "text/plain": [
       "<IPython.core.display.Javascript object>"
      ]
     },
     "metadata": {},
     "output_type": "display_data"
    }
   ],
   "source": [
    "def function(**kwargs):  # упаковка\n",
    "    print(type(kwargs))\n",
    "    print(kwargs)\n",
    "\n",
    "\n",
    "function(key_1=1, key_2=2)\n",
    "# function(**{\"key_1\": 2, \"key_2\": 2})  # распаковка"
   ]
  },
  {
   "cell_type": "code",
   "execution_count": 82,
   "id": "88ff414e",
   "metadata": {},
   "outputs": [
    {
     "name": "stdout",
     "output_type": "stream",
     "text": [
      "2 3\n"
     ]
    },
    {
     "data": {
      "application/javascript": [
       "\n",
       "            setTimeout(function() {\n",
       "                var nbb_cell_id = 82;\n",
       "                var nbb_unformatted_code = \"def func(a, b):\\n    print(a, b)\\n\\n\\nfunc(**{\\\"a\\\": 2, \\\"b\\\": 3})\";\n",
       "                var nbb_formatted_code = \"def func(a, b):\\n    print(a, b)\\n\\n\\nfunc(**{\\\"a\\\": 2, \\\"b\\\": 3})\";\n",
       "                var nbb_cells = Jupyter.notebook.get_cells();\n",
       "                for (var i = 0; i < nbb_cells.length; ++i) {\n",
       "                    if (nbb_cells[i].input_prompt_number == nbb_cell_id) {\n",
       "                        if (nbb_cells[i].get_text() == nbb_unformatted_code) {\n",
       "                             nbb_cells[i].set_text(nbb_formatted_code);\n",
       "                        }\n",
       "                        break;\n",
       "                    }\n",
       "                }\n",
       "            }, 500);\n",
       "            "
      ],
      "text/plain": [
       "<IPython.core.display.Javascript object>"
      ]
     },
     "metadata": {},
     "output_type": "display_data"
    }
   ],
   "source": [
    "def func(a, b):\n",
    "    print(a, b)\n",
    "\n",
    "\n",
    "func(**{\"a\": 2, \"b\": 3})"
   ]
  },
  {
   "cell_type": "code",
   "execution_count": 83,
   "id": "dae2bdb0",
   "metadata": {},
   "outputs": [
    {
     "name": "stdout",
     "output_type": "stream",
     "text": [
      "(1, 2, 3, 4) 5\n"
     ]
    },
    {
     "data": {
      "application/javascript": [
       "\n",
       "            setTimeout(function() {\n",
       "                var nbb_cell_id = 83;\n",
       "                var nbb_unformatted_code = \"def function(*args, value):\\n    print(args, value)\\n\\n\\n# function(1, 2, 3, 4)\\nfunction(1, 2, 3, 4, value=5)\";\n",
       "                var nbb_formatted_code = \"def function(*args, value):\\n    print(args, value)\\n\\n\\n# function(1, 2, 3, 4)\\nfunction(1, 2, 3, 4, value=5)\";\n",
       "                var nbb_cells = Jupyter.notebook.get_cells();\n",
       "                for (var i = 0; i < nbb_cells.length; ++i) {\n",
       "                    if (nbb_cells[i].input_prompt_number == nbb_cell_id) {\n",
       "                        if (nbb_cells[i].get_text() == nbb_unformatted_code) {\n",
       "                             nbb_cells[i].set_text(nbb_formatted_code);\n",
       "                        }\n",
       "                        break;\n",
       "                    }\n",
       "                }\n",
       "            }, 500);\n",
       "            "
      ],
      "text/plain": [
       "<IPython.core.display.Javascript object>"
      ]
     },
     "metadata": {},
     "output_type": "display_data"
    }
   ],
   "source": [
    "def function(*args, value):\n",
    "    print(args, value)\n",
    "\n",
    "\n",
    "# function(1, 2, 3, 4)\n",
    "function(1, 2, 3, 4, value=5)"
   ]
  },
  {
   "cell_type": "code",
   "execution_count": 84,
   "id": "e21acee8",
   "metadata": {},
   "outputs": [
    {
     "name": "stdout",
     "output_type": "stream",
     "text": [
      "3\n",
      "9\n"
     ]
    },
    {
     "data": {
      "application/javascript": [
       "\n",
       "            setTimeout(function() {\n",
       "                var nbb_cell_id = 84;\n",
       "                var nbb_unformatted_code = \"# \\u0410\\u043d\\u043e\\u043d\\u0438\\u043c\\u043d\\u044b\\u0435 \\u0444\\u0443\\u043d\\u043a\\u0446\\u0438\\u0438\\n# \\u043d\\u0435 \\u0442\\u0440\\u0435\\u0431\\u0443\\u0435\\u0442 return, \\u043e\\u0431\\u044b\\u0447\\u043d\\u043e \\u043d\\u0435 \\\"\\u043f\\u0440\\u0438\\u0440\\u0430\\u0432\\u043d\\u0438\\u0432\\u0430\\u0435\\u0442\\u0441\\u044f\\\" \\u043a \\u043f\\u0435\\u0440\\u0435\\u043c\\u0435\\u043d\\u043d\\u043e\\u0439\\nlambda_function = lambda a, b: a + b\\nprint(lambda_function(1, 2))\\nprint((lambda x: x ** 2)(3))\";\n",
       "                var nbb_formatted_code = \"# \\u0410\\u043d\\u043e\\u043d\\u0438\\u043c\\u043d\\u044b\\u0435 \\u0444\\u0443\\u043d\\u043a\\u0446\\u0438\\u0438\\n# \\u043d\\u0435 \\u0442\\u0440\\u0435\\u0431\\u0443\\u0435\\u0442 return, \\u043e\\u0431\\u044b\\u0447\\u043d\\u043e \\u043d\\u0435 \\\"\\u043f\\u0440\\u0438\\u0440\\u0430\\u0432\\u043d\\u0438\\u0432\\u0430\\u0435\\u0442\\u0441\\u044f\\\" \\u043a \\u043f\\u0435\\u0440\\u0435\\u043c\\u0435\\u043d\\u043d\\u043e\\u0439\\nlambda_function = lambda a, b: a + b\\nprint(lambda_function(1, 2))\\nprint((lambda x: x ** 2)(3))\";\n",
       "                var nbb_cells = Jupyter.notebook.get_cells();\n",
       "                for (var i = 0; i < nbb_cells.length; ++i) {\n",
       "                    if (nbb_cells[i].input_prompt_number == nbb_cell_id) {\n",
       "                        if (nbb_cells[i].get_text() == nbb_unformatted_code) {\n",
       "                             nbb_cells[i].set_text(nbb_formatted_code);\n",
       "                        }\n",
       "                        break;\n",
       "                    }\n",
       "                }\n",
       "            }, 500);\n",
       "            "
      ],
      "text/plain": [
       "<IPython.core.display.Javascript object>"
      ]
     },
     "metadata": {},
     "output_type": "display_data"
    }
   ],
   "source": [
    "# Анонимные функции\n",
    "# не требует return, обычно не \"приравнивается\" к переменной\n",
    "lambda_function = lambda a, b: a + b\n",
    "print(lambda_function(1, 2))\n",
    "print((lambda x: x ** 2)(3))"
   ]
  },
  {
   "cell_type": "code",
   "execution_count": 85,
   "id": "1a3081a4",
   "metadata": {},
   "outputs": [
    {
     "name": "stdout",
     "output_type": "stream",
     "text": [
      "[0, 1, 2, 3, 4, 5, 6, 7, 8, 9]\n",
      "[0, 1, 4, 9, 16, 25, 36, 49, 64, 81]\n"
     ]
    },
    {
     "data": {
      "application/javascript": [
       "\n",
       "            setTimeout(function() {\n",
       "                var nbb_cell_id = 85;\n",
       "                var nbb_unformatted_code = \"print(list(range(10)))\\nprint(list(map(lambda x: x ** 2, range(10))))\";\n",
       "                var nbb_formatted_code = \"print(list(range(10)))\\nprint(list(map(lambda x: x ** 2, range(10))))\";\n",
       "                var nbb_cells = Jupyter.notebook.get_cells();\n",
       "                for (var i = 0; i < nbb_cells.length; ++i) {\n",
       "                    if (nbb_cells[i].input_prompt_number == nbb_cell_id) {\n",
       "                        if (nbb_cells[i].get_text() == nbb_unformatted_code) {\n",
       "                             nbb_cells[i].set_text(nbb_formatted_code);\n",
       "                        }\n",
       "                        break;\n",
       "                    }\n",
       "                }\n",
       "            }, 500);\n",
       "            "
      ],
      "text/plain": [
       "<IPython.core.display.Javascript object>"
      ]
     },
     "metadata": {},
     "output_type": "display_data"
    }
   ],
   "source": [
    "print(list(range(10)))\n",
    "print(list(map(lambda x: x ** 2, range(10))))"
   ]
  }
 ],
 "metadata": {
  "kernelspec": {
   "display_name": "Python 3 (ipykernel)",
   "language": "python",
   "name": "python3"
  },
  "language_info": {
   "codemirror_mode": {
    "name": "ipython",
    "version": 3
   },
   "file_extension": ".py",
   "mimetype": "text/x-python",
   "name": "python",
   "nbconvert_exporter": "python",
   "pygments_lexer": "ipython3",
   "version": "3.9.13"
  }
 },
 "nbformat": 4,
 "nbformat_minor": 5
}
